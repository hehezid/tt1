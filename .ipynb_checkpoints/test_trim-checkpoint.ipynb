{
 "cells": [
  {
   "cell_type": "markdown",
   "metadata": {},
   "source": [
    "#### Reinforcement Learning and Decision Making &nbsp;&nbsp;&nbsp;&nbsp;&nbsp;&nbsp;&nbsp;&nbsp;&nbsp;&nbsp; &nbsp;&nbsp;&nbsp;&nbsp;&nbsp;&nbsp;&nbsp;&nbsp;&nbsp;&nbsp;&nbsp;&nbsp;&nbsp;&nbsp;&nbsp;&nbsp;&nbsp;&nbsp;&nbsp;&nbsp;&nbsp;&nbsp;&nbsp;&nbsp;&nbsp;&nbsp;&nbsp;&nbsp;&nbsp;&nbsp;&nbsp;&nbsp;&nbsp;&nbsp;&nbsp;&nbsp;&nbsp;&nbsp;&nbsp;&nbsp;&nbsp;&nbsp;&nbsp;&nbsp;&nbsp;&nbsp;&nbsp;&nbsp;&nbsp;&nbsp;&nbsp;&nbsp;&nbsp;&nbsp;&nbsp;&nbsp;&nbsp;&nbsp;&nbsp;&nbsp;&nbsp;&nbsp;&nbsp;&nbsp;&nbsp;&nbsp;&nbsp;&nbsp;&nbsp;&nbsp;&nbsp;&nbsp;&nbsp;&nbsp;&nbsp;&nbsp;&nbsp;&nbsp;&nbsp;Homework #1\n",
    "\n",
    "# &nbsp;&nbsp;&nbsp;&nbsp;&nbsp;&nbsp;&nbsp;&nbsp;&nbsp;&nbsp; &nbsp;&nbsp;&nbsp;&nbsp;&nbsp;&nbsp;&nbsp;&nbsp;&nbsp;&nbsp;&nbsp;&nbsp;&nbsp;&nbsp;&nbsp;&nbsp;&nbsp;&nbsp;&nbsp;&nbsp;&nbsp;&nbsp;&nbsp;&nbsp;&nbsp;&nbsp;&nbsp;&nbsp;&nbsp;&nbsp;&nbsp;&nbsp;Planning in MDPs"
   ]
  },
  {
   "cell_type": "markdown",
   "metadata": {},
   "source": [
    "## Description\n",
    "\n",
    "You are given an $N$-sided die, along with a corresponding Boolean mask\n",
    "vector, `is_bad_side` (i.e., a vector of ones and zeros). You can assume\n",
    "that $1<N\\leq30$, and the vector `is_bad_side` is also of size $N$ and\n",
    "$1$ indexed (since there is no $0$ side on the die). The game of DieN is\n",
    "played as follows:\n",
    "\n",
    "1.  You start with $0$ dollars.\n",
    "\n",
    "2.  At any time you have the option to roll the die or to quit the game.\n",
    "\n",
    "    1.  **ROLL**:\n",
    "\n",
    "        1.  If you roll a number not in `is_bad_side`, you receive that\n",
    "            many dollars (e.g., if you roll the number $2$ and $2$ is\n",
    "            not a bad side -- meaning the second element of the vector\n",
    "            `is_bad_side` is $0$, then you receive $2$ dollars). Repeat\n",
    "            step 2.\n",
    "\n",
    "        2.  If you roll a number in `is_bad_side`, then you lose all the\n",
    "            money obtained in previous rolls and the game ends.\n",
    "\n",
    "    2.  **QUIT**:\n",
    "\n",
    "        1.  You keep all the money gained from previous rolls and the\n",
    "            game ends.\n",
    "\n",
    "## Procedure\n",
    "\n",
    "-   You will implement your solution using the `solve()` method\n",
    "    in the code below.\n",
    "    \n",
    "-   Your return value should be the number of dollars you expect to\n",
    "    win for a specific value of `is_bad_side`, if you follow an\n",
    "    optimal policy. That is, what is the value of the optimal\n",
    "    state-value function for the initial state of the game (starting\n",
    "    with $0$ dollars)? Your answer must be correct to $3$ decimal\n",
    "    places, truncated (e.g., 3.14159265 becomes 3.141).\n",
    "\n",
    "-   To solve this problem, you will need to determine an optimal policy\n",
    "    for the game of DieN, given a particular configuration of the die.\n",
    "    As you will see, the action that is optimal will depend on your\n",
    "    current bankroll (i.e., how much money you've won so far).\n",
    "\n",
    "-   You can try solving this problem by creating an MDP of the game\n",
    "    (states, actions, transition function, reward function, and assume a\n",
    "    discount rate of $\\gamma=1$) and then calculating the optimal\n",
    "    state-value function.\n",
    "\n",
    "## Resources\n",
    "\n",
    "The concepts explored in this homework are covered by:\n",
    "\n",
    "-   Lecture Lesson 1: Smoov & Curly's Bogus Journey\n",
    "\n",
    "-   Chapter 3 (3.6 Optimal Policies and Optimal Value Functions) and\n",
    "    Chapter 4 (4.3-4.4 Policy Iteration, Value Iteration) of\n",
    "    http://incompleteideas.net/book/the-book-2nd.html\n",
    "\n",
    "-   Chapters 1-2 of 'Algorithms for Sequential Decision Making', M.\n",
    "    Littman, 1996\n",
    "\n",
    "## Submission\n",
    "\n",
    "-   The due date is indicated on the Canvas page for this assignment.\n",
    "    Make sure you have your timezone in Canvas set to ensure the\n",
    "    deadline is accurate.\n",
    "\n",
    "-   Submit your finished notebook on Gradescope. Your grade is based on\n",
    "    a set of hidden test cases. You will have unlimited submissions -\n",
    "    only the last score is kept.\n",
    "\n",
    "-   Use the template below to implement your code. We have also provided\n",
    "    some test cases for you. If your code passes the given test cases,\n",
    "    it will run (though possibly not pass all the tests) on Gradescope.\n",
    "\n",
    "-   Gradescope is using *python 3.6.x* and *numpy==1.18.0*, and you can\n",
    "    use any core library (i.e., anything in the Python standard library).\n",
    "    No other library can be used.  Also, make sure the name of your\n",
    "    notebook matches the name of the provided notebook.  Gradescope times\n",
    "    out after 10 minutes."
   ]
  },
  {
   "cell_type": "code",
   "execution_count": 91,
   "metadata": {},
   "outputs": [],
   "source": [
    "#################\n",
    "# DO NOT REMOVE\n",
    "# Versions\n",
    "# numpy==1.18.0\n",
    "################\n",
    "import numpy as np\n",
    "\n",
    "class MDPAgent(object):\n",
    "    def __init__(self):\n",
    "        self.money_gain = 0\n",
    "        pass\n",
    "    \n",
    "    def expectation(self, is_bad_side, money_gain):\n",
    "        \"\"\"Calculate expectation according to die type and current gain\"\"\"\n",
    "        die_size = len(is_bad_side)\n",
    "        is_bad_side = np.array(is_bad_side)\n",
    "        exp = (sum(np.where(is_bad_side== 0)[0]+1) - (np.count_nonzero(is_bad_side==1))*money_gain)/die_size\n",
    "        \n",
    "        return exp\n",
    "    \n",
    "    def rollresult(self, is_bad_side, money_gain):\n",
    "        \"\"\"the result of this roll\"\"\"\n",
    "        # v value\n",
    "        die_size = len(is_bad_side)\n",
    "        result = np.zeros(die_size)\n",
    "        for i in range(0, die_size):\n",
    "            if is_bad_side[i] == 1:\n",
    "                # forefeit all money\n",
    "                result[i] = - money_gain\n",
    "            elif is_bad_side[i] == 0:\n",
    "                # add die number\n",
    "                result[i] = i + 1\n",
    "        \n",
    "        return result\n",
    "    \n",
    "    def exp_threashold(self, is_bad_side, money_gain):\n",
    "        \"\"\"Calculate max_gain that have a positive expectation\"\"\"\n",
    "        max_current = 0\n",
    "        flag = 1\n",
    "        while flag == 1:\n",
    "            max_current = max_current + 1\n",
    "            # print(self.expectation(is_bad_side, money_gain = max_current))\n",
    "            if self.expectation(is_bad_side, max_current) < 0:\n",
    "                flag = 0\n",
    "            # print(max_current)\n",
    "            \n",
    "        return max_current - 1\n",
    "     \n",
    "\n",
    "    def solve(self, is_bad_side):\n",
    "        \"\"\"Implement the agent\"\"\"\n",
    "        money_gain = self.money_gain \n",
    "        # for value > max_current, skip calculating expectation\n",
    "        max_current = self.exp_threashold(is_bad_side, money_gain)\n",
    "        print('max current = ', max_current)\n",
    "\n",
    "        \n",
    "        # step 1. determine maximum roll number\n",
    "        # if expectations are all negative or zero, stop\n",
    "        \n",
    "        # initial roll must be able to run unless all sides are bad or all good\n",
    "        is_bad_side = np.array(is_bad_side)\n",
    "        \n",
    "        if (is_bad_side == 1).sum() == len(is_bad_side):\n",
    "            # all sides are bad\n",
    "            exp = 0\n",
    "        elif (is_bad_side == 0).sum() == len(is_bad_side):\n",
    "            # all sides are good\n",
    "            exp = 999999999\n",
    "        else: \n",
    "            # search maximum depth \n",
    "            ini_exp = self.expectation(is_bad_side, money_gain)\n",
    "            ini_result = self.rollresult(is_bad_side, money_gain)\n",
    "            result = self.rollresult(is_bad_side, money_gain)\n",
    "        \n",
    "            roll_num = 1\n",
    "            roll = 1  # roll flag. =1: keep rolling\n",
    "    \n",
    "            print('max roll number = ', roll_num)\n",
    "            # known how many times can roll, build all results and find expectation\n",
    "            exp = ini_exp\n",
    "            roll_n = 1\n",
    "            result_store = ini_result\n",
    "            result_temp = []\n",
    "            while roll == 1:\n",
    "                roll = 0\n",
    "                # print('roll n = ', roll_n)\n",
    "                exp_sub = []\n",
    "                for i in range(0, len(result_store)):\n",
    "                    if result_store[i] > 0 and result_store[i] <= max_current:\n",
    "                        roll = 1\n",
    "                        # non fail branch and positive expectation\n",
    "                        exp_sub.append(self.expectation(is_bad_side, result_store[i])+result_store[i])\n",
    "                        result_temp.extend(result_store[i] + self.rollresult(is_bad_side, result_store[i]))\n",
    "\n",
    "                    elif result_store[i] > 0 and result_store[i] > max_current:\n",
    "                        # non fail branch, but should quit as expectation will be zero or negative\n",
    "                        exp_sub.append(result_store[i])\n",
    "                        result_temp.extend(np.zeros(len(is_bad_side)) + result_store[i]) \n",
    "\n",
    "                    else:\n",
    "                        # this branch already failed\n",
    "                        exp_sub.append(0)\n",
    "                        result_temp.extend(np.zeros(len(is_bad_side)))\n",
    "\n",
    "                result_store = result_temp\n",
    "                exp = (sum(exp_sub)) / ((len(is_bad_side))**(roll_n))\n",
    "\n",
    "                # roll next die\n",
    "                roll_n = roll_n + 1\n",
    "                    \n",
    "#                     for i in range(0, len(result_store)):\n",
    "#                         if result_store[i] < 0:\n",
    "#                             result_store[i] = 0\n",
    "        return exp\n",
    "\n",
    "    \n",
    "    "
   ]
  },
  {
   "cell_type": "code",
   "execution_count": 89,
   "metadata": {},
   "outputs": [
    {
     "data": {
      "text/plain": [
       "20"
      ]
     },
     "execution_count": 89,
     "metadata": {},
     "output_type": "execute_result"
    }
   ],
   "source": [
    "agent = MDPAgent()\n",
    "agent.exp_threashold(is_bad_side=[1, 0,0, 0, 0, 0], money_gain=1)"
   ]
  },
  {
   "cell_type": "code",
   "execution_count": null,
   "metadata": {},
   "outputs": [],
   "source": []
  },
  {
   "cell_type": "code",
   "execution_count": null,
   "metadata": {},
   "outputs": [],
   "source": []
  },
  {
   "cell_type": "code",
   "execution_count": null,
   "metadata": {},
   "outputs": [],
   "source": []
  },
  {
   "cell_type": "code",
   "execution_count": null,
   "metadata": {},
   "outputs": [],
   "source": []
  },
  {
   "cell_type": "code",
   "execution_count": null,
   "metadata": {},
   "outputs": [],
   "source": []
  },
  {
   "cell_type": "markdown",
   "metadata": {},
   "source": [
    "## Test cases\n",
    "\n",
    "We have provided some test cases for you to help verify your implementation."
   ]
  },
  {
   "cell_type": "code",
   "execution_count": 92,
   "metadata": {},
   "outputs": [
    {
     "name": "stderr",
     "output_type": "stream",
     "text": [
      "test_case_1 (__main__.TestDieNNotebook) ... ok\n",
      "test_case_2 (__main__.TestDieNNotebook) ... "
     ]
    },
    {
     "name": "stdout",
     "output_type": "stream",
     "text": [
      "max current =  5\n",
      "max roll number =  1\n",
      "max current =  13\n",
      "max roll number =  1\n"
     ]
    },
    {
     "ename": "KeyboardInterrupt",
     "evalue": "",
     "output_type": "error",
     "traceback": [
      "\u001b[1;31m---------------------------------------------------------------------------\u001b[0m",
      "\u001b[1;31mKeyboardInterrupt\u001b[0m                         Traceback (most recent call last)",
      "Input \u001b[1;32mIn [92]\u001b[0m, in \u001b[0;36m<cell line: 36>\u001b[1;34m()\u001b[0m\n\u001b[0;32m     26\u001b[0m         agent \u001b[38;5;241m=\u001b[39m MDPAgent()\n\u001b[0;32m     28\u001b[0m         np\u001b[38;5;241m.\u001b[39mtesting\u001b[38;5;241m.\u001b[39massert_almost_equal(\n\u001b[0;32m     29\u001b[0m             agent\u001b[38;5;241m.\u001b[39msolve(\n\u001b[0;32m     30\u001b[0m                 is_bad_side\u001b[38;5;241m=\u001b[39m[\u001b[38;5;241m1\u001b[39m, \u001b[38;5;241m0\u001b[39m,\u001b[38;5;241m0\u001b[39m,\u001b[38;5;241m0\u001b[39m,\u001b[38;5;241m0\u001b[39m,\u001b[38;5;241m0\u001b[39m,\u001b[38;5;241m0\u001b[39m]\n\u001b[1;32m   (...)\u001b[0m\n\u001b[0;32m     33\u001b[0m             decimal\u001b[38;5;241m=\u001b[39m\u001b[38;5;241m3\u001b[39m\n\u001b[0;32m     34\u001b[0m         )\n\u001b[1;32m---> 36\u001b[0m \u001b[43munittest\u001b[49m\u001b[38;5;241;43m.\u001b[39;49m\u001b[43mmain\u001b[49m\u001b[43m(\u001b[49m\u001b[43margv\u001b[49m\u001b[38;5;241;43m=\u001b[39;49m\u001b[43m[\u001b[49m\u001b[38;5;124;43m'\u001b[39;49m\u001b[38;5;124;43m'\u001b[39;49m\u001b[43m]\u001b[49m\u001b[43m,\u001b[49m\u001b[43m \u001b[49m\u001b[43mverbosity\u001b[49m\u001b[38;5;241;43m=\u001b[39;49m\u001b[38;5;241;43m2\u001b[39;49m\u001b[43m,\u001b[49m\u001b[43m \u001b[49m\u001b[43mexit\u001b[49m\u001b[38;5;241;43m=\u001b[39;49m\u001b[38;5;28;43;01mFalse\u001b[39;49;00m\u001b[43m)\u001b[49m\n",
      "File \u001b[1;32mC:\\Program Files\\WindowsApps\\PythonSoftwareFoundation.Python.3.10_3.10.2032.0_x64__qbz5n2kfra8p0\\lib\\unittest\\main.py:101\u001b[0m, in \u001b[0;36mTestProgram.__init__\u001b[1;34m(self, module, defaultTest, argv, testRunner, testLoader, exit, verbosity, failfast, catchbreak, buffer, warnings, tb_locals)\u001b[0m\n\u001b[0;32m     99\u001b[0m \u001b[38;5;28mself\u001b[39m\u001b[38;5;241m.\u001b[39mprogName \u001b[38;5;241m=\u001b[39m os\u001b[38;5;241m.\u001b[39mpath\u001b[38;5;241m.\u001b[39mbasename(argv[\u001b[38;5;241m0\u001b[39m])\n\u001b[0;32m    100\u001b[0m \u001b[38;5;28mself\u001b[39m\u001b[38;5;241m.\u001b[39mparseArgs(argv)\n\u001b[1;32m--> 101\u001b[0m \u001b[38;5;28;43mself\u001b[39;49m\u001b[38;5;241;43m.\u001b[39;49m\u001b[43mrunTests\u001b[49m\u001b[43m(\u001b[49m\u001b[43m)\u001b[49m\n",
      "File \u001b[1;32mC:\\Program Files\\WindowsApps\\PythonSoftwareFoundation.Python.3.10_3.10.2032.0_x64__qbz5n2kfra8p0\\lib\\unittest\\main.py:271\u001b[0m, in \u001b[0;36mTestProgram.runTests\u001b[1;34m(self)\u001b[0m\n\u001b[0;32m    268\u001b[0m \u001b[38;5;28;01melse\u001b[39;00m:\n\u001b[0;32m    269\u001b[0m     \u001b[38;5;66;03m# it is assumed to be a TestRunner instance\u001b[39;00m\n\u001b[0;32m    270\u001b[0m     testRunner \u001b[38;5;241m=\u001b[39m \u001b[38;5;28mself\u001b[39m\u001b[38;5;241m.\u001b[39mtestRunner\n\u001b[1;32m--> 271\u001b[0m \u001b[38;5;28mself\u001b[39m\u001b[38;5;241m.\u001b[39mresult \u001b[38;5;241m=\u001b[39m \u001b[43mtestRunner\u001b[49m\u001b[38;5;241;43m.\u001b[39;49m\u001b[43mrun\u001b[49m\u001b[43m(\u001b[49m\u001b[38;5;28;43mself\u001b[39;49m\u001b[38;5;241;43m.\u001b[39;49m\u001b[43mtest\u001b[49m\u001b[43m)\u001b[49m\n\u001b[0;32m    272\u001b[0m \u001b[38;5;28;01mif\u001b[39;00m \u001b[38;5;28mself\u001b[39m\u001b[38;5;241m.\u001b[39mexit:\n\u001b[0;32m    273\u001b[0m     sys\u001b[38;5;241m.\u001b[39mexit(\u001b[38;5;129;01mnot\u001b[39;00m \u001b[38;5;28mself\u001b[39m\u001b[38;5;241m.\u001b[39mresult\u001b[38;5;241m.\u001b[39mwasSuccessful())\n",
      "File \u001b[1;32mC:\\Program Files\\WindowsApps\\PythonSoftwareFoundation.Python.3.10_3.10.2032.0_x64__qbz5n2kfra8p0\\lib\\unittest\\runner.py:184\u001b[0m, in \u001b[0;36mTextTestRunner.run\u001b[1;34m(self, test)\u001b[0m\n\u001b[0;32m    182\u001b[0m     startTestRun()\n\u001b[0;32m    183\u001b[0m \u001b[38;5;28;01mtry\u001b[39;00m:\n\u001b[1;32m--> 184\u001b[0m     \u001b[43mtest\u001b[49m\u001b[43m(\u001b[49m\u001b[43mresult\u001b[49m\u001b[43m)\u001b[49m\n\u001b[0;32m    185\u001b[0m \u001b[38;5;28;01mfinally\u001b[39;00m:\n\u001b[0;32m    186\u001b[0m     stopTestRun \u001b[38;5;241m=\u001b[39m \u001b[38;5;28mgetattr\u001b[39m(result, \u001b[38;5;124m'\u001b[39m\u001b[38;5;124mstopTestRun\u001b[39m\u001b[38;5;124m'\u001b[39m, \u001b[38;5;28;01mNone\u001b[39;00m)\n",
      "File \u001b[1;32mC:\\Program Files\\WindowsApps\\PythonSoftwareFoundation.Python.3.10_3.10.2032.0_x64__qbz5n2kfra8p0\\lib\\unittest\\suite.py:84\u001b[0m, in \u001b[0;36mBaseTestSuite.__call__\u001b[1;34m(self, *args, **kwds)\u001b[0m\n\u001b[0;32m     83\u001b[0m \u001b[38;5;28;01mdef\u001b[39;00m \u001b[38;5;21m__call__\u001b[39m(\u001b[38;5;28mself\u001b[39m, \u001b[38;5;241m*\u001b[39margs, \u001b[38;5;241m*\u001b[39m\u001b[38;5;241m*\u001b[39mkwds):\n\u001b[1;32m---> 84\u001b[0m     \u001b[38;5;28;01mreturn\u001b[39;00m \u001b[38;5;28mself\u001b[39m\u001b[38;5;241m.\u001b[39mrun(\u001b[38;5;241m*\u001b[39margs, \u001b[38;5;241m*\u001b[39m\u001b[38;5;241m*\u001b[39mkwds)\n",
      "File \u001b[1;32mC:\\Program Files\\WindowsApps\\PythonSoftwareFoundation.Python.3.10_3.10.2032.0_x64__qbz5n2kfra8p0\\lib\\unittest\\suite.py:122\u001b[0m, in \u001b[0;36mTestSuite.run\u001b[1;34m(self, result, debug)\u001b[0m\n\u001b[0;32m    119\u001b[0m         \u001b[38;5;28;01mcontinue\u001b[39;00m\n\u001b[0;32m    121\u001b[0m \u001b[38;5;28;01mif\u001b[39;00m \u001b[38;5;129;01mnot\u001b[39;00m debug:\n\u001b[1;32m--> 122\u001b[0m     \u001b[43mtest\u001b[49m\u001b[43m(\u001b[49m\u001b[43mresult\u001b[49m\u001b[43m)\u001b[49m\n\u001b[0;32m    123\u001b[0m \u001b[38;5;28;01melse\u001b[39;00m:\n\u001b[0;32m    124\u001b[0m     test\u001b[38;5;241m.\u001b[39mdebug()\n",
      "File \u001b[1;32mC:\\Program Files\\WindowsApps\\PythonSoftwareFoundation.Python.3.10_3.10.2032.0_x64__qbz5n2kfra8p0\\lib\\unittest\\suite.py:84\u001b[0m, in \u001b[0;36mBaseTestSuite.__call__\u001b[1;34m(self, *args, **kwds)\u001b[0m\n\u001b[0;32m     83\u001b[0m \u001b[38;5;28;01mdef\u001b[39;00m \u001b[38;5;21m__call__\u001b[39m(\u001b[38;5;28mself\u001b[39m, \u001b[38;5;241m*\u001b[39margs, \u001b[38;5;241m*\u001b[39m\u001b[38;5;241m*\u001b[39mkwds):\n\u001b[1;32m---> 84\u001b[0m     \u001b[38;5;28;01mreturn\u001b[39;00m \u001b[38;5;28mself\u001b[39m\u001b[38;5;241m.\u001b[39mrun(\u001b[38;5;241m*\u001b[39margs, \u001b[38;5;241m*\u001b[39m\u001b[38;5;241m*\u001b[39mkwds)\n",
      "File \u001b[1;32mC:\\Program Files\\WindowsApps\\PythonSoftwareFoundation.Python.3.10_3.10.2032.0_x64__qbz5n2kfra8p0\\lib\\unittest\\suite.py:122\u001b[0m, in \u001b[0;36mTestSuite.run\u001b[1;34m(self, result, debug)\u001b[0m\n\u001b[0;32m    119\u001b[0m         \u001b[38;5;28;01mcontinue\u001b[39;00m\n\u001b[0;32m    121\u001b[0m \u001b[38;5;28;01mif\u001b[39;00m \u001b[38;5;129;01mnot\u001b[39;00m debug:\n\u001b[1;32m--> 122\u001b[0m     \u001b[43mtest\u001b[49m\u001b[43m(\u001b[49m\u001b[43mresult\u001b[49m\u001b[43m)\u001b[49m\n\u001b[0;32m    123\u001b[0m \u001b[38;5;28;01melse\u001b[39;00m:\n\u001b[0;32m    124\u001b[0m     test\u001b[38;5;241m.\u001b[39mdebug()\n",
      "File \u001b[1;32mC:\\Program Files\\WindowsApps\\PythonSoftwareFoundation.Python.3.10_3.10.2032.0_x64__qbz5n2kfra8p0\\lib\\unittest\\case.py:650\u001b[0m, in \u001b[0;36mTestCase.__call__\u001b[1;34m(self, *args, **kwds)\u001b[0m\n\u001b[0;32m    649\u001b[0m \u001b[38;5;28;01mdef\u001b[39;00m \u001b[38;5;21m__call__\u001b[39m(\u001b[38;5;28mself\u001b[39m, \u001b[38;5;241m*\u001b[39margs, \u001b[38;5;241m*\u001b[39m\u001b[38;5;241m*\u001b[39mkwds):\n\u001b[1;32m--> 650\u001b[0m     \u001b[38;5;28;01mreturn\u001b[39;00m \u001b[38;5;28mself\u001b[39m\u001b[38;5;241m.\u001b[39mrun(\u001b[38;5;241m*\u001b[39margs, \u001b[38;5;241m*\u001b[39m\u001b[38;5;241m*\u001b[39mkwds)\n",
      "File \u001b[1;32mC:\\Program Files\\WindowsApps\\PythonSoftwareFoundation.Python.3.10_3.10.2032.0_x64__qbz5n2kfra8p0\\lib\\unittest\\case.py:591\u001b[0m, in \u001b[0;36mTestCase.run\u001b[1;34m(self, result)\u001b[0m\n\u001b[0;32m    589\u001b[0m outcome\u001b[38;5;241m.\u001b[39mexpecting_failure \u001b[38;5;241m=\u001b[39m expecting_failure\n\u001b[0;32m    590\u001b[0m \u001b[38;5;28;01mwith\u001b[39;00m outcome\u001b[38;5;241m.\u001b[39mtestPartExecutor(\u001b[38;5;28mself\u001b[39m, isTest\u001b[38;5;241m=\u001b[39m\u001b[38;5;28;01mTrue\u001b[39;00m):\n\u001b[1;32m--> 591\u001b[0m     \u001b[38;5;28;43mself\u001b[39;49m\u001b[38;5;241;43m.\u001b[39;49m\u001b[43m_callTestMethod\u001b[49m\u001b[43m(\u001b[49m\u001b[43mtestMethod\u001b[49m\u001b[43m)\u001b[49m\n\u001b[0;32m    592\u001b[0m outcome\u001b[38;5;241m.\u001b[39mexpecting_failure \u001b[38;5;241m=\u001b[39m \u001b[38;5;28;01mFalse\u001b[39;00m\n\u001b[0;32m    593\u001b[0m \u001b[38;5;28;01mwith\u001b[39;00m outcome\u001b[38;5;241m.\u001b[39mtestPartExecutor(\u001b[38;5;28mself\u001b[39m):\n",
      "File \u001b[1;32mC:\\Program Files\\WindowsApps\\PythonSoftwareFoundation.Python.3.10_3.10.2032.0_x64__qbz5n2kfra8p0\\lib\\unittest\\case.py:549\u001b[0m, in \u001b[0;36mTestCase._callTestMethod\u001b[1;34m(self, method)\u001b[0m\n\u001b[0;32m    548\u001b[0m \u001b[38;5;28;01mdef\u001b[39;00m \u001b[38;5;21m_callTestMethod\u001b[39m(\u001b[38;5;28mself\u001b[39m, method):\n\u001b[1;32m--> 549\u001b[0m     \u001b[43mmethod\u001b[49m\u001b[43m(\u001b[49m\u001b[43m)\u001b[49m\n",
      "Input \u001b[1;32mIn [92]\u001b[0m, in \u001b[0;36mTestDieNNotebook.test_case_2\u001b[1;34m(self)\u001b[0m\n\u001b[0;32m     15\u001b[0m \u001b[38;5;28;01mdef\u001b[39;00m \u001b[38;5;21mtest_case_2\u001b[39m(\u001b[38;5;28mself\u001b[39m):\n\u001b[0;32m     16\u001b[0m     agent \u001b[38;5;241m=\u001b[39m MDPAgent()\n\u001b[0;32m     17\u001b[0m     np\u001b[38;5;241m.\u001b[39mtesting\u001b[38;5;241m.\u001b[39massert_almost_equal(\n\u001b[1;32m---> 18\u001b[0m         \u001b[43magent\u001b[49m\u001b[38;5;241;43m.\u001b[39;49m\u001b[43msolve\u001b[49m\u001b[43m(\u001b[49m\n\u001b[0;32m     19\u001b[0m \u001b[43m            \u001b[49m\u001b[43mis_bad_side\u001b[49m\u001b[38;5;241;43m=\u001b[39;49m\u001b[43m[\u001b[49m\u001b[38;5;241;43m1\u001b[39;49m\u001b[43m,\u001b[49m\u001b[43m \u001b[49m\u001b[38;5;241;43m1\u001b[39;49m\u001b[43m,\u001b[49m\u001b[43m \u001b[49m\u001b[38;5;241;43m1\u001b[39;49m\u001b[43m,\u001b[49m\u001b[43m \u001b[49m\u001b[38;5;241;43m1\u001b[39;49m\u001b[43m,\u001b[49m\u001b[43m \u001b[49m\u001b[38;5;241;43m0\u001b[39;49m\u001b[43m,\u001b[49m\u001b[43m \u001b[49m\u001b[38;5;241;43m0\u001b[39;49m\u001b[43m,\u001b[49m\u001b[43m \u001b[49m\u001b[38;5;241;43m0\u001b[39;49m\u001b[43m,\u001b[49m\u001b[43m \u001b[49m\u001b[38;5;241;43m0\u001b[39;49m\u001b[43m,\u001b[49m\u001b[43m \u001b[49m\u001b[38;5;241;43m1\u001b[39;49m\u001b[43m,\u001b[49m\u001b[43m \u001b[49m\u001b[38;5;241;43m0\u001b[39;49m\u001b[43m,\u001b[49m\u001b[43m \u001b[49m\u001b[38;5;241;43m1\u001b[39;49m\u001b[43m,\u001b[49m\u001b[43m \u001b[49m\u001b[38;5;241;43m0\u001b[39;49m\u001b[43m,\u001b[49m\u001b[43m \u001b[49m\u001b[38;5;241;43m1\u001b[39;49m\u001b[43m,\u001b[49m\u001b[43m \u001b[49m\u001b[38;5;241;43m1\u001b[39;49m\u001b[43m,\u001b[49m\u001b[43m \u001b[49m\u001b[38;5;241;43m0\u001b[39;49m\u001b[43m,\u001b[49m\u001b[43m \u001b[49m\u001b[38;5;241;43m1\u001b[39;49m\u001b[43m,\u001b[49m\u001b[43m \u001b[49m\u001b[38;5;241;43m0\u001b[39;49m\u001b[43m,\u001b[49m\u001b[43m \u001b[49m\u001b[38;5;241;43m0\u001b[39;49m\u001b[43m,\u001b[49m\u001b[43m \u001b[49m\u001b[38;5;241;43m0\u001b[39;49m\u001b[43m,\u001b[49m\u001b[43m \u001b[49m\u001b[38;5;241;43m1\u001b[39;49m\u001b[43m,\u001b[49m\u001b[43m \u001b[49m\u001b[38;5;241;43m0\u001b[39;49m\u001b[43m]\u001b[49m\n\u001b[0;32m     20\u001b[0m \u001b[43m        \u001b[49m\u001b[43m)\u001b[49m,\n\u001b[0;32m     21\u001b[0m         \u001b[38;5;241m7.379\u001b[39m,\n\u001b[0;32m     22\u001b[0m         decimal\u001b[38;5;241m=\u001b[39m\u001b[38;5;241m3\u001b[39m\n\u001b[0;32m     23\u001b[0m     )\n",
      "Input \u001b[1;32mIn [91]\u001b[0m, in \u001b[0;36mMDPAgent.solve\u001b[1;34m(self, is_bad_side)\u001b[0m\n\u001b[0;32m    101\u001b[0m     \u001b[38;5;28;01melse\u001b[39;00m:\n\u001b[0;32m    102\u001b[0m         \u001b[38;5;66;03m# this branch already failed\u001b[39;00m\n\u001b[0;32m    103\u001b[0m         exp_sub\u001b[38;5;241m.\u001b[39mappend(\u001b[38;5;241m0\u001b[39m)\n\u001b[1;32m--> 104\u001b[0m         result_temp\u001b[38;5;241m.\u001b[39mextend(np\u001b[38;5;241m.\u001b[39mzeros(\u001b[38;5;28mlen\u001b[39m(is_bad_side)))\n\u001b[0;32m    106\u001b[0m result_store \u001b[38;5;241m=\u001b[39m result_temp\n\u001b[0;32m    107\u001b[0m exp \u001b[38;5;241m=\u001b[39m (\u001b[38;5;28msum\u001b[39m(exp_sub)) \u001b[38;5;241m/\u001b[39m ((\u001b[38;5;28mlen\u001b[39m(is_bad_side))\u001b[38;5;241m*\u001b[39m\u001b[38;5;241m*\u001b[39m(roll_n))\n",
      "\u001b[1;31mKeyboardInterrupt\u001b[0m: "
     ]
    }
   ],
   "source": [
    "## DO NOT MODIFY THIS CODE.  This code will ensure that your submission\n",
    "## will work proberly with the autograder\n",
    "\n",
    "import unittest\n",
    "\n",
    "class TestDieNNotebook(unittest.TestCase):\n",
    "    def test_case_1(self):\n",
    "        agent = MDPAgent()\n",
    "        np.testing.assert_almost_equal(\n",
    "            agent.solve(is_bad_side=[1, 1, 1, 0, 0, 0]),\n",
    "            2.583,\n",
    "            decimal=3\n",
    "        )\n",
    "        \n",
    "    def test_case_2(self):\n",
    "        agent = MDPAgent()\n",
    "        np.testing.assert_almost_equal(\n",
    "            agent.solve(\n",
    "                is_bad_side=[1, 1, 1, 1, 0, 0, 0, 0, 1, 0, 1, 0, 1, 1, 0, 1, 0, 0, 0, 1, 0]\n",
    "            ),\n",
    "            7.379,\n",
    "            decimal=3\n",
    "        )\n",
    "        \n",
    "    def test_case_3(self):\n",
    "        agent = MDPAgent()\n",
    "\n",
    "        np.testing.assert_almost_equal(\n",
    "            agent.solve(\n",
    "                is_bad_side=[1, 1, 1, 1, 1, 1, 0, 1, 0, 1, 1, 0, 1, 0, 1, 0, 0, 1, 0, 0, 1, 0]\n",
    "            ),\n",
    "            6.314,\n",
    "            decimal=3\n",
    "        )\n",
    "\n",
    "unittest.main(argv=[''], verbosity=2, exit=False)"
   ]
  },
  {
   "cell_type": "code",
   "execution_count": null,
   "metadata": {},
   "outputs": [],
   "source": []
  },
  {
   "cell_type": "code",
   "execution_count": null,
   "metadata": {},
   "outputs": [],
   "source": []
  },
  {
   "cell_type": "code",
   "execution_count": 66,
   "metadata": {},
   "outputs": [],
   "source": [
    "    def expectation(is_bad_side, money_gain):\n",
    "        \"\"\"Calculate expectation according to die type and current gain\"\"\"\n",
    "        die_size = len(is_bad_side)\n",
    "        is_bad_side = np.array(is_bad_side)\n",
    "        exp = (sum(np.where(is_bad_side== 0)[0]+1) - (np.count_nonzero(is_bad_side==1))*money_gain)/die_size\n",
    "        \n",
    "        return exp\n",
    "    \n",
    "    def rollresult(is_bad_side, money_gain):\n",
    "        \"\"\"the result of this roll\"\"\"\n",
    "        # v value\n",
    "        die_size = len(is_bad_side)\n",
    "        result = np.zeros(die_size)\n",
    "        for i in range(0, die_size):\n",
    "            if is_bad_side[i] == 1:\n",
    "                # forefeit all money\n",
    "                result[i] = - money_gain\n",
    "            elif is_bad_side[i] == 0:\n",
    "                # add die number\n",
    "                result[i] = i + 1\n",
    "        \n",
    "        return result"
   ]
  },
  {
   "cell_type": "code",
   "execution_count": 67,
   "metadata": {},
   "outputs": [
    {
     "data": {
      "text/plain": [
       "1.5"
      ]
     },
     "execution_count": 67,
     "metadata": {},
     "output_type": "execute_result"
    }
   ],
   "source": [
    "expectation(is_bad_side=[1, 1, 1, 0, 0, 0], money_gain = 2)"
   ]
  },
  {
   "cell_type": "code",
   "execution_count": 69,
   "metadata": {},
   "outputs": [
    {
     "data": {
      "text/plain": [
       "array([-2., -2., -2.,  4.,  5.,  6.])"
      ]
     },
     "execution_count": 69,
     "metadata": {},
     "output_type": "execute_result"
    }
   ],
   "source": [
    "rollresult(is_bad_side=[1, 1, 1, 0, 0, 0], money_gain = 2)"
   ]
  },
  {
   "cell_type": "code",
   "execution_count": 70,
   "metadata": {},
   "outputs": [],
   "source": [
    "    def exp_threashold(is_bad_side, money_gain):\n",
    "        \"\"\"Calculate max_gain that have a positive expectation\"\"\"\n",
    "        max_current = 0\n",
    "        flag = 1\n",
    "        while flag == 1:\n",
    "            max_current = max_current + 1\n",
    "            # print(self.expectation(is_bad_side, money_gain = max_current))\n",
    "            if self.expectation(is_bad_side, max_current) < 0:\n",
    "                flag = 0\n",
    "            # print(max_current)\n",
    "            \n",
    "        return max_current - 1"
   ]
  },
  {
   "cell_type": "code",
   "execution_count": 71,
   "metadata": {},
   "outputs": [
    {
     "ename": "NameError",
     "evalue": "name 'self' is not defined",
     "output_type": "error",
     "traceback": [
      "\u001b[1;31m---------------------------------------------------------------------------\u001b[0m",
      "\u001b[1;31mNameError\u001b[0m                                 Traceback (most recent call last)",
      "Input \u001b[1;32mIn [71]\u001b[0m, in \u001b[0;36m<cell line: 1>\u001b[1;34m()\u001b[0m\n\u001b[1;32m----> 1\u001b[0m \u001b[43mexp_threashold\u001b[49m\u001b[43m(\u001b[49m\u001b[43mis_bad_side\u001b[49m\u001b[38;5;241;43m=\u001b[39;49m\u001b[43m[\u001b[49m\u001b[38;5;241;43m1\u001b[39;49m\u001b[43m,\u001b[49m\u001b[43m \u001b[49m\u001b[38;5;241;43m1\u001b[39;49m\u001b[43m,\u001b[49m\u001b[43m \u001b[49m\u001b[38;5;241;43m1\u001b[39;49m\u001b[43m,\u001b[49m\u001b[43m \u001b[49m\u001b[38;5;241;43m0\u001b[39;49m\u001b[43m,\u001b[49m\u001b[43m \u001b[49m\u001b[38;5;241;43m0\u001b[39;49m\u001b[43m,\u001b[49m\u001b[43m \u001b[49m\u001b[38;5;241;43m0\u001b[39;49m\u001b[43m]\u001b[49m\u001b[43m,\u001b[49m\u001b[43m \u001b[49m\u001b[43mmoney_gain\u001b[49m\u001b[43m \u001b[49m\u001b[38;5;241;43m=\u001b[39;49m\u001b[43m \u001b[49m\u001b[38;5;241;43m2\u001b[39;49m\u001b[43m)\u001b[49m\n",
      "Input \u001b[1;32mIn [70]\u001b[0m, in \u001b[0;36mexp_threashold\u001b[1;34m(is_bad_side, money_gain)\u001b[0m\n\u001b[0;32m      6\u001b[0m max_current \u001b[38;5;241m=\u001b[39m max_current \u001b[38;5;241m+\u001b[39m \u001b[38;5;241m1\u001b[39m\n\u001b[0;32m      7\u001b[0m \u001b[38;5;66;03m# print(self.expectation(is_bad_side, money_gain = max_current))\u001b[39;00m\n\u001b[1;32m----> 8\u001b[0m \u001b[38;5;28;01mif\u001b[39;00m \u001b[38;5;28;43mself\u001b[39;49m\u001b[38;5;241m.\u001b[39mexpectation(is_bad_side, max_current) \u001b[38;5;241m<\u001b[39m \u001b[38;5;241m0\u001b[39m:\n\u001b[0;32m      9\u001b[0m     flag \u001b[38;5;241m=\u001b[39m \u001b[38;5;241m0\u001b[39m\n\u001b[0;32m     10\u001b[0m \u001b[38;5;66;03m# print(max_current)\u001b[39;00m\n",
      "\u001b[1;31mNameError\u001b[0m: name 'self' is not defined"
     ]
    }
   ],
   "source": [
    "exp_threashold(is_bad_side=[1, 1, 1, 0, 0, 0], money_gain = 2)"
   ]
  },
  {
   "cell_type": "code",
   "execution_count": 72,
   "metadata": {},
   "outputs": [],
   "source": [
    "is_bad_side=[1, 1, 1, 0, 0, 0]"
   ]
  },
  {
   "cell_type": "code",
   "execution_count": 73,
   "metadata": {},
   "outputs": [
    {
     "data": {
      "text/plain": [
       "array([1, 1, 1, 0, 0, 0])"
      ]
     },
     "execution_count": 73,
     "metadata": {},
     "output_type": "execute_result"
    }
   ],
   "source": [
    "np.array(is_bad_side)"
   ]
  },
  {
   "cell_type": "code",
   "execution_count": 81,
   "metadata": {},
   "outputs": [],
   "source": [
    "dice = np.arange(1, len(is_bad_side)+1, 1)"
   ]
  },
  {
   "cell_type": "code",
   "execution_count": 82,
   "metadata": {},
   "outputs": [
    {
     "data": {
      "text/plain": [
       "array([1, 2, 3, 4, 5, 6])"
      ]
     },
     "execution_count": 82,
     "metadata": {},
     "output_type": "execute_result"
    }
   ],
   "source": [
    "dice"
   ]
  },
  {
   "cell_type": "code",
   "execution_count": null,
   "metadata": {},
   "outputs": [],
   "source": []
  },
  {
   "cell_type": "code",
   "execution_count": null,
   "metadata": {},
   "outputs": [],
   "source": []
  }
 ],
 "metadata": {
  "kernelspec": {
   "display_name": "Python 3 (ipykernel)",
   "language": "python",
   "name": "python3"
  },
  "language_info": {
   "codemirror_mode": {
    "name": "ipython",
    "version": 3
   },
   "file_extension": ".py",
   "mimetype": "text/x-python",
   "name": "python",
   "nbconvert_exporter": "python",
   "pygments_lexer": "ipython3",
   "version": "3.10.7"
  },
  "pycharm": {
   "stem_cell": {
    "cell_type": "raw",
    "metadata": {
     "collapsed": false
    },
    "source": []
   }
  }
 },
 "nbformat": 4,
 "nbformat_minor": 1
}
