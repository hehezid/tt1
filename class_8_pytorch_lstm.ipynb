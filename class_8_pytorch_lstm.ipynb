{
  "nbformat": 4,
  "nbformat_minor": 0,
  "metadata": {
    "colab": {
      "name": "pytorch_lstm.ipynb",
      "provenance": [],
      "collapsed_sections": []
    },
    "kernelspec": {
      "name": "python3",
      "display_name": "Python 3"
    },
    "language_info": {
      "name": "python"
    },
    "accelerator": "GPU",
    "gpuClass": "standard"
  },
  "cells": [
    {
      "cell_type": "code",
      "source": [
        "import torch\n",
        "from torch import nn\n",
        "\n",
        "from tqdm import tqdm\n",
        "from itertools import chain\n",
        "import matplotlib.pyplot as plt\n",
        "from scipy.interpolate import make_interp_spline\n",
        "\n",
        "from torch.optim.lr_scheduler import StepLR\n",
        "\n",
        "import os\n",
        "import random\n",
        "\n",
        "import numpy as np\n",
        "import pandas as pd\n",
        "from torch.utils.data import Dataset, DataLoader\n",
        "\n",
        "device = torch.device(\"cuda\" if torch.cuda.is_available() else \"cpu\")"
      ],
      "metadata": {
        "id": "tOHOhOzkl-He"
      },
      "execution_count": 15,
      "outputs": []
    },
    {
      "cell_type": "code",
      "source": [
        "from google.colab import drive\n",
        "drive.mount('/content/drive')\n"
      ],
      "metadata": {
        "colab": {
          "base_uri": "https://localhost:8080/"
        },
        "id": "8kKelq0voAv1",
        "outputId": "4aa2fdb3-e47f-481d-d472-72c0a128c11a"
      },
      "execution_count": 16,
      "outputs": [
        {
          "output_type": "stream",
          "name": "stdout",
          "text": [
            "Drive already mounted at /content/drive; to attempt to forcibly remount, call drive.mount(\"/content/drive\", force_remount=True).\n"
          ]
        }
      ]
    },
    {
      "cell_type": "code",
      "source": [
        "LSTM_PATH=\"/content/drive/MyDrive/LSTM/model/Univariate-SingleStep-LSTM-2.pkl\""
      ],
      "metadata": {
        "id": "4w5wFKX3pVu4"
      },
      "execution_count": 18,
      "outputs": []
    },
    {
      "cell_type": "code",
      "execution_count": 20,
      "metadata": {
        "id": "mmdXMa1zl2Cm"
      },
      "outputs": [],
      "source": [
        "def load_data(file_name):\n",
        "    global MAX, MIN\n",
        "    df = pd.read_csv('/content/drive/MyDrive/LSTM/data/' + file_name, encoding='gbk')\n",
        "    columns = df.columns\n",
        "    df.fillna(df.mean(), inplace=True)\n",
        "    MAX = np.max(df[columns[1]])\n",
        "    MIN = np.min(df[columns[1]])\n",
        "    df[columns[1]] = (df[columns[1]] - MIN) / (MAX - MIN)\n",
        "\n",
        "    return df\n",
        "\n",
        "\n",
        "class MyDataset(Dataset):\n",
        "    def __init__(self, data):\n",
        "        self.data = data\n",
        "\n",
        "    def __getitem__(self, item):\n",
        "        return self.data[item]\n",
        "\n",
        "    def __len__(self):\n",
        "        return len(self.data)\n",
        "    \n",
        "    \n",
        "def nn_seq(file_name, B):\n",
        "    print('Data processing:')\n",
        "    data = load_data(file_name)\n",
        "    load = data[data.columns[1]]\n",
        "    load = load.tolist()\n",
        "    load = torch.FloatTensor(load).view(-1)\n",
        "    data = data.values.tolist()\n",
        "    seq = []\n",
        "    for i in range(len(data) - 24):\n",
        "        train_seq = []\n",
        "        train_label = []\n",
        "        for j in range(i, i + 24):\n",
        "            train_seq.append(load[j])\n",
        "        train_label.append(load[i + 24])\n",
        "        train_seq = torch.FloatTensor(train_seq).view(-1)\n",
        "        train_label = torch.FloatTensor(train_label).view(-1)\n",
        "        seq.append((train_seq, train_label))\n",
        "    # print(seq[:5])\n",
        "\n",
        "    Dtr = seq[0:int(len(seq) * 0.7)]\n",
        "    Dte = seq[int(len(seq) * 0.7):len(seq)]\n",
        "\n",
        "    train_len = int(len(Dtr) / B) * B\n",
        "    test_len = int(len(Dte) / B) * B\n",
        "    Dtr, Dte = Dtr[:train_len], Dte[:test_len]\n",
        "\n",
        "    train = MyDataset(Dtr)\n",
        "    test = MyDataset(Dte)\n",
        "\n",
        "   \n",
        "    Dtr = DataLoader(dataset=train, batch_size=B, shuffle=False, num_workers=0)\n",
        "    Dte = DataLoader(dataset=test, batch_size=B, shuffle=False, num_workers=0)\n",
        "\n",
        "    return Dtr, Dte\n"
      ]
    },
    {
      "cell_type": "code",
      "source": [
        "# epoch\n",
        "# batch\n",
        "# batch_size\n",
        "# Learn the role of dataLoader\n",
        "# Learn what an iterator is and how to use it"
      ],
      "metadata": {
        "id": "25byLxqiviUp"
      },
      "execution_count": null,
      "outputs": []
    },
    {
      "cell_type": "code",
      "source": [
        "class LSTM(nn.Module):\n",
        "    def __init__(self, input_size, hidden_size, num_layers, output_size, batch_size):\n",
        "        super().__init__()\n",
        "        self.input_size = input_size\n",
        "        self.hidden_size = hidden_size\n",
        "        self.num_layers = num_layers\n",
        "        self.output_size = output_size\n",
        "        self.num_directions = 1 #unidirectional LSTM\n",
        "        self.batch_size = batch_size\n",
        "        self.lstm = nn.LSTM(self.input_size, self.hidden_size, self.num_layers, batch_first=True)\n",
        "        self.linear = nn.Linear(self.hidden_size, self.output_size)\n",
        "\n",
        "    def forward(self, input_seq):\n",
        "        h_0 = torch.randn(self.num_directions * self.num_layers, self.batch_size, self.hidden_size).to(device)\n",
        "        c_0 = torch.randn(self.num_directions * self.num_layers, self.batch_size, self.hidden_size).to(device)\n",
        "        seq_len = input_seq.shape[1] # (5, 24)\n",
        "        # input(batch_size, seq_len, input_size)\n",
        "        input_seq = input_seq.view(self.batch_size, seq_len, 1)  # (5, 24, 1)\n",
        "        # output(batch_size, seq_len, num_directions * hidden_size)\n",
        "        output, _ = self.lstm(input_seq, (h_0, c_0)) # output(5, 24, 32)\n",
        "        output = output.contiguous().view(self.batch_size * seq_len, self.hidden_size) # (5 * 24, 32)\n",
        "        pred = self.linear(output) # pred(120, 1)\n",
        "        pred = pred.view(self.batch_size, seq_len, -1) # (5, 24, 1)\n",
        "        pred = pred[:, -1, :]  # (5, 1)\n",
        "        return pred\n"
      ],
      "metadata": {
        "id": "3dMLQOvso5Vd"
      },
      "execution_count": 21,
      "outputs": []
    },
    {
      "cell_type": "code",
      "source": [
        "def LSTM_train(name, b):\n",
        "    Dtr, Dte = nn_seq(file_name=name, B=b)\n",
        "    input_size, hidden_size, num_layers, output_size = 1, 32, 2, 1\n",
        "    model = LSTM(input_size, hidden_size, num_layers, output_size, batch_size=b).to(device)\n",
        "    loss_function = nn.MSELoss().to(device)\n",
        "    optimizer = torch.optim.Adam(model.parameters(), lr=0.001)\n",
        "    # training\n",
        "    epochs = 1\n",
        "    cnt = 0\n",
        "    for i in range(epochs):\n",
        "        cnt = 0\n",
        "        print('Cur', i)\n",
        "        for (seq, label) in Dtr:\n",
        "            cnt += 1\n",
        "            seq = seq.to(device)\n",
        "            label = label.to(device)\n",
        "            # forward \n",
        "            y_pred = model(seq)\n",
        "            # loss\n",
        "            loss = loss_function(y_pred, label)\n",
        "            # Calculate the gradient.\n",
        "            optimizer.zero_grad()\n",
        "            # Backpropagation, update parameters.\n",
        "            loss.backward()\n",
        "            optimizer.step()\n",
        "            if cnt % 1000 == 0:\n",
        "                print('epoch', i, ':', cnt - 1000, '~', cnt, loss.item())\n",
        "    state = {'model': model.state_dict(), 'optimizer': optimizer.state_dict()}\n",
        "    torch.save(state, LSTM_PATH)\n"
      ],
      "metadata": {
        "id": "yoc3mzkMpAUf"
      },
      "execution_count": 25,
      "outputs": []
    },
    {
      "cell_type": "code",
      "source": [
        "LSTM_train(\"data.csv\", 5)"
      ],
      "metadata": {
        "colab": {
          "base_uri": "https://localhost:8080/"
        },
        "id": "_M3TqR9cpRgI",
        "outputId": "992119c6-66f4-4839-eb54-c1262843c567"
      },
      "execution_count": 26,
      "outputs": [
        {
          "output_type": "stream",
          "name": "stdout",
          "text": [
            "Data processing:\n"
          ]
        },
        {
          "output_type": "stream",
          "name": "stderr",
          "text": [
            "/usr/local/lib/python3.7/dist-packages/ipykernel_launcher.py:5: FutureWarning: Dropping of nuisance columns in DataFrame reductions (with 'numeric_only=None') is deprecated; in a future version this will raise TypeError.  Select only valid columns before calling the reduction.\n",
            "  \"\"\"\n"
          ]
        },
        {
          "output_type": "stream",
          "name": "stdout",
          "text": [
            "Cur 0\n",
            "epoch 0 : 900 ~ 1000 0.003596266033127904\n",
            "epoch 0 : 1900 ~ 2000 0.0035313803236931562\n",
            "epoch 0 : 2900 ~ 3000 0.004085303284227848\n"
          ]
        }
      ]
    },
    {
      "cell_type": "code",
      "source": [
        "def get_mape(x, y):\n",
        "    \"\"\"\n",
        "    :param x: true value\n",
        "    :param y: pred value\n",
        "    :return: mape\n",
        "    \"\"\"\n",
        "    return np.mean(np.abs((x - y) / x))"
      ],
      "metadata": {
        "id": "yD4G-q-KrEjv"
      },
      "execution_count": 27,
      "outputs": []
    },
    {
      "cell_type": "code",
      "source": [
        "def test(name, b):\n",
        "    global MAX, MIN\n",
        "    Dtr, Dte = nn_seq(file_name=name, B=b)\n",
        "    pred = []\n",
        "    y = []\n",
        "    print('loading model...')\n",
        "    input_size, hidden_size, num_layers, output_size = 1, 32, 2, 1\n",
        "    model = LSTM(input_size, hidden_size, num_layers, output_size, batch_size=b).to(device)\n",
        "    model.load_state_dict(torch.load(LSTM_PATH)['model'])\n",
        "    model.eval()\n",
        "    print('predicting...')\n",
        "    for (seq, target) in Dte:\n",
        "        target = list(chain.from_iterable(target.data.tolist()))\n",
        "        y.extend(target)\n",
        "        seq = seq.to(device)\n",
        "        seq_len = seq.shape[1]\n",
        "        seq = seq.view(model.batch_size, seq_len, 1)  # (5, 24, 1)\n",
        "        with torch.no_grad():\n",
        "            y_pred = model(seq)\n",
        "            y_pred = list(chain.from_iterable(y_pred.data.tolist()))\n",
        "            pred.extend(y_pred)\n",
        "\n",
        "    y, pred = np.array(y), np.array(pred)\n",
        "    y = (MAX - MIN) * y + MIN\n",
        "    pred = (MAX - MIN) * pred + MIN\n",
        "    print('accuracy:', get_mape(y, pred))\n",
        "    # plot\n",
        "    x = [i for i in range(1, 151)]\n",
        "    x_smooth = np.linspace(np.min(x), np.max(x), 600)\n",
        "    y_smooth = make_interp_spline(x, y[0:150])(x_smooth)\n",
        "    plt.plot(x_smooth, y_smooth, c='green', marker='*', ms=1, alpha=0.75, label='true')\n",
        "\n",
        "    y_smooth = make_interp_spline(x, pred[0:150])(x_smooth)\n",
        "    plt.plot(x_smooth, y_smooth, c='red', marker='o', ms=1, alpha=0.75, label='pred')\n",
        "    plt.grid(axis='y')\n",
        "    plt.legend()\n",
        "    plt.show()\n"
      ],
      "metadata": {
        "id": "3hwguRpapIRR"
      },
      "execution_count": 28,
      "outputs": []
    },
    {
      "cell_type": "code",
      "source": [
        "test(\"data.csv\", 6)"
      ],
      "metadata": {
        "colab": {
          "base_uri": "https://localhost:8080/",
          "height": 392
        },
        "id": "2e4sHFE0qoZA",
        "outputId": "5328995b-b5e2-46ad-cd64-a51cb14e7e38"
      },
      "execution_count": 29,
      "outputs": [
        {
          "output_type": "stream",
          "name": "stdout",
          "text": [
            "Data processing:\n"
          ]
        },
        {
          "output_type": "stream",
          "name": "stderr",
          "text": [
            "/usr/local/lib/python3.7/dist-packages/ipykernel_launcher.py:5: FutureWarning: Dropping of nuisance columns in DataFrame reductions (with 'numeric_only=None') is deprecated; in a future version this will raise TypeError.  Select only valid columns before calling the reduction.\n",
            "  \"\"\"\n"
          ]
        },
        {
          "output_type": "stream",
          "name": "stdout",
          "text": [
            "loading model...\n",
            "predicting...\n",
            "accuracy: 0.07257110117477293\n"
          ]
        },
        {
          "output_type": "display_data",
          "data": {
            "text/plain": [
              "<Figure size 432x288 with 1 Axes>"
            ],
            "image/png": "[encoded data removed]"
          },
          "metadata": {
            "needs_background": "light"
          }
        }
      ]
    }
  ]
}