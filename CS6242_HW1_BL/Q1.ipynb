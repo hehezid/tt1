{
 "cells": [
  {
   "cell_type": "code",
   "execution_count": 179,
   "metadata": {},
   "outputs": [],
   "source": [
    "import http.client\n",
    "import json\n",
    "import csv\n",
    "\n",
    "class Graph:\n",
    "\n",
    "    # Do not modify\n",
    "    def __init__(self, with_nodes_file=None, with_edges_file=None):\n",
    "        \"\"\"\n",
    "        option 1:  init as an empty graph and add nodes\n",
    "        option 2: init by specifying a path to nodes & edges files\n",
    "        \"\"\"\n",
    "        self.nodes = []\n",
    "        self.edges = []\n",
    "        if with_nodes_file and with_edges_file:\n",
    "            nodes_CSV = csv.reader(open(with_nodes_file))\n",
    "            nodes_CSV = list(nodes_CSV)[1:]\n",
    "            self.nodes = [(n[0],n[1]) for n in nodes_CSV]\n",
    "\n",
    "            edges_CSV = csv.reader(open(with_edges_file))\n",
    "            edges_CSV = list(edges_CSV)[1:]\n",
    "            self.edges = [(e[0],e[1]) for e in edges_CSV]\n",
    "\n",
    "\n",
    "    def add_node(self, id: str, name: str)->None:\n",
    "        \"\"\"\n",
    "        add a tuple (id, name) representing a node to self.nodes if it does not already exist\n",
    "        The graph should not contain any duplicate nodes\n",
    "        \"\"\"\n",
    "        name = name.replace(\",\",\" \")\n",
    "        if (id, name) not in self.nodes :\n",
    "            self.nodes.append((id,name))\n",
    "\n",
    "\n",
    "\n",
    "\n",
    "    def add_edge(self, source: str, target: str)->None:\n",
    "        \"\"\"\n",
    "        Add an edge between two nodes if it does not already exist.\n",
    "        An edge is represented by a tuple containing two strings: e.g.: ('source', 'target').\n",
    "        Where 'source' is the id of the source node and 'target' is the id of the target node\n",
    "        e.g., for two nodes with ids 'a' and 'b' respectively, add the tuple ('a', 'b') to self.edges\n",
    "        \"\"\"\n",
    "        if (source,target) not in self.edges:\n",
    "            if (target, source) not in self.edges:\n",
    "                self.edges.append((source,target))\n",
    "\n",
    "\n",
    "\n",
    "    def total_nodes(self)->int:\n",
    "        \"\"\"\n",
    "        Returns an integer value for the total number of nodes in the graph\n",
    "        \"\"\"\n",
    "\n",
    "        return len(self.nodes)\n",
    "\n",
    "\n",
    "    def total_edges(self)->int:\n",
    "        \"\"\"\n",
    "        Returns an integer value for the total number of edges in the graph\n",
    "        \"\"\"\n",
    "        return len(self.edges)\n",
    "\n",
    "\n",
    "    def max_degree_nodes(self)->dict:\n",
    "        \"\"\"\n",
    "        Return the node(s) with the highest degree\n",
    "        Return multiple nodes in the event of a tie\n",
    "        Format is a dict where the key is the node_id and the value is an integer for the node degree\n",
    "        e.g. {'a': 8}\n",
    "        or {'a': 22, 'b': 22}\n",
    "        \"\"\"\n",
    "        dic = {}\n",
    "        for source, target in self.edges:\n",
    "            if source not in dic and target not in dic:\n",
    "                dic[source] = 1    \n",
    "                dic[target] = 1\n",
    "            elif source in dic and target not in dic:\n",
    "                dic[source] += 1\n",
    "                dic[target] = 1\n",
    "            elif target in dic and source not in dic:\n",
    "                dic[target] += 1\n",
    "                dic[source] =1\n",
    "            elif target in dic and source in dic:\n",
    "                dic[target] +=1\n",
    "                dic[source] +=1\n",
    "\n",
    "        max_val = max(dic.values())\n",
    "        result = {}\n",
    "        for i in dic.keys():\n",
    "            if dic[i] == max_val:\n",
    "                if i not in result.keys():\n",
    "                    result[i] = max_val\n",
    "        return result\n",
    "\n",
    "\n",
    "\n",
    "    def print_nodes(self):\n",
    "        \"\"\"\n",
    "        No further implementation required\n",
    "        May be used for de-bugging if necessary\n",
    "        \"\"\"\n",
    "        print(self.nodes)\n",
    "\n",
    "\n",
    "    def print_edges(self):\n",
    "        \"\"\"\n",
    "        No further implementation required\n",
    "        May be used for de-bugging if necessary\n",
    "        \"\"\"\n",
    "        print(self.edges)\n",
    "\n",
    "\n",
    "    # Do not modify\n",
    "    def write_edges_file(self, path=\"edges.csv\")->None:\n",
    "        \"\"\"\n",
    "        write all edges out as .csv\n",
    "        :param path: string\n",
    "        :return: None\n",
    "        \"\"\"\n",
    "        edges_path = path\n",
    "        edges_file = open(edges_path, 'w')\n",
    "\n",
    "        edges_file.write(\"source\" + \",\" + \"target\" + \"\\n\")\n",
    "\n",
    "        for e in self.edges:\n",
    "            edges_file.write(e[0] + \",\" + e[1] + \"\\n\")\n",
    "\n",
    "        edges_file.close()\n",
    "        print(\"finished writing edges to csv\")\n",
    "\n",
    "\n",
    "    # Do not modify\n",
    "    def write_nodes_file(self, path=\"nodes.csv\")->None:\n",
    "        \"\"\"\n",
    "        write all nodes out as .csv\n",
    "        :param path: string\n",
    "        :return: None\n",
    "        \"\"\"\n",
    "        nodes_path = path\n",
    "        nodes_file = open(nodes_path, 'w')\n",
    "\n",
    "        nodes_file.write(\"id,name\" + \"\\n\")\n",
    "        for n in self.nodes:\n",
    "            nodes_file.write(n[0] + \",\" + n[1] + \"\\n\")\n",
    "        nodes_file.close()\n",
    "        print(\"finished writing nodes to csv\")\n",
    "\n"
   ]
  },
  {
   "cell_type": "code",
   "execution_count": 180,
   "metadata": {},
   "outputs": [],
   "source": [
    "#max degree \n",
    "def sum(nodes):\n",
    "    \n",
    "    dic = {}\n",
    "    for source, target in nodes:\n",
    "        if source not in dic and target not in dic:\n",
    "            dic[source] = 1\n",
    "            dic[target] = 1\n",
    "        elif source in dic and target not in dic:\n",
    "            dic[source] += 1\n",
    "            dic[target] =1\n",
    "        elif target in dic and source not in dic:\n",
    "            dic[target] += 1\n",
    "            dic[source] =1\n",
    "        elif target in dic and source in dic:\n",
    "            dic[target] +=1\n",
    "            dic[source] +=1\n",
    "    print(dic)        \n",
    "    max_val=max(dic.values())\n",
    "    result={}\n",
    "    for i in dic.keys():\n",
    "        if dic[i]==max_val:\n",
    "            if i not in result.keys():\n",
    "                result[i]=max_val\n",
    "    return result"
   ]
  },
  {
   "cell_type": "code",
   "execution_count": 181,
   "metadata": {},
   "outputs": [
    {
     "name": "stdout",
     "output_type": "stream",
     "text": [
      "{'a': 2, 'b': 2, 'c': 3, 'e': 1}\n"
     ]
    },
    {
     "data": {
      "text/plain": [
       "{'c': 3}"
      ]
     },
     "execution_count": 181,
     "metadata": {},
     "output_type": "execute_result"
    }
   ],
   "source": [
    "sum([('a','b'),('b','c'),('a','c'),('e','c')])"
   ]
  },
  {
   "cell_type": "code",
   "execution_count": 182,
   "metadata": {},
   "outputs": [],
   "source": [
    "#function 2"
   ]
  },
  {
   "cell_type": "code",
   "execution_count": 183,
   "metadata": {},
   "outputs": [],
   "source": [
    "class  TMDBAPIUtils:\n",
    "\n",
    "    # Do not modify\n",
    "    def __init__(self, api_key:str):\n",
    "        self.api_key=api_key\n",
    "\n",
    "\n",
    "    def get_movie_cast(self, movie_id:str, limit:int=None, exclude_ids:list=None) -> list:\n",
    "        \"\"\"\n",
    "        Get the movie cast for a given movie id, with optional parameters to exclude an cast member\n",
    "        from being returned and/or to limit the number of returned cast members\n",
    "        documentation url: https://developers.themoviedb.org/3/movies/get-movie-credits\n",
    "\n",
    "        :param integer movie_id: a movie_id\n",
    "        :param integer limit: number of returned cast members by their 'order' attribute\n",
    "            e.g., limit=5 will attempt to return the 5 cast members having 'order' attribute values between 0-4\n",
    "            If there are fewer cast members than the specified limit or the limit not specified, return all cast members\n",
    "        :param list exclude_ids: a list of ints containing ids (not cast_ids) of cast members  that should be excluded from the returned result\n",
    "            e.g., if exclude_ids are [353, 455] then exclude these from any result.\n",
    "        :rtype: list\n",
    "            return a list of dicts, one dict per cast member with the following structure:\n",
    "                [{'cast_id': '97909' # the id of the cast member\n",
    "                'character': 'John Doe' # the name of the character played\n",
    "                'credit_id': '52fe4249c3a36847f8012927' # id of the credit}, ... ]\n",
    "        Important: the exclude_ids processing should occur prior to limiting output.\n",
    "        \"\"\"\n",
    "\n",
    "\n",
    "        base_url = 'api.themoviedb.org'\n",
    "        connection = http.client.HTTPConnection(base_url)\n",
    "        connection.request('GET','/3/movie/{}/credits?api_key={}'.format(movie_id,self.api_key))\n",
    "        r1 = connection.getresponse()\n",
    "\n",
    "        dat = r1.read().decode()\n",
    "        data = json.loads(dat)\n",
    "        if 'cast' in data.keys():\n",
    "            cast = data['cast']\n",
    "        else:\n",
    "            cast = []\n",
    "\n",
    "        # return the exclude_ids\n",
    "        result = data['cast']\n",
    "        if exclude_ids != None:\n",
    "            for item in exclude_ids:\n",
    "                for i in result:\n",
    "                    if item == i['id']:\n",
    "                        result.remove(i)\n",
    "                        \n",
    "        # return limit data\n",
    "        lim_df = []\n",
    "        if limit != None and limit <= len(result):\n",
    "            for item in result:\n",
    "                if item['order'] < limit:\n",
    "                    lim_df.append(item)\n",
    "        else:\n",
    "            lim_df = result\n",
    "\n",
    "\n",
    "        return lim_df\n",
    "\n",
    "\n",
    "    def get_movie_credits_for_person(self, person_id:str, vote_avg_threshold:float=None)->list:\n",
    "        \"\"\"\n",
    "        Using the TMDb API, get the movie credits for a person serving in a cast role\n",
    "        documentation url: https://developers.themoviedb.org/3/people/get-person-movie-credits\n",
    "\n",
    "        :param string person_id: the id of a person\n",
    "        :param vote_avg_threshold: optional parameter to return the movie credit if it is >=\n",
    "            the specified threshold.\n",
    "            e.g., if the vote_avg_threshold is 5.0, then only return credits with a vote_avg >= 5.0\n",
    "        :rtype: list\n",
    "            return a list of dicts, one dict per movie credit with the following structure:\n",
    "                [{'id': '97909' # the id of the movie credit\n",
    "                'title': 'Long, Stock and Two Smoking Barrels' # the title (not original title) of the credit\n",
    "                'vote_avg': 5.0 # the float value of the vote average value for the credit}, ... ]\n",
    "        \"\"\"\n",
    "\n",
    "        base_url = 'api.themoviedb.org'\n",
    "        connection = http.client.HTTPConnection(base_url)\n",
    "        connection.request('GET', '/3/person/{}/movie_credits?api_key={}&language=en-US'.format(person_id, self.api_key))\n",
    "        r1 = connection.getresponse()\n",
    "        dat = r1.read().decode()\n",
    "        data = json.loads(dat)\n",
    "        if 'cast' in data.keys():\n",
    "            cast = data['cast']\n",
    "        else:\n",
    "            cast = []\n",
    "        \n",
    "        result = []\n",
    "        if vote_avg_threshold == None:\n",
    "            result = cast\n",
    "        else:\n",
    "            for item in cast:\n",
    "                if item['vote_average'] >= vote_avg_threshold:\n",
    "                    result.append(item)\n",
    "\n",
    "\n",
    "        return  result\n"
   ]
  },
  {
   "cell_type": "code",
   "execution_count": 184,
   "metadata": {},
   "outputs": [],
   "source": [
    "#function 2.1"
   ]
  },
  {
   "cell_type": "code",
   "execution_count": 185,
   "metadata": {},
   "outputs": [],
   "source": [
    "movie_id=5\n",
    "api_key = '1046609b4211aa3a0803e007440f9f8f'\n",
    "limit=5\n",
    "exclude_ids=[3129]\n",
    "\n",
    "re=TMDBAPIUtils(api_key).get_movie_cast(movie_id,limit)\n",
    "re2=TMDBAPIUtils(api_key).get_movie_cast(movie_id,limit,exclude_ids)"
   ]
  },
  {
   "cell_type": "code",
   "execution_count": 186,
   "metadata": {},
   "outputs": [
    {
     "data": {
      "text/plain": [
       "4"
      ]
     },
     "execution_count": 186,
     "metadata": {},
     "output_type": "execute_result"
    }
   ],
   "source": [
    " len(re2)"
   ]
  },
  {
   "cell_type": "code",
   "execution_count": 199,
   "metadata": {},
   "outputs": [
    {
     "name": "stdout",
     "output_type": "stream",
     "text": [
      "0\n",
      "3129\n",
      "1\n",
      "3130\n",
      "2\n",
      "3131\n",
      "3\n",
      "3124\n",
      "4\n",
      "2555\n"
     ]
    }
   ],
   "source": [
    "for i in re:\n",
    "    print(i['order'])\n",
    "    print(i['id'])"
   ]
  },
  {
   "cell_type": "code",
   "execution_count": 200,
   "metadata": {},
   "outputs": [
    {
     "name": "stdout",
     "output_type": "stream",
     "text": [
      "3130\n",
      "3131\n",
      "3124\n",
      "2555\n"
     ]
    }
   ],
   "source": [
    "for i in re2:\n",
    "    print(i['id'])\n"
   ]
  },
  {
   "cell_type": "code",
   "execution_count": null,
   "metadata": {},
   "outputs": [],
   "source": [
    "# function 2.2"
   ]
  },
  {
   "cell_type": "code",
   "execution_count": 285,
   "metadata": {},
   "outputs": [
    {
     "name": "stdout",
     "output_type": "stream",
     "text": [
      "dict_keys(['cast', 'crew', 'id'])\n",
      "<class 'list'>\n",
      "dict_keys(['cast', 'crew', 'id'])\n",
      "<class 'list'>\n"
     ]
    }
   ],
   "source": [
    "person_id=5064\n",
    "api_key = '1046609b4211aa3a0803e007440f9f8f'\n",
    "vote_avg_threshold = 8.0\n",
    "da=TMDBAPIUtils(api_key).get_movie_credits_for_person(person_id, vote_avg_threshold)\n",
    "da2=TMDBAPIUtils(api_key).get_movie_credits_for_person(person_id)"
   ]
  },
  {
   "cell_type": "code",
   "execution_count": 252,
   "metadata": {},
   "outputs": [
    {
     "name": "stdout",
     "output_type": "stream",
     "text": [
      "12\n",
      "121\n"
     ]
    }
   ],
   "source": [
    "print(len(da))\n",
    "#print(len(da2))"
   ]
  },
  {
   "cell_type": "code",
   "execution_count": 254,
   "metadata": {},
   "outputs": [],
   "source": [
    "id_ls=[]\n",
    "for i in da:\n",
    "    id_ls.append(i['id'])\n"
   ]
  },
  {
   "cell_type": "code",
   "execution_count": null,
   "metadata": {},
   "outputs": [],
   "source": [
    "# function 3"
   ]
  },
  {
   "cell_type": "code",
   "execution_count": 5,
   "metadata": {},
   "outputs": [
    {
     "ename": "SyntaxError",
     "evalue": "invalid syntax (<ipython-input-5-8fe8f7d3a652>, line 85)",
     "output_type": "error",
     "traceback": [
      "\u001b[0;36m  File \u001b[0;32m\"<ipython-input-5-8fe8f7d3a652>\"\u001b[0;36m, line \u001b[0;32m85\u001b[0m\n\u001b[0;31m    if dat1 !=[]\u001b[0m\n\u001b[0m                ^\u001b[0m\n\u001b[0;31mSyntaxError\u001b[0m\u001b[0;31m:\u001b[0m invalid syntax\n"
     ]
    }
   ],
   "source": [
    "#############################################################################################################################\n",
    "#\n",
    "# BUILDING YOUR GRAPH\n",
    "#\n",
    "# Working with the API:  See use of http.request: https://docs.python.org/3/library/http.client.html#examples\n",
    "#\n",
    "# Using TMDb's API, build a co-actor network for the actor's/actress' highest rated movies\n",
    "# In this graph, each node represents an actor\n",
    "# An edge between any two nodes indicates that the two actors/actresses acted in a movie together\n",
    "# i.e., they share a movie credit.\n",
    "# e.g., An edge between Samuel L. Jackson and Robert Downey Jr. indicates that they have acted in one\n",
    "# or more movies together.\n",
    "#\n",
    "# For this assignment, we are interested in a co-actor network of highly rated movies; specifically,\n",
    "# we only want the top 3 co-actors in each movie credit of an actor having a vote average >= 8.0.\n",
    "#\n",
    "# You will need to add extra functions or code to accomplish this.  We will not directly call or explicitly grade your\n",
    "# algorithm. We will instead measure the correctness of your output by evaluating the data in your argo-lite graph\n",
    "# snapshot.\n",
    "#\n",
    "# Build your co-actor graph on the actress 'Meryl Streep' w/ person_id 5064.\n",
    "# Initialize a Graph object with a single node representing Meryl Streep\n",
    "# Find all of Meryl Streep's movie credits that have a vote average >= 8.0\n",
    "#\n",
    "# 1. For each movie credit:\n",
    "#   get the movie cast members having an 'order' value between 0-2 (these are the co-actors)\n",
    "#   for each movie cast member:\n",
    "#       using graph.add_node(), add the movie cast member as a node (keep track of all new nodes added to the graph)\n",
    "#       using graph.add_edge(), add an edge between the Meryl Streep (actress) node\n",
    "#       and each new node (co-actor/co-actress)\n",
    "#\n",
    "#\n",
    "# Using the nodes added in the first iteration (this excludes the original node of Meryl Streep!)\n",
    "#\n",
    "# 2. For each node (actor / actress) added in the previous iteration:\n",
    "#   get the movie credits for the actor that have a vote average >= 8.0\n",
    "#   for each movie credit:\n",
    "#       try to get the 3 movie cast members having an 'order' value between 0-2\n",
    "#       for each movie cast member:\n",
    "#           if the node doesn't already exist:\n",
    "#               add the node to the graph (track all new nodes added to the graph)\n",
    "#               if the edge does not exist:\n",
    "#                   add an edge between the node (actor) and the new node (co-actor/co-actress)\n",
    "#\n",
    "#\n",
    "# - Repeat the steps from # 2. until you have iterated 3 times to build an appropriately sized graph.\n",
    "# - Your graph should not have any duplicate edges or nodes\n",
    "# - Write out your finished graph as a nodes file and an edges file using\n",
    "#   graph.write_edges_file()\n",
    "#   graph.write_nodes_file()\n",
    "#\n",
    "# Exception handling and best practices\n",
    "# - You should use the param 'language=en-US' in all API calls to avoid encoding issues when writing data to file.\n",
    "# - If the actor name has a comma char ',' it should be removed to prevent extra columns from being inserted into the .csv file\n",
    "# - Some movie_credits may actually be collections and do not return cast data. Handle this situation by skipping these instances.\n",
    "# - While The TMDb API does not have a rate-limiting scheme in place, consider that making hundreds / thousands of calls\n",
    "#   can occasionally result in timeout errors. It may be necessary to insert periodic sleeps when you are building your graph.\n",
    "\n",
    "\n",
    "def return_name()->str:\n",
    "    \"\"\"\n",
    "    Return a string containing your GT Username\n",
    "    e.g., gburdell3\n",
    "    Do not return your 9 digit GTId\n",
    "    \"\"\"\n",
    "    return 'bli418'\n",
    "\n",
    "\n",
    "def return_argo_lite_snapshot()->str:\n",
    "    \"\"\"\n",
    "    Return the shared URL of your published graph in Argo-Lite\n",
    "    \"\"\"\n",
    "    return NotImplemented\n",
    "\n",
    "\n",
    "if __name__ == \"__main__\":\n",
    "\n",
    "    graph = Graph()\n",
    "    graph.add_node(id='5064', name='Meryl Streep') # person id\n",
    "    tmdb_api_utils = TMDBAPIUtils(api_key='1046609b4211aa3a0803e007440f9f8f')\n",
    "    \n",
    "    def new_node_step1(person_id:int,vote_avg:float,limit:int,exclude_ids:list):\n",
    "        # the id in get_movie_credits_for_person() is movie_id\n",
    "        dat1=tmdb_api_utils.get_movie_credits_for_person(person_id=person_id, vote_avg_threshold=vote_avg)\n",
    "        if dat1 !=[]:\n",
    "            for i in dat1:\n",
    "                # the id in get_movie_cast() is person_id\n",
    "                dat = tmdb_api_utils.get_movie_cast(movie_id=i['id'], limit=limit, exclude_ids=exclude_ids) \n",
    "                for item in dat:\n",
    "                    graph.add_node(str(item['id']), name=item['name']) \n",
    "                    graph.add_edge(source=str(person_id),target=str(item['id']))\n",
    "     \n",
    "        \n",
    "    \n",
    "    dat1=tmdb_api_utils.get_movie_credits_for_person(person_id=5064, vote_avg_threshold=8.0) \n",
    "    for i in dat1:\n",
    "        dat = tmdb_api_utils.get_movie_cast(movie_id=i['id'], limit=3, exclude_ids=[5064]) # the id in get_movie_credits_for_person() is movie_id\n",
    "        for item in dat:\n",
    "            graph.add_node(str(item['id']), name=item['name']) # the id in get_movie_cast() is person_id\n",
    "            graph.add_edge(source='5064',target=str(item['id']))\n",
    "            \n",
    "                        \n",
    "            \n",
    "            \n",
    "#     # 2\n",
    "    \n",
    "#     for i in range(4):\n",
    "#          if graph.nodes[i][0]!='5064':\n",
    "#                 df1=tmdb_api_utils.get_movie_credits_for_person(person_id=int(graph.nodes[i][0]), vote_avg_threshold=8.0)\n",
    "#                 for k in df1:\n",
    "#                     co_actor2=tmdb_api_utils.get_movie_cast(movie_id=k['id'], limit=3, exclude_ids=[int(graph.nodes[i][0])])\n",
    "#                     for m in co_actor2:\n",
    "#                         graph.add_node(id=str(m['id']), name=m['name'])\n",
    "#                         graph.add_edge(source=graph.nodes[i][0],target=str(m['id']))        \n",
    "        \n",
    "       \n",
    "#     ite=0\n",
    "#     id_list=['5064'] \n",
    "#     while ite < 2: \n",
    "#         for ids,names in graph.nodes:\n",
    "#             if ids not in id_list:\n",
    "#                 df1=tmdb_api_utils.get_movie_credits_for_person(person_id=int(ids), vote_avg_threshold=8.0)\n",
    "#                 for k in df1:\n",
    "#                     if k['id'] not in [i for i,name in graph.nodes]:\n",
    "#                         co_actor2=tmdb_api_utils.get_movie_cast(movie_id=k['id'], limit=3, exclude_ids=[int(ids)])\n",
    "#                         for m in co_actor2:\n",
    "#                             graph.add_node(id=str(m['id']), name=m['name'])\n",
    "#                             graph.add_edge(source=ids,target=str(m['id']))\n",
    "#                 id_list.append(ids) \n",
    "#             else:\n",
    "#                 pass\n",
    "                            \n",
    "#         ite +=1            \n",
    "  \n",
    "\n",
    "    # call functions or place code here to build graph (graph building code not graded)\n",
    "\n",
    "    #graph.write_edges_file()\n",
    "    #graph.write_nodes_file()"
   ]
  },
  {
   "cell_type": "code",
   "execution_count": 187,
   "metadata": {},
   "outputs": [],
   "source": [
    "\n",
    "def return_name()->str:\n",
    "    \"\"\"\n",
    "    Return a string containing your GT Username\n",
    "    e.g., gburdell3\n",
    "    Do not return your 9 digit GTId\n",
    "    \"\"\"\n",
    "    return 'bli418'\n",
    "\n",
    "\n",
    "def return_argo_lite_snapshot()->str:\n",
    "    \"\"\"\n",
    "    Return the shared URL of your published graph in Argo-Lite\n",
    "    \"\"\"\n",
    "    return NotImplemented\n",
    "\n",
    "\n",
    "if __name__ == \"__main__\":\n",
    "\n",
    "    graph = Graph()\n",
    "    graph.add_node(id='5064', name='Meryl Streep') # person id\n",
    "    tmdb_api_utils = TMDBAPIUtils(api_key='1046609b4211aa3a0803e007440f9f8f')\n",
    "    \n",
    "#     def new_node_step1(person_id:int,vote_avg:float,limit:int,exclude_ids:list):\n",
    "#         # the id in get_movie_credits_for_person() is movie_id\n",
    "#         new_id=[]\n",
    "#         dat1=tmdb_api_utils.get_movie_credits_for_person(person_id=person_id, vote_avg_threshold=vote_avg)\n",
    "#         if dat1 !=[]:\n",
    "#             for i in dat1:\n",
    "#                 # the id in get_movie_cast() is person_id\n",
    "#                 dat = tmdb_api_utils.get_movie_cast(movie_id=i['id'], limit=limit, exclude_ids=exclude_ids) \n",
    "#                 if dat !=[]:\n",
    "#                     for item in dat:\n",
    "#                         if item['id'] not in new_id:\n",
    "#                             graph.add_node(str(item['id']), name=item['name']) \n",
    "#                             graph.add_edge(source=str(person_id),target=str(item['id']))\n",
    "#                             new_id.append(item['id'])\n",
    "                \n",
    "#         return new_id\n",
    "      \n",
    "        \n",
    "    def new_node_step1(person_id:int,vote_avg:float,limit:int):\n",
    "        # the id in get_movie_credits_for_person() is movie_id\n",
    "        new_id=[]\n",
    "        dat1=tmdb_api_utils.get_movie_credits_for_person(person_id=person_id, vote_avg_threshold=vote_avg)\n",
    "        if dat1 !=[]:\n",
    "            for i in dat1:\n",
    "                # the id in get_movie_cast() is person_id\n",
    "                dat = tmdb_api_utils.get_movie_cast(movie_id=i['id'], limit=limit, exclude_ids=[person_id]) \n",
    "                if dat !=[]:\n",
    "                    for item in dat:\n",
    "                        if item['id'] not in new_id:\n",
    "                            graph.add_node(str(item['id']), name=item['name']) \n",
    "                            graph.add_edge(source=str(person_id),target=str(item['id']))\n",
    "                            new_id.append(item['id'])\n",
    "                \n",
    "        return new_id\n",
    "    \n",
    "    \n",
    "    def new_nodes_step2(person_id:int,vote_avg:float,limit:int):\n",
    "        new_id=new_node_step1(person_id,vote_avg,limit)\n",
    "        print(len(new_id))\n",
    "        print(len(graph.nodes))\n",
    "        print(graph.max_degree_nodes())\n",
    "        #2 iter 1\n",
    "        big_new=[]\n",
    "        for item in new_id:\n",
    "            big_new +=new_node_step1(item,8.0,3)\n",
    "        print(len(big_new))\n",
    "        print(len(graph.nodes))\n",
    "        print(graph.max_degree_nodes())\n",
    "        #2 iter 2\n",
    "        big_new2=[]\n",
    "        for a in big_new:\n",
    "            big_new2 +=new_node_step1(a,8.0,3)\n",
    "        print(len(big_new2))\n",
    "        print(len(graph.nodes))\n",
    "        print(graph.max_degree_nodes())\n",
    "        # 2 iter3\n",
    "#         big_new3=[]\n",
    "#         for b in big_new2:\n",
    "#             big_new3 +=new_node_step1(b,8.0,3,big_new2+big_new+new_id)   \n",
    "#         print(len(big_new3)) \n",
    "#         print(len(graph.nodes))\n",
    "        \n",
    "        \n",
    "        \n",
    "        \n",
    "        \n",
    "    def new_nodes_step3(person_id:int,vote_avg:float,limit:int,exclude_ids:list):\n",
    "        new_id=new_node_step1(person_id,vote_avg,limit,exclude_ids)\n",
    "        print(len(new_id))\n",
    "        print(len(graph.nodes))\n",
    "        #2 iter 1\n",
    "        big_new=[]\n",
    "        for item in new_id:\n",
    "            big_new +=new_node_step1(item,8.0,3,[item])\n",
    "        print(len(big_new))\n",
    "        print(len(graph.nodes))\n",
    "        #2 iter 2\n",
    "        big_new2=[]\n",
    "        for a in big_new:\n",
    "            big_new2 +=new_node_step1(a,8.0,3,[a])\n",
    "        print(len(big_new2))\n",
    "        print(len(graph.nodes))\n",
    "        # 2 iter3\n",
    "        big_new3=[]\n",
    "        for b in big_new2:\n",
    "            big_new3 +=new_node_step1(b,8.0,3,[b])   \n",
    "        print(len(big_new3))\n",
    "        print(len(graph.nodes))\n",
    "        \n",
    "        \n",
    "            \n",
    "            \n",
    "                \n",
    "       \n",
    "\n",
    "\n",
    "    #graph.write_edges_file()\n",
    "    #graph.write_nodes_file()"
   ]
  },
  {
   "cell_type": "code",
   "execution_count": 189,
   "metadata": {},
   "outputs": [
    {
     "name": "stdout",
     "output_type": "stream",
     "text": [
      "20\n",
      "21\n",
      "{'5064': 20}\n",
      "290\n",
      "226\n",
      "{'2231': 36}\n",
      "2757\n",
      "1070\n",
      "{'1032': 40, '116341': 40}\n"
     ]
    }
   ],
   "source": [
    "# step 1\n",
    "#new_id=new_node_step1(5064,8.0,3)\n",
    "new_nodes_step2(5064,8.0,3)\n",
    "#new_nodes_step3(5064,8.0,3,[5064])    \n",
    "    #step 2 \n",
    "    \n",
    "#     ls=['5064']\n",
    "#     for a in range(1):\n",
    "#         for ids,name in graph.nodes:\n",
    "#             if ids not in ls:\n",
    "#                 new_node_step1(int(ids),8.0,3,[int(ids)])\n",
    "#                 ls.append(ids)"
   ]
  },
  {
   "cell_type": "code",
   "execution_count": 127,
   "metadata": {},
   "outputs": [
    {
     "name": "stdout",
     "output_type": "stream",
     "text": [
      "finished writing edges to csv\n",
      "finished writing nodes to csv\n"
     ]
    }
   ],
   "source": [
    "graph.write_edges_file()\n",
    "graph.write_nodes_file()"
   ]
  },
  {
   "cell_type": "code",
   "execution_count": 165,
   "metadata": {},
   "outputs": [
    {
     "ename": "TypeError",
     "evalue": "object of type 'NoneType' has no len()",
     "output_type": "error",
     "traceback": [
      "\u001b[0;31m---------------------------------------------------------------------------\u001b[0m",
      "\u001b[0;31mTypeError\u001b[0m                                 Traceback (most recent call last)",
      "\u001b[0;32m<ipython-input-165-575466c62a7f>\u001b[0m in \u001b[0;36m<module>\u001b[0;34m\u001b[0m\n\u001b[0;32m----> 1\u001b[0;31m \u001b[0mlen\u001b[0m\u001b[0;34m(\u001b[0m\u001b[0mnew_id2\u001b[0m\u001b[0;34m)\u001b[0m\u001b[0;34m\u001b[0m\u001b[0;34m\u001b[0m\u001b[0m\n\u001b[0m",
      "\u001b[0;31mTypeError\u001b[0m: object of type 'NoneType' has no len()"
     ]
    }
   ],
   "source": [
    "len(new_id2)"
   ]
  },
  {
   "cell_type": "code",
   "execution_count": 166,
   "metadata": {},
   "outputs": [
    {
     "name": "stdout",
     "output_type": "stream",
     "text": [
      "1070\n",
      "1683\n"
     ]
    }
   ],
   "source": [
    "print(graph.total_nodes())\n",
    "print(graph.total_edges())"
   ]
  },
  {
   "cell_type": "code",
   "execution_count": 83,
   "metadata": {},
   "outputs": [],
   "source": [
    "#graph.edges"
   ]
  },
  {
   "cell_type": "code",
   "execution_count": 190,
   "metadata": {},
   "outputs": [
    {
     "data": {
      "text/plain": [
       "{'1032': 40, '116341': 40}"
      ]
     },
     "execution_count": 190,
     "metadata": {},
     "output_type": "execute_result"
    }
   ],
   "source": [
    "ma=graph.max_degree_nodes()\n",
    "ma"
   ]
  },
  {
   "cell_type": "code",
   "execution_count": 318,
   "metadata": {},
   "outputs": [],
   "source": [
    "#graph.edges\n"
   ]
  }
 ],
 "metadata": {
  "kernelspec": {
   "display_name": "Python 3",
   "language": "python",
   "name": "python3"
  },
  "language_info": {
   "codemirror_mode": {
    "name": "ipython",
    "version": 3
   },
   "file_extension": ".py",
   "mimetype": "text/x-python",
   "name": "python",
   "nbconvert_exporter": "python",
   "pygments_lexer": "ipython3",
   "version": "3.7.2"
  }
 },
 "nbformat": 4,
 "nbformat_minor": 4
}
