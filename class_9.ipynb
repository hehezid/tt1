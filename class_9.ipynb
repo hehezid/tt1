{
  "cells": [
    {
      "cell_type": "code",
      "execution_count": 1,
      "metadata": {
        "_cell_guid": "b1076dfc-b9ad-4769-8c92-a6c4dae69d19",
        "_uuid": "8f2839f25d086af736a60e9eeb907d3b93b6e0e5",
        "execution": {
          "iopub.execute_input": "2022-05-17T06:28:38.023443Z",
          "iopub.status.busy": "2022-05-17T06:28:38.023135Z",
          "iopub.status.idle": "2022-05-17T06:28:38.029317Z",
          "shell.execute_reply": "2022-05-17T06:28:38.028538Z",
          "shell.execute_reply.started": "2022-05-17T06:28:38.023407Z"
        },
        "pycharm": {
          "name": "#%%\n"
        },
        "id": "78h3EitlEpzH"
      },
      "outputs": [],
      "source": [
        "import numpy as np\n",
        "import pandas as pd\n",
        "from PIL import Image\n",
        "import torch\n",
        "from torch import nn\n",
        "from torch.utils.data import random_split,Dataset,DataLoader\n",
        "from torchvision import models,datasets,transforms\n",
        "from sklearn.metrics import f1_score\n",
        "from tqdm import tqdm\n",
        "import warnings \n",
        "import time\n",
        "warnings.filterwarnings(\"ignore\")"
      ]
    },
    {
      "cell_type": "code",
      "source": [
        "from google.colab import drive\n",
        "drive.mount('/content/drive')"
      ],
      "metadata": {
        "colab": {
          "base_uri": "https://localhost:8080/"
        },
        "id": "pHoy5pQKFGRz",
        "outputId": "26cc9c1e-2206-41cf-cb7c-58ce704e9efd"
      },
      "execution_count": 2,
      "outputs": [
        {
          "output_type": "stream",
          "name": "stdout",
          "text": [
            "Mounted at /content/drive\n"
          ]
        }
      ]
    },
    {
      "cell_type": "code",
      "execution_count": 10,
      "metadata": {
        "execution": {
          "iopub.execute_input": "2022-05-17T06:28:38.051414Z",
          "iopub.status.busy": "2022-05-17T06:28:38.050812Z",
          "iopub.status.idle": "2022-05-17T06:28:38.05658Z",
          "shell.execute_reply": "2022-05-17T06:28:38.055822Z",
          "shell.execute_reply.started": "2022-05-17T06:28:38.051377Z"
        },
        "pycharm": {
          "name": "#%%\n"
        },
        "id": "9DhNwcgyEpzL"
      },
      "outputs": [],
      "source": [
        "#data dir.\n",
        "data_root_dir =\"/content/drive/MyDrive/multicalss_data/data/dataset/data/\"\n",
        "label_root_dir =  \"/content/drive/MyDrive/multicalss_data/data/dataset/train.csv\"\n",
        "test_root_dir =  \"/content/drive/MyDrive/multicalss_data/data/dataset/test.csv\""
      ]
    },
    {
      "cell_type": "code",
      "source": [
        "test_root_dir"
      ],
      "metadata": {
        "colab": {
          "base_uri": "https://localhost:8080/",
          "height": 35
        },
        "id": "GkW_HCl0JDSg",
        "outputId": "9d0103b1-1a91-4c27-f944-21c8824520aa"
      },
      "execution_count": 11,
      "outputs": [
        {
          "output_type": "execute_result",
          "data": {
            "text/plain": [
              "'/content/drive/MyDrive/multicalss_data/data/dataset/test.csv'"
            ],
            "application/vnd.google.colaboratory.intrinsic+json": {
              "type": "string"
            }
          },
          "metadata": {},
          "execution_count": 11
        }
      ]
    },
    {
      "cell_type": "code",
      "execution_count": 6,
      "metadata": {
        "execution": {
          "iopub.execute_input": "2022-05-17T06:28:38.061606Z",
          "iopub.status.busy": "2022-05-17T06:28:38.061383Z",
          "iopub.status.idle": "2022-05-17T06:28:38.067901Z",
          "shell.execute_reply": "2022-05-17T06:28:38.066434Z",
          "shell.execute_reply.started": "2022-05-17T06:28:38.061579Z"
        },
        "pycharm": {
          "name": "#%%\n"
        },
        "id": "c9pmkTW7EpzL"
      },
      "outputs": [],
      "source": [
        "# Hyperparameters.\n",
        "N_classes =20\n",
        "learning_rate = 0.001\n",
        "epochs = 1\n",
        "if torch.cuda.is_available():\n",
        "    device = torch.device(\"cuda\")\n",
        "else:\n",
        "    device = torch.device(\"cpu\")"
      ]
    },
    {
      "cell_type": "code",
      "source": [
        "torch.cuda.is_available()"
      ],
      "metadata": {
        "colab": {
          "base_uri": "https://localhost:8080/"
        },
        "id": "kynZAzUuIYDa",
        "outputId": "69aab11a-a29f-4598-8c42-c0a4a3e68e93"
      },
      "execution_count": 7,
      "outputs": [
        {
          "output_type": "execute_result",
          "data": {
            "text/plain": [
              "True"
            ]
          },
          "metadata": {},
          "execution_count": 7
        }
      ]
    },
    {
      "cell_type": "code",
      "execution_count": null,
      "metadata": {
        "execution": {
          "iopub.execute_input": "2022-05-17T06:28:38.120643Z",
          "iopub.status.busy": "2022-05-17T06:28:38.120438Z",
          "iopub.status.idle": "2022-05-17T06:28:41.107733Z",
          "shell.execute_reply": "2022-05-17T06:28:41.105836Z",
          "shell.execute_reply.started": "2022-05-17T06:28:38.120617Z"
        },
        "pycharm": {
          "name": "#%%\n"
        },
        "colab": {
          "base_uri": "https://localhost:8080/"
        },
        "id": "NITv-masEpzM",
        "outputId": "672e434b-120e-44c7-9d4f-6b0edbe7d7ca"
      },
      "outputs": [
        {
          "output_type": "stream",
          "name": "stderr",
          "text": [
            "b'Skipping line 9086: expected 3 fields, saw 4\\nSkipping line 9510: expected 3 fields, saw 4\\nSkipping line 18114: expected 3 fields, saw 4\\nSkipping line 27169: expected 3 fields, saw 4\\n'\n",
            "b'Skipping line 6891: expected 2 fields, saw 3\\n'\n"
          ]
        }
      ],
      "source": [
        "#Label pre-processing\n",
        "train_csv=pd.read_csv(label_root_dir,error_bad_lines=False)\n",
        "labels=pd.DataFrame(np.zeros((len(train_csv),20), dtype=np.int), columns=np.arange(20))\n",
        "for i in range(train_csv.shape[0]):\n",
        "    data=list(map(int, train_csv['Labels'][i].split(\" \")))\n",
        "    for j in data:\n",
        "        labels.iloc[i,j] = 1\n",
        "train_set = pd.concat([train_csv['ImageID'], train_csv['Caption'], labels], axis=1)\n",
        "\n",
        "test_csv=pd.read_csv(test_root_dir, error_bad_lines=False)\n",
        "test_csv1 = test_csv.iloc[:6889,:]\n",
        "#There is an error point here, special treatment\n",
        "test_csv1 = test_csv1.append({'ImageID':'36889.jpg','Caption':''},ignore_index=True)\n",
        "test_csv2 = test_csv.iloc[6889:,:]\n",
        "test_csv = pd.concat([test_csv1,test_csv2],ignore_index=True)\n",
        "labels_test=pd.DataFrame(np.zeros((len(test_csv),20), dtype=np.int), columns=np.arange(20))\n",
        "test_set = pd.concat([test_csv['ImageID'], test_csv['Caption'], labels_test], axis=1)"
      ]
    },
    {
      "cell_type": "code",
      "execution_count": null,
      "metadata": {
        "execution": {
          "iopub.execute_input": "2022-05-17T06:28:41.11106Z",
          "iopub.status.busy": "2022-05-17T06:28:41.109678Z",
          "iopub.status.idle": "2022-05-17T06:28:41.127529Z",
          "shell.execute_reply": "2022-05-17T06:28:41.126634Z",
          "shell.execute_reply.started": "2022-05-17T06:28:41.111015Z"
        },
        "pycharm": {
          "name": "#%%\n"
        },
        "id": "k2gof_EoEpzN"
      },
      "outputs": [],
      "source": [
        "#读取图片\n",
        "class ImageDataset(Dataset):\n",
        "    def __init__(self, data_root_dir, csv_file_label,test=0):\n",
        "        self.data_root_dir = data_root_dir\n",
        "        self.csv_file_label = csv_file_label\n",
        "        if test==0:\n",
        "            self.transforms = transforms.Compose([ \n",
        "                              transforms.ColorJitter(0.2,0.2,0.2,0.2), # Randomly change the brightness, contrast and saturation of the picture.\n",
        "                              transforms.GaussianBlur(kernel_size=(5, 11),sigma=(5, 10.0)), # Gaussian blur.\n",
        "                              transforms.RandomHorizontalFlip(p=0.5), # Flip an image horizontally.\n",
        "                              transforms.RandomVerticalFlip(p=0.5), # Flip the image vertically.\n",
        "                              transforms.Resize((224,224)) , \n",
        "                              transforms.ToTensor(),\n",
        "                              transforms.Normalize([0.423, 0.424, 0.426], [0.190, 0.190, 0.191])])\n",
        "        else:\n",
        "             self.transforms = transforms.Compose([\n",
        "                              transforms.Resize((224,224)) , \n",
        "                              transforms.ToTensor(),\n",
        "                              transforms.Normalize([0.423, 0.424, 0.426], [0.190, 0.190, 0.191])])           \n",
        "        \n",
        "    def __len__(self):\n",
        "        return len(self.csv_file_label)\n",
        "    \n",
        "    def __getitem__(self, i):\n",
        "        image_dir = self.data_root_dir + self.csv_file_label.iloc[i].ImageID\n",
        "        image = Image.open(image_dir).convert(\"RGB\")\n",
        "        image = self.transforms(image)\n",
        "        label = self.csv_file_label.iloc[i][2:].tolist()\n",
        "        label = torch.tensor(label, dtype=torch.float32)\n",
        "        caption = self.csv_file_label.iloc[i]['Caption']\n",
        "        return image, label, caption\n",
        "        #return image, label\n",
        "\n",
        "class ImageDataloader():\n",
        "    def __init__(self, data_root_dir, csv_file_label,test=0):\n",
        "        if test==0:\n",
        "            train_percentage = 0.99\n",
        "            image_dataset = ImageDataset(data_root_dir, csv_file_label,test)\n",
        "            dataset_len = len(image_dataset)\n",
        "            self.train_set, self.valid_set = random_split(image_dataset, [int(dataset_len*train_percentage), (dataset_len-int(dataset_len*train_percentage))])\n",
        "        else:\n",
        "            image_dataset = ImageDataset(data_root_dir, csv_file_label,test)\n",
        "            dataset_len = len(image_dataset)\n",
        "            self.test_set = image_dataset\n",
        "            \n",
        "    def make_loader(self, batch_size,test=0):\n",
        "        if test==0:\n",
        "            return DataLoader(self.train_set, shuffle=True, batch_size=batch_size,num_workers=1,prefetch_factor=batch_size*2), DataLoader(self.valid_set, shuffle=True, batch_size=batch_size,num_workers=1,prefetch_factor=batch_size*2)\n",
        "        else:\n",
        "            return DataLoader(self.test_set, shuffle=False, batch_size=batch_size,num_workers=1,prefetch_factor=batch_size*2)"
      ]
    },
    {
      "cell_type": "code",
      "source": [
        "train_set.iloc[0][\"Caption\"]"
      ],
      "metadata": {
        "colab": {
          "base_uri": "https://localhost:8080/",
          "height": 35
        },
        "id": "_AnoYbfVWhT4",
        "outputId": "f91ea02e-2953-4c4c-9569-6a7eb1892547"
      },
      "execution_count": null,
      "outputs": [
        {
          "output_type": "execute_result",
          "data": {
            "text/plain": [
              "'Woman in swim suit holding parasol on sunny day.'"
            ],
            "application/vnd.google.colaboratory.intrinsic+json": {
              "type": "string"
            }
          },
          "metadata": {},
          "execution_count": 23
        }
      ]
    },
    {
      "cell_type": "code",
      "execution_count": null,
      "metadata": {
        "execution": {
          "iopub.execute_input": "2022-05-17T06:28:41.12946Z",
          "iopub.status.busy": "2022-05-17T06:28:41.128981Z",
          "iopub.status.idle": "2022-05-17T06:28:41.141348Z",
          "shell.execute_reply": "2022-05-17T06:28:41.140565Z",
          "shell.execute_reply.started": "2022-05-17T06:28:41.12942Z"
        },
        "pycharm": {
          "name": "#%%\n"
        },
        "id": "PeAVGLdcEpzO"
      },
      "outputs": [],
      "source": [
        "#build model.\n",
        "def BuildModel(device,backbone = \"vit_l_32\"):\n",
        "    model = models.vit_l_32(pretrained=True)\n",
        "    for param in model.parameters():\n",
        "        param.requires_grad = False\n",
        "    N_fc_in = 1024\n",
        "    N_fc_layers = 3\n",
        "    fc_layers = []\n",
        "    for i in range(3):\n",
        "        fc_layers.append(nn.Linear(N_fc_in//(2**i), N_fc_in//(2**(i+1))))\n",
        "        fc_layers.append(nn.ReLU())\n",
        "        fc_layers.append(nn.BatchNorm1d(N_fc_in//(2**(i+1))))\n",
        "        fc_layers.append(nn.Dropout(0.2))\n",
        "    fc_layers.append( nn.Linear( N_fc_in//(2**(N_fc_layers)) , N_classes ))\n",
        "    model.heads = nn.Sequential(*fc_layers)\n",
        "    model = model.to(device)\n",
        "    return model"
      ]
    },
    {
      "cell_type": "code",
      "source": [
        "2**(2+1)"
      ],
      "metadata": {
        "colab": {
          "base_uri": "https://localhost:8080/"
        },
        "id": "j0gwJydpeIRG",
        "outputId": "d3b13d37-1320-47b1-8315-95042ba4a229"
      },
      "execution_count": null,
      "outputs": [
        {
          "output_type": "execute_result",
          "data": {
            "text/plain": [
              "8"
            ]
          },
          "metadata": {},
          "execution_count": 34
        }
      ]
    },
    {
      "cell_type": "code",
      "execution_count": null,
      "metadata": {
        "execution": {
          "iopub.execute_input": "2022-05-17T06:28:41.144371Z",
          "iopub.status.busy": "2022-05-17T06:28:41.143666Z",
          "iopub.status.idle": "2022-05-17T06:28:41.161294Z",
          "shell.execute_reply": "2022-05-17T06:28:41.160372Z",
          "shell.execute_reply.started": "2022-05-17T06:28:41.144343Z"
        },
        "pycharm": {
          "name": "#%%\n"
        },
        "id": "rzScgcO-EpzP"
      },
      "outputs": [],
      "source": [
        "def accuracy_calculate(y_true, outputs_torch, curr_batch_size):\n",
        "    y_true = y_true.to(torch.int).numpy()\n",
        "    \n",
        "    y_pred = (torch.sigmoid(outputs_torch).data > 0.5).cpu().detach().to(torch.int).numpy()\n",
        "    \n",
        "    return f1_score(y_true, y_pred, average='samples') * curr_batch_size"
      ]
    },
    {
      "cell_type": "code",
      "execution_count": null,
      "metadata": {
        "execution": {
          "iopub.execute_input": "2022-05-17T06:28:41.16335Z",
          "iopub.status.busy": "2022-05-17T06:28:41.162982Z",
          "iopub.status.idle": "2022-05-17T06:28:42.104919Z",
          "shell.execute_reply": "2022-05-17T06:28:42.104199Z",
          "shell.execute_reply.started": "2022-05-17T06:28:41.163205Z"
        },
        "pycharm": {
          "name": "#%%\n"
        },
        "id": "6VwdfzfrEpzP"
      },
      "outputs": [],
      "source": [
        "# model =  torch.load('../input/modelt/modelres101.pth')"
      ]
    },
    {
      "cell_type": "code",
      "execution_count": null,
      "metadata": {
        "execution": {
          "iopub.execute_input": "2022-05-17T06:28:42.106858Z",
          "iopub.status.busy": "2022-05-17T06:28:42.106607Z",
          "iopub.status.idle": "2022-05-17T06:28:42.112577Z",
          "shell.execute_reply": "2022-05-17T06:28:42.111776Z",
          "shell.execute_reply.started": "2022-05-17T06:28:42.106825Z"
        },
        "pycharm": {
          "name": "#%%\n"
        },
        "colab": {
          "base_uri": "https://localhost:8080/"
        },
        "id": "lEbL4nJ_EpzQ",
        "outputId": "361dad14-e6ee-457b-f580-c8d6f2cb5911"
      },
      "outputs": [
        {
          "output_type": "stream",
          "name": "stdout",
          "text": [
            "epoch: 0 / 1\n"
          ]
        },
        {
          "output_type": "stream",
          "name": "stderr",
          "text": [
            " 86%|████████▌ | 100/116 [11:09<01:43,  6.48s/it]Exception ignored in: <function _MultiProcessingDataLoaderIter.__del__ at 0x7fea62f64830>\n",
            "Traceback (most recent call last):\n",
            "  File \"/usr/local/lib/python3.7/dist-packages/torch/utils/data/dataloader.py\", line 1358, in __del__\n",
            "    self._shutdown_workers()\n",
            "  File \"/usr/local/lib/python3.7/dist-packages/torch/utils/data/dataloader.py\", line 1341, in _shutdown_workers\n",
            "    if w.is_alive():\n",
            "  File \"/usr/lib/python3.7/multiprocessing/process.py\", line 151, in is_alive\n",
            "    assert self._parent_pid == os.getpid(), 'can only test a child process'\n",
            "AssertionError: can only test a child process\n",
            "Exception ignored in: <function _MultiProcessingDataLoaderIter.__del__ at 0x7fea62f64830>\n",
            "Traceback (most recent call last):\n",
            "  File \"/usr/local/lib/python3.7/dist-packages/torch/utils/data/dataloader.py\", line 1358, in __del__\n",
            "    self._shutdown_workers()\n",
            "  File \"/usr/local/lib/python3.7/dist-packages/torch/utils/data/dataloader.py\", line 1341, in _shutdown_workers\n",
            "    if w.is_alive():\n",
            "  File \"/usr/lib/python3.7/multiprocessing/process.py\", line 151, in is_alive\n",
            "    assert self._parent_pid == os.getpid(), 'can only test a child process'\n",
            "AssertionError: can only test a child process\n",
            "100%|██████████| 116/116 [12:58<00:00,  6.71s/it]\n"
          ]
        },
        {
          "output_type": "stream",
          "name": "stdout",
          "text": [
            "train loss: 0.5350469746466341 accuracy: 0.42049467867101264\n"
          ]
        },
        {
          "output_type": "stream",
          "name": "stderr",
          "text": [
            "100%|██████████| 2/2 [00:10<00:00,  5.08s/it]"
          ]
        },
        {
          "output_type": "stream",
          "name": "stdout",
          "text": [
            "valid loss: 0.245620592435201 accuracy 0.6647999037999038\n"
          ]
        },
        {
          "output_type": "stream",
          "name": "stderr",
          "text": [
            "\n"
          ]
        }
      ],
      "source": [
        "model = BuildModel(device=device,backbone = \"vit\")\n",
        "\n",
        "dataset_loader = ImageDataloader(data_root_dir,train_set)\n",
        "train_dataloader, valid_dataloader = dataset_loader.make_loader(batch_size = 256)\n",
        "len_train = len(train_dataloader.dataset)\n",
        "len_valid = len(valid_dataloader.dataset)\n",
        "optimizer = torch.optim.Adam(model.parameters(), lr=learning_rate)\n",
        "scheduler = torch.optim.lr_scheduler.CosineAnnealingLR(optimizer, T_max=5, eta_min=0.005)\n",
        "criterion = nn.BCEWithLogitsLoss()\n",
        "\n",
        "for epoch_it in range(epochs):\n",
        "    print(\"epoch:\", epoch_it, '/', epochs)\n",
        "    train_accuracy = 0.0 \n",
        "    train_loss = 0.0\n",
        "    model.train()\n",
        "    for images, labels, _ in tqdm(train_dataloader):\n",
        "        torch.set_grad_enabled(True)\n",
        "        images = images.to(device)\n",
        "        labels_processed = labels.to(device)\n",
        "        curr_batch_size = images.size(0)\n",
        "        outputs = model(images)\n",
        "        train_accuracy += accuracy_calculate(labels, outputs, curr_batch_size)\n",
        "        loss = criterion(outputs, labels_processed)\n",
        "        loss.backward()\n",
        "        train_loss += curr_batch_size*loss.item()\n",
        "        optimizer.step()\n",
        "        optimizer.zero_grad()\n",
        "    print(\"train loss:\", (train_loss/len_train),\n",
        "          \"accuracy:\", (train_accuracy/len_train))\n",
        "\n",
        "    valid_accuracy = 0.0\n",
        "    valid_loss = 0.0\n",
        "    model.eval()\n",
        "    for images, labels, _ in tqdm(valid_dataloader):\n",
        "        torch.set_grad_enabled(False)\n",
        "        images = images.to(device)\n",
        "        labels_processed = labels.to(device)\n",
        "        curr_batch_size = images.size(0)\n",
        "        outputs = model(images)\n",
        "        valid_accuracy += accuracy_calculate(labels, outputs, curr_batch_size)\n",
        "        loss = criterion(outputs, labels_processed)\n",
        "        valid_loss += curr_batch_size*loss.item()\n",
        "    print(\"valid loss:\", (valid_loss/len_valid),\n",
        "          \"accuracy\", (valid_accuracy/len_valid))\n",
        "    scheduler.step()"
      ]
    },
    {
      "cell_type": "code",
      "execution_count": null,
      "metadata": {
        "execution": {
          "iopub.execute_input": "2022-05-17T06:28:42.114742Z",
          "iopub.status.busy": "2022-05-17T06:28:42.114233Z",
          "iopub.status.idle": "2022-05-17T06:28:42.125591Z",
          "shell.execute_reply": "2022-05-17T06:28:42.124808Z",
          "shell.execute_reply.started": "2022-05-17T06:28:42.114703Z"
        },
        "pycharm": {
          "name": "#%%\n"
        },
        "id": "zawGMggWEpzR"
      },
      "outputs": [],
      "source": [
        "#torch.save(model,'modelres101.pth')"
      ]
    },
    {
      "cell_type": "code",
      "execution_count": null,
      "metadata": {
        "execution": {
          "iopub.execute_input": "2022-05-17T06:28:42.128581Z",
          "iopub.status.busy": "2022-05-17T06:28:42.128385Z",
          "iopub.status.idle": "2022-05-17T06:28:42.139731Z",
          "shell.execute_reply": "2022-05-17T06:28:42.138881Z",
          "shell.execute_reply.started": "2022-05-17T06:28:42.128557Z"
        },
        "pycharm": {
          "name": "#%%\n"
        },
        "colab": {
          "base_uri": "https://localhost:8080/"
        },
        "id": "MnO3Al0LEpzR",
        "outputId": "6ec3108f-2578-4ad7-be98-83d35c558a77"
      },
      "outputs": [
        {
          "output_type": "execute_result",
          "data": {
            "text/plain": [
              "{0: 'jkldhgdlsuhfgkvsghndjkvg',\n",
              " 1: 'person',\n",
              " 2: 'bicycle',\n",
              " 3: 'jkldhgdlsuhfgkvsghndjkvg',\n",
              " 4: 'motor',\n",
              " 5: 'plane',\n",
              " 6: 'buses',\n",
              " 7: 'train',\n",
              " 8: 'truck',\n",
              " 9: 'boat',\n",
              " 10: 'traffic light',\n",
              " 11: 'fire hydrant',\n",
              " 12: 'jkldhgdlsuhfgkvsghndjkvg',\n",
              " 13: 'stop sign',\n",
              " 14: 'meter',\n",
              " 15: 'bench',\n",
              " 16: 'bird',\n",
              " 17: ' cat ',\n",
              " 18: ' dog ',\n",
              " 19: 'horse'}"
            ]
          },
          "metadata": {},
          "execution_count": 30
        }
      ],
      "source": [
        "key_word = {}\n",
        "key_word[0] = 'jkldhgdlsuhfgkvsghndjkvg'\n",
        "key_word[1] = 'person'\n",
        "key_word[2] = 'bicycle'\n",
        "key_word[3] = 'jkldhgdlsuhfgkvsghndjkvg'\n",
        "key_word[4] = 'motor'\n",
        "key_word[5] = 'plane'\n",
        "key_word[6] = 'buses'\n",
        "key_word[7] = 'train'\n",
        "key_word[8] = 'truck'\n",
        "key_word[9] = 'boat'\n",
        "key_word[10] = 'traffic light'\n",
        "key_word[11] = 'fire hydrant'\n",
        "key_word[12] = 'jkldhgdlsuhfgkvsghndjkvg'\n",
        "key_word[13] = 'stop sign'\n",
        "key_word[14] = 'meter'\n",
        "key_word[15] = 'bench'\n",
        "key_word[16] = 'bird'\n",
        "key_word[17] = ' cat '\n",
        "key_word[18] = ' dog '\n",
        "key_word[19] = 'horse'\n",
        "key_word"
      ]
    },
    {
      "cell_type": "code",
      "execution_count": null,
      "metadata": {
        "execution": {
          "iopub.execute_input": "2022-05-17T06:28:42.141634Z",
          "iopub.status.busy": "2022-05-17T06:28:42.141376Z",
          "iopub.status.idle": "2022-05-17T06:31:54.407628Z",
          "shell.execute_reply": "2022-05-17T06:31:54.406135Z",
          "shell.execute_reply.started": "2022-05-17T06:28:42.1416Z"
        },
        "pycharm": {
          "name": "#%%\n"
        },
        "colab": {
          "base_uri": "https://localhost:8080/"
        },
        "id": "WDTT85_yEpzS",
        "outputId": "cf2627ba-136e-4f3b-feb1-2cd58b8f0f79"
      },
      "outputs": [
        {
          "output_type": "stream",
          "name": "stderr",
          "text": [
            "  0%|          | 12/10000 [00:00<05:54, 28.15it/s]"
          ]
        },
        {
          "output_type": "stream",
          "name": "stdout",
          "text": [
            "11 ('A pink fire hydrant in the middle of a yard.',)\n",
            "9 ('A small boat floating on top of a body of water.',)\n",
            "9 ('A body of water with a sailboat in the background.',)\n",
            "1 ('A person riding a horse next to a big black and brown dog.',)\n",
            "18 ('A person riding a horse next to a big black and brown dog.',)\n",
            "19 ('A person riding a horse next to a big black and brown dog.',)\n"
          ]
        },
        {
          "output_type": "stream",
          "name": "stderr",
          "text": [
            "  0%|          | 23/10000 [00:00<04:57, 33.50it/s]"
          ]
        },
        {
          "output_type": "stream",
          "name": "stdout",
          "text": [
            "8 ('A red truck driving along a mountainous countryside.',)\n",
            "17 ('A cat is sitting on top of a microwave under a cabinet.',)\n"
          ]
        },
        {
          "output_type": "stream",
          "name": "stderr",
          "text": [
            "  0%|          | 35/10000 [00:01<04:43, 35.20it/s]"
          ]
        },
        {
          "output_type": "stream",
          "name": "stdout",
          "text": [
            "8 ('A man standing next to a truck with horses nearby',)\n",
            "19 ('A man standing next to a truck with horses nearby',)\n",
            "4 ('A woman sits on top of a motorcycle in a parade.',)\n"
          ]
        },
        {
          "output_type": "stream",
          "name": "stderr",
          "text": [
            "  0%|          | 43/10000 [00:01<04:48, 34.48it/s]"
          ]
        },
        {
          "output_type": "stream",
          "name": "stdout",
          "text": [
            "3 ('THERE ARE CARS AND A TRUCK THAT IS PARKED IN THE PARKING LOT',)\n",
            "8 ('THERE ARE CARS AND A TRUCK THAT IS PARKED IN THE PARKING LOT',)\n",
            "17 ('A cat lying on its back on a couch.',)\n",
            "16 ('A small bird on a mesh net outside.',)\n",
            "7 ('Some people are riding a train on the railroad on a sunny day.',)\n"
          ]
        },
        {
          "output_type": "stream",
          "name": "stderr",
          "text": [
            "  1%|          | 51/10000 [00:01<04:55, 33.62it/s]"
          ]
        },
        {
          "output_type": "stream",
          "name": "stdout",
          "text": [
            "11 ('A dog is investigating a fire hydrant by a sidewalk.',)\n",
            "18 ('A dog is investigating a fire hydrant by a sidewalk.',)\n"
          ]
        },
        {
          "output_type": "stream",
          "name": "stderr",
          "text": [
            "  1%|          | 59/10000 [00:01<04:49, 34.38it/s]"
          ]
        },
        {
          "output_type": "stream",
          "name": "stdout",
          "text": [
            "8 ('An army truck with an American Flag on it riding down a rode.',)\n",
            "15 ('A blue bench with a chicken reading a book on top of it.',)\n"
          ]
        },
        {
          "output_type": "stream",
          "name": "stderr",
          "text": [
            "  1%|          | 75/10000 [00:02<04:37, 35.72it/s]"
          ]
        },
        {
          "output_type": "stream",
          "name": "stdout",
          "text": [
            "1 ('a person sits on a floor next to a laptop',)\n",
            "19 ('Some guys in very fancy uniforms on top of horses.',)\n",
            "17 ('A cat drinking water out of a white toilet.',)\n"
          ]
        },
        {
          "output_type": "stream",
          "name": "stderr",
          "text": [
            "  1%|          | 83/10000 [00:02<04:43, 35.04it/s]"
          ]
        },
        {
          "output_type": "stream",
          "name": "stdout",
          "text": [
            "15 ('Cat sitting on the shaded portion of a blue bench.',)\n",
            "13 ('A woman with a snow fur hat standing by a stop sign.',)\n"
          ]
        },
        {
          "output_type": "stream",
          "name": "stderr",
          "text": [
            "  1%|          | 91/10000 [00:02<04:38, 35.58it/s]"
          ]
        },
        {
          "output_type": "stream",
          "name": "stdout",
          "text": [
            "18 ('A woman wearing a shirt with pictures of dogs while she holds a dog.',)\n",
            "8 ('A truck driving down a busy street',)\n"
          ]
        },
        {
          "output_type": "stream",
          "name": "stderr",
          "text": [
            "  1%|          | 107/10000 [00:03<04:31, 36.46it/s]"
          ]
        },
        {
          "output_type": "stream",
          "name": "stdout",
          "text": [
            "11 ('A fire hydrant in front of a house in a yard.',)\n"
          ]
        },
        {
          "output_type": "stream",
          "name": "stderr",
          "text": [
            "  1%|          | 119/10000 [00:03<04:38, 35.45it/s]"
          ]
        },
        {
          "output_type": "stream",
          "name": "stdout",
          "text": [
            "18 ('The man is on the couch with his dog petting him.',)\n",
            "5 ('A sea plane in the water with a large city in the background.',)\n"
          ]
        },
        {
          "output_type": "stream",
          "name": "stderr",
          "text": [
            "  1%|▏         | 131/10000 [00:03<04:28, 36.69it/s]"
          ]
        },
        {
          "output_type": "stream",
          "name": "stdout",
          "text": [
            "1 ('a person holding a cell phone with nemo on the screen',)\n",
            "9 ('A sail boat floating across a lake surrounded by forest.',)\n"
          ]
        },
        {
          "output_type": "stream",
          "name": "stderr",
          "text": [
            "  1%|▏         | 139/10000 [00:04<04:32, 36.18it/s]"
          ]
        },
        {
          "output_type": "stream",
          "name": "stdout",
          "text": [
            "15 ('A wooden bench sitting in front of a green fence.',)\n",
            "4 ('Several motorcycles are parked along a road in a row.',)\n",
            "11 ('a fire hose goes through a car window to connect with a fire hydrant',)\n"
          ]
        },
        {
          "output_type": "stream",
          "name": "stderr",
          "text": [
            "  1%|▏         | 147/10000 [00:04<04:40, 35.17it/s]"
          ]
        },
        {
          "output_type": "stream",
          "name": "stdout",
          "text": [
            "11 ('A man is standing beside a yellow fire hydrant.',)\n",
            "19 ('A man pulling a horse by its reigns.',)\n",
            "19 ('A couple of brown horses grazing on a green grass field.',)\n"
          ]
        },
        {
          "output_type": "stream",
          "name": "stderr",
          "text": [
            "  2%|▏         | 159/10000 [00:04<04:37, 35.41it/s]"
          ]
        },
        {
          "output_type": "stream",
          "name": "stdout",
          "text": [
            "1 ('A person holding a hot dog and a can of coke.',)\n",
            "18 ('A person holding a hot dog and a can of coke.',)\n",
            "18 ('A lady holding a camera up near a big black dog.',)\n"
          ]
        },
        {
          "output_type": "stream",
          "name": "stderr",
          "text": [
            "  2%|▏         | 171/10000 [00:04<04:38, 35.33it/s]"
          ]
        },
        {
          "output_type": "stream",
          "name": "stdout",
          "text": [
            "5 ('Two deicer trucks deicing a jumbo jet plane.',)\n",
            "8 ('Two deicer trucks deicing a jumbo jet plane.',)\n",
            "1 ('A person and a dog that are on the side of a street.',)\n",
            "18 ('A person and a dog that are on the side of a street.',)\n"
          ]
        },
        {
          "output_type": "stream",
          "name": "stderr",
          "text": [
            "  2%|▏         | 179/10000 [00:05<04:37, 35.45it/s]"
          ]
        },
        {
          "output_type": "stream",
          "name": "stdout",
          "text": [
            "16 ('A flock of birds sitting on top of a pink roof.',)\n",
            "18 (\"A black and white dog running on a field with a white frisbee in it's mouth.\",)\n",
            "15 ('There is a woman sitting on a bench.',)\n",
            "9 ('A large boat at the dock parked in the water.',)\n",
            "19 ('A herd of cattle and horses roaming freely in a field.',)\n"
          ]
        },
        {
          "output_type": "stream",
          "name": "stderr",
          "text": [
            "  2%|▏         | 191/10000 [00:05<04:41, 34.86it/s]"
          ]
        },
        {
          "output_type": "stream",
          "name": "stdout",
          "text": [
            "7 ('A wagon train travels down a dirt road.',)\n",
            "2 ('a man sits on a bike on a city street',)\n"
          ]
        },
        {
          "output_type": "stream",
          "name": "stderr",
          "text": [
            "  2%|▏         | 203/10000 [00:05<04:36, 35.47it/s]"
          ]
        },
        {
          "output_type": "stream",
          "name": "stdout",
          "text": [
            "16 ('The two birds walk next to each other through the wilderness.',)\n",
            "2 ('A woman holding an umbrella is riding a bike on a side walk.',)\n",
            "8 ('A semi truck carrying oil driving next to a train.',)\n"
          ]
        },
        {
          "output_type": "stream",
          "name": "stderr",
          "text": [
            "\r  2%|▏         | 207/10000 [00:06<04:46, 34.12it/s]"
          ]
        },
        {
          "output_type": "stream",
          "name": "stdout",
          "text": [
            "1 ('a vintage photo of a person poking into a cake',)\n",
            "3 ('Th ereflection of 2 zebras leaning together through a car window',)\n"
          ]
        },
        {
          "output_type": "stream",
          "name": "stderr",
          "text": [
            "  2%|▏         | 223/10000 [00:06<04:35, 35.52it/s]"
          ]
        },
        {
          "output_type": "stream",
          "name": "stdout",
          "text": [
            "16 ('A group of birds standing around in a cage.',)\n",
            "11 ('A blue and white fire hydrant sitting on the side of a road.',)\n"
          ]
        },
        {
          "output_type": "stream",
          "name": "stderr",
          "text": [
            "  2%|▏         | 235/10000 [00:06<04:29, 36.26it/s]"
          ]
        },
        {
          "output_type": "stream",
          "name": "stdout",
          "text": [
            "2 ('A couple of men riding on the back of bikes.',)\n",
            "2 ('Biker group poses for photo opportunity together on their bikes.',)\n"
          ]
        },
        {
          "output_type": "stream",
          "name": "stderr",
          "text": [
            "  2%|▏         | 243/10000 [00:07<04:38, 35.07it/s]"
          ]
        },
        {
          "output_type": "stream",
          "name": "stdout",
          "text": [
            "9 ('THERE IS A BOAT THAT IS PARKED ON THE SHORE',)\n"
          ]
        },
        {
          "output_type": "stream",
          "name": "stderr",
          "text": [
            "  3%|▎         | 251/10000 [00:07<04:35, 35.40it/s]"
          ]
        },
        {
          "output_type": "stream",
          "name": "stdout",
          "text": [
            "18 (\"The dog runs through a field with a Frisbee in it's jaws.\",)\n",
            "3 ('this is a car driving on a dock',)\n"
          ]
        },
        {
          "output_type": "stream",
          "name": "stderr",
          "text": [
            "  3%|▎         | 263/10000 [00:07<04:24, 36.85it/s]"
          ]
        },
        {
          "output_type": "stream",
          "name": "stdout",
          "text": [
            "4 ('People on a motorbike near a vehicle loaded with food.',)\n"
          ]
        },
        {
          "output_type": "stream",
          "name": "stderr",
          "text": [
            "  3%|▎         | 271/10000 [00:07<04:39, 34.78it/s]"
          ]
        },
        {
          "output_type": "stream",
          "name": "stdout",
          "text": [
            "19 ('A couple of people riding on the back of a horse.',)\n",
            "4 ('A police officer on a motorcycle next to a van.',)\n",
            "1 ('A person holding a smart phone device over a laptop computer.',)\n"
          ]
        },
        {
          "output_type": "stream",
          "name": "stderr",
          "text": [
            "  3%|▎         | 279/10000 [00:08<04:39, 34.78it/s]"
          ]
        },
        {
          "output_type": "stream",
          "name": "stdout",
          "text": [
            "13 ('A red stop sign sitting under a green street sign.',)\n",
            "19 ('Two horses are standing on the dirt course for some kind of show.',)\n"
          ]
        },
        {
          "output_type": "stream",
          "name": "stderr",
          "text": [
            "  3%|▎         | 291/10000 [00:08<04:39, 34.69it/s]"
          ]
        },
        {
          "output_type": "stream",
          "name": "stdout",
          "text": [
            "11 ('The green fire hydrant is beside a traffic signal, and a walk signal.',)\n",
            "1 ('A person on a skateboard on a ramp.',)\n",
            "3 ('A car and a bus who are both stopped in traffic',)\n",
            "6 ('A car and a bus who are both stopped in traffic',)\n"
          ]
        },
        {
          "output_type": "stream",
          "name": "stderr",
          "text": [
            "  3%|▎         | 303/10000 [00:08<04:31, 35.68it/s]"
          ]
        },
        {
          "output_type": "stream",
          "name": "stdout",
          "text": [
            "1 ('A person standing next to a parked motorcycle.',)\n",
            "4 ('A person standing next to a parked motorcycle.',)\n",
            "8 ('A delivery truck driving down a street filled with produce.',)\n",
            "7 (\"A long train is on it's tracks with trees nearby.\",)\n"
          ]
        },
        {
          "output_type": "stream",
          "name": "stderr",
          "text": [
            "  3%|▎         | 315/10000 [00:09<04:21, 37.01it/s]"
          ]
        },
        {
          "output_type": "stream",
          "name": "stdout",
          "text": [
            "9 ('Boats float on the water near a tiny island.',)\n",
            "1 ('A person is looking at a cute cat.',)\n"
          ]
        },
        {
          "output_type": "stream",
          "name": "stderr",
          "text": [
            "  3%|▎         | 327/10000 [00:09<04:28, 36.09it/s]"
          ]
        },
        {
          "output_type": "stream",
          "name": "stdout",
          "text": [
            "4 ('there are two men riding a motorcycle and holding a umbrella',)\n",
            "1 ('A person and some sinks in a room.',)\n",
            "9 ('Several small boats with no passengers are floating on a small body of water.',)\n",
            "7 ('A train weaves through the mountains with a beautiful view',)\n",
            "16 ('a close up of a small bird in a field of grass',)\n"
          ]
        },
        {
          "output_type": "stream",
          "name": "stderr",
          "text": [
            "  3%|▎         | 335/10000 [00:09<04:28, 35.98it/s]"
          ]
        },
        {
          "output_type": "stream",
          "name": "stdout",
          "text": [
            "15 ('A group of people sitting on top of a wooden bench.',)\n",
            "15 ('A bench is nestled in a wooded walkway.',)\n"
          ]
        },
        {
          "output_type": "stream",
          "name": "stderr",
          "text": [
            "  3%|▎         | 347/10000 [00:09<04:38, 34.63it/s]"
          ]
        },
        {
          "output_type": "stream",
          "name": "stdout",
          "text": [
            "8 ('Two men are unloading items from the back of the truck.',)\n",
            "19 ('A man dressed in garb leading a costume clad horse.',)\n"
          ]
        },
        {
          "output_type": "stream",
          "name": "stderr",
          "text": [
            "  4%|▎         | 355/10000 [00:10<04:47, 33.51it/s]"
          ]
        },
        {
          "output_type": "stream",
          "name": "stdout",
          "text": [
            "2 ('An orange bike parked next to a steel pole.',)\n",
            "13 ('A stop sign is in front of a row of town homes.',)\n"
          ]
        },
        {
          "output_type": "stream",
          "name": "stderr",
          "text": [
            "  4%|▎         | 367/10000 [00:10<04:48, 33.43it/s]"
          ]
        },
        {
          "output_type": "stream",
          "name": "stdout",
          "text": [
            "18 ('a dog lays on the floor while looking up friom it',)\n",
            "9 ('A group of people riding on a boat across a lake.',)\n"
          ]
        },
        {
          "output_type": "stream",
          "name": "stderr",
          "text": [
            "  4%|▍         | 387/10000 [00:11<04:31, 35.42it/s]"
          ]
        },
        {
          "output_type": "stream",
          "name": "stdout",
          "text": [
            "9 ('An empty boat is tied to the dock.',)\n",
            "7 ('A subway train filled with passengers sitting in seats.',)\n"
          ]
        },
        {
          "output_type": "stream",
          "name": "stderr",
          "text": [
            "  4%|▍         | 395/10000 [00:11<04:30, 35.53it/s]"
          ]
        },
        {
          "output_type": "stream",
          "name": "stdout",
          "text": [
            "3 ('A freight train with enclosed cars in a rail yard.',)\n",
            "3 ('The dog is sticking his head out of a open car window.',)\n",
            "18 ('The dog is sticking his head out of a open car window.',)\n",
            "6 ('A girl with a Jonas Brothers Backpack on boarding a school bus.',)\n"
          ]
        },
        {
          "output_type": "stream",
          "name": "stderr",
          "text": [
            "  4%|▍         | 407/10000 [00:11<04:30, 35.43it/s]"
          ]
        },
        {
          "output_type": "stream",
          "name": "stdout",
          "text": [
            "9 ('two fishing boats sitting side by side at the pier',)\n",
            "2 ('A man riding a bike past a building with people standing around.',)\n",
            "11 ('A red fire hydrant sitting between two poles.',)\n",
            "16 ('Birds wondering through grassy ground next to bushes.',)\n",
            "15 ('A group of people sitting on a bench.',)\n",
            "15 ('A small kid standing on a wooden bench.',)\n"
          ]
        },
        {
          "output_type": "stream",
          "name": "stderr",
          "text": [
            "  4%|▍         | 415/10000 [00:11<04:30, 35.42it/s]"
          ]
        },
        {
          "output_type": "stream",
          "name": "stdout",
          "text": [
            "2 ('A man riding a bike down a street with a little girl on back.',)\n",
            "19 ('a pair of people wearing hats and riding horses on a farm',)\n",
            "15 ('A small brown teddy bear sitting on a wooden bench in a park.',)\n"
          ]
        },
        {
          "output_type": "stream",
          "name": "stderr",
          "text": [
            "  4%|▍         | 427/10000 [00:12<04:30, 35.42it/s]"
          ]
        },
        {
          "output_type": "stream",
          "name": "stdout",
          "text": [
            "13 ('A green street sign sitting next to a red stop sign.',)\n",
            "2 ('A man riding a bicycle down a street next to a yellow taxi.',)\n",
            "3 ('an old style car parked near many other cars',)\n",
            "15 ('A CAT IS EATING FOOD ON THE BENCH AND ONE ON THE GROUND',)\n",
            "17 ('A CAT IS EATING FOOD ON THE BENCH AND ONE ON THE GROUND',)\n"
          ]
        },
        {
          "output_type": "stream",
          "name": "stderr",
          "text": [
            "  4%|▍         | 439/10000 [00:12<04:28, 35.56it/s]"
          ]
        },
        {
          "output_type": "stream",
          "name": "stdout",
          "text": [
            "11 ('A group of photos of fire hydrants with a dog in the middle',)\n",
            "18 ('A group of photos of fire hydrants with a dog in the middle',)\n",
            "19 ('A couple of large brown horses walking across a park.',)\n",
            "19 ('A man riding on the back of a brown horse towards a forest.',)\n",
            "18 ('A woman in white shirt laying on sofa next to a dog.',)\n",
            "18 ('a dog sitting on a toilet and a cat sitting on a small cabinet near buy',)\n"
          ]
        },
        {
          "output_type": "stream",
          "name": "stderr",
          "text": [
            "  4%|▍         | 447/10000 [00:12<04:38, 34.29it/s]"
          ]
        },
        {
          "output_type": "stream",
          "name": "stdout",
          "text": [
            "2 ('A white van on a street with multiple parked bicycles.',)\n",
            "19 ('A horse-drawn wagon waits on a city street.',)\n",
            "16 ('a gray black yellow and white bird and a silver barrel',)\n"
          ]
        },
        {
          "output_type": "stream",
          "name": "stderr",
          "text": [
            "  5%|▍         | 455/10000 [00:13<04:29, 35.48it/s]"
          ]
        },
        {
          "output_type": "stream",
          "name": "stdout",
          "text": [
            "15 ('A bench is on a path in the woods.',)\n",
            "2 ('A man is in the air on a dirt bike',)\n"
          ]
        },
        {
          "output_type": "stream",
          "name": "stderr",
          "text": [
            "  5%|▍         | 463/10000 [00:13<04:27, 35.61it/s]"
          ]
        },
        {
          "output_type": "stream",
          "name": "stdout",
          "text": [
            "16 ('a close up of a fake bird in a wooden house',)\n",
            "1 ('a close up of a person and a bird flying',)\n",
            "16 ('a close up of a person and a bird flying',)\n"
          ]
        },
        {
          "output_type": "stream",
          "name": "stderr",
          "text": [
            "  5%|▍         | 471/10000 [00:13<04:23, 36.21it/s]"
          ]
        },
        {
          "output_type": "stream",
          "name": "stdout",
          "text": [
            "19 ('A man riding on the back of a brown horse.',)\n",
            "9 ('An old wooden boat sitting in a grassy field.',)\n",
            "7 ('An old train car on display at a museum.',)\n"
          ]
        },
        {
          "output_type": "stream",
          "name": "stderr",
          "text": [
            "  5%|▍         | 495/10000 [00:14<04:26, 35.66it/s]"
          ]
        },
        {
          "output_type": "stream",
          "name": "stdout",
          "text": [
            "13 ('A red stop sign that is behind trees.',)\n",
            "19 ('Two young children stand on the back of a walking horse.',)\n"
          ]
        },
        {
          "output_type": "stream",
          "name": "stderr",
          "text": [
            "  5%|▌         | 507/10000 [00:14<04:41, 33.77it/s]"
          ]
        },
        {
          "output_type": "stream",
          "name": "stdout",
          "text": [
            "1 ('A person holding a camera in the palm of their hand.',)\n",
            "4 ('Small dog sitting at the front of a red motor boat.',)\n",
            "9 ('Small dog sitting at the front of a red motor boat.',)\n",
            "18 ('Small dog sitting at the front of a red motor boat.',)\n"
          ]
        },
        {
          "output_type": "stream",
          "name": "stderr",
          "text": [
            "  5%|▌         | 515/10000 [00:14<04:39, 33.95it/s]"
          ]
        },
        {
          "output_type": "stream",
          "name": "stdout",
          "text": [
            "6 ('The man is waving to the school bus.',)\n",
            "8 ('A Kingfisher plant parked at an airport with a food service truck in front.',)\n"
          ]
        },
        {
          "output_type": "stream",
          "name": "stderr",
          "text": [
            "  5%|▌         | 527/10000 [00:15<04:23, 35.97it/s]"
          ]
        },
        {
          "output_type": "stream",
          "name": "stdout",
          "text": [
            "18 ('A tray with a hot dog and fries on a table.',)\n",
            "11 ('a fire hydrant in a field with trees in the background',)\n"
          ]
        },
        {
          "output_type": "stream",
          "name": "stderr",
          "text": [
            "  5%|▌         | 535/10000 [00:15<04:28, 35.30it/s]"
          ]
        },
        {
          "output_type": "stream",
          "name": "stdout",
          "text": [
            "19 ('a horse in a field of grass',)\n",
            "8 ('A dog standing near a truck loaded with logs.',)\n",
            "18 ('A dog standing near a truck loaded with logs.',)\n"
          ]
        },
        {
          "output_type": "stream",
          "name": "stderr",
          "text": [
            "  5%|▌         | 543/10000 [00:15<04:29, 35.09it/s]"
          ]
        },
        {
          "output_type": "stream",
          "name": "stdout",
          "text": [
            "3 ('A model rural area with a model train and model cars.',)\n",
            "11 ('machines on a city street near a fire hydrant',)\n",
            "11 ('A fire hydrant in the city with a face painted on it.',)\n",
            "9 ('A boat floating on top of a river next to a forest.',)\n"
          ]
        },
        {
          "output_type": "stream",
          "name": "stderr",
          "text": [
            "  6%|▌         | 551/10000 [00:15<04:28, 35.21it/s]"
          ]
        },
        {
          "output_type": "stream",
          "name": "stdout",
          "text": [
            "2 ('A group of people riding bikes down a street at night.',)\n"
          ]
        },
        {
          "output_type": "stream",
          "name": "stderr",
          "text": [
            "  6%|▌         | 559/10000 [00:16<04:27, 35.34it/s]"
          ]
        },
        {
          "output_type": "stream",
          "name": "stdout",
          "text": [
            "7 ('A woman is holding on to a rail sitting by the door of a train.',)\n",
            "3 ('A small dog seen in a car mirror with its head out the window.',)\n",
            "18 ('A small dog seen in a car mirror with its head out the window.',)\n",
            "2 ('A woman on a bike with an umbrella.',)\n"
          ]
        },
        {
          "output_type": "stream",
          "name": "stderr",
          "text": [
            "  6%|▌         | 571/10000 [00:16<04:34, 34.38it/s]"
          ]
        },
        {
          "output_type": "stream",
          "name": "stdout",
          "text": [
            "16 ('A small bird perched on top of a stick.',)\n"
          ]
        },
        {
          "output_type": "stream",
          "name": "stderr",
          "text": [
            "  6%|▌         | 579/10000 [00:16<04:27, 35.16it/s]"
          ]
        },
        {
          "output_type": "stream",
          "name": "stdout",
          "text": [
            "4 ('Two motorcycles are traveling along a mountain road.',)\n"
          ]
        },
        {
          "output_type": "stream",
          "name": "stderr",
          "text": [
            "  6%|▌         | 587/10000 [00:16<04:26, 35.34it/s]"
          ]
        },
        {
          "output_type": "stream",
          "name": "stdout",
          "text": [
            "19 ('A group of beautiful brown horses enjoy the taste of a pile of hay.',)\n",
            "6 ('a group of people walk by a line of buses',)\n",
            "19 ('A woman in rancher gear standing on a horse.',)\n"
          ]
        },
        {
          "output_type": "stream",
          "name": "stderr",
          "text": [
            "  6%|▌         | 599/10000 [00:17<04:15, 36.80it/s]"
          ]
        },
        {
          "output_type": "stream",
          "name": "stdout",
          "text": [
            "13 ('The stop sign is on the street corner.',)\n",
            "19 ('Three people racing horses on a beach by the water.',)\n"
          ]
        },
        {
          "output_type": "stream",
          "name": "stderr",
          "text": [
            "  6%|▌         | 607/10000 [00:17<04:28, 34.96it/s]"
          ]
        },
        {
          "output_type": "stream",
          "name": "stdout",
          "text": [
            "16 ('A group of birds standing on top of a body of water.',)\n",
            "4 ('A man on a motorized scooter rides around on it.',)\n"
          ]
        },
        {
          "output_type": "stream",
          "name": "stderr",
          "text": [
            "  6%|▌         | 619/10000 [00:17<04:23, 35.63it/s]"
          ]
        },
        {
          "output_type": "stream",
          "name": "stdout",
          "text": [
            "3 ('Many individuals waiting for the doors of subway cars to open in the station.',)\n",
            "1 ('A picture of a person sitting on a bench.',)\n",
            "15 ('A picture of a person sitting on a bench.',)\n",
            "19 ('A man is petting the face if a tame horse',)\n",
            "16 ('People and birds alike are on the beach and/or water.',)\n",
            "17 ('A large grey cat is standing next to a sofa.',)\n"
          ]
        },
        {
          "output_type": "stream",
          "name": "stderr",
          "text": [
            "  6%|▋         | 627/10000 [00:17<04:20, 36.02it/s]"
          ]
        },
        {
          "output_type": "stream",
          "name": "stdout",
          "text": [
            "8 ('A white truck facing horizontally in the street.',)\n",
            "19 ('this is a man riding a horse and carriage',)\n"
          ]
        },
        {
          "output_type": "stream",
          "name": "stderr",
          "text": [
            "  6%|▋         | 635/10000 [00:18<04:19, 36.09it/s]"
          ]
        },
        {
          "output_type": "stream",
          "name": "stdout",
          "text": [
            "3 ('A street filled with lots of cars and trucks.',)\n",
            "8 ('A street filled with lots of cars and trucks.',)\n",
            "15 ('An empty church with wooden benches and a cross.',)\n",
            "18 ('A kid in a birthday cone hat standing by a brown dog.',)\n"
          ]
        },
        {
          "output_type": "stream",
          "name": "stderr",
          "text": [
            "  6%|▋         | 647/10000 [00:18<04:46, 32.64it/s]"
          ]
        },
        {
          "output_type": "stream",
          "name": "stdout",
          "text": [
            "8 ('Two firetrucks parked on a street with ladders up.',)\n",
            "13 ('A stop sign and no parking sign with graffiti.',)\n"
          ]
        },
        {
          "output_type": "stream",
          "name": "stderr",
          "text": [
            "  7%|▋         | 655/10000 [00:18<04:40, 33.32it/s]"
          ]
        },
        {
          "output_type": "stream",
          "name": "stdout",
          "text": [
            "11 ('Afire hydrant with a water hose attached to it',)\n",
            "18 ('A white dog laying on top of the floor.',)\n",
            "19 ('two horses pulling a long cart filled with people down a street.',)\n",
            "4 ('A red motorcycle is parked in front of some grass and trees.',)\n"
          ]
        },
        {
          "output_type": "stream",
          "name": "stderr",
          "text": [
            "  7%|▋         | 667/10000 [00:19<04:24, 35.22it/s]"
          ]
        },
        {
          "output_type": "stream",
          "name": "stdout",
          "text": [
            "17 ('A cat standing on a tiled floor next to an orange container.',)\n",
            "4 ('Several police motorcycles driving down a street with their lights on.',)\n"
          ]
        },
        {
          "output_type": "stream",
          "name": "stderr",
          "text": [
            "  7%|▋         | 675/10000 [00:19<04:19, 35.94it/s]"
          ]
        },
        {
          "output_type": "stream",
          "name": "stdout",
          "text": [
            "1 ('A person sitting in a living room in front of a TV.',)\n",
            "13 ('Two signs that are on top of a stop sign.',)\n"
          ]
        },
        {
          "output_type": "stream",
          "name": "stderr",
          "text": [
            "  7%|▋         | 683/10000 [00:19<04:37, 33.62it/s]"
          ]
        },
        {
          "output_type": "stream",
          "name": "stdout",
          "text": [
            "9 ('A person standing on the front end of a boat.',)\n",
            "11 ('A fire hydrant is the middle of a grassy field.',)\n",
            "11 ('A green fire hydrant covered in wild plants and ivy.',)\n"
          ]
        },
        {
          "output_type": "stream",
          "name": "stderr",
          "text": [
            "  7%|▋         | 691/10000 [00:19<04:38, 33.41it/s]"
          ]
        },
        {
          "output_type": "stream",
          "name": "stdout",
          "text": [
            "11 ('A green and white fire hydrant near a street.',)\n",
            "13 ('A stop sign on a cable blocking the way to a small church.',)\n",
            "13 ('A stop sign with a sticker reading eating animals.\"\"',)\n",
            "18 ('A man and dog on top of a surfboard in the water.',)\n"
          ]
        },
        {
          "output_type": "stream",
          "name": "stderr",
          "text": [
            "  7%|▋         | 699/10000 [00:20<04:34, 33.87it/s]"
          ]
        },
        {
          "output_type": "stream",
          "name": "stdout",
          "text": [
            "18 ('a spotted dog holds a frisbe in its mouth',)\n",
            "1 ('A person swinging a bat over the top of a bike.',)\n",
            "2 ('A person swinging a bat over the top of a bike.',)\n",
            "19 ('A girl with her arm around a horse on a dirt path.',)\n",
            "4 ('A group of men out on a dirt road with a motorcycle.',)\n"
          ]
        },
        {
          "output_type": "stream",
          "name": "stderr",
          "text": [
            "  7%|▋         | 707/10000 [00:20<04:26, 34.90it/s]"
          ]
        },
        {
          "output_type": "stream",
          "name": "stdout",
          "text": [
            "15 ('a person sitting on a bench with another person standing near by',)\n",
            "2 ('A photo of a bike with a red umbrella attached to it',)\n",
            "15 ('A green park bench sitting on top of a grass covered field.',)\n"
          ]
        },
        {
          "output_type": "stream",
          "name": "stderr",
          "text": [
            "  7%|▋         | 723/10000 [00:20<04:31, 34.15it/s]"
          ]
        },
        {
          "output_type": "stream",
          "name": "stdout",
          "text": [
            "9 ('A man climbing up the side of a boat from a raft filled with men.',)\n",
            "4 ('A man is riding a very small motorcycle.',)\n"
          ]
        },
        {
          "output_type": "stream",
          "name": "stderr",
          "text": [
            "  7%|▋         | 731/10000 [00:21<04:25, 34.86it/s]"
          ]
        },
        {
          "output_type": "stream",
          "name": "stdout",
          "text": [
            "17 ('A black cat sitting on top of a wooden toilet seat.',)\n",
            "15 ('A woman sitting next to a bronze statue on a blue bench.',)\n",
            "9 ('A few boats that are docked to the river bank.',)\n"
          ]
        },
        {
          "output_type": "stream",
          "name": "stderr",
          "text": [
            "  7%|▋         | 739/10000 [00:21<04:19, 35.68it/s]"
          ]
        },
        {
          "output_type": "stream",
          "name": "stdout",
          "text": [
            "18 ('A large dog sitting in front of a flat screen TV.',)\n",
            "19 ('A man riding a horse down a dirt lane.',)\n",
            "4 ('People riding on a motor cycle with umbrellas over their heads.',)\n"
          ]
        },
        {
          "output_type": "stream",
          "name": "stderr",
          "text": [
            "  8%|▊         | 755/10000 [00:21<04:24, 34.99it/s]"
          ]
        },
        {
          "output_type": "stream",
          "name": "stdout",
          "text": [
            "6 ('A red double decker bus parked next to a  tree.',)\n",
            "3 ('A very nice looking pretty motorcycle parked by cars.',)\n",
            "4 ('A very nice looking pretty motorcycle parked by cars.',)\n",
            "1 ('A person riding a bicycle down a residential street.',)\n",
            "2 ('A person riding a bicycle down a residential street.',)\n",
            "18 ('A small white dog with a baseball cap sitting on the sand with clothes and blankets next to it.',)\n"
          ]
        },
        {
          "output_type": "stream",
          "name": "stderr",
          "text": [
            "  8%|▊         | 763/10000 [00:21<04:15, 36.19it/s]"
          ]
        },
        {
          "output_type": "stream",
          "name": "stdout",
          "text": [
            "2 ('A young girl on the cover of Life Magazine rides a bike-powered plane.',)\n",
            "5 ('A young girl on the cover of Life Magazine rides a bike-powered plane.',)\n",
            "4 ('A blue convertible parked next to a yellow motorhome.',)\n",
            "6 ('A bus going down a country road',)\n"
          ]
        },
        {
          "output_type": "stream",
          "name": "stderr",
          "text": [
            "  8%|▊         | 783/10000 [00:22<04:23, 34.96it/s]"
          ]
        },
        {
          "output_type": "stream",
          "name": "stdout",
          "text": [
            "7 ('A train making its way out of tunnel carved from a tree.',)\n",
            "1 ('A person with a cow in a grass field.',)\n",
            "17 ('The cat is sleeping under the wicker table.',)\n"
          ]
        },
        {
          "output_type": "stream",
          "name": "stderr",
          "text": [
            "  8%|▊         | 795/10000 [00:22<04:14, 36.21it/s]"
          ]
        },
        {
          "output_type": "stream",
          "name": "stdout",
          "text": [
            "2 ('A guy taking a bite of some food by a bike.',)\n",
            "19 ('A man wearing riding gear rides a horse through the the beach',)\n",
            "19 ('Two brown horses standing on a hillside covered in fog and trees.',)\n"
          ]
        },
        {
          "output_type": "stream",
          "name": "stderr",
          "text": [
            "  8%|▊         | 815/10000 [00:23<04:22, 34.95it/s]"
          ]
        },
        {
          "output_type": "stream",
          "name": "stdout",
          "text": [
            "8 ('A group of trucks parked on top of a parking lot.',)\n",
            "11 ('A woolen cap atop a fire hydrant on the sidewalk',)\n"
          ]
        },
        {
          "output_type": "stream",
          "name": "stderr",
          "text": [
            "  8%|▊         | 823/10000 [00:23<04:26, 34.48it/s]"
          ]
        },
        {
          "output_type": "stream",
          "name": "stdout",
          "text": [
            "1 ('a person holding a bow and arrow and another person holding a wiimote the same way',)\n",
            "11 ('A fire hydrant with a broken tv on the top of it',)\n",
            "17 ('A brown, black and white cat laying on a DVD player next to a television.',)\n"
          ]
        },
        {
          "output_type": "stream",
          "name": "stderr",
          "text": [
            "  8%|▊         | 835/10000 [00:23<04:17, 35.63it/s]"
          ]
        },
        {
          "output_type": "stream",
          "name": "stdout",
          "text": [
            "6 ('Double decker bus on the street near a stop light.',)\n",
            "1 ('A person on a jet ski diving into the water',)\n"
          ]
        },
        {
          "output_type": "stream",
          "name": "stderr",
          "text": [
            "  8%|▊         | 847/10000 [00:24<04:14, 36.02it/s]"
          ]
        },
        {
          "output_type": "stream",
          "name": "stdout",
          "text": [
            "17 (\"A person's hand on the back of a black cat that is diving into a bathtub filled with debris.\",)\n",
            "11 ('a woman sitting next to a fire hydrant on a curb.',)\n",
            "18 ('a brown and black dog against a white background',)\n"
          ]
        },
        {
          "output_type": "stream",
          "name": "stderr",
          "text": [
            "  9%|▊         | 855/10000 [00:24<04:31, 33.70it/s]"
          ]
        },
        {
          "output_type": "stream",
          "name": "stdout",
          "text": [
            "18 ('A dog nose to nose with a young girl.',)\n"
          ]
        },
        {
          "output_type": "stream",
          "name": "stderr",
          "text": [
            "  9%|▊         | 867/10000 [00:24<04:21, 34.89it/s]"
          ]
        },
        {
          "output_type": "stream",
          "name": "stdout",
          "text": [
            "6 ('A traffic light with a signal stating only buses can turn right.',)\n",
            "10 ('A traffic light with a signal stating only buses can turn right.',)\n"
          ]
        },
        {
          "output_type": "stream",
          "name": "stderr",
          "text": [
            "\r  9%|▊         | 871/10000 [00:25<04:24, 34.46it/s]"
          ]
        },
        {
          "output_type": "stream",
          "name": "stdout",
          "text": [
            "4 ('A side view mirror of a motorcycle with its lights on.',)\n",
            "2 ('A bus parked on the side of a road next to a man on a bicycle.',)\n",
            "1 ('a person is taking a picture of a sandwich',)\n"
          ]
        },
        {
          "output_type": "stream",
          "name": "stderr",
          "text": [
            "  9%|▉         | 883/10000 [00:25<04:20, 35.03it/s]"
          ]
        },
        {
          "output_type": "stream",
          "name": "stdout",
          "text": [
            "10 ('a traffic light next to a street sign with a sky background',)\n"
          ]
        },
        {
          "output_type": "stream",
          "name": "stderr",
          "text": [
            "  9%|▉         | 895/10000 [00:25<04:21, 34.84it/s]"
          ]
        },
        {
          "output_type": "stream",
          "name": "stdout",
          "text": [
            "11 ('A small boy is leaning against a fire hydrant',)\n",
            "11 ('A white fire hydrant sitting on a street corner with a face painted on it.',)\n",
            "2 ('Three bikers, one falling behind a bit, are riding down the road.',)\n",
            "15 ('A bench in front of a small lake with a house in the background.',)\n",
            "19 ('a man in a black top hap riding a horse',)\n"
          ]
        },
        {
          "output_type": "stream",
          "name": "stderr",
          "text": [
            "  9%|▉         | 907/10000 [00:26<04:18, 35.15it/s]"
          ]
        },
        {
          "output_type": "stream",
          "name": "stdout",
          "text": [
            "9 ('The next person dives off the boat to join those already in the water.',)\n",
            "18 ('A man walking a brown dog across a street.',)\n"
          ]
        },
        {
          "output_type": "stream",
          "name": "stderr",
          "text": [
            "  9%|▉         | 915/10000 [00:26<04:16, 35.44it/s]"
          ]
        },
        {
          "output_type": "stream",
          "name": "stdout",
          "text": [
            "8 ('a couple of people sit inside of a truck as people look on',)\n",
            "15 ('A person wearing an orange back pack standing in front of park benches.',)\n",
            "15 ('A bearded man sitting on a bench reading a book.',)\n",
            "9 ('A bird flying beside large boats, with other birds setting on the surface of the water.',)\n",
            "16 ('A bird flying beside large boats, with other birds setting on the surface of the water.',)\n"
          ]
        },
        {
          "output_type": "stream",
          "name": "stderr",
          "text": [
            "  9%|▉         | 927/10000 [00:26<04:22, 34.56it/s]"
          ]
        },
        {
          "output_type": "stream",
          "name": "stdout",
          "text": [
            "17 ('A cat looking at its reflection in a mirror.',)\n",
            "2 ('A man riding a bike with a woman on the back next to a blue bus.',)\n",
            "18 ('A large window with a large brown dog looking out of it.',)\n"
          ]
        },
        {
          "output_type": "stream",
          "name": "stderr",
          "text": [
            "  9%|▉         | 943/10000 [00:27<04:22, 34.51it/s]"
          ]
        },
        {
          "output_type": "stream",
          "name": "stdout",
          "text": [
            "18 ('A large dog is in a living room by a basket.',)\n",
            "17 ('The cat is standing up on the toilet.',)\n",
            "6 ('a bus that is on some tracks',)\n"
          ]
        },
        {
          "output_type": "stream",
          "name": "stderr",
          "text": [
            " 10%|▉         | 951/10000 [00:27<04:15, 35.41it/s]"
          ]
        },
        {
          "output_type": "stream",
          "name": "stdout",
          "text": [
            "18 ('A woman eating a hot dog with many people at an outdoor event.',)\n"
          ]
        },
        {
          "output_type": "stream",
          "name": "stderr",
          "text": [
            " 10%|▉         | 959/10000 [00:27<04:16, 35.27it/s]"
          ]
        },
        {
          "output_type": "stream",
          "name": "stdout",
          "text": [
            "16 ('a lady that has some birds on her back',)\n",
            "19 ('A red horse drawn carriage moving down a street.',)\n"
          ]
        },
        {
          "output_type": "stream",
          "name": "stderr",
          "text": [
            "\r 10%|▉         | 963/10000 [00:27<04:25, 34.07it/s]"
          ]
        },
        {
          "output_type": "stream",
          "name": "stdout",
          "text": [
            "18 ('A black dog is sitting under a man that sits cross-legged on a wall.',)\n",
            "17 ('A black and white cat looking at its reflection in the mirror.',)\n"
          ]
        },
        {
          "output_type": "stream",
          "name": "stderr",
          "text": [
            " 10%|▉         | 971/10000 [00:27<04:27, 33.75it/s]"
          ]
        },
        {
          "output_type": "stream",
          "name": "stdout",
          "text": [
            "8 ('A red food truck parked in a parking lot with a picture of a dog on the side.',)\n",
            "18 ('A red food truck parked in a parking lot with a picture of a dog on the side.',)\n",
            "19 ('A man and a woman riding horses on a sandy beach.',)\n",
            "15 ('A very cute bright blue colored bench with some animals on it.',)\n",
            "16 ('A colorful bird kite at the ocean being held by a woman',)"
          ]
        },
        {
          "output_type": "stream",
          "name": "stderr",
          "text": [
            " 10%|▉         | 979/10000 [00:28<04:16, 35.24it/s]"
          ]
        },
        {
          "output_type": "stream",
          "name": "stdout",
          "text": [
            "\n",
            "8 ('A orange transport truck driving near a side of a bridge.',)\n",
            "19 ('Two people riding a brown horse next to the ocean.',)\n",
            "15 ('A bench sitting in front of while plants in a green grass covered park.',)\n"
          ]
        },
        {
          "output_type": "stream",
          "name": "stderr",
          "text": [
            " 10%|▉         | 991/10000 [00:28<04:20, 34.64it/s]"
          ]
        },
        {
          "output_type": "stream",
          "name": "stdout",
          "text": [
            "16 ('Beautiful hummingbirds flying and buzzing away in nature.',)\n",
            "18 ('A dog sitting in a living room next to a couch.',)\n"
          ]
        },
        {
          "output_type": "stream",
          "name": "stderr",
          "text": [
            " 10%|█         | 1003/10000 [00:28<04:44, 31.61it/s]"
          ]
        },
        {
          "output_type": "stream",
          "name": "stdout",
          "text": [
            "7 ('this is a group of people near a train with trays on their heads',)\n",
            "1 ('A person and a dog, floating in in a raft on a river.',)\n"
          ]
        },
        {
          "output_type": "stream",
          "name": "stderr",
          "text": [
            " 10%|█         | 1015/10000 [00:29<04:37, 32.33it/s]"
          ]
        },
        {
          "output_type": "stream",
          "name": "stdout",
          "text": [
            "2 ('A moped bike with a dirt field in the background.',)\n",
            "18 ('A cute dog standing on a box of pizza.',)\n",
            "2 ('Dog on leash stands next to bicycle with orange rims..',)\n",
            "16 ('A bird with a red beak standing on a beach.',)\n",
            "18 ('a black and brown dog on a leash is sitting on a sidewalk',)\n"
          ]
        },
        {
          "output_type": "stream",
          "name": "stderr",
          "text": [
            " 10%|█         | 1023/10000 [00:29<04:39, 32.06it/s]"
          ]
        },
        {
          "output_type": "stream",
          "name": "stdout",
          "text": [
            "19 ('A group of horses standing on th e beach',)\n",
            "17 ('A cat is sitting watching a television show.',)\n",
            "17 ('A cat is laying on the table under a book in the shelf.',)\n"
          ]
        },
        {
          "output_type": "stream",
          "name": "stderr",
          "text": [
            " 10%|█         | 1035/10000 [00:29<04:28, 33.34it/s]"
          ]
        },
        {
          "output_type": "stream",
          "name": "stdout",
          "text": [
            "2 ('A bicycle resting on a wall next to a yellow door.',)\n",
            "4 ('A woman sits on a parked motorcycle on the street',)\n",
            "19 ('Two men and two brown horses pulling a cart in barn',)\n",
            "19 ('Several horses standing in the grass alongside a riverbank.',)\n"
          ]
        },
        {
          "output_type": "stream",
          "name": "stderr",
          "text": [
            " 10%|█         | 1044/10000 [00:30<04:10, 35.79it/s]"
          ]
        },
        {
          "output_type": "stream",
          "name": "stdout",
          "text": [
            "13 ('A stop sign in landscaping, across the street from businesses.',)\n",
            "2 ('A person carries a basket on a bicycle at a busy intersection.',)\n"
          ]
        },
        {
          "output_type": "stream",
          "name": "stderr",
          "text": [
            " 11%|█         | 1052/10000 [00:30<04:21, 34.17it/s]"
          ]
        },
        {
          "output_type": "stream",
          "name": "stdout",
          "text": [
            "4 ('Two people sitting on a motor bike outside a store talking to other people.',)\n",
            "19 ('A man is on a horse in the snow with another person behind him.',)\n"
          ]
        },
        {
          "output_type": "stream",
          "name": "stderr",
          "text": [
            " 11%|█         | 1060/10000 [00:30<04:18, 34.59it/s]"
          ]
        },
        {
          "output_type": "stream",
          "name": "stdout",
          "text": [
            "19 ('A brown horse standing next to a pile of green hay.',)\n",
            "18 ('A dog holding a frisbee in its mouth',)\n",
            "15 ('A park bench sits off to the side by the trees.',)\n"
          ]
        },
        {
          "output_type": "stream",
          "name": "stderr",
          "text": [
            " 11%|█         | 1068/10000 [00:30<04:28, 33.22it/s]"
          ]
        },
        {
          "output_type": "stream",
          "name": "stdout",
          "text": [
            "19 ('Two horses grazing on open plains under a blue sky.',)\n",
            "8 ('Firetrucks rolling down the street in what looks like a small town parade.',)\n",
            "13 ('Stop signs are placed outside of rusty buildings',)\n"
          ]
        },
        {
          "output_type": "stream",
          "name": "stderr",
          "text": [
            " 11%|█         | 1076/10000 [00:31<04:21, 34.09it/s]"
          ]
        },
        {
          "output_type": "stream",
          "name": "stdout",
          "text": [
            "9 ('Many people are walking around the dock near numerous ships.',)\n",
            "16 ('A vase filled with sunflowers next to a vase filled with Oragami birds.',)\n",
            "19 ('A couple officers riding horses down a cobblestone road.',)\n"
          ]
        },
        {
          "output_type": "stream",
          "name": "stderr",
          "text": [
            " 11%|█         | 1084/10000 [00:31<04:13, 35.11it/s]"
          ]
        },
        {
          "output_type": "stream",
          "name": "stdout",
          "text": [
            "1 ('A person that is holding a cellphone over a basket.',)\n",
            "2 ('A teddy bear is near a picture and a bike tire.',)\n"
          ]
        },
        {
          "output_type": "stream",
          "name": "stderr",
          "text": [
            " 11%|█         | 1096/10000 [00:31<04:05, 36.20it/s]"
          ]
        },
        {
          "output_type": "stream",
          "name": "stdout",
          "text": [
            "18 ('A black dog is on grass holding an orange Frisbee in his mouth.',)\n",
            "15 ('A wooden bench with a box of pizza.',)\n",
            "19 ('Two people are on the beach riding their horses.',)\n",
            "1 ('A person showing off a pizza from the oven',)\n"
          ]
        },
        {
          "output_type": "stream",
          "name": "stderr",
          "text": [
            " 11%|█         | 1104/10000 [00:31<04:19, 34.26it/s]"
          ]
        },
        {
          "output_type": "stream",
          "name": "stdout",
          "text": [
            "16 ('Two birds flying past a building and a lighthouse.',)\n",
            "15 ('A woman sitting on a bench under a tree in a park.',)\n",
            "3 ('An empty alley with a few birds and a car parked',)\n",
            "16 ('An empty alley with a few birds and a car parked',)\n",
            "2 ('A man on a bike is petting a dog that is on another bike.',)\n",
            "18 ('A man on a bike is petting a dog that is on another bike.',)\n"
          ]
        },
        {
          "output_type": "stream",
          "name": "stderr",
          "text": [
            " 11%|█         | 1112/10000 [00:32<04:21, 33.98it/s]"
          ]
        },
        {
          "output_type": "stream",
          "name": "stdout",
          "text": [
            "15 ('A skateboarder is doing a trick on a bench.',)\n",
            "15 ('Young adults are sitting on benches around a pay phone.',)\n"
          ]
        },
        {
          "output_type": "stream",
          "name": "stderr",
          "text": [
            " 11%|█         | 1120/10000 [00:32<04:13, 34.99it/s]"
          ]
        },
        {
          "output_type": "stream",
          "name": "stdout",
          "text": [
            "19 ('A person on a horse in a grass field.',)\n"
          ]
        },
        {
          "output_type": "stream",
          "name": "stderr",
          "text": [
            " 11%|█▏        | 1128/10000 [00:32<04:19, 34.17it/s]"
          ]
        },
        {
          "output_type": "stream",
          "name": "stdout",
          "text": [
            "4 ('a green motorcycle parked in front of a old building',)\n",
            "3 ('a red car with a black top and a man with a green umbrella',)\n",
            "18 ('A person riding a skateboard while walking a dog.',)\n"
          ]
        },
        {
          "output_type": "stream",
          "name": "stderr",
          "text": [
            " 11%|█▏        | 1144/10000 [00:32<04:09, 35.51it/s]"
          ]
        },
        {
          "output_type": "stream",
          "name": "stdout",
          "text": [
            "9 ('Two worn sailboats with outriggers resting on a sandy beach.',)\n",
            "17 ('A fluffy cat wearing a whit knitted hat.',)\n"
          ]
        },
        {
          "output_type": "stream",
          "name": "stderr",
          "text": [
            " 12%|█▏        | 1156/10000 [00:33<04:06, 35.91it/s]"
          ]
        },
        {
          "output_type": "stream",
          "name": "stdout",
          "text": [
            "3 ('A cat sitting on top of the hood of a red car.',)\n",
            "17 ('A cat sitting on top of the hood of a red car.',)\n",
            "2 ('A horse is being tied to a bike stand.',)\n",
            "19 ('A horse is being tied to a bike stand.',)\n"
          ]
        },
        {
          "output_type": "stream",
          "name": "stderr",
          "text": [
            " 12%|█▏        | 1164/10000 [00:33<04:10, 35.21it/s]"
          ]
        },
        {
          "output_type": "stream",
          "name": "stdout",
          "text": [
            "9 ('A woman riding on a sail boat in the ocean.',)\n",
            "4 ('A parked motorcycle sitting in front of a building.',)\n"
          ]
        },
        {
          "output_type": "stream",
          "name": "stderr",
          "text": [
            " 12%|█▏        | 1172/10000 [00:33<04:29, 32.74it/s]"
          ]
        },
        {
          "output_type": "stream",
          "name": "stdout",
          "text": [
            "2 ('Police on bicycles behind a man playing guitar on a street for coins.',)\n"
          ]
        },
        {
          "output_type": "stream",
          "name": "stderr",
          "text": [
            " 12%|█▏        | 1180/10000 [00:34<04:17, 34.32it/s]"
          ]
        },
        {
          "output_type": "stream",
          "name": "stdout",
          "text": [
            "19 ('A lean cow eats grass in the foreground as a horse climbs the hillside behind.',)\n",
            "2 ('There is ample dedicated  parking for bicycles in the city',)\n",
            "15 ('Two couples sitting on a bench, ladies holding bags.',)\n",
            "15 ('a bronze statue sits on a bench in the snow',)\n"
          ]
        },
        {
          "output_type": "stream",
          "name": "stderr",
          "text": [
            " 12%|█▏        | 1188/10000 [00:34<04:15, 34.52it/s]"
          ]
        },
        {
          "output_type": "stream",
          "name": "stdout",
          "text": [
            "15 ('A woman with a large, brown purse walks down a path while two people sit on a bench.',)\n",
            "9 ('A man sitting on a boat that is sailing past a police boat.',)\n",
            "8 ('Some trucks that are parked in the grass.',)\n",
            "14 ('The fire fighter is resting by the parking meter.',)\n",
            "19 ('a person that is riding a horse in a field',)\n"
          ]
        },
        {
          "output_type": "stream",
          "name": "stderr",
          "text": [
            " 12%|█▏        | 1196/10000 [00:34<04:12, 34.88it/s]"
          ]
        },
        {
          "output_type": "stream",
          "name": "stdout",
          "text": [
            "18 ('A woman holding an object next to a girl, boy and dog.',)\n",
            "19 ('A herd of horses being taken across a river surrounded by mountains.',)\n",
            "8 ('A couple of trucks driving through a snow covered field.',)\n",
            "19 ('A couple of horses standing next to each other.',)\n"
          ]
        },
        {
          "output_type": "stream",
          "name": "stderr",
          "text": [
            " 12%|█▏        | 1208/10000 [00:34<04:15, 34.38it/s]"
          ]
        },
        {
          "output_type": "stream",
          "name": "stdout",
          "text": [
            "19 ('A man riding a brown horse through short brush.',)\n",
            "9 ('a number of small boats at a harbor',)\n",
            "8 ('A white truck driving down a curvy road.',)\n",
            "14 ('A parking meter sitting next to a traffic filled street.',)\n"
          ]
        },
        {
          "output_type": "stream",
          "name": "stderr",
          "text": [
            " 12%|█▏        | 1224/10000 [00:35<04:58, 29.43it/s]"
          ]
        },
        {
          "output_type": "stream",
          "name": "stdout",
          "text": [
            "11 ('A yellow fire hydrant that is sitting on a sidewalk.',)\n",
            "19 ('Three people riding their horses in a field.',)\n"
          ]
        },
        {
          "output_type": "stream",
          "name": "stderr",
          "text": [
            " 12%|█▏        | 1231/10000 [00:35<05:14, 27.89it/s]"
          ]
        },
        {
          "output_type": "stream",
          "name": "stdout",
          "text": [
            "1 ('A person that is looking at an airplane.',)\n",
            "8 ('Two yellow equipment trucks parked inside a gate.',)\n",
            "11 ('A red fire hydrant is sitting outside by a curb',)\n"
          ]
        },
        {
          "output_type": "stream",
          "name": "stderr",
          "text": [
            " 12%|█▏        | 1240/10000 [00:36<05:38, 25.86it/s]"
          ]
        },
        {
          "output_type": "stream",
          "name": "stdout",
          "text": [
            "9 ('a picture of an old boat with a lot of people around it',)\n",
            "4 ('A row of seats fashioned out of old motorcycles.',)\n"
          ]
        },
        {
          "output_type": "stream",
          "name": "stderr",
          "text": [
            " 12%|█▏        | 1249/10000 [00:36<05:50, 24.96it/s]"
          ]
        },
        {
          "output_type": "stream",
          "name": "stdout",
          "text": [
            "6 ('A group of people are on a little tram type bus.',)\n",
            "1 ('A two engine prop plane on the runway with airport personnel.',)\n"
          ]
        },
        {
          "output_type": "stream",
          "name": "stderr",
          "text": [
            " 13%|█▎        | 1258/10000 [00:36<05:44, 25.38it/s]"
          ]
        },
        {
          "output_type": "stream",
          "name": "stdout",
          "text": [
            "13 ('a stop sign sits under an awning',)\n",
            "16 ('This is a sunset with a bird in the sky',)\n",
            "6 ('I cannot tell if he is homeless or just waiting on the bus.',)\n",
            "14 ('A parking meter wearing a blonde wig on a sidewalk.',)\n",
            "13 ('A large building and stop sign on a city street.',)\n"
          ]
        },
        {
          "output_type": "stream",
          "name": "stderr",
          "text": [
            " 13%|█▎        | 1267/10000 [00:37<06:07, 23.76it/s]"
          ]
        },
        {
          "output_type": "stream",
          "name": "stdout",
          "text": [
            "2 ('A bike parked in a kitchen next to a dishwasher.',)\n",
            "9 ('A boat with a man fishing on it on a lake.',)\n"
          ]
        },
        {
          "output_type": "stream",
          "name": "stderr",
          "text": [
            " 13%|█▎        | 1279/10000 [00:37<06:00, 24.22it/s]"
          ]
        },
        {
          "output_type": "stream",
          "name": "stdout",
          "text": [
            "18 ('a dog on seawater near the shoreline at the beach',)\n",
            "16 ('A group of birds sitting on a wooden platform.',)\n",
            "10 ('A white city bus traveling down a street next to a traffic light.',)\n"
          ]
        },
        {
          "output_type": "stream",
          "name": "stderr",
          "text": [
            " 13%|█▎        | 1291/10000 [00:38<05:48, 24.96it/s]"
          ]
        },
        {
          "output_type": "stream",
          "name": "stdout",
          "text": [
            "9 ('Boat market sitting on the side of a street.',)\n",
            "16 ('A bird along the shore line is picking in the sand.',)\n",
            "18 ('A white dog has a white frisbee on grass.',)\n"
          ]
        },
        {
          "output_type": "stream",
          "name": "stderr",
          "text": [
            " 13%|█▎        | 1300/10000 [00:38<05:59, 24.18it/s]"
          ]
        },
        {
          "output_type": "stream",
          "name": "stdout",
          "text": [
            "18 ('A small dog is eating from his food bowl.',)\n",
            "13 ('A defaced stop sign in front of a brick wall.',)\n"
          ]
        },
        {
          "output_type": "stream",
          "name": "stderr",
          "text": [
            " 13%|█▎        | 1312/10000 [00:38<06:16, 23.05it/s]"
          ]
        },
        {
          "output_type": "stream",
          "name": "stdout",
          "text": [
            "18 ('A brown and white dog laying on grassy field.',)\n",
            "4 ('A police officer on a motorcycle directing traffic',)\n"
          ]
        },
        {
          "output_type": "stream",
          "name": "stderr",
          "text": [
            " 13%|█▎        | 1318/10000 [00:39<06:56, 20.85it/s]"
          ]
        },
        {
          "output_type": "stream",
          "name": "stdout",
          "text": [
            "17 ('A cat sits under an open umbrella inside.',)\n"
          ]
        },
        {
          "output_type": "stream",
          "name": "stderr",
          "text": [
            " 13%|█▎        | 1329/10000 [00:39<07:01, 20.58it/s]"
          ]
        },
        {
          "output_type": "stream",
          "name": "stdout",
          "text": [
            "18 ('an older dog lying calmly on the floor.',)\n"
          ]
        },
        {
          "output_type": "stream",
          "name": "stderr",
          "text": [
            " 13%|█▎        | 1339/10000 [00:40<08:36, 16.77it/s]"
          ]
        },
        {
          "output_type": "stream",
          "name": "stdout",
          "text": [
            "2 ('A man riding a bike in front of a bus.',)\n",
            "6 ('A man riding a bike in front of a bus.',)\n",
            "9 ('A boat is full of flowers and is docked to the deck.',)\n"
          ]
        },
        {
          "output_type": "stream",
          "name": "stderr",
          "text": [
            " 14%|█▎        | 1356/10000 [00:41<07:56, 18.12it/s]"
          ]
        },
        {
          "output_type": "stream",
          "name": "stdout",
          "text": [
            "7 ('a red and blue train on the track',)\n",
            "1 ('a person jogging by a block wall fence of a business',)\n",
            "13 ('A stop sign poted on a pole with the word WAR\" spray painted in the center of it.\"',)\n"
          ]
        },
        {
          "output_type": "stream",
          "name": "stderr",
          "text": [
            " 14%|█▎        | 1361/10000 [00:41<07:17, 19.73it/s]"
          ]
        },
        {
          "output_type": "stream",
          "name": "stdout",
          "text": [
            "8 ('Two men standing next to a truck wearing coats, ties, and hats.',)\n"
          ]
        },
        {
          "output_type": "stream",
          "name": "stderr",
          "text": [
            " 14%|█▎        | 1371/10000 [00:42<09:16, 15.51it/s]"
          ]
        },
        {
          "output_type": "stream",
          "name": "stdout",
          "text": [
            "14 ('Two parking meters one covered with a blue cover',)\n"
          ]
        },
        {
          "output_type": "stream",
          "name": "stderr",
          "text": [
            " 14%|█▍        | 1376/10000 [00:42<08:29, 16.93it/s]"
          ]
        },
        {
          "output_type": "stream",
          "name": "stdout",
          "text": [
            "18 ('A white dog resting its head on a sofa.',)\n"
          ]
        },
        {
          "output_type": "stream",
          "name": "stderr",
          "text": [
            " 14%|█▍        | 1380/10000 [00:43<08:31, 16.85it/s]"
          ]
        },
        {
          "output_type": "stream",
          "name": "stdout",
          "text": [
            "15 ('Two cats sleeping on a blanket on a bench',)\n"
          ]
        },
        {
          "output_type": "stream",
          "name": "stderr",
          "text": [
            " 14%|█▍        | 1384/10000 [00:43<10:47, 13.31it/s]"
          ]
        },
        {
          "output_type": "stream",
          "name": "stdout",
          "text": [
            "18 ('A statue of a dog sitting on top of a table.',)\n"
          ]
        },
        {
          "output_type": "stream",
          "name": "stderr",
          "text": [
            " 14%|█▍        | 1399/10000 [00:44<05:57, 24.08it/s]"
          ]
        },
        {
          "output_type": "stream",
          "name": "stdout",
          "text": [
            "17 (\"A cat laying on a bed with a remote control on it's back.\",)\n",
            "14 ('A couple of men dong road construction next to a parking meter.',)\n",
            "2 ('A bike parked outside of a building on a sidewalk.',)\n"
          ]
        },
        {
          "output_type": "stream",
          "name": "stderr",
          "text": [
            " 14%|█▍        | 1407/10000 [00:44<04:47, 29.88it/s]"
          ]
        },
        {
          "output_type": "stream",
          "name": "stdout",
          "text": [
            "2 ('An overview of the chains, pedals, and chains of a bike.',)\n",
            "16 ('A large colored bird perched on a power line',)\n"
          ]
        },
        {
          "output_type": "stream",
          "name": "stderr",
          "text": [
            " 14%|█▍        | 1415/10000 [00:44<04:20, 32.93it/s]"
          ]
        },
        {
          "output_type": "stream",
          "name": "stdout",
          "text": [
            "19 ('People watching horses race at a horse race.',)\n",
            "19 ('A group of horses being ridden in a grassy field.',)\n",
            "18 ('a dog watches as a man lays down  next to it',)\n"
          ]
        },
        {
          "output_type": "stream",
          "name": "stderr",
          "text": [
            " 14%|█▍        | 1423/10000 [00:44<04:17, 33.36it/s]"
          ]
        },
        {
          "output_type": "stream",
          "name": "stdout",
          "text": [
            "15 ('A little girl is sitting on a bench kicking feet while holding her head.',)\n",
            "1 ('A person feeds a carrot to a giraffe',)\n"
          ]
        },
        {
          "output_type": "stream",
          "name": "stderr",
          "text": [
            " 14%|█▍        | 1431/10000 [00:45<04:23, 32.48it/s]"
          ]
        },
        {
          "output_type": "stream",
          "name": "stdout",
          "text": [
            "18 ('A man eating a hot dog on a city sidewalk.',)\n",
            "15 ('A wooden bench sitting in a park next to grass.',)\n",
            "19 ('A white horse standing next to a brown horse near a wood and brick fence.',)\n",
            "1 ('a person walking on a street with a luggage bag',)\n"
          ]
        },
        {
          "output_type": "stream",
          "name": "stderr",
          "text": [
            " 15%|█▍        | 1455/10000 [00:45<03:56, 36.11it/s]"
          ]
        },
        {
          "output_type": "stream",
          "name": "stdout",
          "text": [
            "10 ('A red traffic light with a no left turn symbol on.',)\n",
            "3 ('A tie has a print of a Model T car.',)\n",
            "2 ('A man on a bicycle with a dog walking next to him',)\n",
            "18 ('A man on a bicycle with a dog walking next to him',)\n",
            "5 ('A white aeroplane is flying inside a room',)\n"
          ]
        },
        {
          "output_type": "stream",
          "name": "stderr",
          "text": [
            " 15%|█▍        | 1479/10000 [00:46<04:00, 35.37it/s]"
          ]
        },
        {
          "output_type": "stream",
          "name": "stdout",
          "text": [
            "16 ('A bird is swimming in a body of water',)\n",
            "4 ('A motorcycle on display in a room on top of a black pedestal.',)\n",
            "4 ('A red motorcycle with a pizza box mounted on the back.',)\n"
          ]
        },
        {
          "output_type": "stream",
          "name": "stderr",
          "text": [
            " 15%|█▍        | 1487/10000 [00:46<03:54, 36.29it/s]"
          ]
        },
        {
          "output_type": "stream",
          "name": "stdout",
          "text": [
            "8 ('A big white truck parked in front of a building.',)\n",
            "13 ('The hand written stop sign is next to a green start sign.',)\n",
            "16 ('A gray and white bird eating a piece of flesh.',)\n"
          ]
        },
        {
          "output_type": "stream",
          "name": "stderr",
          "text": [
            " 15%|█▍        | 1495/10000 [00:46<04:03, 34.96it/s]"
          ]
        },
        {
          "output_type": "stream",
          "name": "stdout",
          "text": [
            "15 ('A pretty young woman sitting on a wooden bench.',)\n",
            "7 ('A male and female sharing earbuds on a train.',)\n"
          ]
        },
        {
          "output_type": "stream",
          "name": "stderr",
          "text": [
            " 15%|█▌        | 1503/10000 [00:47<04:04, 34.73it/s]"
          ]
        },
        {
          "output_type": "stream",
          "name": "stdout",
          "text": [
            "8 ('Birthday cake decorated with a frosting in the shape of a truck.',)\n",
            "18 ('A dog standing outside eats a piece of pizza.',)\n"
          ]
        },
        {
          "output_type": "stream",
          "name": "stderr",
          "text": [
            " 15%|█▌        | 1511/10000 [00:47<04:04, 34.69it/s]"
          ]
        },
        {
          "output_type": "stream",
          "name": "stdout",
          "text": [
            "11 (\"A van next to a fire hydrant that's spraying water in the air.\",)\n",
            "16 ('Several white and red birds walk through the grass.',)\n"
          ]
        },
        {
          "output_type": "stream",
          "name": "stderr",
          "text": [
            " 15%|█▌        | 1531/10000 [00:47<03:56, 35.82it/s]"
          ]
        },
        {
          "output_type": "stream",
          "name": "stdout",
          "text": [
            "1 ('Two personal sized pizza and a jug of lemonade.',)\n",
            "13 ('A red stop sign above a white left turn sign.',)\n",
            "3 ('there are many fire trucks and=f fire cars in this garage',)\n",
            "8 ('there are many fire trucks and=f fire cars in this garage',)\n"
          ]
        },
        {
          "output_type": "stream",
          "name": "stderr",
          "text": [
            " 15%|█▌        | 1539/10000 [00:48<04:02, 34.92it/s]"
          ]
        },
        {
          "output_type": "stream",
          "name": "stdout",
          "text": [
            "16 ('some white birds are standing by the water',)\n",
            "2 ('One person skateboarding and another riding a bicycle on a busy city street.',)\n"
          ]
        },
        {
          "output_type": "stream",
          "name": "stderr",
          "text": [
            " 15%|█▌        | 1547/10000 [00:48<04:23, 32.10it/s]"
          ]
        },
        {
          "output_type": "stream",
          "name": "stdout",
          "text": [
            "14 ('Two men are looking at the broken parking meter.',)\n",
            "18 ('A white and black dog steps onto a doormat.',)\n"
          ]
        },
        {
          "output_type": "stream",
          "name": "stderr",
          "text": [
            " 16%|█▌        | 1555/10000 [00:48<04:15, 33.03it/s]"
          ]
        },
        {
          "output_type": "stream",
          "name": "stdout",
          "text": [
            "11 ('A fire hydrants on a bricked driveway in front of a garage.',)\n",
            "4 ('A motorcycle is parked in a narrow alleyway.',)\n",
            "13 ('A red stop sign on a wooden pole under a green street sight.',)\n",
            "15 ('A man sitting on top of a cement bench wearing a mask.',)\n"
          ]
        },
        {
          "output_type": "stream",
          "name": "stderr",
          "text": [
            " 16%|█▌        | 1563/10000 [00:48<04:08, 33.93it/s]"
          ]
        },
        {
          "output_type": "stream",
          "name": "stdout",
          "text": [
            "10 ('A traffic light with a green signal next to tall buildings.',)\n",
            "2 ('A bicycle sitting on a sidewalk against a brick wall.',)\n",
            "6 ('A couple holds hands as they walk down a bus street.',)\n",
            "9 ('A group of people sitting on a white boat floating on a lake.',)\n"
          ]
        },
        {
          "output_type": "stream",
          "name": "stderr",
          "text": [
            " 16%|█▌        | 1571/10000 [00:49<04:03, 34.65it/s]"
          ]
        },
        {
          "output_type": "stream",
          "name": "stdout",
          "text": [
            "13 ('A red stop sign sitting on the side of a street.',)\n",
            "4 ('BLACK AND WHITE PICTURE OF A MOTORCYCLE COP AND A POLICE C AR',)\n",
            "16 ('A bird sitting on some plants in the water.',)\n",
            "18 ('A white dog with spots standing near some bananas.',)\n"
          ]
        },
        {
          "output_type": "stream",
          "name": "stderr",
          "text": [
            " 16%|█▌        | 1591/10000 [00:49<03:53, 36.03it/s]"
          ]
        },
        {
          "output_type": "stream",
          "name": "stdout",
          "text": [
            "15 ('A girl sitting on the bench in town square talking on the phone.',)\n",
            "19 ('Large horses pulling a carriage through city streets.',)\n",
            "9 ('Two boats have been docked in the harbor.',)\n"
          ]
        },
        {
          "output_type": "stream",
          "name": "stderr",
          "text": [
            " 16%|█▌        | 1603/10000 [00:49<03:55, 35.66it/s]"
          ]
        },
        {
          "output_type": "stream",
          "name": "stdout",
          "text": [
            "19 ('A large woman riding a horse around a arena',)\n",
            "18 (\"A dog with a blue eye has a plastic hot dog in it's mouth.\",)\n"
          ]
        },
        {
          "output_type": "stream",
          "name": "stderr",
          "text": [
            " 16%|█▌        | 1611/10000 [00:50<04:10, 33.53it/s]"
          ]
        },
        {
          "output_type": "stream",
          "name": "stdout",
          "text": [
            "11 ('A red fire hydrant hidden in between yellow flowers.',)\n"
          ]
        },
        {
          "output_type": "stream",
          "name": "stderr",
          "text": [
            " 16%|█▌        | 1619/10000 [00:50<04:11, 33.26it/s]"
          ]
        },
        {
          "output_type": "stream",
          "name": "stdout",
          "text": [
            "11 ('A red fire hydrant stands in a snowdrift as traffic passes.',)\n",
            "16 ('A bird sitting on top of a straw next to a brick wall.',)\n",
            "16 ('A small grey bird on a tree branch.',)\n",
            "15 ('A woman using her cellphone is sitting on a bench.',)\n",
            "17 ('A black cat is lying on the floor next to a table.',)\n"
          ]
        },
        {
          "output_type": "stream",
          "name": "stderr",
          "text": [
            "\r 16%|█▌        | 1623/10000 [00:50<04:19, 32.24it/s]"
          ]
        },
        {
          "output_type": "stream",
          "name": "stdout",
          "text": [
            "1 ('a person on a bicycle a street buildings and a red truck',)\n",
            "2 ('a person on a bicycle a street buildings and a red truck',)\n",
            "8 ('a person on a bicycle a street buildings and a red truck',)\n",
            "8 ('A group of people standing around a blue truck.',)\n",
            "3 ('A small dog sitting on a dog bed in a car seat.',)\n",
            "18 ('A small dog sitting on a dog bed in a car seat.',)\n"
          ]
        },
        {
          "output_type": "stream",
          "name": "stderr",
          "text": [
            " 16%|█▋        | 1631/10000 [00:50<04:06, 33.99it/s]"
          ]
        },
        {
          "output_type": "stream",
          "name": "stdout",
          "text": [
            "19 ('A pair of horses stand on a mountain road.',)\n",
            "2 ('A gang of bikers parked in front of a building.',)\n"
          ]
        },
        {
          "output_type": "stream",
          "name": "stderr",
          "text": [
            " 16%|█▋        | 1643/10000 [00:51<03:57, 35.18it/s]"
          ]
        },
        {
          "output_type": "stream",
          "name": "stdout",
          "text": [
            "19 ('Some people are gathered around horse back riding.',)\n",
            "7 ('A line of rocks sitting along side of train tracks.',)\n"
          ]
        },
        {
          "output_type": "stream",
          "name": "stderr",
          "text": [
            " 17%|█▋        | 1659/10000 [00:51<03:44, 37.12it/s]"
          ]
        },
        {
          "output_type": "stream",
          "name": "stdout",
          "text": [
            "17 ('A house with a pointy ceiling and a window with a cat in it.',)\n",
            "16 ('A bird is taking flight during the day.',)\n",
            "1 ('a person riding skis jumping in the air',)\n"
          ]
        },
        {
          "output_type": "stream",
          "name": "stderr",
          "text": [
            " 17%|█▋        | 1671/10000 [00:51<03:47, 36.62it/s]"
          ]
        },
        {
          "output_type": "stream",
          "name": "stdout",
          "text": [
            "19 ('The couple is having a conversation on the horse drawn cart.',)\n",
            "1 ('A person riding a bike towards a traffic light.',)\n",
            "2 ('A person riding a bike towards a traffic light.',)\n",
            "10 ('A person riding a bike towards a traffic light.',)\n"
          ]
        },
        {
          "output_type": "stream",
          "name": "stderr",
          "text": [
            "\r 17%|█▋        | 1675/10000 [00:52<03:49, 36.30it/s]"
          ]
        },
        {
          "output_type": "stream",
          "name": "stdout",
          "text": [
            "19 ('Cavalry military unit with horses and wagons riding through a village in Europe.',)\n",
            "13 ('A red stop sign sitting next to a field.',)\n",
            "13 ('A red stop sign next to a do not enter and one way signs',)\n"
          ]
        },
        {
          "output_type": "stream",
          "name": "stderr",
          "text": [
            " 17%|█▋        | 1687/10000 [00:52<03:59, 34.74it/s]"
          ]
        },
        {
          "output_type": "stream",
          "name": "stdout",
          "text": [
            "18 ('A dog catching a frisbee in the air.',)\n",
            "5 ('Large airplane flying over the sky towards a mysterious area.',)\n"
          ]
        },
        {
          "output_type": "stream",
          "name": "stderr",
          "text": [
            " 17%|█▋        | 1699/10000 [00:52<03:57, 34.91it/s]"
          ]
        },
        {
          "output_type": "stream",
          "name": "stdout",
          "text": [
            "18 ('A dog is sitting on the couch watching TV.',)\n",
            "9 ('Many different types of small boats on the water.',)\n",
            "1 ('a person riding a motorcycle with a trailer',)\n",
            "4 ('a person riding a motorcycle with a trailer',)\n",
            "19 ('A group of horses standing next to a umbrella.',)\n"
          ]
        },
        {
          "output_type": "stream",
          "name": "stderr",
          "text": [
            " 17%|█▋        | 1707/10000 [00:52<03:49, 36.11it/s]"
          ]
        },
        {
          "output_type": "stream",
          "name": "stdout",
          "text": [
            "18 ('A dog that has a hat on in a house.',)\n"
          ]
        },
        {
          "output_type": "stream",
          "name": "stderr",
          "text": [
            " 17%|█▋        | 1715/10000 [00:53<03:53, 35.45it/s]"
          ]
        },
        {
          "output_type": "stream",
          "name": "stdout",
          "text": [
            "6 (\"A school bus parked with it's stop sign closed.\",)\n",
            "13 (\"A school bus parked with it's stop sign closed.\",)\n",
            "2 ('A bike and some cars in a grassy field.',)\n",
            "3 ('A bike and some cars in a grassy field.',)\n"
          ]
        },
        {
          "output_type": "stream",
          "name": "stderr",
          "text": [
            " 17%|█▋        | 1723/10000 [00:53<04:07, 33.47it/s]"
          ]
        },
        {
          "output_type": "stream",
          "name": "stdout",
          "text": [
            "19 ('a horse standing around and eating some grass',)\n",
            "19 ('A white horse pulling a horse carriage down a street.',)\n",
            "14 ('A man standing in front of a parking meter about to put money in it.',)\n"
          ]
        },
        {
          "output_type": "stream",
          "name": "stderr",
          "text": [
            " 17%|█▋        | 1731/10000 [00:53<03:58, 34.65it/s]"
          ]
        },
        {
          "output_type": "stream",
          "name": "stdout",
          "text": [
            "2 ('A metal bicycle sculpture in front of a flat screen tv.',)\n",
            "7 ('Some young girls are in a playground type train.',)\n"
          ]
        },
        {
          "output_type": "stream",
          "name": "stderr",
          "text": [
            " 17%|█▋        | 1739/10000 [00:53<03:58, 34.62it/s]"
          ]
        },
        {
          "output_type": "stream",
          "name": "stdout",
          "text": [
            "19 ('three sheriffs riding through the grass on their horses',)\n",
            "19 ('A horse standing on a lush green field.',)\n",
            "8 ('A truck carrying a load of produce is shown from behind.',)"
          ]
        },
        {
          "output_type": "stream",
          "name": "stderr",
          "text": [
            " 17%|█▋        | 1747/10000 [00:54<04:14, 32.40it/s]"
          ]
        },
        {
          "output_type": "stream",
          "name": "stdout",
          "text": [
            "\n",
            "18 ('A dog eating a heart shaped doggie birthday cake off a plate.',)\n",
            "8 ('A white and green deliver truck with red trim.',)\n",
            "18 ('A cow sniffing at a dog through a fence.',)\n",
            "17 ('A man beside a cat atop a brown skateboard.',)\n",
            "16 ('A white cow with a bird perched on its neck.',)\n",
            "18 ('A dog and a man sitting at a laptop in a room.',)\n"
          ]
        },
        {
          "output_type": "stream",
          "name": "stderr",
          "text": [
            " 18%|█▊        | 1755/10000 [00:54<04:11, 32.72it/s]"
          ]
        },
        {
          "output_type": "stream",
          "name": "stdout",
          "text": [
            "2 ('a man on a bike holds an umbrella over his head',)\n",
            "1 ('a person is sticking their hand under some water',)\n",
            "10 ('A street with gravel on the side and a traffic light.',)\n"
          ]
        },
        {
          "output_type": "stream",
          "name": "stderr",
          "text": [
            " 18%|█▊        | 1767/10000 [00:54<04:00, 34.27it/s]"
          ]
        },
        {
          "output_type": "stream",
          "name": "stdout",
          "text": [
            "2 ('A stop sign and a bicycle sign stand in front of a street scene.',)\n",
            "13 ('A stop sign and a bicycle sign stand in front of a street scene.',)\n",
            "11 ('This faded red fire hydrant has been there a long time.',)\n"
          ]
        },
        {
          "output_type": "stream",
          "name": "stderr",
          "text": [
            " 18%|█▊        | 1775/10000 [00:54<03:52, 35.42it/s]"
          ]
        },
        {
          "output_type": "stream",
          "name": "stdout",
          "text": [
            "18 ('a black dog with a chain collar sitting next to a window.',)\n",
            "8 ('A truck driving after a herd of sheep.',)\n"
          ]
        },
        {
          "output_type": "stream",
          "name": "stderr",
          "text": [
            " 18%|█▊        | 1783/10000 [00:55<03:50, 35.73it/s]"
          ]
        },
        {
          "output_type": "stream",
          "name": "stdout",
          "text": [
            "19 ('A horse runs quickly through a grassy field.',)\n"
          ]
        },
        {
          "output_type": "stream",
          "name": "stderr",
          "text": [
            " 18%|█▊        | 1791/10000 [00:55<03:53, 35.09it/s]"
          ]
        },
        {
          "output_type": "stream",
          "name": "stdout",
          "text": [
            "15 ('People are sitting on a bench in front of the water.',)\n",
            "19 ('Two horses, a mare and a foal in a pasture..',)\n",
            "19 ('A picture of a black horse standing in a field.',)\n",
            "9 ('Boat with staff on water with city in background',)\n"
          ]
        },
        {
          "output_type": "stream",
          "name": "stderr",
          "text": [
            " 18%|█▊        | 1799/10000 [00:55<03:52, 35.24it/s]"
          ]
        },
        {
          "output_type": "stream",
          "name": "stdout",
          "text": [
            "2 ('Traffic light depicting green for pedestrians and bikes to go',)\n",
            "10 ('Traffic light depicting green for pedestrians and bikes to go',)\n",
            "17 ('the woman is holding a cat with a hat on',)\n",
            "15 ('A man and woman eating sandwiches on a bench with a dog on the ground between them.',)\n",
            "18 ('A man and woman eating sandwiches on a bench with a dog on the ground between them.',)\n",
            "19 ('A group of men riding on the backs of brown horses.',)\n",
            "6 ('A green bus parked next to a red and blue bus.',)\n"
          ]
        },
        {
          "output_type": "stream",
          "name": "stderr",
          "text": [
            " 18%|█▊        | 1811/10000 [00:55<03:50, 35.45it/s]"
          ]
        },
        {
          "output_type": "stream",
          "name": "stdout",
          "text": [
            "9 ('A body of water filled with lots of boats.',)\n",
            "8 ('A group of old fashioned trucks parked side by side.',)\n"
          ]
        },
        {
          "output_type": "stream",
          "name": "stderr",
          "text": [
            " 18%|█▊        | 1819/10000 [00:56<03:59, 34.14it/s]"
          ]
        },
        {
          "output_type": "stream",
          "name": "stdout",
          "text": [
            "1 ('A person is in a barn surrounded by goats and hay.',)\n",
            "9 ('A bird sitting on top of a boat next to a river.',)\n",
            "16 ('A bird sitting on top of a boat next to a river.',)\n",
            "1 ('A person walking a child on a dock lined with boats.',)\n",
            "9 ('A person walking a child on a dock lined with boats.',)\n"
          ]
        },
        {
          "output_type": "stream",
          "name": "stderr",
          "text": [
            " 18%|█▊        | 1827/10000 [00:56<04:02, 33.67it/s]"
          ]
        },
        {
          "output_type": "stream",
          "name": "stdout",
          "text": [
            "19 ('A horse drawn carriage is tied to a tree',)\n",
            "18 ('A dog playfully looking at something underneath a couch.',)\n",
            "7 (\"A subway train with a handi cap placard on it's side.\",)\n"
          ]
        },
        {
          "output_type": "stream",
          "name": "stderr",
          "text": [
            " 18%|█▊        | 1843/10000 [00:56<03:45, 36.17it/s]"
          ]
        },
        {
          "output_type": "stream",
          "name": "stdout",
          "text": [
            "18 ('A dog sits with a scarf on his neck.',)\n",
            "16 ('A basket filled with fruits and cake with stuffed toy birds.',)\n",
            "11 ('yellow steel fire hydrant wrapped in vines near a tree',)\n"
          ]
        },
        {
          "output_type": "stream",
          "name": "stderr",
          "text": [
            " 19%|█▊        | 1851/10000 [00:57<03:58, 34.22it/s]"
          ]
        },
        {
          "output_type": "stream",
          "name": "stdout",
          "text": [
            "2 ('A couple people sitting on stationary bikes peddling.',)\n"
          ]
        },
        {
          "output_type": "stream",
          "name": "stderr",
          "text": [
            " 19%|█▊        | 1863/10000 [00:57<03:52, 34.93it/s]"
          ]
        },
        {
          "output_type": "stream",
          "name": "stdout",
          "text": [
            "19 ('A couple of women riding on the back of a horse drawn carriage.',)\n",
            "15 ('A young man sleeping on a stone bench next to a black cat.',)\n",
            "17 ('A young man sleeping on a stone bench next to a black cat.',)\n",
            "1 ('A person standing next to a giant stuffed animal.',)\n"
          ]
        },
        {
          "output_type": "stream",
          "name": "stderr",
          "text": [
            " 19%|█▊        | 1871/10000 [00:57<03:48, 35.65it/s]"
          ]
        },
        {
          "output_type": "stream",
          "name": "stdout",
          "text": [
            "17 ('Large cat standing over another one laying on the ground.',)\n",
            "15 ('Park benches next to tables sit in front of the store.',)\n",
            "15 ('a woman seated on a bench reading a book',)\n"
          ]
        },
        {
          "output_type": "stream",
          "name": "stderr",
          "text": [
            " 19%|█▉        | 1879/10000 [00:57<03:48, 35.50it/s]"
          ]
        },
        {
          "output_type": "stream",
          "name": "stdout",
          "text": [
            "9 ('A group of men holding a long hose next to a boat.',)\n",
            "1 ('a person that is standing by some dogs',)\n",
            "18 ('a dog is floating on top of a water.',)\n"
          ]
        },
        {
          "output_type": "stream",
          "name": "stderr",
          "text": [
            " 19%|█▉        | 1887/10000 [00:58<03:47, 35.61it/s]"
          ]
        },
        {
          "output_type": "stream",
          "name": "stdout",
          "text": [
            "1 ('The person is paddling a boat full of people down a narrow river.',)\n",
            "9 ('The person is paddling a boat full of people down a narrow river.',)\n",
            "18 ('A black dog laying next to a ball and sandals.',)\n"
          ]
        },
        {
          "output_type": "stream",
          "name": "stderr",
          "text": [
            " 19%|█▉        | 1899/10000 [00:58<03:53, 34.63it/s]"
          ]
        },
        {
          "output_type": "stream",
          "name": "stdout",
          "text": [
            "9 ('A large rusted boat with a large spindle on it.',)\n",
            "1 ('a person sitting down talking on a cell phone',)\n",
            "17 ('A cat sleeping on top of a wooden chair.',)\n"
          ]
        },
        {
          "output_type": "stream",
          "name": "stderr",
          "text": [
            " 19%|█▉        | 1923/10000 [00:59<03:39, 36.72it/s]"
          ]
        },
        {
          "output_type": "stream",
          "name": "stdout",
          "text": [
            "6 ('A large red bus on a city street.',)\n",
            "17 ('A cat sitting on top of a window sill in a second story.',)\n",
            "6 ('A very long bus in front of a large building',)\n"
          ]
        },
        {
          "output_type": "stream",
          "name": "stderr",
          "text": [
            " 19%|█▉        | 1931/10000 [00:59<03:43, 36.11it/s]"
          ]
        },
        {
          "output_type": "stream",
          "name": "stdout",
          "text": [
            "9 ('A boat that is sitting in the water.',)\n",
            "5 ('A man taking a picture of a woman standing at the door of an airplane.',)\n",
            "11 ('A fire hydrant that is surrounded by snow.',)\n"
          ]
        },
        {
          "output_type": "stream",
          "name": "stderr",
          "text": [
            " 19%|█▉        | 1947/10000 [00:59<03:42, 36.19it/s]"
          ]
        },
        {
          "output_type": "stream",
          "name": "stdout",
          "text": [
            "3 ('A pair of dogs peer out the rear window of a Smart car.',)\n",
            "8 ('An orange and white truck parked in front of a building.',)\n",
            "17 (\"A Siamese cat is perched upon a lady's shoulder.\",)\n",
            "19 ('A horse is standing inside a pen next to a smaller horse.',)\n"
          ]
        },
        {
          "output_type": "stream",
          "name": "stderr",
          "text": [
            " 20%|█▉        | 1963/10000 [01:00<03:47, 35.38it/s]"
          ]
        },
        {
          "output_type": "stream",
          "name": "stdout",
          "text": [
            "13 ('A stop sign on the corner of a large intersection.',)\n"
          ]
        },
        {
          "output_type": "stream",
          "name": "stderr",
          "text": [
            " 20%|█▉        | 1971/10000 [01:00<03:42, 36.01it/s]"
          ]
        },
        {
          "output_type": "stream",
          "name": "stdout",
          "text": [
            "16 ('A man in a suit holding a bottle of a thunderbird branded drink.',)\n"
          ]
        },
        {
          "output_type": "stream",
          "name": "stderr",
          "text": [
            " 20%|█▉        | 1983/10000 [01:00<03:50, 34.75it/s]"
          ]
        },
        {
          "output_type": "stream",
          "name": "stdout",
          "text": [
            "18 ('A group of people looking at a screen with a picture of a hot dog on it.',)\n",
            "4 ('A man that is sitting on a motorcycle.',)\n",
            "13 ('A stop sign is standing next to a street sign.',)\n",
            "16 ('A multicolored bird enjoying an apple slice in the park.',)\n"
          ]
        },
        {
          "output_type": "stream",
          "name": "stderr",
          "text": [
            " 20%|█▉        | 1991/10000 [01:01<03:56, 33.88it/s]"
          ]
        },
        {
          "output_type": "stream",
          "name": "stdout",
          "text": [
            "15 ('A park with people, benches, trees, and plants and a stream.',)\n",
            "15 ('A man wearing glasses while sitting on a green bench.',)\n"
          ]
        },
        {
          "output_type": "stream",
          "name": "stderr",
          "text": [
            " 20%|██        | 2003/10000 [01:01<03:52, 34.34it/s]"
          ]
        },
        {
          "output_type": "stream",
          "name": "stdout",
          "text": [
            "2 ('A group of people socialize at a biker rally',)\n"
          ]
        },
        {
          "output_type": "stream",
          "name": "stderr",
          "text": [
            "\r 20%|██        | 2007/10000 [01:01<03:55, 33.97it/s]"
          ]
        },
        {
          "output_type": "stream",
          "name": "stdout",
          "text": [
            "4 ('A ling of motorcycles used by security staff members.',)\n",
            "4 ('A man on a motor boat in a streak putting a black helmet on.',)\n",
            "9 ('A man on a motor boat in a streak putting a black helmet on.',)\n",
            "19 ('A man sleeping on a bed with a little horse',)\n"
          ]
        },
        {
          "output_type": "stream",
          "name": "stderr",
          "text": [
            " 20%|██        | 2023/10000 [01:02<03:39, 36.28it/s]"
          ]
        },
        {
          "output_type": "stream",
          "name": "stdout",
          "text": [
            "6 ('A bus is parked on the side of a lake with a group of people.',)\n",
            "3 ('A horse pulling a carriage next to a  black car.',)\n",
            "19 ('A horse pulling a carriage next to a  black car.',)\n",
            "18 ('A bag sitting on top of a handle near a dog.',)\n"
          ]
        },
        {
          "output_type": "stream",
          "name": "stderr",
          "text": [
            " 20%|██        | 2031/10000 [01:02<03:42, 35.87it/s]"
          ]
        },
        {
          "output_type": "stream",
          "name": "stdout",
          "text": [
            "19 ('A man riding on the back of a brown horse.',)\n",
            "2 ('A bicycle is parked next to a stone path beside a body of water.',)\n",
            "18 ('Woman gives black dog a drink of water from blue plastic cup',)\n"
          ]
        },
        {
          "output_type": "stream",
          "name": "stderr",
          "text": [
            " 20%|██        | 2039/10000 [01:02<03:47, 34.93it/s]"
          ]
        },
        {
          "output_type": "stream",
          "name": "stdout",
          "text": [
            "18 ('A small dog is lying on a large pillow.',)\n"
          ]
        },
        {
          "output_type": "stream",
          "name": "stderr",
          "text": [
            " 20%|██        | 2047/10000 [01:02<03:50, 34.44it/s]"
          ]
        },
        {
          "output_type": "stream",
          "name": "stdout",
          "text": [
            "16 ('A hummingbird flies up to a feeder to drink.',)\n",
            "8 ('A truck sitting under a pile of dirt immobilized.',)\n",
            "18 ('a small dog on its leash is being walked outside',)\n"
          ]
        },
        {
          "output_type": "stream",
          "name": "stderr",
          "text": [
            " 21%|██        | 2055/10000 [01:02<03:46, 35.00it/s]"
          ]
        },
        {
          "output_type": "stream",
          "name": "stdout",
          "text": [
            "2 ('A bicycle with helmet parked in a living room',)\n",
            "1 ('Person chipping a gold shot from off the green.',)\n",
            "7 ('A train traveling down tracks next to a loading area.',)\n"
          ]
        },
        {
          "output_type": "stream",
          "name": "stderr",
          "text": [
            " 21%|██        | 2063/10000 [01:03<03:49, 34.57it/s]"
          ]
        },
        {
          "output_type": "stream",
          "name": "stdout",
          "text": [
            "18 ('a dog with a leash standing on its hind legs',)\n",
            "18 ('A black and white dog playing with a yellow frisbee.',)\n",
            "2 ('A red bike with a basket parked next to a building.',)\n",
            "15 ('A bench at a store in front of stacks of soda.',)\n"
          ]
        },
        {
          "output_type": "stream",
          "name": "stderr",
          "text": [
            " 21%|██        | 2079/10000 [01:03<03:46, 35.04it/s]"
          ]
        },
        {
          "output_type": "stream",
          "name": "stdout",
          "text": [
            "5 ('a sea plane docked near a small storefront',)\n"
          ]
        },
        {
          "output_type": "stream",
          "name": "stderr",
          "text": [
            " 21%|██        | 2087/10000 [01:03<03:45, 35.10it/s]"
          ]
        },
        {
          "output_type": "stream",
          "name": "stdout",
          "text": [
            "10 ('A red traffic light over a street next to trees.',)\n",
            "16 ('A couple if birds perched on top of a bird feeder.',)\n",
            "9 ('A red boat on a river with a lit ferry boat in the distance.',)\n"
          ]
        },
        {
          "output_type": "stream",
          "name": "stderr",
          "text": [
            " 21%|██        | 2095/10000 [01:04<03:50, 34.22it/s]"
          ]
        },
        {
          "output_type": "stream",
          "name": "stdout",
          "text": [
            "16 ('Two birds walking across a very sandy beach.',)\n",
            "2 ('a clear umbrella in front of a row of bicycles',)\n"
          ]
        },
        {
          "output_type": "stream",
          "name": "stderr",
          "text": [
            " 21%|██        | 2103/10000 [01:04<03:43, 35.39it/s]"
          ]
        },
        {
          "output_type": "stream",
          "name": "stdout",
          "text": [
            "9 ('A small covered boat sitting in a lake channel.',)\n",
            "1 ('A black dog biting a yellow disc a person is holding.',)\n",
            "18 ('A black dog biting a yellow disc a person is holding.',)\n"
          ]
        },
        {
          "output_type": "stream",
          "name": "stderr",
          "text": [
            " 21%|██        | 2115/10000 [01:04<03:51, 34.00it/s]"
          ]
        },
        {
          "output_type": "stream",
          "name": "stdout",
          "text": [
            "9 ('Three dogs can be seen standing on the deck of a boat.',)\n",
            "3 ('A police car blocking the street in front of a doubledecker bus.',)\n",
            "6 ('A police car blocking the street in front of a doubledecker bus.',)\n",
            "16 ('there is a large bird standing on the side of a walkway',)\n",
            "4 ('a man is sitting on an orange motorcycle',)\n"
          ]
        },
        {
          "output_type": "stream",
          "name": "stderr",
          "text": [
            " 21%|██▏       | 2127/10000 [01:05<03:43, 35.27it/s]"
          ]
        },
        {
          "output_type": "stream",
          "name": "stdout",
          "text": [
            "13 ('A red stop sign sitting on the side of a road.',)\n",
            "18 ('A dog stares at his own reflection in a mirror.',)\n",
            "13 ('a stop sign by the road altered to say something different',)\n"
          ]
        },
        {
          "output_type": "stream",
          "name": "stderr",
          "text": [
            " 21%|██▏       | 2139/10000 [01:05<03:46, 34.65it/s]"
          ]
        },
        {
          "output_type": "stream",
          "name": "stdout",
          "text": [
            "2 ('A woman that is sitting on a bike.',)\n",
            "9 ('A man sitting on top of a boat holding a laptop.',)\n",
            "3 ('A small airplane crashed into the side of a car.',)\n"
          ]
        },
        {
          "output_type": "stream",
          "name": "stderr",
          "text": [
            " 21%|██▏       | 2147/10000 [01:05<03:37, 36.03it/s]"
          ]
        },
        {
          "output_type": "stream",
          "name": "stdout",
          "text": [
            "19 ('Group of people riding along the beach on horseback',)\n",
            "19 ('A couple of brown horses standing next to a baby horse.',)\n"
          ]
        },
        {
          "output_type": "stream",
          "name": "stderr",
          "text": [
            " 22%|██▏       | 2155/10000 [01:05<03:46, 34.59it/s]"
          ]
        },
        {
          "output_type": "stream",
          "name": "stdout",
          "text": [
            "19 ('Two baby horses standing in front of a windmill.',)\n",
            "18 ('Two puppies in a bowl of dog food.',)\n",
            "18 ('A hot dog in a paper container on a table.',)\n"
          ]
        },
        {
          "output_type": "stream",
          "name": "stderr",
          "text": [
            " 22%|██▏       | 2163/10000 [01:06<03:51, 33.78it/s]"
          ]
        },
        {
          "output_type": "stream",
          "name": "stdout",
          "text": [
            "9 ('A small white boat in the water on the beach.',)\n",
            "19 ('A woman walking a gray horse around a field.',)\n",
            "11 ('A red fire hydrant sitting on the side of a road.',)\n"
          ]
        },
        {
          "output_type": "stream",
          "name": "stderr",
          "text": [
            " 22%|██▏       | 2175/10000 [01:06<03:42, 35.16it/s]"
          ]
        },
        {
          "output_type": "stream",
          "name": "stdout",
          "text": [
            "19 ('A group of people ride horses up a hill',)\n",
            "9 ('A boat with a big pink top hat on it in the river.',)\n",
            "8 ('A large blue trash truck traveling down a road.',)\n"
          ]
        },
        {
          "output_type": "stream",
          "name": "stderr",
          "text": [
            " 22%|██▏       | 2183/10000 [01:06<03:38, 35.74it/s]"
          ]
        },
        {
          "output_type": "stream",
          "name": "stdout",
          "text": [
            "17 ('a cat laying on a laptop on a bed',)\n",
            "1 ('a person sitting on a motorcycle on the side of the road',)\n",
            "4 ('a person sitting on a motorcycle on the side of the road',)\n",
            "15 ('A wooden park table with two wooden benches next to a lake.',)\n",
            "6 ('A red double decker bus parked next to a statue.',)\n"
          ]
        },
        {
          "output_type": "stream",
          "name": "stderr",
          "text": [
            " 22%|██▏       | 2199/10000 [01:07<03:45, 34.54it/s]"
          ]
        },
        {
          "output_type": "stream",
          "name": "stdout",
          "text": [
            "19 ('A group of men riding on a horse drawn carriage.',)\n",
            "9 ('a young man standing near a river watching a boat of people pass by',)\n",
            "1 ('The person is laying down on the ground in front of the parking meter.',)\n",
            "14 ('The person is laying down on the ground in front of the parking meter.',)\n",
            "2 ('A woman riding a bike up a very steep hill.',)\n",
            "3 ('The train engine with a long string of cars proceeds down the track by the verdant meadow.',)\n",
            "7 ('The train engine with a long string of cars proceeds down the track by the verdant meadow.',)\n"
          ]
        },
        {
          "output_type": "stream",
          "name": "stderr",
          "text": [
            " 22%|██▏       | 2207/10000 [01:07<03:44, 34.79it/s]"
          ]
        },
        {
          "output_type": "stream",
          "name": "stdout",
          "text": [
            "8 ('A truck that is sitting in the grass.',)\n",
            "18 (\"A large brown dog decapitated with it's head on a purple frisbee.\",)\n"
          ]
        },
        {
          "output_type": "stream",
          "name": "stderr",
          "text": [
            " 22%|██▏       | 2215/10000 [01:07<03:42, 35.01it/s]"
          ]
        },
        {
          "output_type": "stream",
          "name": "stdout",
          "text": [
            "1 ('a person is standing near a horse outside',)\n",
            "19 ('a person is standing near a horse outside',)\n",
            "13 ('A stop sign on a yellow gate with leaves covering the ground.',)\n"
          ]
        },
        {
          "output_type": "stream",
          "name": "stderr",
          "text": [
            " 22%|██▏       | 2231/10000 [01:08<03:37, 35.77it/s]"
          ]
        },
        {
          "output_type": "stream",
          "name": "stdout",
          "text": [
            "5 ('A small biplane landing on a road creating lots of smoke.',)\n",
            "17 ('A black and white cat looking at bananas and a loaf of bread.',)\n",
            "15 ('A man skateboarding over a bench in a restaurant.',)\n",
            "19 ('A road filled with lots of chickens and horse drawn carriages.',)\n"
          ]
        },
        {
          "output_type": "stream",
          "name": "stderr",
          "text": [
            " 23%|██▎       | 2251/10000 [01:08<03:45, 34.32it/s]"
          ]
        },
        {
          "output_type": "stream",
          "name": "stdout",
          "text": [
            "1 ('A person in a green hat skateboarding on indoor skateboarding ramp.',)\n",
            "4 ('Man sitting on the back of a black motorcycle on the street.',)\n",
            "19 ('A horse and carriage on a empty boardwalk.',)\n",
            "18 ('A dog laying on a pillow holding a stuffed toy.',)\n"
          ]
        },
        {
          "output_type": "stream",
          "name": "stderr",
          "text": [
            " 23%|██▎       | 2259/10000 [01:08<03:46, 34.19it/s]"
          ]
        },
        {
          "output_type": "stream",
          "name": "stdout",
          "text": [
            "9 ('A boat travels in a canal with a bridge in the background.',)\n",
            "9 ('Small boats float in a canal while tied to a stone dock.',)\n"
          ]
        },
        {
          "output_type": "stream",
          "name": "stderr",
          "text": [
            " 23%|██▎       | 2267/10000 [01:09<03:44, 34.44it/s]"
          ]
        },
        {
          "output_type": "stream",
          "name": "stdout",
          "text": [
            "8 ('An old truck is parked in a parking spot on the side of the street.',)\n",
            "15 ('A bear skin rug that is on a bench.',)\n",
            "19 ('A woman is standing up next to her brown horse.',)\n"
          ]
        },
        {
          "output_type": "stream",
          "name": "stderr",
          "text": [
            " 23%|██▎       | 2279/10000 [01:09<03:40, 35.09it/s]"
          ]
        },
        {
          "output_type": "stream",
          "name": "stdout",
          "text": [
            "17 ('A young lady sitting on the ground with a cat.',)\n",
            "2 ('A picture of a person on a  bicycle in the sand.',)\n",
            "8 ('a truck parked on a beach near water',)\n",
            "19 ('A horse drawn carriage riding across a snow covered field.',)\n"
          ]
        },
        {
          "output_type": "stream",
          "name": "stderr",
          "text": [
            " 23%|██▎       | 2291/10000 [01:09<03:38, 35.22it/s]"
          ]
        },
        {
          "output_type": "stream",
          "name": "stdout",
          "text": [
            "13 ('A red stop sign in two different languages.',)\n"
          ]
        },
        {
          "output_type": "stream",
          "name": "stderr",
          "text": [
            " 23%|██▎       | 2299/10000 [01:10<03:42, 34.66it/s]"
          ]
        },
        {
          "output_type": "stream",
          "name": "stdout",
          "text": [
            "18 ('A woman holding a dog standing next to two other dogs.',)\n"
          ]
        },
        {
          "output_type": "stream",
          "name": "stderr",
          "text": [
            " 23%|██▎       | 2307/10000 [01:10<04:09, 30.87it/s]"
          ]
        },
        {
          "output_type": "stream",
          "name": "stdout",
          "text": [
            "17 ('A yellow cat sleeping on the top tier of its cat tree.',)\n",
            "13 ('A Stop sign with some graffiti painted on it.',)\n",
            "16 ('A large flock of birds flying over a field next to a  tree.',)\n"
          ]
        },
        {
          "output_type": "stream",
          "name": "stderr",
          "text": [
            " 23%|██▎       | 2319/10000 [01:10<03:44, 34.27it/s]"
          ]
        },
        {
          "output_type": "stream",
          "name": "stdout",
          "text": [
            "19 ('The woman is riding her horse on the beach.',)\n",
            "19 ('Three horses grazing in a pasture of tall grass.',)\n",
            "8 ('Two people standing on a beach next to a green truck.',)\n"
          ]
        },
        {
          "output_type": "stream",
          "name": "stderr",
          "text": [
            " 23%|██▎       | 2327/10000 [01:10<03:45, 34.02it/s]"
          ]
        },
        {
          "output_type": "stream",
          "name": "stdout",
          "text": [
            "18 ('A  dog sitting on a purple folding lawn chair',)\n",
            "9 ('A number of boats on a river near the bank',)\n"
          ]
        },
        {
          "output_type": "stream",
          "name": "stderr",
          "text": [
            " 23%|██▎       | 2335/10000 [01:11<03:43, 34.28it/s]"
          ]
        },
        {
          "output_type": "stream",
          "name": "stdout",
          "text": [
            "19 ('White horsedrawn carriage being pulled down the street at dusk.',)\n",
            "15 ('A bench under a tree is facing the water.',)\n",
            "4 ('A motorcycle parked in front of a store selling clothing.',)\n"
          ]
        },
        {
          "output_type": "stream",
          "name": "stderr",
          "text": [
            " 23%|██▎       | 2343/10000 [01:11<03:42, 34.41it/s]"
          ]
        },
        {
          "output_type": "stream",
          "name": "stdout",
          "text": [
            "17 ('A cat sits on the lid of a toilet.',)\n",
            "7 ('A train traveling down train tracks under a cloudy blue sky.',)\n"
          ]
        },
        {
          "output_type": "stream",
          "name": "stderr",
          "text": [
            " 24%|██▎       | 2351/10000 [01:11<03:39, 34.89it/s]"
          ]
        },
        {
          "output_type": "stream",
          "name": "stdout",
          "text": [
            "2 ('A man standing next to his bike off a side road.',)\n",
            "9 ('a man in a hat and a boat holds a wooden oar to steer',)\n",
            "1 ('A person holding up a banana to a yellow door handle.',)\n",
            "15 ('A man in a blue vest walks towards two benches by a stone wall.',)\n"
          ]
        },
        {
          "output_type": "stream",
          "name": "stderr",
          "text": [
            " 24%|██▎       | 2359/10000 [01:11<03:38, 35.04it/s]"
          ]
        },
        {
          "output_type": "stream",
          "name": "stdout",
          "text": [
            "18 ('A dog lays on the floor facing a book.',)\n",
            "17 ('A cat lays down around some stuffed animals.',)\n",
            "3 ('A blue motorcycle parked next to a parked car.',)\n",
            "4 ('A blue motorcycle parked next to a parked car.',)\n"
          ]
        },
        {
          "output_type": "stream",
          "name": "stderr",
          "text": [
            " 24%|██▎       | 2371/10000 [01:12<03:41, 34.40it/s]"
          ]
        },
        {
          "output_type": "stream",
          "name": "stdout",
          "text": [
            "15 ('a train being operated on a train track near a bench',)\n",
            "4 ('People riding motorcycles down a curvy race track near a field.',)\n",
            "19 ('A beautiful woman wearing jeans walks a horse.',)\n",
            "3 ('An old red and yellow car with a yellow surfboard on top.',)\n"
          ]
        },
        {
          "output_type": "stream",
          "name": "stderr",
          "text": [
            " 24%|██▍       | 2379/10000 [01:12<03:38, 34.80it/s]"
          ]
        },
        {
          "output_type": "stream",
          "name": "stdout",
          "text": [
            "9 ('Boat on a beach while the sun is setting.',)\n",
            "19 ('A kid on a horse riding it behind a fence.',)\n",
            "19 ('A line of horses who are walking down a road.',)\n"
          ]
        },
        {
          "output_type": "stream",
          "name": "stderr",
          "text": [
            " 24%|██▍       | 2391/10000 [01:12<03:41, 34.33it/s]"
          ]
        },
        {
          "output_type": "stream",
          "name": "stdout",
          "text": [
            "18 ('A white and black dog standing on a path',)\n",
            "8 ('Two delivery trucks parked next to each other.',)\n"
          ]
        },
        {
          "output_type": "stream",
          "name": "stderr",
          "text": [
            " 24%|██▍       | 2399/10000 [01:12<03:49, 33.13it/s]"
          ]
        },
        {
          "output_type": "stream",
          "name": "stdout",
          "text": [
            "15 ('A street scene with two men napping on a bench, a woman walking, and two other men looking at their own reflections in a shop window.',)\n",
            "15 ('A small brown bulldog sitting under a park bench.',)\n"
          ]
        },
        {
          "output_type": "stream",
          "name": "stderr",
          "text": [
            " 24%|██▍       | 2411/10000 [01:13<03:46, 33.53it/s]"
          ]
        },
        {
          "output_type": "stream",
          "name": "stdout",
          "text": [
            "19 ('Two women talking in front of several horses',)\n",
            "18 ('a woman and a dog are on a couch',)\n"
          ]
        },
        {
          "output_type": "stream",
          "name": "stderr",
          "text": [
            " 24%|██▍       | 2419/10000 [01:13<03:38, 34.76it/s]"
          ]
        },
        {
          "output_type": "stream",
          "name": "stdout",
          "text": [
            "18 ('A white dog catching a yellow frisbee on a grassy field while people watch.',)\n",
            "10 ('A traffic light on the side of a road between two streets.',)\n",
            "2 ('Bicycle wheels are lined up on bicycles in a row.',)\n"
          ]
        },
        {
          "output_type": "stream",
          "name": "stderr",
          "text": [
            " 24%|██▍       | 2427/10000 [01:13<03:39, 34.56it/s]"
          ]
        },
        {
          "output_type": "stream",
          "name": "stdout",
          "text": [
            "19 ('Three riders on horseback cross a valley with mountains beyond.',)\n",
            "1 ('A person laying in bed with their feet surrounded by clutter.',)\n",
            "9 ('a green and white boat is sitting in some grass along some sand and water',)\n"
          ]
        },
        {
          "output_type": "stream",
          "name": "stderr",
          "text": [
            " 24%|██▍       | 2439/10000 [01:14<03:38, 34.63it/s]"
          ]
        },
        {
          "output_type": "stream",
          "name": "stdout",
          "text": [
            "1 ('a person with a life vest on is on a surf board',)\n",
            "15 ('A man is photographed on a bench in a sepia photo.',)\n",
            "16 (\"A white bird is dipping it's beak into some water.\",)\n",
            "16 ('a close up of a small bird on a tree branch',)\n"
          ]
        },
        {
          "output_type": "stream",
          "name": "stderr",
          "text": [
            " 25%|██▍       | 2451/10000 [01:14<03:36, 34.81it/s]"
          ]
        },
        {
          "output_type": "stream",
          "name": "stdout",
          "text": [
            "8 ('A group of men are standing in the back of a pick up truck.',)\n",
            "11 ('A yellow fire hydrant with a blue top on the side of a street.',)\n",
            "17 ('a man sitting on a couch with a cat in his lap playing on a computer',)\n"
          ]
        },
        {
          "output_type": "stream",
          "name": "stderr",
          "text": [
            " 25%|██▍       | 2463/10000 [01:14<04:04, 30.85it/s]"
          ]
        },
        {
          "output_type": "stream",
          "name": "stdout",
          "text": [
            "3 ('A view of buildings and cars on the street from under a rainbow colored umbrella.',)\n",
            "15 ('A can that is sitting next to a hotdog on a bench.',)\n",
            "3 ('Two white dogs sit next to each other in a car.',)\n",
            "7 ('A train can be seen in the foreground and a shipping dock in the background.',)\n"
          ]
        },
        {
          "output_type": "stream",
          "name": "stderr",
          "text": [
            " 25%|██▍       | 2479/10000 [01:15<03:48, 32.88it/s]"
          ]
        },
        {
          "output_type": "stream",
          "name": "stdout",
          "text": [
            "11 ('A black and silver fire hydrant sitting on a sidewalk in front of a brick building.',)\n",
            "18 ('A small brown dog sitting on display behind a window.',)\n"
          ]
        },
        {
          "output_type": "stream",
          "name": "stderr",
          "text": [
            " 25%|██▍       | 2487/10000 [01:15<03:50, 32.52it/s]"
          ]
        },
        {
          "output_type": "stream",
          "name": "stdout",
          "text": [
            "16 ('Two birds fly over a beach by a lighthouse.',)\n",
            "16 ('A bird that is standing on a beach during sunset.',)\n",
            "6 ('A bus traveling down a busy city street with old red brick buildings.',)\n"
          ]
        },
        {
          "output_type": "stream",
          "name": "stderr",
          "text": [
            " 25%|██▍       | 2495/10000 [01:15<03:45, 33.27it/s]"
          ]
        },
        {
          "output_type": "stream",
          "name": "stdout",
          "text": [
            "1 ('A person wears purple and black striped socks.',)\n"
          ]
        },
        {
          "output_type": "stream",
          "name": "stderr",
          "text": [
            "\r 25%|██▍       | 2499/10000 [01:16<03:51, 32.46it/s]"
          ]
        },
        {
          "output_type": "stream",
          "name": "stdout",
          "text": [
            "18 ('A black and white cat laying next to a black and white dog.',)\n",
            "19 ('A little girl feeding a horse a carrot through a fence.',)\n"
          ]
        },
        {
          "output_type": "stream",
          "name": "stderr",
          "text": [
            " 25%|██▌       | 2515/10000 [01:16<03:31, 35.33it/s]"
          ]
        },
        {
          "output_type": "stream",
          "name": "stdout",
          "text": [
            "1 ('A person sitting on a bench in the rain.',)\n",
            "15 ('A person sitting on a bench in the rain.',)\n",
            "15 ('A group of people that are sitting on benches.',)\n",
            "9 ('Boats floating on top of a large lake.',)\n",
            "9 ('a person in red wearing a woven hat on a boat with fruits',)\n"
          ]
        },
        {
          "output_type": "stream",
          "name": "stderr",
          "text": [
            " 25%|██▌       | 2527/10000 [01:16<03:28, 35.92it/s]"
          ]
        },
        {
          "output_type": "stream",
          "name": "stdout",
          "text": [
            "15 ('A boy in maroon shirt sitting on bench next to trees.',)\n",
            "17 ('A black and white cat walking in grass next to water and duck.',)\n",
            "19 ('A group of people riding horses down a beach.',)\n",
            "16 ('A bird with spread wings is on the sand.',)\n",
            "6 ('a bus terminal with several buses and three people waiting',)\n"
          ]
        },
        {
          "output_type": "stream",
          "name": "stderr",
          "text": [
            " 25%|██▌       | 2535/10000 [01:17<03:32, 35.21it/s]"
          ]
        },
        {
          "output_type": "stream",
          "name": "stdout",
          "text": [
            "19 ('A couple of horses hitched to bridles ready to travel.',)\n",
            "6 ('A herd of sheep walking down a street in front of a bus.',)\n",
            "2 ('People are walking past a shopping area with a row of bikes parked outside.',)\n",
            "18 ('A man standing on top of a paddle board with a dog on it.',)\n",
            "19 ('A large horse looking down at a young girl as she looks up at it and smiles, along with an older woman to the side looking at the horse.',)\n"
          ]
        },
        {
          "output_type": "stream",
          "name": "stderr",
          "text": [
            " 25%|██▌       | 2543/10000 [01:17<03:37, 34.29it/s]"
          ]
        },
        {
          "output_type": "stream",
          "name": "stdout",
          "text": [
            "17 ('A young man holding a cat in his right arm.',)\n",
            "15 ('A photo taken on a bench with yellow signs in the background.',)\n",
            "14 ('A row of parking meters on the side of a street next to a building.',)\n"
          ]
        },
        {
          "output_type": "stream",
          "name": "stderr",
          "text": [
            " 26%|██▌       | 2555/10000 [01:17<03:31, 35.16it/s]"
          ]
        },
        {
          "output_type": "stream",
          "name": "stdout",
          "text": [
            "3 ('a car driving over a bridge over a body of water',)\n",
            "4 ('A sign showing a man standing on top of a motorcycle.',)\n",
            "19 ('Individuals on  horses as they ride down a dirt road.',)\n",
            "3 ('Two cars parked in front of a building near a traffic light.',)\n",
            "10 ('Two cars parked in front of a building near a traffic light.',)\n",
            "8 ('A group of men pull a zebra into their truck.',)\n",
            "16 ('A calling bird is pictured on a rock near the ocean.',)\n"
          ]
        },
        {
          "output_type": "stream",
          "name": "stderr",
          "text": [
            " 26%|██▌       | 2563/10000 [01:17<03:28, 35.73it/s]"
          ]
        },
        {
          "output_type": "stream",
          "name": "stdout",
          "text": [
            "15 ('Three wooden benches near groups of flowers and trees.',)\n"
          ]
        },
        {
          "output_type": "stream",
          "name": "stderr",
          "text": [
            " 26%|██▌       | 2571/10000 [01:18<03:44, 33.08it/s]"
          ]
        },
        {
          "output_type": "stream",
          "name": "stdout",
          "text": [
            "18 ('The brown dog is riding a wave on a blue surfboard.',)\n"
          ]
        },
        {
          "output_type": "stream",
          "name": "stderr",
          "text": [
            " 26%|██▌       | 2579/10000 [01:18<03:38, 33.96it/s]"
          ]
        },
        {
          "output_type": "stream",
          "name": "stdout",
          "text": [
            "19 ('A man driving a horse drawn carriage down a street.',)\n"
          ]
        },
        {
          "output_type": "stream",
          "name": "stderr",
          "text": [
            " 26%|██▌       | 2591/10000 [01:18<03:41, 33.48it/s]"
          ]
        },
        {
          "output_type": "stream",
          "name": "stdout",
          "text": [
            "9 ('A boat on the water as seen from a hill over looking a grassy field and the water.',)\n",
            "15 ('THERE IS A CHILD THAT IS SLEEPING ON THE BENCH',)\n",
            "2 ('a person riding a bike wit ha kite',)\n"
          ]
        },
        {
          "output_type": "stream",
          "name": "stderr",
          "text": [
            "\r 26%|██▌       | 2595/10000 [01:18<03:41, 33.51it/s]"
          ]
        },
        {
          "output_type": "stream",
          "name": "stdout",
          "text": [
            "9 ('A group of boats floating on top of a large body of water.',)\n"
          ]
        },
        {
          "output_type": "stream",
          "name": "stderr",
          "text": [
            " 26%|██▌       | 2603/10000 [01:19<03:46, 32.65it/s]"
          ]
        },
        {
          "output_type": "stream",
          "name": "stdout",
          "text": [
            "8 ('A large green truck parked with a sign.',)\n",
            "16 ('A crowd of birds walking along a walkway.',)\n",
            "19 ('A girl in full sport dress performs at a horse show',)\n",
            "4 ('two men standing next to a black motorcycle',)\n",
            "11 ('A green fire hydrant on a city corner',)\n"
          ]
        },
        {
          "output_type": "stream",
          "name": "stderr",
          "text": [
            " 26%|██▌       | 2615/10000 [01:19<03:30, 35.06it/s]"
          ]
        },
        {
          "output_type": "stream",
          "name": "stdout",
          "text": [
            "4 ('A white motorcycle parked in a parking lot.',)\n",
            "13 ('A red stop sign with the words  Hammer Time \" written underneath it.\"',)\n"
          ]
        },
        {
          "output_type": "stream",
          "name": "stderr",
          "text": [
            " 26%|██▌       | 2623/10000 [01:19<03:30, 35.06it/s]"
          ]
        },
        {
          "output_type": "stream",
          "name": "stdout",
          "text": [
            "15 ('A table and bench made out of re-purposed wood with a cushioned chair at each end.',)\n",
            "15 ('Several people sitting on three benches outside a building.',)\n"
          ]
        },
        {
          "output_type": "stream",
          "name": "stderr",
          "text": [
            " 26%|██▋       | 2631/10000 [01:19<03:37, 33.82it/s]"
          ]
        },
        {
          "output_type": "stream",
          "name": "stdout",
          "text": [
            "18 ('A small child on a laptop sitting by a dog.',)\n",
            "13 ('A stop sign is hanging over the street on a holder.',)\n"
          ]
        },
        {
          "output_type": "stream",
          "name": "stderr",
          "text": [
            " 26%|██▋       | 2647/10000 [01:20<03:34, 34.32it/s]"
          ]
        },
        {
          "output_type": "stream",
          "name": "stdout",
          "text": [
            "13 ('A red stop sign with the word HAMMERTIME!\" painted  underneath it.\"',)\n",
            "1 ('A person on a street with vehicles and a building with a clock.',)\n",
            "5 ('A group of people standing in a lot with a small airplane nearby.',)\n",
            "10 ('Three traffic lights, the lowest of which is painted as a smiley face.',)\n"
          ]
        },
        {
          "output_type": "stream",
          "name": "stderr",
          "text": [
            " 27%|██▋       | 2655/10000 [01:20<03:40, 33.37it/s]"
          ]
        },
        {
          "output_type": "stream",
          "name": "stdout",
          "text": [
            "2 ('A surfboard strapped to the side of a bike.',)\n",
            "3 ('The giraffe is in the road and some cars are approaching',)\n"
          ]
        },
        {
          "output_type": "stream",
          "name": "stderr",
          "text": [
            " 27%|██▋       | 2663/10000 [01:20<03:40, 33.21it/s]"
          ]
        },
        {
          "output_type": "stream",
          "name": "stdout",
          "text": [
            "4 ('A black motorcycle parked on a show room floor.',)\n",
            "11 ('A silver and red fire hydrant sitting on a sidewalk next to a street.',)\n",
            "4 ('A motorcycle with a rear view mirror reflected a tree.',)\n"
          ]
        },
        {
          "output_type": "stream",
          "name": "stderr",
          "text": [
            " 27%|██▋       | 2679/10000 [01:21<03:32, 34.45it/s]"
          ]
        },
        {
          "output_type": "stream",
          "name": "stdout",
          "text": [
            "9 ('Three men looking at boats in the water.',)\n",
            "19 ('A woman standing between a brown horse and a horse trailer.',)\n"
          ]
        },
        {
          "output_type": "stream",
          "name": "stderr",
          "text": [
            " 27%|██▋       | 2687/10000 [01:21<03:28, 35.08it/s]"
          ]
        },
        {
          "output_type": "stream",
          "name": "stdout",
          "text": [
            "9 ('A boat parked on a field next to a house.',)\n",
            "18 ('A dog looking out of a window at a building.',)\n",
            "9 ('A boat is sailing with an American flag flying.',)\n"
          ]
        },
        {
          "output_type": "stream",
          "name": "stderr",
          "text": [
            " 27%|██▋       | 2699/10000 [01:21<03:22, 36.11it/s]"
          ]
        },
        {
          "output_type": "stream",
          "name": "stdout",
          "text": [
            "18 ('a small dog is under a white sheet',)\n",
            "16 ('two birds standing near each other on a roof top',)\n",
            "3 ('A close up view of a mirror reflecting cars parked on a street.',)\n"
          ]
        },
        {
          "output_type": "stream",
          "name": "stderr",
          "text": [
            " 27%|██▋       | 2707/10000 [01:22<03:32, 34.34it/s]"
          ]
        },
        {
          "output_type": "stream",
          "name": "stdout",
          "text": [
            "19 ('Two people riding horses on top of a wet sandy beach.',)\n",
            "15 ('LOTS OF MEN ALL DRESSED UP, MOST SITTING ON BENCHES',)\n"
          ]
        },
        {
          "output_type": "stream",
          "name": "stderr",
          "text": [
            " 27%|██▋       | 2715/10000 [01:22<03:32, 34.35it/s]"
          ]
        },
        {
          "output_type": "stream",
          "name": "stdout",
          "text": [
            "7 ('A man with a paintbrush, painting designs on the outside of a train car.',)\n",
            "9 ('A big sail boat in the ocean with people on it',)\n"
          ]
        },
        {
          "output_type": "stream",
          "name": "stderr",
          "text": [
            " 27%|██▋       | 2723/10000 [01:22<03:26, 35.22it/s]"
          ]
        },
        {
          "output_type": "stream",
          "name": "stdout",
          "text": [
            "15 ('a woman sitting on a park bench on a feild',)\n"
          ]
        },
        {
          "output_type": "stream",
          "name": "stderr",
          "text": [
            " 27%|██▋       | 2739/10000 [01:22<03:19, 36.47it/s]"
          ]
        },
        {
          "output_type": "stream",
          "name": "stdout",
          "text": [
            "13 ('A stop sign across from a  large church',)\n",
            "1 ('A person sits on a bed with a dog.',)\n",
            "18 ('A person sits on a bed with a dog.',)\n"
          ]
        },
        {
          "output_type": "stream",
          "name": "stderr",
          "text": [
            " 27%|██▋       | 2747/10000 [01:23<03:29, 34.61it/s]"
          ]
        },
        {
          "output_type": "stream",
          "name": "stdout",
          "text": [
            "2 ('Man in red cape riding a bike down a tunnel.',)\n",
            "11 ('A little boy trying to open a fire hydrant.',)\n",
            "4 ('Man riding a motorcycle on the side of a street with baggage on the back.',)\n"
          ]
        },
        {
          "output_type": "stream",
          "name": "stderr",
          "text": [
            " 28%|██▊       | 2755/10000 [01:23<03:28, 34.81it/s]"
          ]
        },
        {
          "output_type": "stream",
          "name": "stdout",
          "text": [
            "17 ('A cat sitting in front of a TV showing fish.',)\n",
            "3 ('hatch up on hatchback car that is loaded up with coolers and blankets',)\n"
          ]
        },
        {
          "output_type": "stream",
          "name": "stderr",
          "text": [
            " 28%|██▊       | 2763/10000 [01:23<03:31, 34.26it/s]"
          ]
        },
        {
          "output_type": "stream",
          "name": "stdout",
          "text": [
            "15 ('A woman sitting on a bench next to a stone structure.',)\n",
            "19 ('A jockey is standing hunched over to ride the horse.',)\n",
            "6 ('a red white and yellow double decker bus and people',)\n"
          ]
        },
        {
          "output_type": "stream",
          "name": "stderr",
          "text": [
            " 28%|██▊       | 2775/10000 [01:24<03:24, 35.29it/s]"
          ]
        },
        {
          "output_type": "stream",
          "name": "stdout",
          "text": [
            "1 ('A person sleeps on a bed in a messy room.',)\n",
            "18 ('a dog is running in the water with a frisbee',)\n",
            "4 ('A man riding on the back of a green motorcycle.',)\n"
          ]
        },
        {
          "output_type": "stream",
          "name": "stderr",
          "text": [
            " 28%|██▊       | 2783/10000 [01:24<03:35, 33.52it/s]"
          ]
        },
        {
          "output_type": "stream",
          "name": "stdout",
          "text": [
            "18 ('A living room with a Christmas tree and a dog.',)\n",
            "8 ('A rusted out truck parked in front of a building with lots of clutter on it.',)\n",
            "11 ('THERE IS A STOP SIGN WITH A RED FIRE HYDRANT IN THE GRASS',)\n",
            "13 ('THERE IS A STOP SIGN WITH A RED FIRE HYDRANT IN THE GRASS',)\n"
          ]
        },
        {
          "output_type": "stream",
          "name": "stderr",
          "text": [
            "\r 28%|██▊       | 2787/10000 [01:24<03:40, 32.66it/s]"
          ]
        },
        {
          "output_type": "stream",
          "name": "stdout",
          "text": [
            "16 ('A gray bird is standing in the grass.',)\n",
            "9 ('A body of water with a large blue boat floating on top of it.',)\n",
            "19 ('Two people on horse back walking by the ocean.',)\n"
          ]
        },
        {
          "output_type": "stream",
          "name": "stderr",
          "text": [
            " 28%|██▊       | 2799/10000 [01:24<03:33, 33.74it/s]"
          ]
        },
        {
          "output_type": "stream",
          "name": "stdout",
          "text": [
            "16 ('wild birds in the forest with young ones in the grass',)\n",
            "2 ('A woman with a laptop and a bike sits on a rail.',)\n",
            "18 ('a dog laying comfortably on a floral sofa',)\n"
          ]
        },
        {
          "output_type": "stream",
          "name": "stderr",
          "text": [
            "\r 28%|██▊       | 2803/10000 [01:24<03:36, 33.28it/s]"
          ]
        },
        {
          "output_type": "stream",
          "name": "stdout",
          "text": [
            "17 ('A hairless cat with a face inside a bowl of food.',)\n",
            "9 ('a bridge that has some boats under neath',)\n"
          ]
        },
        {
          "output_type": "stream",
          "name": "stderr",
          "text": [
            " 28%|██▊       | 2811/10000 [01:25<03:34, 33.53it/s]"
          ]
        },
        {
          "output_type": "stream",
          "name": "stdout",
          "text": [
            "17 ('A large cat laying in a piece of luggage.',)\n",
            "17 ('A cat standing inside of a suitcase that is empty.',)\n",
            "13 ('A stop sign at a street side turned upside down.',)\n",
            "2 ('A person riding a bike on a track in the desert.',)\n",
            "19 ('A kid riding a white horse past a blue barrel.',)\n"
          ]
        },
        {
          "output_type": "stream",
          "name": "stderr",
          "text": [
            " 28%|██▊       | 2823/10000 [01:25<03:29, 34.27it/s]"
          ]
        },
        {
          "output_type": "stream",
          "name": "stdout",
          "text": [
            "17 ('A black cat staring out the window behind a computer',)\n",
            "2 ('A bicycle in a living room near  a couch',)\n",
            "17 ('A chair and debt with laptop, monitor and a cat.',)\n",
            "9 ('A bug of beer on a table overlooking a body of water with boats.',)\n",
            "4 ('a man poses for a picture while sitting on a motorcycle',)\n"
          ]
        },
        {
          "output_type": "stream",
          "name": "stderr",
          "text": [
            " 28%|██▊       | 2835/10000 [01:25<03:26, 34.78it/s]"
          ]
        },
        {
          "output_type": "stream",
          "name": "stdout",
          "text": [
            "2 ('This woman is standing near a bike near a church entrance.',)\n",
            "18 ('A brown dog laying on top of a couch cushion.',)\n"
          ]
        },
        {
          "output_type": "stream",
          "name": "stderr",
          "text": [
            " 28%|██▊       | 2843/10000 [01:26<03:23, 35.23it/s]"
          ]
        },
        {
          "output_type": "stream",
          "name": "stdout",
          "text": [
            "18 ('A hand that is holding a frisbee toward a dog.',)\n",
            "7 ('The back of a train car that has its door open.',)\n",
            "17 ('A man holding a cat while working on his laptop.',)\n",
            "8 ('A large semi truck traveling down a winding road.',)\n"
          ]
        },
        {
          "output_type": "stream",
          "name": "stderr",
          "text": [
            " 29%|██▊       | 2851/10000 [01:26<03:26, 34.60it/s]"
          ]
        },
        {
          "output_type": "stream",
          "name": "stdout",
          "text": [
            "9 ('A boat that is in a lake by some houses.',)\n",
            "6 ('A yellow bus driving down a street past a tall building.',)\n"
          ]
        },
        {
          "output_type": "stream",
          "name": "stderr",
          "text": [
            " 29%|██▊       | 2859/10000 [01:26<03:23, 35.05it/s]"
          ]
        },
        {
          "output_type": "stream",
          "name": "stdout",
          "text": [
            "19 ('A group of people on horses in a field.',)\n"
          ]
        },
        {
          "output_type": "stream",
          "name": "stderr",
          "text": [
            " 29%|██▊       | 2867/10000 [01:26<03:23, 35.08it/s]"
          ]
        },
        {
          "output_type": "stream",
          "name": "stdout",
          "text": [
            "11 ('A red fire hydrant in the middle of a dirt road.',)\n",
            "19 ('A cowgirl riding a horse in a dirt filled arena.',)\n"
          ]
        },
        {
          "output_type": "stream",
          "name": "stderr",
          "text": [
            " 29%|██▉       | 2883/10000 [01:27<03:25, 34.65it/s]"
          ]
        },
        {
          "output_type": "stream",
          "name": "stdout",
          "text": [
            "5 ('A chrome propeller airplane sitting next to a crowd of people.',)\n",
            "18 ('A large brown dog holding a soccer ball.',)\n"
          ]
        },
        {
          "output_type": "stream",
          "name": "stderr",
          "text": [
            " 29%|██▉       | 2891/10000 [01:27<03:25, 34.54it/s]"
          ]
        },
        {
          "output_type": "stream",
          "name": "stdout",
          "text": [
            "11 ('A yellow fire hydrant sitting in the grass',)\n",
            "15 ('A carved wooden sign reading Saxon Street\" is posted in between two benches.\"',)\n",
            "11 ('A top of a red fire hydrant.',)\n"
          ]
        },
        {
          "output_type": "stream",
          "name": "stderr",
          "text": [
            " 29%|██▉       | 2903/10000 [01:27<03:30, 33.72it/s]"
          ]
        },
        {
          "output_type": "stream",
          "name": "stdout",
          "text": [
            "16 ('A multiple exposure of a bird flying over the treetops.',)\n",
            "18 ('A man sitting on a bed next to a  dog holding a plate of pizza.',)\n",
            "2 ('Racer riding a dirt bike on a race course.',)\n"
          ]
        },
        {
          "output_type": "stream",
          "name": "stderr",
          "text": [
            " 29%|██▉       | 2911/10000 [01:28<03:38, 32.49it/s]"
          ]
        },
        {
          "output_type": "stream",
          "name": "stdout",
          "text": [
            "17 ('a gray black and white cat some books and a couch',)\n",
            "2 ('A bicycle covered in christmas decorations parked next to a van.',)\n"
          ]
        },
        {
          "output_type": "stream",
          "name": "stderr",
          "text": [
            " 29%|██▉       | 2923/10000 [01:28<03:41, 32.01it/s]"
          ]
        },
        {
          "output_type": "stream",
          "name": "stdout",
          "text": [
            "17 ('An orange cat laying in a piece of gray luggage.',)\n",
            "7 ('A passenger train going down some tracks adjacent a city street.',)\n"
          ]
        },
        {
          "output_type": "stream",
          "name": "stderr",
          "text": [
            " 29%|██▉       | 2939/10000 [01:28<03:37, 32.49it/s]"
          ]
        },
        {
          "output_type": "stream",
          "name": "stdout",
          "text": [
            "1 ('A person standing next to a red train, outside.',)\n",
            "16 ('A bird is pirched on a small branch.',)\n",
            "15 ('A shirtless man reading a book on a bench.',)\n"
          ]
        },
        {
          "output_type": "stream",
          "name": "stderr",
          "text": [
            "\r 29%|██▉       | 2943/10000 [01:29<03:48, 30.92it/s]"
          ]
        },
        {
          "output_type": "stream",
          "name": "stdout",
          "text": [
            "7 ('A people standing next to a train under a train station underpass.',)\n",
            "18 ('A dog is looking at a bottle of sake.',)\n",
            "15 ('a white bench along side a small river',)\n",
            "8 ('a fire truck at an intersection resting on its side',)\n",
            "2 ('A man riding a mini bike with a board attached to it.',)\n"
          ]
        },
        {
          "output_type": "stream",
          "name": "stderr",
          "text": [
            " 30%|██▉       | 2951/10000 [01:29<03:32, 33.19it/s]"
          ]
        },
        {
          "output_type": "stream",
          "name": "stdout",
          "text": [
            "15 ('A couple of people sitting on a bench in front of a building.',)\n",
            "4 ('A group of people at a motorcycle show looking at the motorcycles.',)\n",
            "19 ('On a snowy day, horses look over a fence.',)\n"
          ]
        },
        {
          "output_type": "stream",
          "name": "stderr",
          "text": [
            " 30%|██▉       | 2971/10000 [01:29<03:26, 34.07it/s]"
          ]
        },
        {
          "output_type": "stream",
          "name": "stdout",
          "text": [
            "17 ('A cat playing on the screen of a white laptop.',)\n",
            "6 ('A purple bus driving down a street with tall building.',)\n"
          ]
        },
        {
          "output_type": "stream",
          "name": "stderr",
          "text": [
            " 30%|██▉       | 2983/10000 [01:30<03:21, 34.80it/s]"
          ]
        },
        {
          "output_type": "stream",
          "name": "stdout",
          "text": [
            "4 ('A parked motorcycle next to a parking lot.',)\n",
            "16 ('a little bird sitting in a tree on a branch',)\n",
            "5 ('A large commercial plane parked on the runway',)\n"
          ]
        },
        {
          "output_type": "stream",
          "name": "stderr",
          "text": [
            " 30%|██▉       | 2991/10000 [01:30<03:33, 32.88it/s]"
          ]
        },
        {
          "output_type": "stream",
          "name": "stdout",
          "text": [
            "2 ('A man standing next to an old bicycle with flowers on it.',)\n",
            "3 ('A man sitting in the driver seat of a car on his laptop.',)\n"
          ]
        },
        {
          "output_type": "stream",
          "name": "stderr",
          "text": [
            " 30%|███       | 3003/10000 [01:30<03:24, 34.28it/s]"
          ]
        },
        {
          "output_type": "stream",
          "name": "stdout",
          "text": [
            "16 ('Birds surrounding an animal in the middle of a field.',)\n",
            "11 ('A pair of initials in a heart are etched into concrete next to a fire hydrant.',)\n"
          ]
        },
        {
          "output_type": "stream",
          "name": "stderr",
          "text": [
            " 30%|███       | 3011/10000 [01:31<03:23, 34.36it/s]"
          ]
        },
        {
          "output_type": "stream",
          "name": "stdout",
          "text": [
            "18 ('A black dog on a table eating a chocolate cake, next to a young girl.',)\n",
            "19 ('a woman stands next to some horses',)\n"
          ]
        },
        {
          "output_type": "stream",
          "name": "stderr",
          "text": [
            " 30%|███       | 3027/10000 [01:31<03:20, 34.75it/s]"
          ]
        },
        {
          "output_type": "stream",
          "name": "stdout",
          "text": [
            "6 ('Several people with backpacks waiting to get on a bus.',)\n",
            "11 ('A white fire hydrant sitting in the middle of  dry grass field.',)\n",
            "5 ('A couple posing together in front of an airplane.',)\n"
          ]
        },
        {
          "output_type": "stream",
          "name": "stderr",
          "text": [
            " 30%|███       | 3035/10000 [01:31<03:17, 35.26it/s]"
          ]
        },
        {
          "output_type": "stream",
          "name": "stdout",
          "text": [
            "13 ('A section of town with a stop sign, street sign, one way sign and a restaurant sign.',)\n",
            "9 ('a small boat in a narrow body of water',)\n",
            "9 ('Boats lined up in rows in water at the dock',)\n",
            "13 ('A stop sign with a couple more behind it',)\n"
          ]
        },
        {
          "output_type": "stream",
          "name": "stderr",
          "text": [
            " 30%|███       | 3043/10000 [01:31<03:21, 34.44it/s]"
          ]
        },
        {
          "output_type": "stream",
          "name": "stdout",
          "text": [
            "2 ('The young competitor has fallen off his bike, and there are officials running to assist.',)\n",
            "18 ('Man eating a hot dog while wearing reflectional sunglasses.',)\n"
          ]
        },
        {
          "output_type": "stream",
          "name": "stderr",
          "text": [
            " 31%|███       | 3051/10000 [01:32<03:19, 34.81it/s]"
          ]
        },
        {
          "output_type": "stream",
          "name": "stdout",
          "text": [
            "18 ('A dog lies on a bed near a window with an open book.',)\n",
            "5 ('The wings of a airplane that are over the water.',)\n",
            "13 ('A stop sign and other street signs on a pole.',)\n"
          ]
        },
        {
          "output_type": "stream",
          "name": "stderr",
          "text": [
            " 31%|███       | 3063/10000 [01:32<03:28, 33.26it/s]"
          ]
        },
        {
          "output_type": "stream",
          "name": "stdout",
          "text": [
            "9 ('A boat traveling on a lake filled with water.',)\n",
            "11 ('A fire hydrant sitting on the side of a road.',)\n",
            "19 ('A horse pulls a sleigh in the snow.',)\n"
          ]
        },
        {
          "output_type": "stream",
          "name": "stderr",
          "text": [
            " 31%|███       | 3075/10000 [01:32<03:23, 34.00it/s]"
          ]
        },
        {
          "output_type": "stream",
          "name": "stdout",
          "text": [
            "8 ('A group of people ordering some food out of the truck.',)\n",
            "9 ('Two people and a dog in a boat floating on the water.',)\n",
            "18 ('Two people and a dog in a boat floating on the water.',)\n"
          ]
        },
        {
          "output_type": "stream",
          "name": "stderr",
          "text": [
            " 31%|███       | 3091/10000 [01:33<03:16, 35.24it/s]"
          ]
        },
        {
          "output_type": "stream",
          "name": "stdout",
          "text": [
            "6 ('A bus making a stop in front of a tall red brick building.',)\n",
            "8 ('A woman driving a truck into a camel on grass covered field',)\n",
            "7 ('A man driving a train on a track, during the day.',)\n",
            "9 ('A harbor filled with lots of small white boats.',)\n",
            "8 ('A truck at a stop light with its brake lights on.',)\n"
          ]
        },
        {
          "output_type": "stream",
          "name": "stderr",
          "text": [
            " 31%|███       | 3115/10000 [01:34<03:11, 36.02it/s]"
          ]
        },
        {
          "output_type": "stream",
          "name": "stdout",
          "text": [
            "19 ('A man is holding a bag of food with two dogs and a horse around him.',)\n"
          ]
        },
        {
          "output_type": "stream",
          "name": "stderr",
          "text": [
            " 31%|███       | 3123/10000 [01:34<03:13, 35.49it/s]"
          ]
        },
        {
          "output_type": "stream",
          "name": "stdout",
          "text": [
            "2 (\"A man riding a bike with an ice cream truck and a dog on it's front.\",)\n",
            "8 (\"A man riding a bike with an ice cream truck and a dog on it's front.\",)\n",
            "18 (\"A man riding a bike with an ice cream truck and a dog on it's front.\",)\n",
            "18 ('A brown and white dog laying on a couch.',)\n",
            "8 ('A group of people in line at a food truck.',)\n"
          ]
        },
        {
          "output_type": "stream",
          "name": "stderr",
          "text": [
            " 31%|███▏      | 3131/10000 [01:34<03:28, 32.88it/s]"
          ]
        },
        {
          "output_type": "stream",
          "name": "stdout",
          "text": [
            "18 ('A dog sitting next to a pink and green frisbee.',)\n",
            "13 ('Cross traffic sign under a stop sign in front of an intersection.',)\n",
            "18 ('A large dog sitting on the back of a couch.',)\n",
            "2 ('A gang of bikers parked in front of a print shop.',)\n",
            "6 ('A city filled with people, street signs, cars, and buses.',)\n",
            "18 ('A white dog looking with tilted head at the camera.',)\n"
          ]
        },
        {
          "output_type": "stream",
          "name": "stderr",
          "text": [
            " 31%|███▏      | 3143/10000 [01:34<03:24, 33.58it/s]"
          ]
        },
        {
          "output_type": "stream",
          "name": "stdout",
          "text": [
            "9 ('A red, white and blue boat floating on top of water.',)\n",
            "13 ('A do not block sign next to a red stop sign.',)\n",
            "17 ('A cat laying inside of a bag sitting on top of a bed.',)\n"
          ]
        },
        {
          "output_type": "stream",
          "name": "stderr",
          "text": [
            " 32%|███▏      | 3151/10000 [01:35<03:23, 33.65it/s]"
          ]
        },
        {
          "output_type": "stream",
          "name": "stdout",
          "text": [
            "9 ('A vehicles pulling a small boat on the beach.',)\n",
            "18 ('A brown dog is sitting on the dirt path.',)\n",
            "16 ('A bird and her young perched on a rock',)\n"
          ]
        },
        {
          "output_type": "stream",
          "name": "stderr",
          "text": [
            " 32%|███▏      | 3159/10000 [01:35<03:21, 33.97it/s]"
          ]
        },
        {
          "output_type": "stream",
          "name": "stdout",
          "text": [
            "6 ('A all building next to a city bus under a traffic light.',)\n",
            "10 ('A all building next to a city bus under a traffic light.',)\n",
            "13 ('A four way stop sign on the corner of Kempa and Royal',)\n",
            "19 (\"A horse and it's baby are standing in the field\",)\n",
            "1 ('a person sitting on a curb operating a cell phone',)\n"
          ]
        },
        {
          "output_type": "stream",
          "name": "stderr",
          "text": [
            " 32%|███▏      | 3175/10000 [01:35<03:17, 34.59it/s]"
          ]
        },
        {
          "output_type": "stream",
          "name": "stdout",
          "text": [
            "11 ('The fire hydrant is on the sidewalk by the rundown buildings.',)\n",
            "16 ('a little bird feeder is in a back yard',)\n",
            "1 ('A person in a helmet is riding a motorcycle.',)\n",
            "4 ('A person in a helmet is riding a motorcycle.',)\n",
            "4 ('A motorcycle sitting on the side of the road.',)\n"
          ]
        },
        {
          "output_type": "stream",
          "name": "stderr",
          "text": [
            " 32%|███▏      | 3203/10000 [01:36<03:19, 34.13it/s]"
          ]
        },
        {
          "output_type": "stream",
          "name": "stdout",
          "text": [
            "8 ('A pick up truck sitting next to a giant cactus',)\n",
            "8 ('A black truck with white writing on it',)\n"
          ]
        },
        {
          "output_type": "stream",
          "name": "stderr",
          "text": [
            " 32%|███▏      | 3211/10000 [01:36<03:18, 34.20it/s]"
          ]
        },
        {
          "output_type": "stream",
          "name": "stdout",
          "text": [
            "18 ('There is s person eating a hot dog in the dtand',)\n",
            "9 ('A boat with many people riding in it',)\n",
            "1 ('a person walking on a side walk near a parking meter',)\n",
            "14 ('a person walking on a side walk near a parking meter',)\n",
            "18 ('A dog is sitting on a couch with a table in front of it.',)\n",
            "16 ('a white bird with an orange beak standing on a stone edge next to a hole in a wall.',)\n"
          ]
        },
        {
          "output_type": "stream",
          "name": "stderr",
          "text": [
            " 32%|███▏      | 3219/10000 [01:37<03:25, 32.99it/s]"
          ]
        },
        {
          "output_type": "stream",
          "name": "stdout",
          "text": [
            "13 ('A girl holding her hand up next to a stop sign.',)\n",
            "15 ('A shirtless man is reading a paper on a park bench.',)\n",
            "15 ('A flock of pigeons sitting on top of a wooden bench.',)\n"
          ]
        },
        {
          "output_type": "stream",
          "name": "stderr",
          "text": [
            " 32%|███▏      | 3231/10000 [01:37<03:12, 35.11it/s]"
          ]
        },
        {
          "output_type": "stream",
          "name": "stdout",
          "text": [
            "17 ('A black cat getting off of a picnic table.',)\n",
            "2 ('A young male walking through traffic holding on to two bikes.',)\n"
          ]
        },
        {
          "output_type": "stream",
          "name": "stderr",
          "text": [
            " 32%|███▏      | 3239/10000 [01:37<03:12, 35.08it/s]"
          ]
        },
        {
          "output_type": "stream",
          "name": "stdout",
          "text": [
            "8 ('A truck with a jeep on the back of it driving down the street.',)\n",
            "16 ('A black and white bird is walking on the sand.',)\n"
          ]
        },
        {
          "output_type": "stream",
          "name": "stderr",
          "text": [
            " 32%|███▏      | 3247/10000 [01:37<03:13, 34.94it/s]"
          ]
        },
        {
          "output_type": "stream",
          "name": "stdout",
          "text": [
            "2 ('A man sitting on a train with a bicycle.',)\n",
            "7 ('A man sitting on a train with a bicycle.',)\n",
            "18 ('A dog lays on a black bed in front of a large screen television.',)\n",
            "4 ('There is a motorcycle with the word indian parked on the street',)\n",
            "18 ('The man holding a plate of pizza smiles at a dog nearby.',)\n",
            "1 ('A person riding a horse through a lush green grass covered forest.',)\n",
            "19 ('A person riding a horse through a lush green grass covered forest.',)\n",
            "19 ('A group of men racing horses on top of a beach.',)\n"
          ]
        },
        {
          "output_type": "stream",
          "name": "stderr",
          "text": [
            " 33%|███▎      | 3255/10000 [01:38<03:17, 34.19it/s]"
          ]
        },
        {
          "output_type": "stream",
          "name": "stdout",
          "text": [
            "4 ('The motorcycle is on display in the window.',)\n",
            "18 ('Man about to eat a hot dog that someone is holding in front of him.',)\n",
            "9 ('A white boat is parked next to a pier.',)\n"
          ]
        },
        {
          "output_type": "stream",
          "name": "stderr",
          "text": [
            " 33%|███▎      | 3263/10000 [01:38<03:14, 34.69it/s]"
          ]
        },
        {
          "output_type": "stream",
          "name": "stdout",
          "text": [
            "2 ('Many people riding bikes, and one elephant float.',)\n",
            "17 ('A blurry photo of a cat interested in a bug.',)\n",
            "16 "
          ]
        },
        {
          "output_type": "stream",
          "name": "stderr",
          "text": [
            " 33%|███▎      | 3271/10000 [01:38<03:25, 32.82it/s]"
          ]
        },
        {
          "output_type": "stream",
          "name": "stdout",
          "text": [
            "('A bird perched on a plant in the middle of a forest.',)\n",
            "8 ('A rusty old truck in weeds with a cat inside the window',)\n",
            "17 ('A rusty old truck in weeds with a cat inside the window',)\n"
          ]
        },
        {
          "output_type": "stream",
          "name": "stderr",
          "text": [
            " 33%|███▎      | 3279/10000 [01:38<03:25, 32.68it/s]"
          ]
        },
        {
          "output_type": "stream",
          "name": "stdout",
          "text": [
            "15 ('A young man riding a skateboard past a wooden bench.',)\n",
            "15 ('People seated on a stone bench on cell phones.',)\n"
          ]
        },
        {
          "output_type": "stream",
          "name": "stderr",
          "text": [
            " 33%|███▎      | 3291/10000 [01:39<03:16, 34.11it/s]"
          ]
        },
        {
          "output_type": "stream",
          "name": "stdout",
          "text": [
            "6 ('Red commuter bus at curb with pedestrian walking on large path with trees.',)\n"
          ]
        },
        {
          "output_type": "stream",
          "name": "stderr",
          "text": [
            " 33%|███▎      | 3299/10000 [01:39<03:11, 34.92it/s]"
          ]
        },
        {
          "output_type": "stream",
          "name": "stdout",
          "text": [
            "4 ('A  woman riding a motorcycle with a man on the back of it.',)\n",
            "4 ('Police man wearing a white shirt and black pants on a motorcycle',)\n",
            "8 ('A white pick up truck driving down a road behind a line of elephants.',)\n",
            "8 ('A white utility truck covered in graffiti on side of street.',)\n"
          ]
        },
        {
          "output_type": "stream",
          "name": "stderr",
          "text": [
            " 33%|███▎      | 3311/10000 [01:39<03:14, 34.36it/s]"
          ]
        },
        {
          "output_type": "stream",
          "name": "stdout",
          "text": [
            "3 ('A black and white TV with a picture of a car showing on the screen.',)\n",
            "19 ('a girl in a cowboy hat hugging her horse',)\n"
          ]
        },
        {
          "output_type": "stream",
          "name": "stderr",
          "text": [
            "\r 33%|███▎      | 3315/10000 [01:39<03:15, 34.24it/s]"
          ]
        },
        {
          "output_type": "stream",
          "name": "stdout",
          "text": [
            "3 ('Toy trucks and cars are sitting on a model road.',)\n",
            "8 ('Toy trucks and cars are sitting on a model road.',)\n"
          ]
        },
        {
          "output_type": "stream",
          "name": "stderr",
          "text": [
            "\r 33%|███▎      | 3319/10000 [01:40<05:21, 20.76it/s]"
          ]
        },
        {
          "output_type": "stream",
          "name": "stdout",
          "text": [
            "9 ('A harbor filled with lots of boats surrounded by tall buildings.',)\n"
          ]
        },
        {
          "output_type": "stream",
          "name": "stderr",
          "text": [
            " 33%|███▎      | 3325/10000 [01:40<05:39, 19.68it/s]"
          ]
        },
        {
          "output_type": "stream",
          "name": "stdout",
          "text": [
            "18 ('A bearded man laying beside a dog wearing a Santa hat.',)\n"
          ]
        },
        {
          "output_type": "stream",
          "name": "stderr",
          "text": [
            " 33%|███▎      | 3333/10000 [01:40<04:16, 26.02it/s]"
          ]
        },
        {
          "output_type": "stream",
          "name": "stdout",
          "text": [
            "9 ('A lot near the water with some small boats parked in it.',)\n",
            "13 ('A stop sign is near a city street and several houses that are lining a street.',)\n"
          ]
        },
        {
          "output_type": "stream",
          "name": "stderr",
          "text": [
            " 33%|███▎      | 3341/10000 [01:41<03:50, 28.86it/s]"
          ]
        },
        {
          "output_type": "stream",
          "name": "stdout",
          "text": [
            "16 ('A bird is perched on the branch of a tree.',)\n",
            "16 ('Many birds are gathered on the grey sands of a beach.',)\n",
            "3 ('A white car parked outside the fence of an airport.',)\n"
          ]
        },
        {
          "output_type": "stream",
          "name": "stderr",
          "text": [
            " 34%|███▎      | 3357/10000 [01:41<03:16, 33.78it/s]"
          ]
        },
        {
          "output_type": "stream",
          "name": "stdout",
          "text": [
            "19 ('Two policemen on horses in a park',)\n",
            "4 ('Motorcyclists park on the sidewalk near the street.',)\n"
          ]
        },
        {
          "output_type": "stream",
          "name": "stderr",
          "text": [
            " 34%|███▎      | 3365/10000 [01:41<03:17, 33.51it/s]"
          ]
        },
        {
          "output_type": "stream",
          "name": "stdout",
          "text": [
            "8 ('A bus and a truck are pictured driving on a street.',)\n",
            "14 ('Two rusty, out of service parking meters on the sidewalk.',)\n",
            "15 ('Young couple sitting at bench in city park.',)\n",
            "1 ('A person sitting on the bed looking at their laptop while petting a black cat',)\n"
          ]
        },
        {
          "output_type": "stream",
          "name": "stderr",
          "text": [
            " 34%|███▍      | 3377/10000 [01:42<03:15, 33.96it/s]"
          ]
        },
        {
          "output_type": "stream",
          "name": "stdout",
          "text": [
            "1 ('A person riding a brown horse across snow covered ground.',)\n",
            "19 ('A person riding a brown horse across snow covered ground.',)\n",
            "3 ('A few old cars on a busy city street.',)\n",
            "9 ('A boat floating on a river past a bridge',)\n"
          ]
        },
        {
          "output_type": "stream",
          "name": "stderr",
          "text": [
            " 34%|███▍      | 3385/10000 [01:42<03:15, 33.86it/s]"
          ]
        },
        {
          "output_type": "stream",
          "name": "stdout",
          "text": [
            "7 ('The train is going through the mountainside in a forest area on the track.',)\n",
            "18 ('a dog lays down on a bed with a remote control',)\n",
            "19 ('Group of people examining prize winning Clydesdale horse.',)\n"
          ]
        },
        {
          "output_type": "stream",
          "name": "stderr",
          "text": [
            " 34%|███▍      | 3393/10000 [01:42<03:13, 34.07it/s]"
          ]
        },
        {
          "output_type": "stream",
          "name": "stdout",
          "text": [
            "11 ('a bright blue fire hydrant in some bushes',)\n"
          ]
        },
        {
          "output_type": "stream",
          "name": "stderr",
          "text": [
            " 34%|███▍      | 3401/10000 [01:42<03:25, 32.19it/s]"
          ]
        },
        {
          "output_type": "stream",
          "name": "stdout",
          "text": [
            "18 ('Two people and a dog standing next to a blue surfboard.',)\n",
            "3 ('Travelers in cars and on motorcylces are riding in the rain',)\n",
            "4 ('Travelers in cars and on motorcylces are riding in the rain',)\n",
            "13 ('a close up of a stop sign with a sky background',)\n"
          ]
        },
        {
          "output_type": "stream",
          "name": "stderr",
          "text": [
            " 34%|███▍      | 3409/10000 [01:43<03:15, 33.74it/s]"
          ]
        },
        {
          "output_type": "stream",
          "name": "stdout",
          "text": [
            "1 ('some giraffes green grass trees and bushes and a person',)\n"
          ]
        },
        {
          "output_type": "stream",
          "name": "stderr",
          "text": [
            " 34%|███▍      | 3417/10000 [01:43<03:09, 34.69it/s]"
          ]
        },
        {
          "output_type": "stream",
          "name": "stdout",
          "text": [
            "19 ('A horse sticks its head out a trailer window and into the wind.',)\n",
            "4 ('A motorcycle parked on a sandy beach next to the ocean.',)\n",
            "18 ('A woman sitting on a couch with a dog and laptop in her lap.',)\n",
            "3 ('There is a stop sign by some parked cars.',)\n",
            "13 ('There is a stop sign by some parked cars.',)\n"
          ]
        },
        {
          "output_type": "stream",
          "name": "stderr",
          "text": [
            " 34%|███▍      | 3429/10000 [01:43<03:14, 33.76it/s]"
          ]
        },
        {
          "output_type": "stream",
          "name": "stdout",
          "text": [
            "8 ('A couple of army green trucks are on a muddy street.',)\n",
            "10 ('A crowd of people standing around a burning traffic light.',)\n",
            "6 ('A red bus is parked along side a busy street.',)\n",
            "15 ('Two benches are empty on a sunny day.',)\n"
          ]
        },
        {
          "output_type": "stream",
          "name": "stderr",
          "text": [
            " 34%|███▍      | 3437/10000 [01:43<03:13, 33.89it/s]"
          ]
        },
        {
          "output_type": "stream",
          "name": "stdout",
          "text": [
            "18 ('A dog is resting peacefully beside a television remote.',)\n",
            "8 ('A ragged looking pick-up truck with many hats hanging on a cross bar.',)\n"
          ]
        },
        {
          "output_type": "stream",
          "name": "stderr",
          "text": [
            " 34%|███▍      | 3445/10000 [01:44<03:10, 34.42it/s]"
          ]
        },
        {
          "output_type": "stream",
          "name": "stdout",
          "text": [
            "9 ('A sailboat without mast is on a calm sea',)\n",
            "11 ('A silver and blue fire hydrant sitting on the side of a road.',)\n",
            "7 ('Two elephants with costumed riders and a trainer in a circus ring.',)\n"
          ]
        },
        {
          "output_type": "stream",
          "name": "stderr",
          "text": [
            " 35%|███▍      | 3453/10000 [01:44<03:08, 34.69it/s]"
          ]
        },
        {
          "output_type": "stream",
          "name": "stdout",
          "text": [
            "4 ('a motorcycle standing on a trail in the forest',)\n",
            "2 ('A long line of parked bicycles in a large city.',)\n"
          ]
        },
        {
          "output_type": "stream",
          "name": "stderr",
          "text": [
            " 35%|███▍      | 3461/10000 [01:44<03:16, 33.22it/s]"
          ]
        },
        {
          "output_type": "stream",
          "name": "stdout",
          "text": [
            "1 ('A person on a horse riding in the grass.',)\n",
            "19 ('A person on a horse riding in the grass.',)\n",
            "8 ('a large tow truck towing a large truck',)\n"
          ]
        },
        {
          "output_type": "stream",
          "name": "stderr",
          "text": [
            "\r 35%|███▍      | 3465/10000 [01:44<03:28, 31.27it/s]"
          ]
        },
        {
          "output_type": "stream",
          "name": "stdout",
          "text": [
            "4 ('a number of people riding motorcycles near a train track',)\n",
            "7 ('a number of people riding motorcycles near a train track',)\n",
            "5 ('A large white airplane with propellers next to the water.',)\n",
            "18 ('A dog in a pool with a round piece of plastic.',)\n"
          ]
        },
        {
          "output_type": "stream",
          "name": "stderr",
          "text": [
            " 35%|███▍      | 3473/10000 [01:45<03:15, 33.35it/s]"
          ]
        },
        {
          "output_type": "stream",
          "name": "stdout",
          "text": [
            "18 ('A dog running with a Frisbee in its mouth.',)\n",
            "4 ('A red motorcycle parked on an old lot.',)\n"
          ]
        },
        {
          "output_type": "stream",
          "name": "stderr",
          "text": [
            " 35%|███▍      | 3485/10000 [01:45<03:14, 33.50it/s]"
          ]
        },
        {
          "output_type": "stream",
          "name": "stdout",
          "text": [
            "14 ('A parking meter with an advertisement for Pepsi Cola on top of it.',)\n",
            "3 ('A car staring off into the distance while laying down.',)\n"
          ]
        },
        {
          "output_type": "stream",
          "name": "stderr",
          "text": [
            " 35%|███▍      | 3493/10000 [01:45<03:10, 34.21it/s]"
          ]
        },
        {
          "output_type": "stream",
          "name": "stdout",
          "text": [
            "3 ('A car quickly driving past a hanging street light.',)\n",
            "19 ('A couple of men riding on the back of brown horses.',)\n",
            "18 ('A helmeted boy is riding behind a helmeted dog who is steering.',)\n"
          ]
        },
        {
          "output_type": "stream",
          "name": "stderr",
          "text": [
            " 35%|███▌      | 3501/10000 [01:45<03:11, 33.96it/s]"
          ]
        },
        {
          "output_type": "stream",
          "name": "stdout",
          "text": [
            "1 ('A person that is on a motorcycle in the road.',)\n",
            "4 ('A person that is on a motorcycle in the road.',)\n",
            "3 ('People on a car driving past elephants and a hippo.',)\n",
            "15 ('A wooden bench sitting near a tree on top of grass.',)"
          ]
        },
        {
          "output_type": "stream",
          "name": "stderr",
          "text": [
            " 35%|███▌      | 3509/10000 [01:46<03:10, 33.99it/s]"
          ]
        },
        {
          "output_type": "stream",
          "name": "stdout",
          "text": [
            "\n",
            "3 ('A motorcycle parked in a parking lot next to a car.',)\n",
            "7 ('Two children watch as a man puts the finishing touches on a train-shaped cake.',)\n"
          ]
        },
        {
          "output_type": "stream",
          "name": "stderr",
          "text": [
            " 35%|███▌      | 3525/10000 [01:46<03:05, 34.82it/s]"
          ]
        },
        {
          "output_type": "stream",
          "name": "stdout",
          "text": [
            "18 ('A dog is wading out into the waves with a frisbee.',)\n",
            "11 ('a fire hydrant painted to look like a man in a uniform',)\n",
            "18 ('A woman eating a hot dog on a bun.',)\n",
            "11 ('A fire hydrant sticking out of a planter filled with pebbles.',)\n"
          ]
        },
        {
          "output_type": "stream",
          "name": "stderr",
          "text": [
            " 35%|███▌      | 3537/10000 [01:46<03:03, 35.16it/s]"
          ]
        },
        {
          "output_type": "stream",
          "name": "stdout",
          "text": [
            "19 ('A man kissing a black horse near rocks.',)\n",
            "18 ('A brown dog running across a grass field.',)\n"
          ]
        },
        {
          "output_type": "stream",
          "name": "stderr",
          "text": [
            " 35%|███▌      | 3549/10000 [01:47<03:04, 34.98it/s]"
          ]
        },
        {
          "output_type": "stream",
          "name": "stdout",
          "text": [
            "9 ('A large crowd of people standing by the docks looking at some colorful boat.',)\n",
            "3 ('a line of large buildings with a line of cars beside it',)\n",
            "16 ('A bird sitting next to a bird feeder near a plant',)\n",
            "9 ('A couple of ships sitting in the middle of a body of water.',)\n",
            "18 ('a dog sticks its head out of a moving car',)\n",
            "1 ('A person rides atop the upper wing on a biplane in the air',)\n"
          ]
        },
        {
          "output_type": "stream",
          "name": "stderr",
          "text": [
            " 36%|███▌      | 3557/10000 [01:47<03:03, 35.20it/s]"
          ]
        },
        {
          "output_type": "stream",
          "name": "stdout",
          "text": [
            "13 ('a stop sign sitting in front of a forrest',)\n",
            "13 ('a stop sign and two blue and white street signs and buildings',)\n",
            "18 ('a dog stretched out laying on a persons legs under a laptop',)\n",
            "3 ('A cat laying on top of the hood of a car.',)\n",
            "14 ('A pair of parking meters in front of a red vehicle.',)\n"
          ]
        },
        {
          "output_type": "stream",
          "name": "stderr",
          "text": [
            " 36%|███▌      | 3565/10000 [01:47<03:03, 35.04it/s]"
          ]
        },
        {
          "output_type": "stream",
          "name": "stdout",
          "text": [
            "1 ('A person on a skateboard going up an incline.',)\n"
          ]
        },
        {
          "output_type": "stream",
          "name": "stderr",
          "text": [
            " 36%|███▌      | 3573/10000 [01:47<03:03, 35.03it/s]"
          ]
        },
        {
          "output_type": "stream",
          "name": "stdout",
          "text": [
            "19 ('A horse is eating the grass from under a wire fence.',)\n",
            "9 ('A body of water with several people on boats.',)\n",
            "3 ('A man holding a camera while driving a car next to zebra.',)"
          ]
        },
        {
          "output_type": "stream",
          "name": "stderr",
          "text": [
            " 36%|███▌      | 3581/10000 [01:48<03:03, 35.03it/s]"
          ]
        },
        {
          "output_type": "stream",
          "name": "stdout",
          "text": [
            "\n",
            "9 ('Some small canoe boats parked near the waters edge.',)\n",
            "18 ('A black and white dog wearing a red shirt on top of a bed.',)\n"
          ]
        },
        {
          "output_type": "stream",
          "name": "stderr",
          "text": [
            " 36%|███▌      | 3589/10000 [01:48<03:03, 35.00it/s]"
          ]
        },
        {
          "output_type": "stream",
          "name": "stdout",
          "text": [
            "5 ('A plane flying in sky beside a white lighthouse.',)\n",
            "18 ('An airborne dog with a frisbee in its mouth.',)\n",
            "3 ('A cat is sitting on top of a car.',)\n",
            "17 ('A cat is sitting on top of a car.',)\n"
          ]
        },
        {
          "output_type": "stream",
          "name": "stderr",
          "text": [
            " 36%|███▌      | 3597/10000 [01:48<03:09, 33.76it/s]"
          ]
        },
        {
          "output_type": "stream",
          "name": "stdout",
          "text": [
            "17 ('a cat lays in a sink as a woman photographs it',)\n",
            "16 ('A white bird standing on a clock by a window.',)\n"
          ]
        },
        {
          "output_type": "stream",
          "name": "stderr",
          "text": [
            " 36%|███▌      | 3609/10000 [01:49<03:13, 33.03it/s]"
          ]
        },
        {
          "output_type": "stream",
          "name": "stdout",
          "text": [
            "16 ('A group of birds in the grass by the water.',)\n",
            "18 ('A man and his dog at a park resting after a long hike.',)\n"
          ]
        },
        {
          "output_type": "stream",
          "name": "stderr",
          "text": [
            " 36%|███▋      | 3625/10000 [01:49<03:01, 35.14it/s]"
          ]
        },
        {
          "output_type": "stream",
          "name": "stdout",
          "text": [
            "2 ('A lady is riding her bicycle down the street.',)\n",
            "18 ('A dog standing on the side of the road with a group of people',)\n",
            "2 ('A man on a bicycle stopped at an intersection.',)\n"
          ]
        },
        {
          "output_type": "stream",
          "name": "stderr",
          "text": [
            " 36%|███▋      | 3645/10000 [01:50<02:57, 35.80it/s]"
          ]
        },
        {
          "output_type": "stream",
          "name": "stdout",
          "text": [
            "16 ('A white and grey bird on sandy area next to water.',)\n",
            "18 ('The dog is sitting outside on the concrete during the day.',)\n",
            "13 ('A lit up stop sign that is on the side of a street.',)\n"
          ]
        },
        {
          "output_type": "stream",
          "name": "stderr",
          "text": [
            " 37%|███▋      | 3653/10000 [01:50<03:03, 34.59it/s]"
          ]
        },
        {
          "output_type": "stream",
          "name": "stdout",
          "text": [
            "6 ('Looking through the windows of a bus at people standing in the aisle.',)\n",
            "1 ('a person washes a dog inside of a sink',)\n",
            "18 ('a person washes a dog inside of a sink',)\n"
          ]
        },
        {
          "output_type": "stream",
          "name": "stderr",
          "text": [
            " 37%|███▋      | 3673/10000 [01:50<02:55, 36.01it/s]"
          ]
        },
        {
          "output_type": "stream",
          "name": "stdout",
          "text": [
            "1 ('A small dog standing next to a person.',)\n",
            "18 ('A small dog standing next to a person.',)\n",
            "8 ('A couple of kids standing along side of a transport truck.',)\n"
          ]
        },
        {
          "output_type": "stream",
          "name": "stderr",
          "text": [
            " 37%|███▋      | 3681/10000 [01:51<03:08, 33.57it/s]"
          ]
        },
        {
          "output_type": "stream",
          "name": "stdout",
          "text": [
            "5 ('Large group poses for photograph in front of aircraft chassis.',)\n",
            "18 ('A man and dog lying on a bed',)\n"
          ]
        },
        {
          "output_type": "stream",
          "name": "stderr",
          "text": [
            " 37%|███▋      | 3689/10000 [01:51<03:09, 33.24it/s]"
          ]
        },
        {
          "output_type": "stream",
          "name": "stdout",
          "text": [
            "18 ('A black and white photograph of dog and horse drawn carriage.',)\n",
            "19 ('A black and white photograph of dog and horse drawn carriage.',)\n",
            "3 ('Two horses grazing on the side of the road near some cars.',)\n",
            "19 ('Two horses grazing on the side of the road near some cars.',)\n",
            "15 ('A wooden park bench sitting on the side of a sidewalk.',)\n",
            "4 ('People on a motorcycle passing a gas station.',)\n"
          ]
        },
        {
          "output_type": "stream",
          "name": "stderr",
          "text": [
            " 37%|███▋      | 3697/10000 [01:51<03:04, 34.12it/s]"
          ]
        },
        {
          "output_type": "stream",
          "name": "stdout",
          "text": [
            "2 ('Several taxis are in the background on a city street as a woman in gray and black rides a bicycle.',)\n",
            "19 ('A horse is grazing in an enclosed pasture.',)\n",
            "15 ('A row of white park benches on walkway.',)\n",
            "3 ('There is a man next to a car holding a banana',)\n"
          ]
        },
        {
          "output_type": "stream",
          "name": "stderr",
          "text": [
            "\r 37%|███▋      | 3701/10000 [01:51<03:14, 32.32it/s]"
          ]
        },
        {
          "output_type": "stream",
          "name": "stdout",
          "text": [
            "15 (\"A view of a person's legs sitting on a bench alone.\",)\n",
            "6 ('A bus is driving along a street next to parked cars',)\n",
            "4 ('A red motorcycle being repaired on top of a stand.',)\n"
          ]
        },
        {
          "output_type": "stream",
          "name": "stderr",
          "text": [
            " 37%|███▋      | 3713/10000 [01:52<03:11, 32.91it/s]"
          ]
        },
        {
          "output_type": "stream",
          "name": "stdout",
          "text": [
            "16 ('Flying bird silhouetted overhead against cloudy sky background.',)\n",
            "2 ('A large group of people standing next to bicycles in a building square.',)\n",
            "19 ('Two horses are standing beside a river.',)\n"
          ]
        },
        {
          "output_type": "stream",
          "name": "stderr",
          "text": [
            " 37%|███▋      | 3721/10000 [01:52<03:06, 33.75it/s]"
          ]
        },
        {
          "output_type": "stream",
          "name": "stdout",
          "text": [
            "15 ('A group of men sitting on a bench around a wooden board.',)\n",
            "19 ('Screen shot of a man and a horse on television.',)\n"
          ]
        },
        {
          "output_type": "stream",
          "name": "stderr",
          "text": [
            " 37%|███▋      | 3729/10000 [01:52<03:11, 32.67it/s]"
          ]
        },
        {
          "output_type": "stream",
          "name": "stdout",
          "text": [
            "4 ('A man riding a motorcycle down a race track.',)\n"
          ]
        },
        {
          "output_type": "stream",
          "name": "stderr",
          "text": [
            " 37%|███▋      | 3741/10000 [01:52<03:01, 34.44it/s]"
          ]
        },
        {
          "output_type": "stream",
          "name": "stdout",
          "text": [
            "2 ('A woman with a bicycle is entering a train while holding her dog on a leash.',)\n",
            "18 ('A woman with a bicycle is entering a train while holding her dog on a leash.',)\n",
            "14 ('a parking meter next to a parked green van',)\n"
          ]
        },
        {
          "output_type": "stream",
          "name": "stderr",
          "text": [
            " 37%|███▋      | 3749/10000 [01:53<03:08, 33.23it/s]"
          ]
        },
        {
          "output_type": "stream",
          "name": "stdout",
          "text": [
            "3 ('a nicely polished motorcycle sits parked next to some cars',)\n",
            "4 ('a nicely polished motorcycle sits parked next to some cars',)\n",
            "11 ('A big generator by a fire hydrant shooting water.',)\n",
            "8 (\"A silver truck with two air conditioners on it's flat bed.\",)\n",
            "2 ('A man riding a bike down the middle of a street.',)\n",
            "9 ('A boat is traveling along the ocean by the island',)\n"
          ]
        },
        {
          "output_type": "stream",
          "name": "stderr",
          "text": [
            " 38%|███▊      | 3761/10000 [01:53<02:57, 35.16it/s]"
          ]
        },
        {
          "output_type": "stream",
          "name": "stdout",
          "text": [
            "18 ('Large white dog laying on the kitchen floor in front of the stove chewing on a pan.',)\n",
            "9 ('A marine filled with lots of small ships floating on water.',)\n",
            "7 ('A red train traveling down some train tracks',)\n",
            "19 ('A man drives a horse cart with a cow in the back',)\n"
          ]
        },
        {
          "output_type": "stream",
          "name": "stderr",
          "text": [
            " 38%|███▊      | 3773/10000 [01:53<03:03, 33.94it/s]"
          ]
        },
        {
          "output_type": "stream",
          "name": "stdout",
          "text": [
            "16 ('A man is feeding a few birds at a bird sanctuary.',)\n"
          ]
        },
        {
          "output_type": "stream",
          "name": "stderr",
          "text": [
            " 38%|███▊      | 3781/10000 [01:54<03:05, 33.53it/s]"
          ]
        },
        {
          "output_type": "stream",
          "name": "stdout",
          "text": [
            "19 ('five horses just chillin on the beach lookin a the waves',)\n",
            "1 ('a person is cutting in to some food',)\n"
          ]
        },
        {
          "output_type": "stream",
          "name": "stderr",
          "text": [
            " 38%|███▊      | 3789/10000 [01:54<03:09, 32.84it/s]"
          ]
        },
        {
          "output_type": "stream",
          "name": "stdout",
          "text": [
            "18 ('A dog seen in the rearview mirror of a car',)\n"
          ]
        },
        {
          "output_type": "stream",
          "name": "stderr",
          "text": [
            " 38%|███▊      | 3801/10000 [01:54<03:07, 33.05it/s]"
          ]
        },
        {
          "output_type": "stream",
          "name": "stdout",
          "text": [
            "9 ('A person and dog is standing by the lake watching a boat on the water.',)\n",
            "18 ('A person and dog is standing by the lake watching a boat on the water.',)\n",
            "18 ('A horse bends down to nuzzle a dog.',)\n",
            "19 ('A horse bends down to nuzzle a dog.',)\n",
            "1 ('A person holding a piece of cloth wrapping it with string.',)\n"
          ]
        },
        {
          "output_type": "stream",
          "name": "stderr",
          "text": [
            " 38%|███▊      | 3817/10000 [01:55<02:57, 34.90it/s]"
          ]
        },
        {
          "output_type": "stream",
          "name": "stdout",
          "text": [
            "9 ('Two jet boats docked on the sandy beach.',)\n",
            "7 ('Several people getting ready to board a train.',)\n"
          ]
        },
        {
          "output_type": "stream",
          "name": "stderr",
          "text": [
            " 38%|███▊      | 3825/10000 [01:55<03:02, 33.80it/s]"
          ]
        },
        {
          "output_type": "stream",
          "name": "stdout",
          "text": [
            "19 ('A couple of horses walking across a river next to a boy.',)\n",
            "18 ('A couple of lambs walking across a field next to a dog.',)\n",
            "8 ('Several men are talking with a soldier about the nearby truck in the ditch.',)\n",
            "16 ('A bird standing on the beach in the watery sand.',)\n"
          ]
        },
        {
          "output_type": "stream",
          "name": "stderr",
          "text": [
            " 38%|███▊      | 3833/10000 [01:55<02:59, 34.35it/s]"
          ]
        },
        {
          "output_type": "stream",
          "name": "stdout",
          "text": [
            "15 ('a little boy that is holding on to a bench',)\n",
            "15 ('A snow covered wooden park bench in a park.',)\n",
            "8 ('A red truck parked in a parking space.',)\n"
          ]
        },
        {
          "output_type": "stream",
          "name": "stderr",
          "text": [
            " 38%|███▊      | 3841/10000 [01:55<02:57, 34.67it/s]"
          ]
        },
        {
          "output_type": "stream",
          "name": "stdout",
          "text": [
            "18 ('A group of people sitting on a couch while a brown dog looks at them',)\n",
            "9 ('A blue boat floating next to a sandy shoreline.',)\n",
            "4 ('A side view mirror on a motor bike.',)\n"
          ]
        },
        {
          "output_type": "stream",
          "name": "stderr",
          "text": [
            " 39%|███▊      | 3861/10000 [01:56<02:53, 35.36it/s]"
          ]
        },
        {
          "output_type": "stream",
          "name": "stdout",
          "text": [
            "8 ('A dog is sitting on the top of a green truck.',)\n",
            "18 ('A dog is sitting on the top of a green truck.',)\n",
            "16 ('A bird stands alone in some shaded water.',)\n"
          ]
        },
        {
          "output_type": "stream",
          "name": "stderr",
          "text": [
            " 39%|███▊      | 3869/10000 [01:56<02:50, 36.01it/s]"
          ]
        },
        {
          "output_type": "stream",
          "name": "stdout",
          "text": [
            "4 ('A man riding a motorcycle down a street near a fence.',)\n"
          ]
        },
        {
          "output_type": "stream",
          "name": "stderr",
          "text": [
            " 39%|███▉      | 3877/10000 [01:56<02:50, 35.99it/s]"
          ]
        },
        {
          "output_type": "stream",
          "name": "stdout",
          "text": [
            "4 ('A bus driving down a street past a motorcycle.',)\n",
            "1 ('A person riding a snowboard on a mountain slope.',)\n"
          ]
        },
        {
          "output_type": "stream",
          "name": "stderr",
          "text": [
            " 39%|███▉      | 3889/10000 [01:57<02:53, 35.24it/s]"
          ]
        },
        {
          "output_type": "stream",
          "name": "stdout",
          "text": [
            "3 ('A striped cat standing on the side window of a car.',)\n",
            "18 ('a woman holds a dog as she looks at her reflection in the mirror',)\n"
          ]
        },
        {
          "output_type": "stream",
          "name": "stderr",
          "text": [
            " 39%|███▉      | 3897/10000 [01:57<03:00, 33.75it/s]"
          ]
        },
        {
          "output_type": "stream",
          "name": "stdout",
          "text": [
            "17 ('A cat that is laying by a dark alley.',)\n",
            "16 ('a bird walks on a rocky ground',)\n"
          ]
        },
        {
          "output_type": "stream",
          "name": "stderr",
          "text": [
            " 39%|███▉      | 3905/10000 [01:57<02:56, 34.58it/s]"
          ]
        },
        {
          "output_type": "stream",
          "name": "stdout",
          "text": [
            "19 ('A lone brown horse standing in a tree lined field.',)\n",
            "18 ('A dog sticking its head out a window with curtains.',)\n",
            "6 ('Children are standing in the snow waiting to board a school bus.',)\n",
            "19 ('a horse standing outside with its tack on',)\n"
          ]
        },
        {
          "output_type": "stream",
          "name": "stderr",
          "text": [
            " 39%|███▉      | 3921/10000 [01:58<02:54, 34.93it/s]"
          ]
        },
        {
          "output_type": "stream",
          "name": "stdout",
          "text": [
            "15 ('A person sitting on a bench next to a pile of snow.',)\n",
            "18 ('A dog is chewing on a bone while a man sleeps on the couch.',)\n",
            "13 ('A rusted stop sign attached to a school bus',)\n",
            "9 ('A brown and white dog sitting in the back of a boat.',)\n",
            "18 ('A brown and white dog sitting in the back of a boat.',)\n"
          ]
        },
        {
          "output_type": "stream",
          "name": "stderr",
          "text": [
            " 39%|███▉      | 3929/10000 [01:58<02:57, 34.15it/s]"
          ]
        },
        {
          "output_type": "stream",
          "name": "stdout",
          "text": [
            "1 ('Person sitting on a park bench near water.',)\n",
            "15 ('Person sitting on a park bench near water.',)\n",
            "1 ('A person is standing over a teddy bear, wearing red socks.',)\n",
            "9 ('A red and white sailboat resting in a harbor.',)\n"
          ]
        },
        {
          "output_type": "stream",
          "name": "stderr",
          "text": [
            " 39%|███▉      | 3941/10000 [01:58<02:56, 34.37it/s]"
          ]
        },
        {
          "output_type": "stream",
          "name": "stdout",
          "text": [
            "1 ('an elephant behind a fence with a person',)\n",
            "19 ('A man stands by a horse in a forest setting.',)\n",
            "4 ('A large group of motorcycles stretching into the distance on a highway.',)\n",
            "6 ('To miniature models of a double decker and regular bus.',)\n"
          ]
        },
        {
          "output_type": "stream",
          "name": "stderr",
          "text": [
            " 39%|███▉      | 3949/10000 [01:58<02:59, 33.65it/s]"
          ]
        },
        {
          "output_type": "stream",
          "name": "stdout",
          "text": [
            "1 ('a person riding a skate board on a vert ramp',)\n",
            "15 ('A man sitting on a bench with a woman.',)\n",
            "2 ('A surfboard is being pulled by a bike.',)\n",
            "14 ('An old parking meter with some rust on it',)\n"
          ]
        },
        {
          "output_type": "stream",
          "name": "stderr",
          "text": [
            " 40%|███▉      | 3957/10000 [01:59<03:10, 31.76it/s]"
          ]
        },
        {
          "output_type": "stream",
          "name": "stdout",
          "text": [
            "18 ('The snow white dog is relaxing Tounge out style.',)\n"
          ]
        },
        {
          "output_type": "stream",
          "name": "stderr",
          "text": [
            " 40%|███▉      | 3969/10000 [01:59<02:59, 33.63it/s]"
          ]
        },
        {
          "output_type": "stream",
          "name": "stdout",
          "text": [
            "1 ('a person that has his foot on a stair',)\n",
            "19 ('A horse is grazing in a field of green grass.',)\n",
            "13 ('A red stop sign sitting on top of a white no left turn sign.',)\n",
            "17 ('A white cat lies in a terra cotta planter.',)\n"
          ]
        },
        {
          "output_type": "stream",
          "name": "stderr",
          "text": [
            " 40%|███▉      | 3977/10000 [01:59<02:55, 34.37it/s]"
          ]
        },
        {
          "output_type": "stream",
          "name": "stdout",
          "text": [
            "17 ('A cat laying on top of a wooden table.',)\n",
            "8 ('Truck pulling trailer on road with cattle in it.',)\n",
            "2 ('Two bikes sit near a bench on a field in front of a lake.',)\n",
            "15 ('Two bikes sit near a bench on a field in front of a lake.',)\n"
          ]
        },
        {
          "output_type": "stream",
          "name": "stderr",
          "text": [
            " 40%|███▉      | 3985/10000 [02:00<02:53, 34.66it/s]"
          ]
        },
        {
          "output_type": "stream",
          "name": "stdout",
          "text": [
            "8 ('there are several trucks going down this road',)\n",
            "18 ('A dog sitting in a sink next to a blow dryer.',)\n"
          ]
        },
        {
          "output_type": "stream",
          "name": "stderr",
          "text": [
            " 40%|███▉      | 3997/10000 [02:00<02:58, 33.58it/s]"
          ]
        },
        {
          "output_type": "stream",
          "name": "stdout",
          "text": [
            "14 ('A parking meter with garland on it near a curb and a parked car.',)\n",
            "1 ('A person is lying down on the grass reading on a sunny day.',)\n",
            "16 ('A large bird sitting on top of a piece of wood.',)\n"
          ]
        },
        {
          "output_type": "stream",
          "name": "stderr",
          "text": [
            " 40%|████      | 4005/10000 [02:00<02:54, 34.29it/s]"
          ]
        },
        {
          "output_type": "stream",
          "name": "stdout",
          "text": [
            "15 ('Some people are walking past a woman on a bench.',)\n",
            "1 ('Double image of same walking up stairs with skateboard, the other, same person doing trick down the stairs.',)\n"
          ]
        },
        {
          "output_type": "stream",
          "name": "stderr",
          "text": [
            " 40%|████      | 4021/10000 [02:01<03:01, 33.03it/s]"
          ]
        },
        {
          "output_type": "stream",
          "name": "stdout",
          "text": [
            "15 ('A young woman sitting indian style on top of a bench.',)\n",
            "6 ('There is one woman on the bus with a dog.',)\n",
            "18 ('There is one woman on the bus with a dog.',)\n"
          ]
        },
        {
          "output_type": "stream",
          "name": "stderr",
          "text": [
            " 40%|████      | 4029/10000 [02:01<02:58, 33.41it/s]"
          ]
        },
        {
          "output_type": "stream",
          "name": "stdout",
          "text": [
            "14 ('a parking meter shows that time has expired',)\n",
            "10 ('A street with traffic lights below a cloudy sky.',)\n",
            "16 ('A bird sitting on top of a tree branch filled with leaves.',)\n",
            "1 ('A person laying on the ground next to luggage.',)\n"
          ]
        },
        {
          "output_type": "stream",
          "name": "stderr",
          "text": [
            " 40%|████      | 4041/10000 [02:01<02:51, 34.78it/s]"
          ]
        },
        {
          "output_type": "stream",
          "name": "stdout",
          "text": [
            "11 ('A wooden bench sitting next to a fire hydrant sticking out of a wooden deck.',)\n",
            "15 ('A wooden bench sitting next to a fire hydrant sticking out of a wooden deck.',)\n",
            "13 ('A red stop sign leaning on top of a tree.',)\n",
            "19 ('A man holding a horse by a rope in a pen.',)\n",
            "18 ('A man works at a kitchen counter while a dog scours the floor.',)\n"
          ]
        },
        {
          "output_type": "stream",
          "name": "stderr",
          "text": [
            " 40%|████      | 4049/10000 [02:01<02:54, 34.03it/s]"
          ]
        },
        {
          "output_type": "stream",
          "name": "stdout",
          "text": [
            "18 ('A white fluffy dog is lying on the ground.',)\n",
            "16 ('A bird sits on a branch with its mouth open.',)\n"
          ]
        },
        {
          "output_type": "stream",
          "name": "stderr",
          "text": [
            " 41%|████      | 4061/10000 [02:02<02:54, 34.11it/s]"
          ]
        },
        {
          "output_type": "stream",
          "name": "stdout",
          "text": [
            "17 ('A hairless cat sitting on an owners chest in a living room.',)\n",
            "18 ('this is a dog smiling at the camera',)\n",
            "18 ('A woman in costume pulling a dog down a street in a wagon.',)\n"
          ]
        },
        {
          "output_type": "stream",
          "name": "stderr",
          "text": [
            "\r 41%|████      | 4065/10000 [02:02<02:54, 34.09it/s]"
          ]
        },
        {
          "output_type": "stream",
          "name": "stdout",
          "text": [
            "7 ('A man sitting on a train while reading a news paper.',)\n",
            "19 ('Man and woman exchanging words on stage with horse',)\n",
            "1 ('A park in the rain  with  two men with umbrellas studying a map, and a person in a raincoat pushing a woman in a wheelchair.',)\n",
            "16 ('an unusual bird walks the plains with wild buffalo.',)\n"
          ]
        },
        {
          "output_type": "stream",
          "name": "stderr",
          "text": [
            " 41%|████      | 4081/10000 [02:02<02:48, 35.08it/s]"
          ]
        },
        {
          "output_type": "stream",
          "name": "stdout",
          "text": [
            "9 ('a few boats that are in a small body of water',)\n",
            "1 ('a person standing in a green field and flying a kite.',)\n",
            "13 ('The stop sign is on a crooked post in the parking lot.',)\n"
          ]
        },
        {
          "output_type": "stream",
          "name": "stderr",
          "text": [
            " 41%|████      | 4089/10000 [02:03<02:55, 33.72it/s]"
          ]
        },
        {
          "output_type": "stream",
          "name": "stdout",
          "text": [
            "19 ('Horses standing in a field full of smoke.',)\n",
            "10 ('many traffic lights painted green and some trees',)\n"
          ]
        },
        {
          "output_type": "stream",
          "name": "stderr",
          "text": [
            " 41%|████      | 4097/10000 [02:03<02:50, 34.72it/s]"
          ]
        },
        {
          "output_type": "stream",
          "name": "stdout",
          "text": [
            "3 ('A cow looking into camera on city street with buildings, three people and car in background.',)\n",
            "9 ('A group of boats floating in a marine near docks.',)\n"
          ]
        },
        {
          "output_type": "stream",
          "name": "stderr",
          "text": [
            " 41%|████      | 4105/10000 [02:03<02:48, 34.92it/s]"
          ]
        },
        {
          "output_type": "stream",
          "name": "stdout",
          "text": [
            "16 ('there is a bird that is sitting on a branch above the water',)\n",
            "13 ('a photo graph of a car stopped at a stop sign',)\n",
            "18 ('A dog retrieving a frisbee from the water.',)\n",
            "4 ('A man on motorcycle passing in front of a filling station.',)\n"
          ]
        },
        {
          "output_type": "stream",
          "name": "stderr",
          "text": [
            " 41%|████      | 4117/10000 [02:03<02:45, 35.49it/s]"
          ]
        },
        {
          "output_type": "stream",
          "name": "stdout",
          "text": [
            "6 ('A gray passenger bus beside a red brick building.',)\n",
            "5 ('A propeller plane floating on top of a lake.',)\n"
          ]
        },
        {
          "output_type": "stream",
          "name": "stderr",
          "text": [
            " 41%|████▏     | 4125/10000 [02:04<02:47, 35.07it/s]"
          ]
        },
        {
          "output_type": "stream",
          "name": "stdout",
          "text": [
            "16 ('2 birds standing at the top of the bulding',)\n",
            "19 ('A jockey riding a horse along a dirt racing track.',)\n",
            "18 ('A woman that is sitting down holding a dog.',)\n"
          ]
        },
        {
          "output_type": "stream",
          "name": "stderr",
          "text": [
            " 41%|████▏     | 4141/10000 [02:04<02:52, 33.97it/s]"
          ]
        },
        {
          "output_type": "stream",
          "name": "stdout",
          "text": [
            "1 ('A person riding on a motorcycle where its angled close to the ground.',)\n",
            "4 ('A person riding on a motorcycle where its angled close to the ground.',)\n",
            "15 ('A wooden bench in front of a sandy beach.',)\n"
          ]
        },
        {
          "output_type": "stream",
          "name": "stderr",
          "text": [
            " 41%|████▏     | 4149/10000 [02:04<02:52, 33.98it/s]"
          ]
        },
        {
          "output_type": "stream",
          "name": "stdout",
          "text": [
            "17 ('A cat is sitting at a table by some glasses.',)\n",
            "7 ('A clock with the words  next train\" written about it.\"',)\n",
            "4 ('A group of motorcycles driving down a street.',)\n",
            "19 ('two people riding horses on a city street',)\n"
          ]
        },
        {
          "output_type": "stream",
          "name": "stderr",
          "text": [
            " 42%|████▏     | 4157/10000 [02:05<02:59, 32.55it/s]"
          ]
        },
        {
          "output_type": "stream",
          "name": "stdout",
          "text": [
            "18 ('A man and a woman are in the ocean with a dog on a surfboard.',)\n",
            "16 ('A bird walking along a creek bank eating food along the way.',)\n",
            "4 ('THERE IS A LINE OF A LOT OF MOTORCYCLES ON THE STREET',)\n"
          ]
        },
        {
          "output_type": "stream",
          "name": "stderr",
          "text": [
            " 42%|████▏     | 4169/10000 [02:05<02:54, 33.49it/s]"
          ]
        },
        {
          "output_type": "stream",
          "name": "stdout",
          "text": [
            "7 ('A train is rounding a corner into a tunnel',)\n",
            "17 ('a white duck and a black cat in the grass',)\n",
            "18 ('a dog sitting in a chair next to a desk',)\n",
            "9 ('A bunch of smalll boats with goods to sell.',)\n",
            "2 ('The man is riding his bike in the water.',)\n"
          ]
        },
        {
          "output_type": "stream",
          "name": "stderr",
          "text": [
            " 42%|████▏     | 4181/10000 [02:05<02:50, 34.18it/s]"
          ]
        },
        {
          "output_type": "stream",
          "name": "stdout",
          "text": [
            "8 ('An old fashioned fire truck driving down a street with several people in it.',)\n",
            "19 ('Some horses standing near some very big trees.',)\n"
          ]
        },
        {
          "output_type": "stream",
          "name": "stderr",
          "text": [
            "\r 42%|████▏     | 4185/10000 [02:05<02:52, 33.80it/s]"
          ]
        },
        {
          "output_type": "stream",
          "name": "stdout",
          "text": [
            "19 ('A group of horses are getting their feet wet.',)\n",
            "7 ('A blue and green train engine with red train car behind it.',)\n",
            "8 ('A white truck parked next to a double decker bus.',)\n"
          ]
        },
        {
          "output_type": "stream",
          "name": "stderr",
          "text": [
            " 42%|████▏     | 4193/10000 [02:06<02:54, 33.27it/s]"
          ]
        },
        {
          "output_type": "stream",
          "name": "stdout",
          "text": [
            "2 ('A couple of bikes laying on their sides on a sidewalk.',)\n"
          ]
        },
        {
          "output_type": "stream",
          "name": "stderr",
          "text": [
            " 42%|████▏     | 4205/10000 [02:06<02:54, 33.14it/s]"
          ]
        },
        {
          "output_type": "stream",
          "name": "stdout",
          "text": [
            "10 ('a street sign next to a traffic light with trees in the background',)\n",
            "15 ('A row of benches covered in colorful umbrellas.',)\n"
          ]
        },
        {
          "output_type": "stream",
          "name": "stderr",
          "text": [
            " 42%|████▏     | 4217/10000 [02:06<02:47, 34.57it/s]"
          ]
        },
        {
          "output_type": "stream",
          "name": "stdout",
          "text": [
            "4 ('There is a  is a line of motorcycles stopped at the light.',)\n",
            "18 ('A person holding a hot dog with a number of toppings',)\n"
          ]
        },
        {
          "output_type": "stream",
          "name": "stderr",
          "text": [
            " 42%|████▏     | 4225/10000 [02:07<02:53, 33.27it/s]"
          ]
        },
        {
          "output_type": "stream",
          "name": "stdout",
          "text": [
            "3 ('A city bush driving past a row full of parked cars.',)\n",
            "18 ('People and a dog are greeting each other at an airport.',)\n",
            "11 ('A street corner with a fire hydrant and stop light.',)\n"
          ]
        },
        {
          "output_type": "stream",
          "name": "stderr",
          "text": [
            " 42%|████▏     | 4237/10000 [02:07<02:51, 33.56it/s]"
          ]
        },
        {
          "output_type": "stream",
          "name": "stdout",
          "text": [
            "7 ('there are many people riding this train together',)\n",
            "3 ('A cat naps in the sand underneath a car.',)\n",
            "17 ('A cat naps in the sand underneath a car.',)\n"
          ]
        },
        {
          "output_type": "stream",
          "name": "stderr",
          "text": [
            " 43%|████▎     | 4253/10000 [02:08<02:45, 34.77it/s]"
          ]
        },
        {
          "output_type": "stream",
          "name": "stdout",
          "text": [
            "19 ('A person is on a running horse in a field surrounded by trees.',)\n",
            "9 ('some long boats are out on the water',)\n",
            "17 ('A woman is playing with a cat while sitting at the dinner table.',)\n"
          ]
        },
        {
          "output_type": "stream",
          "name": "stderr",
          "text": [
            " 43%|████▎     | 4261/10000 [02:08<02:47, 34.30it/s]"
          ]
        },
        {
          "output_type": "stream",
          "name": "stdout",
          "text": [
            "9 ('A man is eating a sandwich on a boat',)\n",
            "15 ('Two women wearing slacks are sitting on a bench.',)\n",
            "15 ('A deserted bench along the path in the park.',)\n"
          ]
        },
        {
          "output_type": "stream",
          "name": "stderr",
          "text": [
            " 43%|████▎     | 4269/10000 [02:08<02:49, 33.77it/s]"
          ]
        },
        {
          "output_type": "stream",
          "name": "stdout",
          "text": [
            "8 ('there is a food truck parked behind another truck',)\n"
          ]
        },
        {
          "output_type": "stream",
          "name": "stderr",
          "text": [
            " 43%|████▎     | 4277/10000 [02:08<02:49, 33.86it/s]"
          ]
        },
        {
          "output_type": "stream",
          "name": "stdout",
          "text": [
            "9 ('A boat floating in the middle of a calm lake.',)\n",
            "2 ('A group of bikers riding  across a parking lot.',)\n",
            "1 ('a person walking on a city street with signs and poles',)\n"
          ]
        },
        {
          "output_type": "stream",
          "name": "stderr",
          "text": [
            " 43%|████▎     | 4293/10000 [02:09<02:40, 35.58it/s]"
          ]
        },
        {
          "output_type": "stream",
          "name": "stdout",
          "text": [
            "4 ('a parked motorcycle water clouds grass and sky',)\n"
          ]
        },
        {
          "output_type": "stream",
          "name": "stderr",
          "text": [
            " 43%|████▎     | 4301/10000 [02:09<02:54, 32.64it/s]"
          ]
        },
        {
          "output_type": "stream",
          "name": "stdout",
          "text": [
            "9 ('Two black dogs on a boat at the harbor.',)\n",
            "17 ('a black and white cat laying on the bed next to the pillow',)\n",
            "14 ('A grocery shopping cart next to a parking meter.',)\n",
            "13 ('A red stop sign sitting in the middle of a desert.',)\n"
          ]
        },
        {
          "output_type": "stream",
          "name": "stderr",
          "text": [
            " 43%|████▎     | 4309/10000 [02:09<02:53, 32.82it/s]"
          ]
        },
        {
          "output_type": "stream",
          "name": "stdout",
          "text": [
            "8 ('A large red truck parked in front of a building.',)\n",
            "11 ('A fire hydrant is painted silver and blue',)\n"
          ]
        },
        {
          "output_type": "stream",
          "name": "stderr",
          "text": [
            " 43%|████▎     | 4321/10000 [02:10<02:41, 35.15it/s]"
          ]
        },
        {
          "output_type": "stream",
          "name": "stdout",
          "text": [
            "9 ('A blue and orange boat sitting on top of a beach.',)\n",
            "16 ('A flock of birds looking for food in a field.',)\n",
            "4 ('there is a parade with many motorcycles going on.',)\n",
            "18 ('A man leading a horse in the desert while a dog plays in the background.',)\n",
            "19 ('A man leading a horse in the desert while a dog plays in the background.',)\n"
          ]
        },
        {
          "output_type": "stream",
          "name": "stderr",
          "text": [
            " 43%|████▎     | 4333/10000 [02:10<02:43, 34.74it/s]"
          ]
        },
        {
          "output_type": "stream",
          "name": "stdout",
          "text": [
            "9 ('A lone sail boat with its sails down is on placid water.',)\n",
            "16 ('A bird on top of a womans glove as she stands in a grassy field.',)\n",
            "16 ('this is a pair of birds sitting on a log',)\n",
            "1 ('A small white dog tucked into a persons backpac',)\n",
            "18 ('A small white dog tucked into a persons backpac',)\n"
          ]
        },
        {
          "output_type": "stream",
          "name": "stderr",
          "text": [
            " 43%|████▎     | 4341/10000 [02:10<02:41, 34.97it/s]"
          ]
        },
        {
          "output_type": "stream",
          "name": "stdout",
          "text": [
            "2 ('A couple of men riding bikes on top of a sandy beach.',)\n",
            "15 ('A man sitting on a bench next to a man.',)\n"
          ]
        },
        {
          "output_type": "stream",
          "name": "stderr",
          "text": [
            " 44%|████▎     | 4353/10000 [02:10<02:43, 34.47it/s]"
          ]
        },
        {
          "output_type": "stream",
          "name": "stdout",
          "text": [
            "19 ('Man on cart being pulled by small horse.',)\n",
            "18 ('A white pug dog sitting on top of an arm on a couch.',)\n",
            "18 ('A dog jumping up into the air to catch a frisbee.',)\n"
          ]
        },
        {
          "output_type": "stream",
          "name": "stderr",
          "text": [
            " 44%|████▎     | 4365/10000 [02:11<02:53, 32.53it/s]"
          ]
        },
        {
          "output_type": "stream",
          "name": "stdout",
          "text": [
            "11 ('a sign is on a pole by a fire hydrant',)\n",
            "15 ('A group of cats sleeping on top of wooden benches.',)\n",
            "11 ('a fire hydrant on a side walk near a fence',)\n"
          ]
        },
        {
          "output_type": "stream",
          "name": "stderr",
          "text": [
            " 44%|████▎     | 4373/10000 [02:11<02:53, 32.40it/s]"
          ]
        },
        {
          "output_type": "stream",
          "name": "stdout",
          "text": [
            "19 ('This young girl is being taught how to ride a horse',)\n",
            "15 ('A women is sitting at a park bench with a black iron art work as a back.',)\n"
          ]
        },
        {
          "output_type": "stream",
          "name": "stderr",
          "text": [
            " 44%|████▍     | 4393/10000 [02:12<02:47, 33.50it/s]"
          ]
        },
        {
          "output_type": "stream",
          "name": "stdout",
          "text": [
            "18 ('A cute brown dog is on the rug by his bed.',)\n",
            "19 ('Two horses in a field covered with grass',)\n",
            "18 ('A furry white dog with a stuffed animal between its paws.',)\n"
          ]
        },
        {
          "output_type": "stream",
          "name": "stderr",
          "text": [
            " 44%|████▍     | 4421/10000 [02:12<02:42, 34.42it/s]"
          ]
        },
        {
          "output_type": "stream",
          "name": "stdout",
          "text": [
            "19 ('An old photo of horse-drawn carriages driving down a snowy road.',)\n",
            "13 ('A stop sign, below a street sign, stands on a corner',)\n",
            "1 ('Police person riding a blue and yellow check motor cycle.',)\n",
            "4 ('Police person riding a blue and yellow check motor cycle.',)\n"
          ]
        },
        {
          "output_type": "stream",
          "name": "stderr",
          "text": [
            " 44%|████▍     | 4429/10000 [02:13<02:42, 34.29it/s]"
          ]
        },
        {
          "output_type": "stream",
          "name": "stdout",
          "text": [
            "17 ('A cat sitting on top of a television.',)\n",
            "19 ('A man is in a horse drawn carriage being pulled through an empty street.',)\n",
            "19 ('A view of beach with a volleyball net and horse riding in the back.',)\n"
          ]
        },
        {
          "output_type": "stream",
          "name": "stderr",
          "text": [
            " 44%|████▍     | 4449/10000 [02:13<02:40, 34.67it/s]"
          ]
        },
        {
          "output_type": "stream",
          "name": "stdout",
          "text": [
            "19 ('A man with a funny hat on a big pretty horse.',)\n",
            "4 ('A man sitting on top of a motorcycle holding his helmet.',)\n"
          ]
        },
        {
          "output_type": "stream",
          "name": "stderr",
          "text": [
            " 45%|████▍     | 4461/10000 [02:14<02:36, 35.45it/s]"
          ]
        },
        {
          "output_type": "stream",
          "name": "stdout",
          "text": [
            "16 ('Many bird sit on a wooden stand.',)\n",
            "16 ('A couple of birds perched on top of a wooden stick.',)\n",
            "15 ('A cat laying on top of a wooden bench in a park.',)\n",
            "17 ('A cat laying on top of a wooden bench in a park.',)\n",
            "3 (\"A red train with a dump truck on one of it's cars.\",)\n",
            "8 (\"A red train with a dump truck on one of it's cars.\",)\n"
          ]
        },
        {
          "output_type": "stream",
          "name": "stderr",
          "text": [
            " 45%|████▍     | 4477/10000 [02:14<02:33, 35.89it/s]"
          ]
        },
        {
          "output_type": "stream",
          "name": "stdout",
          "text": [
            "3 ('A white car with luggage beside it sits in a garage that has artwork on the walls.',)\n",
            "9 ('a surfer in a wet suit is riding a boats wake',)"
          ]
        },
        {
          "output_type": "stream",
          "name": "stderr",
          "text": [
            " 45%|████▍     | 4485/10000 [02:14<02:37, 35.03it/s]"
          ]
        },
        {
          "output_type": "stream",
          "name": "stdout",
          "text": [
            "\n"
          ]
        },
        {
          "output_type": "stream",
          "name": "stderr",
          "text": [
            " 45%|████▍     | 4493/10000 [02:15<02:41, 34.17it/s]"
          ]
        },
        {
          "output_type": "stream",
          "name": "stdout",
          "text": [
            "18 ('A person holding a burnt foot long hot dog.',)\n",
            "16 ('A picture of a red bird that is standing on piece of wood next to peanuts.',)\n"
          ]
        },
        {
          "output_type": "stream",
          "name": "stderr",
          "text": [
            " 45%|████▌     | 4501/10000 [02:15<02:40, 34.32it/s]"
          ]
        },
        {
          "output_type": "stream",
          "name": "stdout",
          "text": [
            "16 ('A bird sitting on top of a power line next to another line.',)\n",
            "8 ('A fire truck parked in front of a fire station.',)\n",
            "18 ('A large couch with a large white dog sitting on it.',)\n",
            "2 ('an elephant rider bicycle riders and motorcycle riders all on the same steet',)\n",
            "4 ('an elephant rider bicycle riders and motorcycle riders all on the same steet',)\n"
          ]
        },
        {
          "output_type": "stream",
          "name": "stderr",
          "text": [
            " 45%|████▌     | 4509/10000 [02:15<02:36, 35.11it/s]"
          ]
        },
        {
          "output_type": "stream",
          "name": "stdout",
          "text": [
            "17 ('Grown cat playing with a comb with its teeth.',)\n",
            "15 ('A bird is sitting on the back of a bench in a park.',)\n",
            "16 ('A bird is sitting on the back of a bench in a park.',)\n",
            "16 ('A vibrant yellow and black bird sitting on a branch.',)\n"
          ]
        },
        {
          "output_type": "stream",
          "name": "stderr",
          "text": [
            " 45%|████▌     | 4517/10000 [02:15<02:38, 34.58it/s]"
          ]
        },
        {
          "output_type": "stream",
          "name": "stdout",
          "text": [
            "15 ('A small Lego bench in front of a wooden bench.',)\n",
            "4 ('A long line of motorcycle policemen are in the city.',)\n"
          ]
        },
        {
          "output_type": "stream",
          "name": "stderr",
          "text": [
            " 45%|████▌     | 4529/10000 [02:16<02:40, 34.09it/s]"
          ]
        },
        {
          "output_type": "stream",
          "name": "stdout",
          "text": [
            "3 ('A man standing next to a parked car under a street sign.',)\n"
          ]
        },
        {
          "output_type": "stream",
          "name": "stderr",
          "text": [
            " 45%|████▌     | 4537/10000 [02:16<02:38, 34.52it/s]"
          ]
        },
        {
          "output_type": "stream",
          "name": "stdout",
          "text": [
            "2 ('There are many bikes parked over by the water.',)\n",
            "4 ('A motorcycle parked by the railing of a scenic overlook',)\n",
            "1 ('Two dogs sit in a car while a person reflected on the window takes their picture.',)\n",
            "3 ('Two dogs sit in a car while a person reflected on the window takes their picture.',)\n",
            "18 ('A man eating a hot dog on a bun.',)\n"
          ]
        },
        {
          "output_type": "stream",
          "name": "stderr",
          "text": [
            " 45%|████▌     | 4545/10000 [02:16<02:37, 34.72it/s]"
          ]
        },
        {
          "output_type": "stream",
          "name": "stdout",
          "text": [
            "19 ('A group of men riding horses on a street.',)\n",
            "1 ('A person on a modified bike is flying a kite in a field.',)\n",
            "2 ('A person on a modified bike is flying a kite in a field.',)\n",
            "9 ('A small red boat traveling through a canal with a small dog on top of it.',)\n",
            "18 ('A small red boat traveling through a canal with a small dog on top of it.',)\n"
          ]
        },
        {
          "output_type": "stream",
          "name": "stderr",
          "text": [
            " 46%|████▌     | 4553/10000 [02:16<02:45, 32.86it/s]"
          ]
        },
        {
          "output_type": "stream",
          "name": "stdout",
          "text": [
            "15 ('A man wearing glasses sitting on a bench next to a brick wall.',)\n",
            "17 ('A cat is curled up in a flowerpot outside.',)\n",
            "9 ('A person engaging in a water sport in the ocean with a boat near them.',)\n",
            "18 ('A dog standing on a beach next to the ocean.',)\n"
          ]
        },
        {
          "output_type": "stream",
          "name": "stderr",
          "text": [
            " 46%|████▌     | 4561/10000 [02:17<02:40, 33.91it/s]"
          ]
        },
        {
          "output_type": "stream",
          "name": "stdout",
          "text": [
            "2 ('an image of an alley way with bikes parked',)\n",
            "9 ('A boat sailing on open water next to another boat.',)\n",
            "15 ('Several people lie on benches outside in different places',)\n"
          ]
        },
        {
          "output_type": "stream",
          "name": "stderr",
          "text": [
            " 46%|████▌     | 4569/10000 [02:17<02:46, 32.56it/s]"
          ]
        },
        {
          "output_type": "stream",
          "name": "stdout",
          "text": [
            "15 ('A seat level view of many benches on a sidewalk.',)\n"
          ]
        },
        {
          "output_type": "stream",
          "name": "stderr",
          "text": [
            " 46%|████▌     | 4581/10000 [02:17<02:36, 34.60it/s]"
          ]
        },
        {
          "output_type": "stream",
          "name": "stdout",
          "text": [
            "19 ('A couple of horses pulling a carriage with a driver on it.',)\n",
            "1 ('a close up of a motorcycle and a person near by',)\n",
            "4 ('a close up of a motorcycle and a person near by',)\n",
            "16 ('A small bird sitting on a window sill.',)\n",
            "19 ('A black and white horse feeding from a bucket on a fence.',)\n"
          ]
        },
        {
          "output_type": "stream",
          "name": "stderr",
          "text": [
            " 46%|████▌     | 4589/10000 [02:17<02:37, 34.46it/s]"
          ]
        },
        {
          "output_type": "stream",
          "name": "stdout",
          "text": [
            "7 ('A train on a track going over a bridge.',)\n"
          ]
        },
        {
          "output_type": "stream",
          "name": "stderr",
          "text": [
            " 46%|████▌     | 4597/10000 [02:18<02:39, 33.86it/s]"
          ]
        },
        {
          "output_type": "stream",
          "name": "stdout",
          "text": [
            "19 ('A man in uniform on a horse rides in the street.',)\n",
            "16 ('Birds standing on the edge of a body of water.',)\n",
            "8 ('A group of people that are standing in front of a truck.',)\n"
          ]
        },
        {
          "output_type": "stream",
          "name": "stderr",
          "text": [
            " 46%|████▌     | 4605/10000 [02:18<02:39, 33.82it/s]"
          ]
        },
        {
          "output_type": "stream",
          "name": "stdout",
          "text": [
            "1 ('A person riding a bike in front of a building next to a patch of grass.',)\n",
            "2 ('A person riding a bike in front of a building next to a patch of grass.',)\n",
            "11 ('A yellow and green fire hydrant sitting on a sidewalk.',)\n"
          ]
        },
        {
          "output_type": "stream",
          "name": "stderr",
          "text": [
            " 46%|████▌     | 4613/10000 [02:18<02:46, 32.26it/s]"
          ]
        },
        {
          "output_type": "stream",
          "name": "stdout",
          "text": [
            "2 ('People in group around bicycle on street with buses.',)\n",
            "6 ('People in group around bicycle on street with buses.',)\n",
            "17 (\"There is a statue of a man's head next to a cat.\",)\n"
          ]
        },
        {
          "output_type": "stream",
          "name": "stderr",
          "text": [
            " 46%|████▋     | 4625/10000 [02:18<02:42, 33.03it/s]"
          ]
        },
        {
          "output_type": "stream",
          "name": "stdout",
          "text": [
            "18 ('A man riding skis next to a small dog.',)\n",
            "13 ('A picture of a stop sign in the daytime.',)\n",
            "6 ('A white and blue bus parked on the side of the road',)\n"
          ]
        },
        {
          "output_type": "stream",
          "name": "stderr",
          "text": [
            " 46%|████▋     | 4633/10000 [02:19<02:45, 32.35it/s]"
          ]
        },
        {
          "output_type": "stream",
          "name": "stdout",
          "text": [
            "18 ('A dog looks out from a vehicle driving down the road.',)\n",
            "11 ('A green and white fire hydrant on sidewalk next to people.',)\n",
            "8 ('Someone looks through their side view mirror at the dog on the back of the truck.',)\n",
            "18 ('Someone looks through their side view mirror at the dog on the back of the truck.',)\n"
          ]
        },
        {
          "output_type": "stream",
          "name": "stderr",
          "text": [
            " 46%|████▋     | 4641/10000 [02:19<02:41, 33.11it/s]"
          ]
        },
        {
          "output_type": "stream",
          "name": "stdout",
          "text": [
            "6 ('A woman sitting on a bus with a green purse looking at her cell phone.',)\n",
            "11 ('A board with graffiti on it near a fire hydrant in the grass.',)\n",
            "14 ('A close-up photo of a parking meter displaying the time.',)\n"
          ]
        },
        {
          "output_type": "stream",
          "name": "stderr",
          "text": [
            " 47%|████▋     | 4653/10000 [02:19<02:40, 33.32it/s]"
          ]
        },
        {
          "output_type": "stream",
          "name": "stdout",
          "text": [
            "13 ('A stop sign buried in a pile of snow near some trees.',)\n",
            "18 ('A dog standing on the floor in front of a TV.',)\n"
          ]
        },
        {
          "output_type": "stream",
          "name": "stderr",
          "text": [
            " 47%|████▋     | 4661/10000 [02:20<02:36, 34.20it/s]"
          ]
        },
        {
          "output_type": "stream",
          "name": "stdout",
          "text": [
            "8 ('Two fedex trucks parked on the side of the street .',)\n",
            "6 ('An old bus is parked in a large lot.',)\n"
          ]
        },
        {
          "output_type": "stream",
          "name": "stderr",
          "text": [
            " 47%|████▋     | 4669/10000 [02:20<02:38, 33.60it/s]"
          ]
        },
        {
          "output_type": "stream",
          "name": "stdout",
          "text": [
            "7 ('An orange train crosses a landscape with mountains in the distance.',)\n",
            "1 ('A piece of luggage sitting on the floor next to a persons feet.',)\n",
            "13 ('A stop sign with some small stickers on it by the road.',)\n"
          ]
        },
        {
          "output_type": "stream",
          "name": "stderr",
          "text": [
            " 47%|████▋     | 4677/10000 [02:20<02:35, 34.23it/s]"
          ]
        },
        {
          "output_type": "stream",
          "name": "stdout",
          "text": [
            "13 ('A four way stop sign on the corner of lindley ave',)\n",
            "2 ('a red bike that is next to a stop sign',)\n",
            "13 ('a red bike that is next to a stop sign',)\n",
            "5 ('A damaged aircraft is being carried on a flatbed tow truck.',)\n"
          ]
        },
        {
          "output_type": "stream",
          "name": "stderr",
          "text": [
            " 47%|████▋     | 4685/10000 [02:20<02:34, 34.31it/s]"
          ]
        },
        {
          "output_type": "stream",
          "name": "stdout",
          "text": [
            "16 ('two birds near one another in a field',)\n",
            "2 ('People riding bicycles in a parking lot next to a big red building.',)\n",
            "11 ('A man sitting on a rock next to a fire hydrant in a field.',)\n"
          ]
        },
        {
          "output_type": "stream",
          "name": "stderr",
          "text": [
            " 47%|████▋     | 4693/10000 [02:20<02:39, 33.32it/s]"
          ]
        },
        {
          "output_type": "stream",
          "name": "stdout",
          "text": [
            "17 ('a woman holding a white cat on a couch',)\n"
          ]
        },
        {
          "output_type": "stream",
          "name": "stderr",
          "text": [
            " 47%|████▋     | 4701/10000 [02:21<02:37, 33.72it/s]"
          ]
        },
        {
          "output_type": "stream",
          "name": "stdout",
          "text": [
            "18 ('A person holding a hot dog with relish, tomatoes and mustard.',)\n",
            "6 ('A woman petting the cat of a man who is sitting next to her on a bus.',)\n",
            "17 ('A woman petting the cat of a man who is sitting next to her on a bus.',)\n"
          ]
        },
        {
          "output_type": "stream",
          "name": "stderr",
          "text": [
            " 47%|████▋     | 4713/10000 [02:21<02:44, 32.17it/s]"
          ]
        },
        {
          "output_type": "stream",
          "name": "stdout",
          "text": [
            "4 ('A group of motorcycles have two men working on one.',)\n",
            "4 ('A motorcycle that is parked next to a moped.',)\n"
          ]
        },
        {
          "output_type": "stream",
          "name": "stderr",
          "text": [
            " 47%|████▋     | 4721/10000 [02:21<02:44, 32.00it/s]"
          ]
        },
        {
          "output_type": "stream",
          "name": "stdout",
          "text": [
            "13 ('A red stop sign with some letters and numbers on it.',)\n"
          ]
        },
        {
          "output_type": "stream",
          "name": "stderr",
          "text": [
            " 47%|████▋     | 4729/10000 [02:22<02:38, 33.25it/s]"
          ]
        },
        {
          "output_type": "stream",
          "name": "stdout",
          "text": [
            "18 ('A little girl sitting on the floor holding a brown dog.',)\n",
            "18 ('a young child eating a plain hot dog in a bun',)\n",
            "6 ('A large modern bus is parked on the side of the street.',)\n"
          ]
        },
        {
          "output_type": "stream",
          "name": "stderr",
          "text": [
            " 47%|████▋     | 4737/10000 [02:22<02:39, 32.99it/s]"
          ]
        },
        {
          "output_type": "stream",
          "name": "stdout",
          "text": [
            "13 ('A stop sign covered in lights at a street intersection.',)\n",
            "11 ('A fire hydrant sitting on a dock.',)\n",
            "3 ('A car parked next to a parking meter in the snow.',)\n",
            "14 ('A car parked next to a parking meter in the snow.',)\n"
          ]
        },
        {
          "output_type": "stream",
          "name": "stderr",
          "text": [
            " 48%|████▊     | 4753/10000 [02:22<02:38, 33.08it/s]"
          ]
        },
        {
          "output_type": "stream",
          "name": "stdout",
          "text": [
            "16 ('many birds on a concrete ground with a chair near by',)\n",
            "18 ('Boy intently eating hot dog in a bun.',)\n"
          ]
        },
        {
          "output_type": "stream",
          "name": "stderr",
          "text": [
            " 48%|████▊     | 4769/10000 [02:23<02:29, 34.94it/s]"
          ]
        },
        {
          "output_type": "stream",
          "name": "stdout",
          "text": [
            "3 ('A very cute small dog sitting in a car.',)\n",
            "18 ('A very cute small dog sitting in a car.',)\n",
            "18 ('A dog is walking down a path with a frisbee in its mouth.',)\n"
          ]
        },
        {
          "output_type": "stream",
          "name": "stderr",
          "text": [
            " 48%|████▊     | 4777/10000 [02:23<02:31, 34.44it/s]"
          ]
        },
        {
          "output_type": "stream",
          "name": "stdout",
          "text": [
            "11 ('A woman walking past a yellow fire hydrant with a chili pepper on it.',)\n",
            "11 ('Two children are looking at a fire hydrant.',)\n",
            "1 ('A person and a dog are sitting in the snow.',)\n",
            "18 ('A person and a dog are sitting in the snow.',)\n"
          ]
        },
        {
          "output_type": "stream",
          "name": "stderr",
          "text": [
            " 48%|████▊     | 4797/10000 [02:24<02:30, 34.67it/s]"
          ]
        },
        {
          "output_type": "stream",
          "name": "stdout",
          "text": [
            "11 ('A man jumping up into the air next to a red fire hydrant.',)\n",
            "18 ('A man walks down a city street with a dog in his backpack.',)\n",
            "2 ('a cat lying next to a folding bicycle.',)\n",
            "17 ('a cat lying next to a folding bicycle.',)\n",
            "1 ('A person walking in the middle of a blocked off street.',)\n"
          ]
        },
        {
          "output_type": "stream",
          "name": "stderr",
          "text": [
            " 48%|████▊     | 4817/10000 [02:24<02:25, 35.63it/s]"
          ]
        },
        {
          "output_type": "stream",
          "name": "stdout",
          "text": [
            "17 ('A city with lots of tall buildings and a cat stopped at a traffic light.',)\n",
            "1 ('A person holding a donut in their hand.',)\n",
            "1 ('A person in a long coat sitting on a bench',)\n",
            "15 ('A person in a long coat sitting on a bench',)\n"
          ]
        },
        {
          "output_type": "stream",
          "name": "stderr",
          "text": [
            "\r 48%|████▊     | 4821/10000 [02:24<02:31, 34.12it/s]"
          ]
        },
        {
          "output_type": "stream",
          "name": "stdout",
          "text": [
            "8 ('A truck has a dog in the bed who is looking over the side.',)\n",
            "18 ('A truck has a dog in the bed who is looking over the side.',)\n",
            "8 ('A semi-truck and trailer with an American flag design on the truck, parked in a lot with a woman standing on the side.',)\n",
            "4 ('A white motorcycle parked on top of a brick road.',)\n"
          ]
        },
        {
          "output_type": "stream",
          "name": "stderr",
          "text": [
            " 48%|████▊     | 4833/10000 [02:25<02:28, 34.81it/s]"
          ]
        },
        {
          "output_type": "stream",
          "name": "stdout",
          "text": [
            "1 ('A person riding a brown horse in motion.',)\n",
            "19 ('A person riding a brown horse in motion.',)\n",
            "9 ('The boat is speeding across the calm water.',)\n",
            "9 ('The man is water skiing while his friends drive the boat',)\n",
            "18 (\"A brown dog holding a dog food bowl in it's mouth.\",)\n"
          ]
        },
        {
          "output_type": "stream",
          "name": "stderr",
          "text": [
            " 48%|████▊     | 4845/10000 [02:25<02:30, 34.33it/s]"
          ]
        },
        {
          "output_type": "stream",
          "name": "stdout",
          "text": [
            "19 ('A piece of clothing fabric with a horse stiched to it..',)\n"
          ]
        },
        {
          "output_type": "stream",
          "name": "stderr",
          "text": [
            " 49%|████▊     | 4865/10000 [02:26<02:33, 33.53it/s]"
          ]
        },
        {
          "output_type": "stream",
          "name": "stdout",
          "text": [
            "1 ('The person in brown tennis shoes stands holding a racket.',)\n",
            "19 ('Ten people on horseback lined up in a row.',)\n",
            "15 ('A man jumping over a blue park bench.',)\n"
          ]
        },
        {
          "output_type": "stream",
          "name": "stderr",
          "text": [
            " 49%|████▊     | 4873/10000 [02:26<02:31, 33.90it/s]"
          ]
        },
        {
          "output_type": "stream",
          "name": "stdout",
          "text": [
            "15 ('A squirrel standing up on top of a bench.',)\n",
            "16 ('A lone bird standing on a piece of wood.',)\n",
            "4 ('A motorcycle and various other items next to a wall.',)\n"
          ]
        },
        {
          "output_type": "stream",
          "name": "stderr",
          "text": [
            " 49%|████▉     | 4885/10000 [02:26<02:26, 34.94it/s]"
          ]
        },
        {
          "output_type": "stream",
          "name": "stdout",
          "text": [
            "19 ('A group of men wearing blue jackets riding horses.',)\n"
          ]
        },
        {
          "output_type": "stream",
          "name": "stderr",
          "text": [
            " 49%|████▉     | 4893/10000 [02:26<02:27, 34.54it/s]"
          ]
        },
        {
          "output_type": "stream",
          "name": "stdout",
          "text": [
            "3 ('A funny car with massive rubber tires sitting in a parking lot.',)\n",
            "13 ('A pole with a stop sign and a street sign on it near a road.',)\n",
            "5 ('A large plane flying over a stone building',)\n"
          ]
        },
        {
          "output_type": "stream",
          "name": "stderr",
          "text": [
            " 49%|████▉     | 4901/10000 [02:27<02:34, 32.95it/s]"
          ]
        },
        {
          "output_type": "stream",
          "name": "stdout",
          "text": [
            "9 ('several white boats in the dock in the ocean',)\n",
            "18 ('A man letting a dog get water from a fountain.',)\n",
            "13 ('A red stop sign sitting on the side of a road.',)\n"
          ]
        },
        {
          "output_type": "stream",
          "name": "stderr",
          "text": [
            " 49%|████▉     | 4913/10000 [02:27<02:27, 34.56it/s]"
          ]
        },
        {
          "output_type": "stream",
          "name": "stdout",
          "text": [
            "8 (\"A fire truck racing down a street with it's hazard lights turned on.\",)\n",
            "16 ('A bird of some sort on a body of water.',)\n"
          ]
        },
        {
          "output_type": "stream",
          "name": "stderr",
          "text": [
            " 49%|████▉     | 4921/10000 [02:27<02:24, 35.15it/s]"
          ]
        },
        {
          "output_type": "stream",
          "name": "stdout",
          "text": [
            "15 ('there is a man wearing a red shirt standing on a bench',)\n",
            "18 ('A white dog under a blanket being blow dried.',)\n",
            "9 ('A black-and-white photo of people on the beach with boats in the background.',)\n"
          ]
        },
        {
          "output_type": "stream",
          "name": "stderr",
          "text": [
            " 49%|████▉     | 4929/10000 [02:27<02:31, 33.53it/s]"
          ]
        },
        {
          "output_type": "stream",
          "name": "stdout",
          "text": [
            "18 ('A dog standing on a beach next to a fallen log.',)\n"
          ]
        },
        {
          "output_type": "stream",
          "name": "stderr",
          "text": [
            " 49%|████▉     | 4937/10000 [02:28<02:39, 31.71it/s]"
          ]
        },
        {
          "output_type": "stream",
          "name": "stdout",
          "text": [
            "19 ('A child looking at a horse on a television screen.',)\n",
            "4 ('a motorcycle parked on the side of the road with a bag on the back of it',)\n",
            "9 ('A group of people standing on a blue boat on water.',)\n"
          ]
        },
        {
          "output_type": "stream",
          "name": "stderr",
          "text": [
            " 49%|████▉     | 4945/10000 [02:28<02:37, 32.08it/s]"
          ]
        },
        {
          "output_type": "stream",
          "name": "stdout",
          "text": [
            "3 ('There are a few motorcyclist riding in front of the car.',)\n",
            "4 ('There are a few motorcyclist riding in front of the car.',)\n"
          ]
        },
        {
          "output_type": "stream",
          "name": "stderr",
          "text": [
            " 50%|████▉     | 4953/10000 [02:28<02:33, 32.79it/s]"
          ]
        },
        {
          "output_type": "stream",
          "name": "stdout",
          "text": [
            "8 ('A white truck drives down a street in front of brick store fronts.',)\n",
            "11 ('A fire hydrant is standing next to a pole.',)\n",
            "18 ('A large black dog and two cats standing next to each other.',)\n",
            "18 ('a man holding a dog in his lap while he reads a paperback book',)\n"
          ]
        },
        {
          "output_type": "stream",
          "name": "stderr",
          "text": [
            " 50%|████▉     | 4973/10000 [02:29<02:38, 31.76it/s]"
          ]
        },
        {
          "output_type": "stream",
          "name": "stdout",
          "text": [
            "4 ('A crack in a windshield of a motor vehicle driving down a highway.',)\n",
            "9 ('A large, white boat is in the distance on a lake near.',)\n",
            "18 ('A group of people and a dog on a couch.',)\n"
          ]
        },
        {
          "output_type": "stream",
          "name": "stderr",
          "text": [
            " 50%|████▉     | 4981/10000 [02:29<02:34, 32.42it/s]"
          ]
        },
        {
          "output_type": "stream",
          "name": "stdout",
          "text": [
            "18 ('A small dog on a leash has an umbrella above it.',)\n"
          ]
        },
        {
          "output_type": "stream",
          "name": "stderr",
          "text": [
            " 50%|████▉     | 4989/10000 [02:29<02:31, 33.12it/s]"
          ]
        },
        {
          "output_type": "stream",
          "name": "stdout",
          "text": [
            "18 ('a dog rides on the back of a horse',)\n",
            "19 ('a dog rides on the back of a horse',)\n",
            "1 ('A person that is riding a motorcycle on the street.',)\n",
            "13 ('A picture of a stop sign and a stoplight.',)\n",
            "8 ('A large red fire truck parked in front of a building.',)\n"
          ]
        },
        {
          "output_type": "stream",
          "name": "stderr",
          "text": [
            " 50%|█████     | 5001/10000 [02:30<02:29, 33.54it/s]"
          ]
        },
        {
          "output_type": "stream",
          "name": "stdout",
          "text": [
            "6 ('A big and green color bus traveling.',)\n",
            "15 ('A woman pets a dog on a white bench.',)\n",
            "18 ('A woman pets a dog on a white bench.',)\n"
          ]
        },
        {
          "output_type": "stream",
          "name": "stderr",
          "text": [
            "\r 50%|█████     | 5005/10000 [02:30<02:28, 33.60it/s]"
          ]
        },
        {
          "output_type": "stream",
          "name": "stdout",
          "text": [
            "19 ('Two brown horses standing next to each other.',)\n",
            "19 ('A horse standing over a little puppy .',)\n"
          ]
        },
        {
          "output_type": "stream",
          "name": "stderr",
          "text": [
            " 50%|█████     | 5017/10000 [02:30<02:27, 33.70it/s]"
          ]
        },
        {
          "output_type": "stream",
          "name": "stdout",
          "text": [
            "9 ('A small ferry boat lowers its ramp as it approached the shore.',)\n",
            "5 ('Ducks can be seen on the water in the foreground while an airplane is flying at a low altitude in the background.',)\n",
            "13 ('A stop sign and a freeway sign are covered with stickers.',)\n",
            "18 ('A black dog sleeping on a pillow in a bed.',)\n"
          ]
        },
        {
          "output_type": "stream",
          "name": "stderr",
          "text": [
            " 50%|█████     | 5025/10000 [02:30<02:27, 33.69it/s]"
          ]
        },
        {
          "output_type": "stream",
          "name": "stdout",
          "text": [
            "18 ('A black dog moving with a green toy in its mouth.',)\n",
            "19 ('Horses pulling a wagon on a dirt road',)\n",
            "18 ('a dog standing at a window looking at someone',)\n"
          ]
        },
        {
          "output_type": "stream",
          "name": "stderr",
          "text": [
            " 50%|█████     | 5041/10000 [02:31<02:22, 34.88it/s]"
          ]
        },
        {
          "output_type": "stream",
          "name": "stdout",
          "text": [
            "2 ('A view of bicycles from a small mirror.',)\n"
          ]
        },
        {
          "output_type": "stream",
          "name": "stderr",
          "text": [
            " 51%|█████     | 5053/10000 [02:31<02:21, 34.96it/s]"
          ]
        },
        {
          "output_type": "stream",
          "name": "stdout",
          "text": [
            "8 ('A commercial airplane sitting on the runway with trucks next to it.',)\n",
            "9 ('Mountain view with birds flying over lake and few boats sailing.',)\n",
            "16 ('Mountain view with birds flying over lake and few boats sailing.',)\n"
          ]
        },
        {
          "output_type": "stream",
          "name": "stderr",
          "text": [
            " 51%|█████     | 5065/10000 [02:32<02:23, 34.27it/s]"
          ]
        },
        {
          "output_type": "stream",
          "name": "stdout",
          "text": [
            "17 ('Three cats sitting looking out sliding glass door to yard and one cat lying on small rug looking at camera.',)\n",
            "3 ('A wooden bench sitting in a field next to a  parked car.',)\n",
            "15 ('A wooden bench sitting in a field next to a  parked car.',)\n",
            "15 ('A beautiful woman laying on a white bench.',)\n"
          ]
        },
        {
          "output_type": "stream",
          "name": "stderr",
          "text": [
            " 51%|█████     | 5077/10000 [02:32<02:24, 34.18it/s]"
          ]
        },
        {
          "output_type": "stream",
          "name": "stdout",
          "text": [
            "3 ('A dog hanging out of a rear car door window reflecting in a rear view mirror.',)\n",
            "18 ('A dog hanging out of a rear car door window reflecting in a rear view mirror.',)\n",
            "18 ('A little boy eating a hot dog under a tree.',)\n"
          ]
        },
        {
          "output_type": "stream",
          "name": "stderr",
          "text": [
            " 51%|█████     | 5097/10000 [02:33<02:17, 35.57it/s]"
          ]
        },
        {
          "output_type": "stream",
          "name": "stdout",
          "text": [
            "19 ('Horses running in a coral kicking up dust.',)\n"
          ]
        },
        {
          "output_type": "stream",
          "name": "stderr",
          "text": [
            " 51%|█████     | 5109/10000 [02:33<02:23, 34.19it/s]"
          ]
        },
        {
          "output_type": "stream",
          "name": "stdout",
          "text": [
            "18 ('wolly brown dog outside on the cement hot',)\n",
            "17 (\"Acrobatic cat in precarious position after knocking over it's scratching post and house\",)\n",
            "9 ('a small boat in a large body of water',)\n"
          ]
        },
        {
          "output_type": "stream",
          "name": "stderr",
          "text": [
            " 51%|█████     | 5121/10000 [02:33<02:20, 34.79it/s]"
          ]
        },
        {
          "output_type": "stream",
          "name": "stdout",
          "text": [
            "18 ('A hand is holding a hot dog with chili.',)\n",
            "8 ('A flatbed helping another truck on the roadside',)\n"
          ]
        },
        {
          "output_type": "stream",
          "name": "stderr",
          "text": [
            " 51%|█████▏    | 5129/10000 [02:33<02:19, 34.98it/s]"
          ]
        },
        {
          "output_type": "stream",
          "name": "stdout",
          "text": [
            "3 ('A toy car is sitting on top of a bed.',)\n",
            "3 ('An adorable dot sitting in the drivers seat of a car.',)\n",
            "13 ('In the road was a stop sign at the top',)\n",
            "1 ('A picture of a man eating with a spoon is taped to a bathroom mirror while a person takes a photo of it.',)\n",
            "9 ('A man standing on netting at the bow of a boat working on it.',)\n"
          ]
        },
        {
          "output_type": "stream",
          "name": "stderr",
          "text": [
            " 51%|█████▏    | 5137/10000 [02:34<02:28, 32.78it/s]"
          ]
        },
        {
          "output_type": "stream",
          "name": "stdout",
          "text": [
            "15 ('A wooden bench sitting next to a fence on a green field.',)\n",
            "15 ('A bench and two chairs under a thicket of trees with no leaves.',)\n",
            "17 ('A black cat laying on top of a big stone.',)\n"
          ]
        },
        {
          "output_type": "stream",
          "name": "stderr",
          "text": [
            " 51%|█████▏    | 5145/10000 [02:34<02:37, 30.78it/s]"
          ]
        },
        {
          "output_type": "stream",
          "name": "stdout",
          "text": [
            "19 ('A man rides a brown and white spotted horse near the ocean.',)\n",
            "17 ('A ginger tabby cat lays on top of luggage',)\n",
            "1 ('A person sitting next to a small airplane.',)\n",
            "5 ('A person sitting next to a small airplane.',)\n"
          ]
        },
        {
          "output_type": "stream",
          "name": "stderr",
          "text": [
            " 52%|█████▏    | 5153/10000 [02:34<02:30, 32.22it/s]"
          ]
        },
        {
          "output_type": "stream",
          "name": "stdout",
          "text": [
            "2 ('The overhead view of a city street with bikes traveling',)\n",
            "18 ('A brown and black dog catching a frisbee in grassy field.',)\n"
          ]
        },
        {
          "output_type": "stream",
          "name": "stderr",
          "text": [
            " 52%|█████▏    | 5165/10000 [02:35<02:21, 34.07it/s]"
          ]
        },
        {
          "output_type": "stream",
          "name": "stdout",
          "text": [
            "11 ('Fire hydrants and poles are all painted up not in a good way.',)\n"
          ]
        },
        {
          "output_type": "stream",
          "name": "stderr",
          "text": [
            " 52%|█████▏    | 5177/10000 [02:35<02:28, 32.44it/s]"
          ]
        },
        {
          "output_type": "stream",
          "name": "stdout",
          "text": [
            "9 ('Two boats docked next to land and a house.',)\n",
            "13 ('A red stop sign sitting in front of a blue building.',)\n",
            "7 ('A train station with an enclosed seating area',)\n",
            "18 ('A dog sits in a suitcase with a doll.',)\n"
          ]
        },
        {
          "output_type": "stream",
          "name": "stderr",
          "text": [
            " 52%|█████▏    | 5189/10000 [02:35<02:22, 33.86it/s]"
          ]
        },
        {
          "output_type": "stream",
          "name": "stdout",
          "text": [
            "19 ('A group of horses walking down a road surrounded by trees.',)\n",
            "9 ('A couple of people sitting on top of a boat floating on water.',)\n",
            "1 ('A person standing under an umbrella with a portion of their face covered by the umbrella.',)\n",
            "1 ('A person skiing on a mountain full of snow.',)\n"
          ]
        },
        {
          "output_type": "stream",
          "name": "stderr",
          "text": [
            " 52%|█████▏    | 5197/10000 [02:36<02:18, 34.63it/s]"
          ]
        },
        {
          "output_type": "stream",
          "name": "stdout",
          "text": [
            "4 ('A factory worker lowers a part onto a motorcycle.',)\n",
            "1 ('a person sitting on a couch with a dog',)\n",
            "16 ('A bunch of birds that are flying in the sky.',)\n"
          ]
        },
        {
          "output_type": "stream",
          "name": "stderr",
          "text": [
            "\r 52%|█████▏    | 5201/10000 [02:36<02:21, 33.89it/s]"
          ]
        },
        {
          "output_type": "stream",
          "name": "stdout",
          "text": [
            "4 (\"A blue motorcycle parked next to a van with a painting on it's side.\",)\n",
            "8 ('Two fire trucks drive down the road of a suburb.',)\n",
            "2 ('A blue bike parked next to a black metal fence.',)\n",
            "19 ('this is two cops riding on back of horses',)\n"
          ]
        },
        {
          "output_type": "stream",
          "name": "stderr",
          "text": [
            " 52%|█████▏    | 5213/10000 [02:36<02:19, 34.37it/s]"
          ]
        },
        {
          "output_type": "stream",
          "name": "stdout",
          "text": [
            "9 ('a person that is in some kind of boat',)\n"
          ]
        },
        {
          "output_type": "stream",
          "name": "stderr",
          "text": [
            " 52%|█████▏    | 5225/10000 [02:36<02:14, 35.47it/s]"
          ]
        },
        {
          "output_type": "stream",
          "name": "stdout",
          "text": [
            "15 ('A wooden park bench sitting in the middle of a park.',)\n",
            "18 ('A woman kneeling down next to a dog on a snow covered slope.',)\n"
          ]
        },
        {
          "output_type": "stream",
          "name": "stderr",
          "text": [
            " 52%|█████▏    | 5233/10000 [02:37<02:14, 35.46it/s]"
          ]
        },
        {
          "output_type": "stream",
          "name": "stdout",
          "text": [
            "15 ('a stuffed white teddy bear on a park bench',)\n",
            "2 ('a lady in a dress riding a bike',)\n",
            "8 ('A green truck towing a small fishing boat.',)\n",
            "9 ('A green truck towing a small fishing boat.',)\n"
          ]
        },
        {
          "output_type": "stream",
          "name": "stderr",
          "text": [
            " 52%|█████▏    | 5241/10000 [02:37<02:16, 34.85it/s]"
          ]
        },
        {
          "output_type": "stream",
          "name": "stdout",
          "text": [
            "4 ('Police officers on motorcycles awaiting to protect and serve.',)\n",
            "9 ('A large boat is against a sand bar in the water.',)\n",
            "4 ('A motorcycle parked in front of a brick building.',)\n"
          ]
        },
        {
          "output_type": "stream",
          "name": "stderr",
          "text": [
            " 52%|█████▏    | 5249/10000 [02:37<02:21, 33.64it/s]"
          ]
        },
        {
          "output_type": "stream",
          "name": "stdout",
          "text": [
            "1 ('A picture of a person taking a picture.',)\n"
          ]
        },
        {
          "output_type": "stream",
          "name": "stderr",
          "text": [
            " 53%|█████▎    | 5261/10000 [02:37<02:21, 33.45it/s]"
          ]
        },
        {
          "output_type": "stream",
          "name": "stdout",
          "text": [
            "3 ('A motorbike and car parked in a parking bay',)\n",
            "4 ('A motorbike and car parked in a parking bay',)\n",
            "9 ('A black and white photograph of a boat alongside a lighthouse.',)\n",
            "17 ('A gray cat investigating a bin full of apples.',)\n"
          ]
        },
        {
          "output_type": "stream",
          "name": "stderr",
          "text": [
            " 53%|█████▎    | 5273/10000 [02:38<02:21, 33.37it/s]"
          ]
        },
        {
          "output_type": "stream",
          "name": "stdout",
          "text": [
            "4 ('A cop riding a motorcycle next to a red city bus.',)\n",
            "6 ('A cop riding a motorcycle next to a red city bus.',)\n",
            "1 ('a medical emergency vehicle with medical personnel inside',)\n",
            "9 ('a bunch of boats are in the water',)\n",
            "18 ('A brown and white dog laying next to luggage at an airport.',)\n"
          ]
        },
        {
          "output_type": "stream",
          "name": "stderr",
          "text": [
            "\r 53%|█████▎    | 5277/10000 [02:38<02:24, 32.79it/s]"
          ]
        },
        {
          "output_type": "stream",
          "name": "stdout",
          "text": [
            "19 ('A herd of three horses grazing on the pasture.',)\n",
            "15 ('a park bench that is outside on grass',)\n",
            "18 ('A dog with his chin on the table looking at an empty plate.',)\n",
            "4 ('A black motorcycle sits on the pavement in front of a house.',)\n"
          ]
        },
        {
          "output_type": "stream",
          "name": "stderr",
          "text": [
            " 53%|█████▎    | 5289/10000 [02:38<02:20, 33.59it/s]"
          ]
        },
        {
          "output_type": "stream",
          "name": "stdout",
          "text": [
            "5 ('A photo of the plane over and ocean on a sunny day',)\n",
            "2 ('A man rides his bike down a sidewalk.',)\n"
          ]
        },
        {
          "output_type": "stream",
          "name": "stderr",
          "text": [
            " 53%|█████▎    | 5297/10000 [02:38<02:14, 35.01it/s]"
          ]
        },
        {
          "output_type": "stream",
          "name": "stdout",
          "text": [
            "2 ('A group of dirt bike racers going around a track.',)\n"
          ]
        },
        {
          "output_type": "stream",
          "name": "stderr",
          "text": [
            " 53%|█████▎    | 5305/10000 [02:39<02:11, 35.61it/s]"
          ]
        },
        {
          "output_type": "stream",
          "name": "stdout",
          "text": [
            "13 ('A stop sign that has a smaller sign that says all way\" underneath it.\"',)\n",
            "8 ('A large red truck on a city street.',)\n",
            "16 ('Three birds on some rocks near the ocean.',)\n",
            "18 ('A black dog is wearing a birthday party hat.',)\n",
            "4 ('The motorcycle is parked on the side of a road near snowy mountains.',)\n"
          ]
        },
        {
          "output_type": "stream",
          "name": "stderr",
          "text": [
            " 53%|█████▎    | 5313/10000 [02:39<02:16, 34.45it/s]"
          ]
        },
        {
          "output_type": "stream",
          "name": "stdout",
          "text": [
            "17 ('The young cat is sitting next to the carrots on the floor.',)\n",
            "18 ('A black and white dog sitting  next to a frisbee.',)\n"
          ]
        },
        {
          "output_type": "stream",
          "name": "stderr",
          "text": [
            " 53%|█████▎    | 5325/10000 [02:39<02:13, 34.99it/s]"
          ]
        },
        {
          "output_type": "stream",
          "name": "stdout",
          "text": [
            "18 ('A woman that is laying down with a dog on a couch.',)\n",
            "9 ('A group of people sitting on top of a green boat.',)\n",
            "8 ('a person looking at themselves in the reflection of a silver wall of truck',)\n",
            "11 ('A young man walking past a red fire hydrant.',)\n",
            "9 ('A canal going through a city filled with boats.',)\n"
          ]
        },
        {
          "output_type": "stream",
          "name": "stderr",
          "text": [
            " 53%|█████▎    | 5333/10000 [02:40<02:11, 35.54it/s]"
          ]
        },
        {
          "output_type": "stream",
          "name": "stdout",
          "text": [
            "16 ('A flock of birds floating in the ocean next to a cement wall.',)\n",
            "2 ('A bicycle is parked and covered in boxes.',)\n"
          ]
        },
        {
          "output_type": "stream",
          "name": "stderr",
          "text": [
            " 53%|█████▎    | 5341/10000 [02:40<02:16, 34.11it/s]"
          ]
        },
        {
          "output_type": "stream",
          "name": "stdout",
          "text": [
            "15 ('Birds are walking by green benches on a brick sidewalk.',)\n",
            "16 ('Birds are walking by green benches on a brick sidewalk.',)\n",
            "19 ('A group of people on a cart being drawn by a horse.',)\n"
          ]
        },
        {
          "output_type": "stream",
          "name": "stderr",
          "text": [
            " 54%|█████▎    | 5353/10000 [02:40<02:16, 34.01it/s]"
          ]
        },
        {
          "output_type": "stream",
          "name": "stdout",
          "text": [
            "6 ('a bus parked in the street in front of a house',)\n"
          ]
        },
        {
          "output_type": "stream",
          "name": "stderr",
          "text": [
            " 54%|█████▎    | 5361/10000 [02:40<02:18, 33.42it/s]"
          ]
        },
        {
          "output_type": "stream",
          "name": "stdout",
          "text": [
            "9 ('A large boat and a small yellow boat docked in the water.',)\n",
            "1 ('A bunch of military personnel are gathered inside some kind of a building.',)\n"
          ]
        },
        {
          "output_type": "stream",
          "name": "stderr",
          "text": [
            " 54%|█████▎    | 5369/10000 [02:41<02:20, 32.91it/s]"
          ]
        },
        {
          "output_type": "stream",
          "name": "stdout",
          "text": [
            "15 ('A clock pole in the middle of a bed of flowers near park benches.',)\n",
            "10 ('A street with an electric box with traffic light next to it.',)\n",
            "9 ('A boat laying on the side of the road.',)\n",
            "15 ('A group of young people sit on benches and interact.',)\n"
          ]
        },
        {
          "output_type": "stream",
          "name": "stderr",
          "text": [
            " 54%|█████▍    | 5377/10000 [02:41<02:19, 33.24it/s]"
          ]
        },
        {
          "output_type": "stream",
          "name": "stdout",
          "text": [
            "19 ('A horse stands alone on the ground beside a pile of branches.',)\n",
            "15 ('a wood bench in a grassy park area',)\n"
          ]
        },
        {
          "output_type": "stream",
          "name": "stderr",
          "text": [
            " 54%|█████▍    | 5385/10000 [02:41<02:19, 33.07it/s]"
          ]
        },
        {
          "output_type": "stream",
          "name": "stdout",
          "text": [
            "9 ('a number of small boats in a body of water',)\n",
            "4 ('City street with cars and motorcycles parked by the curb.',)\n",
            "1 ('A person flying through the air while riding a skateboard.',)\n"
          ]
        },
        {
          "output_type": "stream",
          "name": "stderr",
          "text": [
            " 54%|█████▍    | 5401/10000 [02:42<02:16, 33.65it/s]"
          ]
        },
        {
          "output_type": "stream",
          "name": "stdout",
          "text": [
            "13 ('A picture of a stop sign on the street.',)\n",
            "16 (\"A bird sits on a car's rear view mirror.\",)\n",
            "11 ('A woman is holding the hand of a boy who is leaning on a fire hydrant.',)\n"
          ]
        },
        {
          "output_type": "stream",
          "name": "stderr",
          "text": [
            " 54%|█████▍    | 5413/10000 [02:42<02:23, 31.92it/s]"
          ]
        },
        {
          "output_type": "stream",
          "name": "stdout",
          "text": [
            "8 ('A blue trucked parked at the end of a curvy road next to a yellow traffic sign.',)\n",
            "18 (\"A dog with a purple frisbee over it's head.\",)\n"
          ]
        },
        {
          "output_type": "stream",
          "name": "stderr",
          "text": [
            " 54%|█████▍    | 5425/10000 [02:42<02:17, 33.33it/s]"
          ]
        },
        {
          "output_type": "stream",
          "name": "stdout",
          "text": [
            "19 ('THERE IS A MNA THAT IS RIDING A SHOW HORSE',)\n"
          ]
        },
        {
          "output_type": "stream",
          "name": "stderr",
          "text": [
            " 54%|█████▍    | 5433/10000 [02:43<02:14, 33.85it/s]"
          ]
        },
        {
          "output_type": "stream",
          "name": "stdout",
          "text": [
            "6 ('Several people walking around many parked buses behind a fence.',)\n",
            "19 ('The man in a hat rides a horse on the beach.',)\n"
          ]
        },
        {
          "output_type": "stream",
          "name": "stderr",
          "text": [
            " 54%|█████▍    | 5449/10000 [02:43<02:12, 34.37it/s]"
          ]
        },
        {
          "output_type": "stream",
          "name": "stdout",
          "text": [
            "1 ('a person near a desk with a keyboard monitor and mouse',)\n",
            "1 ('A stop sign on right side of brick street with a person crossing it.',)\n",
            "13 ('A stop sign on right side of brick street with a person crossing it.',)\n"
          ]
        },
        {
          "output_type": "stream",
          "name": "stderr",
          "text": [
            " 55%|█████▍    | 5457/10000 [02:43<02:12, 34.31it/s]"
          ]
        },
        {
          "output_type": "stream",
          "name": "stdout",
          "text": [
            "8 ('A boat in a view passing by people on land with a pick up truck.',)\n",
            "9 ('A boat in a view passing by people on land with a pick up truck.',)\n",
            "13 ('A red stop sign sitting on the side of a road.',)\n"
          ]
        },
        {
          "output_type": "stream",
          "name": "stderr",
          "text": [
            " 55%|█████▍    | 5465/10000 [02:44<02:14, 33.80it/s]"
          ]
        },
        {
          "output_type": "stream",
          "name": "stdout",
          "text": [
            "10 ('A yellow traffic light sitting next to a street light.',)\n",
            "8 ('A large blue eighteen wheeler truck without a load on the back.',)\n"
          ]
        },
        {
          "output_type": "stream",
          "name": "stderr",
          "text": [
            " 55%|█████▍    | 5477/10000 [02:44<02:18, 32.69it/s]"
          ]
        },
        {
          "output_type": "stream",
          "name": "stdout",
          "text": [
            "9 ('A long dock area full of small boats.',)\n",
            "17 ('Lady bending down to blow out candles while a cat looks under the table.',)\n",
            "15 ('an older man sitting on a bench reading a book',)\n"
          ]
        },
        {
          "output_type": "stream",
          "name": "stderr",
          "text": [
            " 55%|█████▍    | 5485/10000 [02:44<02:15, 33.38it/s]"
          ]
        },
        {
          "output_type": "stream",
          "name": "stdout",
          "text": [
            "1 ('a person jumping a skate board in the air',)\n",
            "16 ('a little white and grey bird standing by the water',)\n"
          ]
        },
        {
          "output_type": "stream",
          "name": "stderr",
          "text": [
            " 55%|█████▌    | 5501/10000 [02:45<02:13, 33.76it/s]"
          ]
        },
        {
          "output_type": "stream",
          "name": "stdout",
          "text": [
            "18 ('Girl eating a hot dog in the yard.',)\n",
            "8 ('Two people carrying surfboards on a beach where a tent is pitched next to a tree and a truck.',)\n",
            "19 ('Four men on horses and in uniforms holding the American flag and another flag with people standing to the side and watching.',)\n"
          ]
        },
        {
          "output_type": "stream",
          "name": "stderr",
          "text": [
            " 55%|█████▌    | 5509/10000 [02:45<02:14, 33.45it/s]"
          ]
        },
        {
          "output_type": "stream",
          "name": "stdout",
          "text": [
            "2 ('A man posing next to a couple of bikes on a street.',)\n",
            "1 ('A kitten is crawling on the knee of the person at the laptop.',)\n"
          ]
        },
        {
          "output_type": "stream",
          "name": "stderr",
          "text": [
            " 55%|█████▌    | 5525/10000 [02:45<02:14, 33.15it/s]"
          ]
        },
        {
          "output_type": "stream",
          "name": "stdout",
          "text": [
            "18 ('A black and brown dog staring out the window.',)\n",
            "19 ('A young man riding on the back of a brown horse.',)\n",
            "14 ('A street with a row of parked cars next to parking meters.',)\n"
          ]
        },
        {
          "output_type": "stream",
          "name": "stderr",
          "text": [
            " 55%|█████▌    | 5533/10000 [02:46<02:12, 33.82it/s]"
          ]
        },
        {
          "output_type": "stream",
          "name": "stdout",
          "text": [
            "6 ('a man holding a child next to a double decker bus.',)\n"
          ]
        },
        {
          "output_type": "stream",
          "name": "stderr",
          "text": [
            " 55%|█████▌    | 5545/10000 [02:46<02:13, 33.32it/s]"
          ]
        },
        {
          "output_type": "stream",
          "name": "stdout",
          "text": [
            "8 ('A fire truck connected to a blue fire-hydrant.',)\n",
            "4 ('A man riding on the back of a motorcycle down a street.',)\n"
          ]
        },
        {
          "output_type": "stream",
          "name": "stderr",
          "text": [
            " 56%|█████▌    | 5553/10000 [02:46<02:14, 33.05it/s]"
          ]
        },
        {
          "output_type": "stream",
          "name": "stdout",
          "text": [
            "4 ('A man riding a motorcycle with two  children on board.',)\n",
            "3 ('An old black railroad car parked on the tracks',)\n",
            "2 ('Row of bikes out front of building in the city.',)\n",
            "9 ('A boat sailing across a lake surrounded by snow covered mountains.',)\n",
            "4 ('A policeman is all bundled up standing next to his motorcycle.',)\n"
          ]
        },
        {
          "output_type": "stream",
          "name": "stderr",
          "text": [
            " 56%|█████▌    | 5561/10000 [02:46<02:14, 32.93it/s]"
          ]
        },
        {
          "output_type": "stream",
          "name": "stdout",
          "text": [
            "13 ('A stop sign that has been vandalized to reference Harry Potter.',)\n",
            "15 ('A man on a bench bends down to feed a flock of pigeons from his hand.',)\n",
            "1 ('A person is riding a skateboard near a large suspension bridge.',)\n",
            "17 ('A yellow and white cat on top of a black leather cushion.',)\n"
          ]
        },
        {
          "output_type": "stream",
          "name": "stderr",
          "text": [
            " 56%|█████▌    | 5569/10000 [02:47<02:17, 32.28it/s]"
          ]
        },
        {
          "output_type": "stream",
          "name": "stdout",
          "text": [
            "19 ('A man riding a horse near a sheep in a field.',)\n",
            "1 ('A farm area with a young girl on a horse and saddle with a person walking next to the horse.',)\n",
            "19 ('A farm area with a young girl on a horse and saddle with a person walking next to the horse.',)\n",
            "9 ('A boat sitting on a beach near the water.',)\n"
          ]
        },
        {
          "output_type": "stream",
          "name": "stderr",
          "text": [
            " 56%|█████▌    | 5593/10000 [02:47<02:08, 34.20it/s]"
          ]
        },
        {
          "output_type": "stream",
          "name": "stdout",
          "text": [
            "2 ('A tourist shop with bikes hanging from the ceiling.',)\n",
            "8 ('A man pushing a hand truck stacked with boxes talking to a cop.',)\n"
          ]
        },
        {
          "output_type": "stream",
          "name": "stderr",
          "text": [
            "\r 56%|█████▌    | 5597/10000 [02:48<02:10, 33.86it/s]"
          ]
        },
        {
          "output_type": "stream",
          "name": "stdout",
          "text": [
            "19 ('Cows and horses in a field next to a tall brick building.',)\n",
            "2 ('A LARGE GROUP OF PEOPLE ARE RIDING THERE BIKES IN THE STREET',)\n"
          ]
        },
        {
          "output_type": "stream",
          "name": "stderr",
          "text": [
            " 56%|█████▌    | 5609/10000 [02:48<02:10, 33.66it/s]"
          ]
        },
        {
          "output_type": "stream",
          "name": "stdout",
          "text": [
            "4 ('a close up of a parked motorcycle',)\n",
            "16 ('A group of birds standing around in a field.',)\n",
            "4 ('A yellow and black colored motorcycle parked on a gravel road.',)\n"
          ]
        },
        {
          "output_type": "stream",
          "name": "stderr",
          "text": [
            " 56%|█████▋    | 5625/10000 [02:48<02:15, 32.38it/s]"
          ]
        },
        {
          "output_type": "stream",
          "name": "stdout",
          "text": [
            "9 ('Boats are lined up in the harbor by a city.',)\n"
          ]
        },
        {
          "output_type": "stream",
          "name": "stderr",
          "text": [
            " 56%|█████▋    | 5637/10000 [02:49<02:11, 33.19it/s]"
          ]
        },
        {
          "output_type": "stream",
          "name": "stdout",
          "text": [
            "4 ('A blue and silver motorcycle parked next to a wall.',)\n"
          ]
        },
        {
          "output_type": "stream",
          "name": "stderr",
          "text": [
            " 56%|█████▋    | 5645/10000 [02:49<02:10, 33.26it/s]"
          ]
        },
        {
          "output_type": "stream",
          "name": "stdout",
          "text": [
            "19 ('a horse is standing with his owner next to a tree.',)\n",
            "18 ('A dog in a suitcase that is on a hardwood floor.',)\n",
            "1 ('a person riding a tractor being pulled by horses',)\n",
            "19 ('a person riding a tractor being pulled by horses',)\n"
          ]
        },
        {
          "output_type": "stream",
          "name": "stderr",
          "text": [
            " 57%|█████▋    | 5653/10000 [02:49<02:09, 33.51it/s]"
          ]
        },
        {
          "output_type": "stream",
          "name": "stdout",
          "text": [
            "19 ('A woman holding a pink umbrella standing next to a man on a horse.',)\n",
            "17 ('A cat that is looking out a window.',)\n",
            "19 ('A man stands in front of a horse drawn carriage.',)\n"
          ]
        },
        {
          "output_type": "stream",
          "name": "stderr",
          "text": [
            " 57%|█████▋    | 5665/10000 [02:50<02:07, 33.88it/s]"
          ]
        },
        {
          "output_type": "stream",
          "name": "stdout",
          "text": [
            "2 ('Some bicycles and motorcycles are parked close together.',)\n",
            "4 ('Some bicycles and motorcycles are parked close together.',)\n",
            "19 ('A couple of people that are riding on horses.',)\n"
          ]
        },
        {
          "output_type": "stream",
          "name": "stderr",
          "text": [
            " 57%|█████▋    | 5673/10000 [02:50<02:10, 33.19it/s]"
          ]
        },
        {
          "output_type": "stream",
          "name": "stdout",
          "text": [
            "9 ('a small row boat is being pushed on a lake',)\n",
            "18 ('A lush green field full of a herd of sheep and a dog.',)\n",
            "2 ('A group of bikes parked in a bike rack.',)\n"
          ]
        },
        {
          "output_type": "stream",
          "name": "stderr",
          "text": [
            " 57%|█████▋    | 5681/10000 [02:50<02:10, 33.06it/s]"
          ]
        },
        {
          "output_type": "stream",
          "name": "stdout",
          "text": [
            "8 ('A red double decker bus being towed by a tow truck',)\n",
            "15 ('An old wooden bench near a brick stand with a wheeler on it.',)\n"
          ]
        },
        {
          "output_type": "stream",
          "name": "stderr",
          "text": [
            " 57%|█████▋    | 5693/10000 [02:50<02:07, 33.75it/s]"
          ]
        },
        {
          "output_type": "stream",
          "name": "stdout",
          "text": [
            "18 ('A dog laying on top of a bend next to an open book.',)\n",
            "15 ('A young woman looks at a laptop computer on a picnic bench.',)\n",
            "3 ('A group of cars is waiting at a traffic stop.',)\n"
          ]
        },
        {
          "output_type": "stream",
          "name": "stderr",
          "text": [
            " 57%|█████▋    | 5705/10000 [02:51<02:04, 34.49it/s]"
          ]
        },
        {
          "output_type": "stream",
          "name": "stdout",
          "text": [
            "16 ('There is a bird in the sky with the plane.',)\n",
            "5 ('A seaplane parked in the grass next to the water.',)\n",
            "4 ('A man riding a silver motorcycle down a street.',)\n"
          ]
        },
        {
          "output_type": "stream",
          "name": "stderr",
          "text": [
            " 57%|█████▋    | 5713/10000 [02:51<02:07, 33.57it/s]"
          ]
        },
        {
          "output_type": "stream",
          "name": "stdout",
          "text": [
            "19 ('The brown horse is of the best possible breeding.',)\n",
            "16 ('a bird on the outside of a door with clear windows',)\n",
            "18 ('A small brown dog laying on top of a bed.',)\n"
          ]
        },
        {
          "output_type": "stream",
          "name": "stderr",
          "text": [
            " 57%|█████▋    | 5725/10000 [02:51<02:08, 33.22it/s]"
          ]
        },
        {
          "output_type": "stream",
          "name": "stdout",
          "text": [
            "11 ('A red and black with yellow fire hydrant.',)\n"
          ]
        },
        {
          "output_type": "stream",
          "name": "stderr",
          "text": [
            " 57%|█████▋    | 5733/10000 [02:52<02:14, 31.66it/s]"
          ]
        },
        {
          "output_type": "stream",
          "name": "stdout",
          "text": [
            "15 ('A park bench in the midst of a beautiful desert garden.',)\n",
            "9 ('There are boats passing underneath a low bridge.',)\n",
            "9 (\"A woman with a dog, the dog has it's front paws on the front of the boat.\",)\n",
            "18 (\"A woman with a dog, the dog has it's front paws on the front of the boat.\",)\n"
          ]
        },
        {
          "output_type": "stream",
          "name": "stderr",
          "text": [
            " 57%|█████▋    | 5741/10000 [02:52<02:10, 32.63it/s]"
          ]
        },
        {
          "output_type": "stream",
          "name": "stdout",
          "text": [
            "4 ('A man drinking bear while riding a red motorcycle.',)\n",
            "1 ('The person sleeps under blankets as three cats are laying on the bed.',)\n",
            "19 ('A man riding a horse drawn carriage on a beach.',)\n",
            "3 ('A rear view mirror hanging from the side of a car door.',)\n"
          ]
        },
        {
          "output_type": "stream",
          "name": "stderr",
          "text": [
            " 58%|█████▊    | 5765/10000 [02:53<02:05, 33.75it/s]"
          ]
        },
        {
          "output_type": "stream",
          "name": "stdout",
          "text": [
            "4 ('A dog trots and pants in front of two motorcycles parked in front of a fence.',)\n",
            "18 ('A dog trots and pants in front of two motorcycles parked in front of a fence.',)\n",
            "1 ('A person wearing a yellow rubber glove with their hand over a toilet.',)\n"
          ]
        },
        {
          "output_type": "stream",
          "name": "stderr",
          "text": [
            " 58%|█████▊    | 5773/10000 [02:53<02:05, 33.75it/s]"
          ]
        },
        {
          "output_type": "stream",
          "name": "stdout",
          "text": [
            "13 ('A red stop sign sitting on the side of a street.',)\n",
            "8 ('A red Coca Cola truck parked in front of a building.',)\n",
            "17 ('A striped cat exploring flowers in a clear vase.',)\n"
          ]
        },
        {
          "output_type": "stream",
          "name": "stderr",
          "text": [
            " 58%|█████▊    | 5781/10000 [02:53<02:03, 34.19it/s]"
          ]
        },
        {
          "output_type": "stream",
          "name": "stdout",
          "text": [
            "8 ('There are people that is looking inside the truck',)\n",
            "18 ('Someone who is holding a hot dog in front of a body of water.',)\n"
          ]
        },
        {
          "output_type": "stream",
          "name": "stderr",
          "text": [
            " 58%|█████▊    | 5793/10000 [02:53<02:06, 33.28it/s]"
          ]
        },
        {
          "output_type": "stream",
          "name": "stdout",
          "text": [
            "18 ('A fluffy dog sits in front of a laptop and a door.',)\n",
            "15 ('A dog lays on a bench in a park.',)\n",
            "18 ('A dog lays on a bench in a park.',)\n",
            "15 ('A couple of men nodding off on a bench.',)\n"
          ]
        },
        {
          "output_type": "stream",
          "name": "stderr",
          "text": [
            " 58%|█████▊    | 5801/10000 [02:54<02:07, 32.81it/s]"
          ]
        },
        {
          "output_type": "stream",
          "name": "stdout",
          "text": [
            "15 ('Two chair and a bench at the entrance of a building',)\n"
          ]
        },
        {
          "output_type": "stream",
          "name": "stderr",
          "text": [
            " 58%|█████▊    | 5809/10000 [02:54<02:04, 33.54it/s]"
          ]
        },
        {
          "output_type": "stream",
          "name": "stdout",
          "text": [
            "4 ('Two motorcyclists are jumping their bikes high into the air.',)\n",
            "18 ('A small dog carrying a large Frisbee down a sidewalk.',)\n"
          ]
        },
        {
          "output_type": "stream",
          "name": "stderr",
          "text": [
            " 58%|█████▊    | 5825/10000 [02:55<02:14, 30.96it/s]"
          ]
        },
        {
          "output_type": "stream",
          "name": "stdout",
          "text": [
            "19 ('Several people standing in front of a horse pulled carriage.',)\n",
            "2 ('An older woman walking a bicycle with a bus in the background.',)\n",
            "15 ('An orange kitten relaxing on a blue park bench',)\n"
          ]
        },
        {
          "output_type": "stream",
          "name": "stderr",
          "text": [
            " 58%|█████▊    | 5833/10000 [02:55<02:13, 31.27it/s]"
          ]
        },
        {
          "output_type": "stream",
          "name": "stdout",
          "text": [
            "16 ('A bird sitting on a wall, looking at some people.',)\n"
          ]
        },
        {
          "output_type": "stream",
          "name": "stderr",
          "text": [
            " 58%|█████▊    | 5845/10000 [02:55<02:11, 31.65it/s]"
          ]
        },
        {
          "output_type": "stream",
          "name": "stdout",
          "text": [
            "2 ('A man on an inverted bicycle  riding down the street',)\n",
            "1 ('A person smiling while holding a snowboard while another person watches.',)\n",
            "19 ('A man riding on the back of a brown horse.',)\n"
          ]
        },
        {
          "output_type": "stream",
          "name": "stderr",
          "text": [
            " 59%|█████▊    | 5857/10000 [02:55<02:04, 33.28it/s]"
          ]
        },
        {
          "output_type": "stream",
          "name": "stdout",
          "text": [
            "9 ('a child on the sand and a boat and some water',)\n",
            "19 ('A man riding a brown horse next to two men.',)\n",
            "15 ('A man sits on a bench in the sunshine.',)\n"
          ]
        },
        {
          "output_type": "stream",
          "name": "stderr",
          "text": [
            " 59%|█████▊    | 5865/10000 [02:56<02:01, 34.00it/s]"
          ]
        },
        {
          "output_type": "stream",
          "name": "stdout",
          "text": [
            "9 ('A small boat sitting next to a small town.',)\n",
            "1 ('A person is holding a very tiny pair of scissors.',)\n",
            "19 ('A man is standing in the mud with a horse.',)\n"
          ]
        },
        {
          "output_type": "stream",
          "name": "stderr",
          "text": [
            " 59%|█████▊    | 5873/10000 [02:56<02:06, 32.54it/s]"
          ]
        },
        {
          "output_type": "stream",
          "name": "stdout",
          "text": [
            "1 ('a person jumping a skate board at a skate park',)\n",
            "1 ('A person is holding a skate board in their hand',)\n"
          ]
        },
        {
          "output_type": "stream",
          "name": "stderr",
          "text": [
            " 59%|█████▉    | 5881/10000 [02:56<02:05, 32.89it/s]"
          ]
        },
        {
          "output_type": "stream",
          "name": "stdout",
          "text": [
            "13 ('A man holding a stop sign in the street.',)\n",
            "7 ('A mother and three children on a small train',)\n"
          ]
        },
        {
          "output_type": "stream",
          "name": "stderr",
          "text": [
            " 59%|█████▉    | 5889/10000 [02:56<02:02, 33.50it/s]"
          ]
        },
        {
          "output_type": "stream",
          "name": "stdout",
          "text": [
            "17 ('A cat on a leash sitting on the door step of a house.',)\n",
            "4 ('A motorcycle parked in front of a chain link fence.',)\n"
          ]
        },
        {
          "output_type": "stream",
          "name": "stderr",
          "text": [
            " 59%|█████▉    | 5897/10000 [02:57<02:07, 32.18it/s]"
          ]
        },
        {
          "output_type": "stream",
          "name": "stdout",
          "text": [
            "1 ('A person on a yellow motorcycle in the middle of a street.',)\n",
            "11 ('An old fire hydrant sitting on the side of the road.',)\n"
          ]
        },
        {
          "output_type": "stream",
          "name": "stderr",
          "text": [
            " 59%|█████▉    | 5905/10000 [02:57<02:05, 32.55it/s]"
          ]
        },
        {
          "output_type": "stream",
          "name": "stdout",
          "text": [
            "3 ('A car is approaching a traffic signal at a crosswalk.',)\n",
            "8 ('A firetruck spraying out water at a small airplane',)\n",
            "6 (\"The driver's side mirror of a bus riding on a ferry.\",)\n"
          ]
        },
        {
          "output_type": "stream",
          "name": "stderr",
          "text": [
            " 59%|█████▉    | 5917/10000 [02:57<02:05, 32.49it/s]"
          ]
        },
        {
          "output_type": "stream",
          "name": "stdout",
          "text": [
            "19 ('Blurred image of people watching horses on a grass track.',)\n",
            "15 ('Birds are lined up across a bench as a duck sits underneath.',)\n",
            "16 ('Birds are lined up across a bench as a duck sits underneath.',)\n",
            "15 ('A woman sitting on a park bench with a contemplative look.',)\n",
            "1 ('There is a person holding a bushel of bananas.',)\n"
          ]
        },
        {
          "output_type": "stream",
          "name": "stderr",
          "text": [
            " 59%|█████▉    | 5937/10000 [02:58<01:55, 35.08it/s]"
          ]
        },
        {
          "output_type": "stream",
          "name": "stdout",
          "text": [
            "19 ('Several horses both dark and light in a grass field together.',)\n",
            "1 ('Two army persons cutting birthday cake together in a party.',)\n"
          ]
        },
        {
          "output_type": "stream",
          "name": "stderr",
          "text": [
            " 59%|█████▉    | 5945/10000 [02:58<02:00, 33.64it/s]"
          ]
        },
        {
          "output_type": "stream",
          "name": "stdout",
          "text": [
            "2 ('A cop leading a gang of bikers down a street.',)\n",
            "18 (\"A dog curled up on a bed next to an artist's desk\",)\n"
          ]
        },
        {
          "output_type": "stream",
          "name": "stderr",
          "text": [
            " 60%|█████▉    | 5957/10000 [02:58<01:57, 34.45it/s]"
          ]
        },
        {
          "output_type": "stream",
          "name": "stdout",
          "text": [
            "9 ('a small boat on a large body of water',)\n",
            "4 ('An old, rusty, parked motor cycle has a makeshift back seat',)\n",
            "4 ('A motorcycle is sitting alone in a field',)\n"
          ]
        },
        {
          "output_type": "stream",
          "name": "stderr",
          "text": [
            " 60%|█████▉    | 5969/10000 [02:59<01:55, 34.99it/s]"
          ]
        },
        {
          "output_type": "stream",
          "name": "stdout",
          "text": [
            "18 ('A small dog is asleep next to a laptop.',)\n",
            "2 ('Man sitting on a ski bike with another man looking on.',)\n",
            "19 ('A very blurry image of some big brown horses.',)\n"
          ]
        },
        {
          "output_type": "stream",
          "name": "stderr",
          "text": [
            " 60%|█████▉    | 5981/10000 [02:59<01:57, 34.34it/s]"
          ]
        },
        {
          "output_type": "stream",
          "name": "stdout",
          "text": [
            "3 ('There is a dog with its head out of the window of a car.',)\n",
            "18 ('There is a dog with its head out of the window of a car.',)\n",
            "17 ('A cat that is in the air near a refrigerator.',)\n",
            "15 ('An array of fountains by a park bench with men sitting on it.',)\n"
          ]
        },
        {
          "output_type": "stream",
          "name": "stderr",
          "text": [
            " 60%|█████▉    | 5993/10000 [03:00<02:02, 32.62it/s]"
          ]
        },
        {
          "output_type": "stream",
          "name": "stdout",
          "text": [
            "19 ('A golden clock beside a golden horse statue',)\n",
            "2 ('A man riding a bike in front of a red city bus.',)\n"
          ]
        },
        {
          "output_type": "stream",
          "name": "stderr",
          "text": [
            " 60%|██████    | 6001/10000 [03:00<02:03, 32.35it/s]"
          ]
        },
        {
          "output_type": "stream",
          "name": "stdout",
          "text": [
            "18 ('A small dog with a Frisbee in its mouth.',)\n",
            "10 ('A close up view of a street traffic light.',)\n"
          ]
        },
        {
          "output_type": "stream",
          "name": "stderr",
          "text": [
            " 60%|██████    | 6009/10000 [03:00<01:59, 33.32it/s]"
          ]
        },
        {
          "output_type": "stream",
          "name": "stdout",
          "text": [
            "1 ('Lighthouse type building with greenery around it, and a person walking by.',)\n",
            "10 ('A 1 Av\" sign is right next to to the traffic light.\"',)\n",
            "17 ('Two women lounge on a bed while one pets a cat.',)\n"
          ]
        },
        {
          "output_type": "stream",
          "name": "stderr",
          "text": [
            " 60%|██████    | 6017/10000 [03:00<01:58, 33.74it/s]"
          ]
        },
        {
          "output_type": "stream",
          "name": "stdout",
          "text": [
            "6 ('A black and white double decker bus on the road.',)\n"
          ]
        },
        {
          "output_type": "stream",
          "name": "stderr",
          "text": [
            " 60%|██████    | 6029/10000 [03:01<01:57, 33.73it/s]"
          ]
        },
        {
          "output_type": "stream",
          "name": "stdout",
          "text": [
            "1 ('a person pets a dog who is laying on the floor',)\n",
            "18 ('a person pets a dog who is laying on the floor',)\n",
            "9 ('there are many boats that are in the water',)\n",
            "9 ('A  ship yard with boats docked all over',)\n"
          ]
        },
        {
          "output_type": "stream",
          "name": "stderr",
          "text": [
            "\r 60%|██████    | 6033/10000 [03:01<02:03, 32.21it/s]"
          ]
        },
        {
          "output_type": "stream",
          "name": "stdout",
          "text": [
            "18 ('A dog carrying a frisbee walking across a grass covered field.',)\n",
            "3 ('A cat rolls around on the hood of a car.',)\n",
            "17 ('A cat rolls around on the hood of a car.',)\n",
            "5 ('Airplanes flying in a gray sky next to the moon.',)\n"
          ]
        },
        {
          "output_type": "stream",
          "name": "stderr",
          "text": [
            " 60%|██████    | 6045/10000 [03:01<01:54, 34.47it/s]"
          ]
        },
        {
          "output_type": "stream",
          "name": "stdout",
          "text": [
            "16 ('A small bird perched on top of a metal post.',)\n",
            "17 ('A cat standing on top of a bed next to a window.',)\n"
          ]
        },
        {
          "output_type": "stream",
          "name": "stderr",
          "text": [
            " 61%|██████    | 6057/10000 [03:02<02:00, 32.64it/s]"
          ]
        },
        {
          "output_type": "stream",
          "name": "stdout",
          "text": [
            "17 ('A cat climbing up the side of a mirror on a bungee cord.',)\n"
          ]
        },
        {
          "output_type": "stream",
          "name": "stderr",
          "text": [
            " 61%|██████    | 6069/10000 [03:02<01:57, 33.35it/s]"
          ]
        },
        {
          "output_type": "stream",
          "name": "stdout",
          "text": [
            "1 ('A person in air squatting and holding with one hand a snowboard, in bright light with snow on mountains in back and blue sky.',)\n",
            "3 ('A passenger bus and a car driving through a street.',)\n",
            "8 ('A street scene with a dump truck hauling a tractor.',)\n",
            "18 ('A dog is lying on the bed beside a remote control.',)\n"
          ]
        },
        {
          "output_type": "stream",
          "name": "stderr",
          "text": [
            " 61%|██████    | 6081/10000 [03:02<01:53, 34.41it/s]"
          ]
        },
        {
          "output_type": "stream",
          "name": "stdout",
          "text": [
            "10 ('A street sign mounted next to a traffic light.',)\n",
            "2 ('A man flying through the air while riding a bike.',)\n",
            "19 ('THERE ARE PEOPLE THAT ARE RIDING ON HORSE IN HE PARKING LOT',)\n"
          ]
        },
        {
          "output_type": "stream",
          "name": "stderr",
          "text": [
            " 61%|██████    | 6089/10000 [03:02<02:01, 32.18it/s]"
          ]
        },
        {
          "output_type": "stream",
          "name": "stdout",
          "text": [
            "17 ('The cat has a hat on top of its head.',)\n",
            "16 ('A flat screen computer monitor with a bird sitting on top of it.',)\n",
            "4 ('A motorcycle in front of a closed freight door.',)\n"
          ]
        },
        {
          "output_type": "stream",
          "name": "stderr",
          "text": [
            " 61%|██████    | 6097/10000 [03:03<01:57, 33.12it/s]"
          ]
        },
        {
          "output_type": "stream",
          "name": "stdout",
          "text": [
            "4 ('Several cars and one motorcycle on the highway.',)\n",
            "16 ('there is a bird that is standing by the water',)\n",
            "19 ('A horse alks by the side of a small quaint pond',)\n"
          ]
        },
        {
          "output_type": "stream",
          "name": "stderr",
          "text": [
            " 61%|██████    | 6105/10000 [03:03<01:55, 33.62it/s]"
          ]
        },
        {
          "output_type": "stream",
          "name": "stdout",
          "text": [
            "18 ('Two men and a dog in between two trains on the track.',)\n",
            "2 ('a man on a bike with a camera taking photos',)\n"
          ]
        },
        {
          "output_type": "stream",
          "name": "stderr",
          "text": [
            " 61%|██████    | 6117/10000 [03:03<01:51, 34.70it/s]"
          ]
        },
        {
          "output_type": "stream",
          "name": "stdout",
          "text": [
            "16 ('A white and grey bird is floating in a body of water.',)\n",
            "18 ('A very cute dog on a surf board with his tongue out.',)\n"
          ]
        },
        {
          "output_type": "stream",
          "name": "stderr",
          "text": [
            " 61%|██████▏   | 6125/10000 [03:04<01:57, 33.02it/s]"
          ]
        },
        {
          "output_type": "stream",
          "name": "stdout",
          "text": [
            "15 ('A photo of a stone path with a bench in the background.',)\n",
            "3 ('A couple of hot cars in a packet on the table',)\n"
          ]
        },
        {
          "output_type": "stream",
          "name": "stderr",
          "text": [
            " 61%|██████▏   | 6137/10000 [03:04<01:56, 33.09it/s]"
          ]
        },
        {
          "output_type": "stream",
          "name": "stdout",
          "text": [
            "15 ('A man sitting on a wooden bench overlooking mountains.',)\n",
            "6 ('A truck with a bus in tow behind.',)\n",
            "8 ('A truck with a bus in tow behind.',)\n"
          ]
        },
        {
          "output_type": "stream",
          "name": "stderr",
          "text": [
            " 62%|██████▏   | 6153/10000 [03:04<01:55, 33.29it/s]"
          ]
        },
        {
          "output_type": "stream",
          "name": "stdout",
          "text": [
            "6 ('A group of people standing around a parked bus.',)\n",
            "18 (\"A dog by a man's leg with both reflected in a mirror.\",)\n"
          ]
        },
        {
          "output_type": "stream",
          "name": "stderr",
          "text": [
            " 62%|██████▏   | 6161/10000 [03:05<01:54, 33.43it/s]"
          ]
        },
        {
          "output_type": "stream",
          "name": "stdout",
          "text": [
            "1 ('A person is placing a sparkler on top of a dragon cake.',)\n",
            "11 ('a fire hydrant on the curb of a city street',)\n"
          ]
        },
        {
          "output_type": "stream",
          "name": "stderr",
          "text": [
            " 62%|██████▏   | 6169/10000 [03:05<01:53, 33.85it/s]"
          ]
        },
        {
          "output_type": "stream",
          "name": "stdout",
          "text": [
            "5 ('a white and gray view of the airplane window and wing',)\n",
            "15 ('Some men hanging out on benches on checkered tile.',)\n",
            "19 ('a black and white image of men with a horse',)\n"
          ]
        },
        {
          "output_type": "stream",
          "name": "stderr",
          "text": [
            " 62%|██████▏   | 6181/10000 [03:05<01:51, 34.11it/s]"
          ]
        },
        {
          "output_type": "stream",
          "name": "stdout",
          "text": [
            "9 ('A person sitting on a boat with supplies while wearing a straw hat.',)\n",
            "19 ('Brown and white horse walking alongside a lake.',)\n"
          ]
        },
        {
          "output_type": "stream",
          "name": "stderr",
          "text": [
            " 62%|██████▏   | 6189/10000 [03:05<01:52, 33.86it/s]"
          ]
        },
        {
          "output_type": "stream",
          "name": "stdout",
          "text": [
            "16 ('A black and white bird is sitting in a pine tree.',)\n",
            "18 ('A man eating a hot dog on a bun.',)\n",
            "3 ('Cars at a busy intersection just before dark.',)\n"
          ]
        },
        {
          "output_type": "stream",
          "name": "stderr",
          "text": [
            " 62%|██████▏   | 6197/10000 [03:06<01:54, 33.30it/s]"
          ]
        },
        {
          "output_type": "stream",
          "name": "stdout",
          "text": [
            "14 ('A woman taking a ticket from a parking meter and cars parked nearby',)\n"
          ]
        },
        {
          "output_type": "stream",
          "name": "stderr",
          "text": [
            " 62%|██████▏   | 6213/10000 [03:06<01:49, 34.54it/s]"
          ]
        },
        {
          "output_type": "stream",
          "name": "stdout",
          "text": [
            "8 ('A harbor with a white truck and boat in dock.',)\n",
            "9 ('A harbor with a white truck and boat in dock.',)\n"
          ]
        },
        {
          "output_type": "stream",
          "name": "stderr",
          "text": [
            " 62%|██████▏   | 6229/10000 [03:07<01:52, 33.51it/s]"
          ]
        },
        {
          "output_type": "stream",
          "name": "stdout",
          "text": [
            "2 ('A blue bike parked on the side of the street.',)\n",
            "15 ('A man and woman sitting on top of a bench near the ocean.',)\n",
            "17 ('a cat sitting on an ottoman watching a television',)\n"
          ]
        },
        {
          "output_type": "stream",
          "name": "stderr",
          "text": [
            " 62%|██████▏   | 6237/10000 [03:07<01:53, 33.03it/s]"
          ]
        },
        {
          "output_type": "stream",
          "name": "stdout",
          "text": [
            "4 (\"A rear view mirror for a motorcycle with a tall building in it's reflection.\",)\n"
          ]
        },
        {
          "output_type": "stream",
          "name": "stderr",
          "text": [
            " 62%|██████▏   | 6249/10000 [03:07<01:49, 34.10it/s]"
          ]
        },
        {
          "output_type": "stream",
          "name": "stdout",
          "text": [
            "17 ('A dog and a cat stand up next to each other looking out a window.',)\n",
            "18 ('A dog and a cat stand up next to each other looking out a window.',)\n",
            "7 ('A train station with a train sitting there waiting to be loaded.',)\n",
            "19 ('Three children riding on the backs of horses.',)\n",
            "15 ('Two people looking at a large bird on a bench.',)\n",
            "16 ('Two people looking at a large bird on a bench.',)\n"
          ]
        },
        {
          "output_type": "stream",
          "name": "stderr",
          "text": [
            " 63%|██████▎   | 6257/10000 [03:08<01:53, 32.88it/s]"
          ]
        },
        {
          "output_type": "stream",
          "name": "stdout",
          "text": [
            "18 ('A man walking a brown dog on a leash.',)\n",
            "16 ('The bird is eating an apple in the tree outside.',)\n",
            "3 ('A busy city street near an on ramp to another busy street with trucks, busses and cars.',)\n",
            "8 ('A busy city street near an on ramp to another busy street with trucks, busses and cars.',)\n"
          ]
        },
        {
          "output_type": "stream",
          "name": "stderr",
          "text": [
            " 63%|██████▎   | 6269/10000 [03:08<01:56, 32.16it/s]"
          ]
        },
        {
          "output_type": "stream",
          "name": "stdout",
          "text": [
            "13 ('There is a stop sign on the ground.',)\n",
            "5 ('Two planes flying in sky with smoke trailing behind them.',)\n",
            "19 ('A brown horse pulling a large tire behind it.',)\n"
          ]
        },
        {
          "output_type": "stream",
          "name": "stderr",
          "text": [
            " 63%|██████▎   | 6289/10000 [03:08<01:46, 34.98it/s]"
          ]
        },
        {
          "output_type": "stream",
          "name": "stdout",
          "text": [
            "18 (\"A dog holding a frisbee in it's mouth.\",)\n",
            "15 ('a small wood bench and some pots outside',)\n",
            "1 ('A picture of a person and some luggage on the ground.',)\n"
          ]
        },
        {
          "output_type": "stream",
          "name": "stderr",
          "text": [
            " 63%|██████▎   | 6297/10000 [03:09<01:55, 32.12it/s]"
          ]
        },
        {
          "output_type": "stream",
          "name": "stdout",
          "text": [
            "18 ('A boy with a baseball hat, eating a hot dog while sitting in a stadium seat.',)\n",
            "7 ('A subway train opens its doors to accept more passengers.',)\n",
            "4 ('a couple of people on a motorcycle next to a red house',)\n"
          ]
        },
        {
          "output_type": "stream",
          "name": "stderr",
          "text": [
            " 63%|██████▎   | 6305/10000 [03:09<01:53, 32.56it/s]"
          ]
        },
        {
          "output_type": "stream",
          "name": "stdout",
          "text": [
            "9 ('A group of boats parked around a dock in water.',)\n",
            "8 ('A half eaten doughnut sitting on the side of a road next to a  truck.',)\n",
            "19 ('A couple of black and white horses walking past a crowd.',)\n"
          ]
        },
        {
          "output_type": "stream",
          "name": "stderr",
          "text": [
            " 63%|██████▎   | 6313/10000 [03:09<01:50, 33.25it/s]"
          ]
        },
        {
          "output_type": "stream",
          "name": "stdout",
          "text": [
            "19 ('A girl with a helmet walking her horse.',)\n"
          ]
        },
        {
          "output_type": "stream",
          "name": "stderr",
          "text": [
            " 63%|██████▎   | 6321/10000 [03:09<01:50, 33.18it/s]"
          ]
        },
        {
          "output_type": "stream",
          "name": "stdout",
          "text": [
            "16 ('A group of birds perched on a power line next to a  tree.',)\n",
            "2 ('A group of people riding bikes down a street.',)\n"
          ]
        },
        {
          "output_type": "stream",
          "name": "stderr",
          "text": [
            " 63%|██████▎   | 6329/10000 [03:10<01:53, 32.24it/s]"
          ]
        },
        {
          "output_type": "stream",
          "name": "stdout",
          "text": [
            "18 (\"A black dog holding a Frisbee in it's mouth.\",)\n",
            "13 ('A red stop sign sitting by the side of a road.',)\n"
          ]
        },
        {
          "output_type": "stream",
          "name": "stderr",
          "text": [
            " 63%|██████▎   | 6337/10000 [03:10<01:48, 33.73it/s]"
          ]
        },
        {
          "output_type": "stream",
          "name": "stdout",
          "text": [
            "18 ('A dog sitting on top of a computer desk.',)\n",
            "3 ('A parking meter is shown next to a car.',)\n",
            "14 ('A parking meter is shown next to a car.',)\n"
          ]
        },
        {
          "output_type": "stream",
          "name": "stderr",
          "text": [
            " 63%|██████▎   | 6349/10000 [03:10<01:46, 34.18it/s]"
          ]
        },
        {
          "output_type": "stream",
          "name": "stdout",
          "text": [
            "2 ('a guy on a dirt bike that is in a field',)\n",
            "19 ('A man in a hat is walking a horse on the beach.',)\n",
            "17 ('A man laying on top of a couch next to a white cat.',)\n"
          ]
        },
        {
          "output_type": "stream",
          "name": "stderr",
          "text": [
            " 64%|██████▎   | 6357/10000 [03:11<01:47, 33.86it/s]"
          ]
        },
        {
          "output_type": "stream",
          "name": "stdout",
          "text": [
            "19 ('there is a man riding a horse and a woman and a man heaping him',)\n",
            "16 ('A flock of birds standing on the beach while more birds fly overhead.',)\n",
            "18 ('A dog is standing at the entrance of the kitchen.',)\n"
          ]
        },
        {
          "output_type": "stream",
          "name": "stderr",
          "text": [
            " 64%|██████▎   | 6365/10000 [03:11<01:51, 32.52it/s]"
          ]
        },
        {
          "output_type": "stream",
          "name": "stdout",
          "text": [
            "15 ('A baseball player is sitting on the bench at a baseball game.',)\n",
            "8 ('a truck with a lift carrying a man to the electrical wires',)\n"
          ]
        },
        {
          "output_type": "stream",
          "name": "stderr",
          "text": [
            " 64%|██████▍   | 6385/10000 [03:11<01:47, 33.61it/s]"
          ]
        },
        {
          "output_type": "stream",
          "name": "stdout",
          "text": [
            "18 ('A dog is looking at some torn  up shoes and licking its lips.',)\n",
            "17 ('A woman is holding a cat and another woman is cutting a cake in the living room.',)\n",
            "10 ('A metal pole with two yellow traffic lights with street signs.',)\n"
          ]
        },
        {
          "output_type": "stream",
          "name": "stderr",
          "text": [
            " 64%|██████▍   | 6393/10000 [03:12<01:47, 33.67it/s]"
          ]
        },
        {
          "output_type": "stream",
          "name": "stdout",
          "text": [
            "4 ('A building filled with lots of motorcycles sitting side by side..',)\n",
            "18 ('A dog holding a frisbee on a dirt road',)\n",
            "1 ('A person leading a brown horse across a field.',)\n",
            "19 ('A person leading a brown horse across a field.',)\n",
            "6 ('A large brown bear standing in front of a yellow bus.',)\n"
          ]
        },
        {
          "output_type": "stream",
          "name": "stderr",
          "text": [
            " 64%|██████▍   | 6405/10000 [03:12<01:46, 33.76it/s]"
          ]
        },
        {
          "output_type": "stream",
          "name": "stdout",
          "text": [
            "3 ('An impressive array of motorcycles recedes into the distance between a driveway and a building fronted with cars and a grassy  area, as lots of people mill about the driveway, around the bikes.',)\n",
            "4 ('An impressive array of motorcycles recedes into the distance between a driveway and a building fronted with cars and a grassy  area, as lots of people mill about the driveway, around the bikes.',)\n",
            "17 ('A cat standing inside of an open green umbrella.',)\n",
            "8 ('A red truck that is sitting in the grass.',)\n"
          ]
        },
        {
          "output_type": "stream",
          "name": "stderr",
          "text": [
            " 64%|██████▍   | 6413/10000 [03:12<01:48, 32.99it/s]"
          ]
        },
        {
          "output_type": "stream",
          "name": "stdout",
          "text": [
            "9 ('The hull of a boat and chain on an empty beach.',)\n",
            "19 ('A group of people who are on the backs of horses.',)\n"
          ]
        },
        {
          "output_type": "stream",
          "name": "stderr",
          "text": [
            " 64%|██████▍   | 6429/10000 [03:13<01:46, 33.59it/s]"
          ]
        },
        {
          "output_type": "stream",
          "name": "stdout",
          "text": [
            "14 ('A white toilet sitting next to a parking meter.',)\n"
          ]
        },
        {
          "output_type": "stream",
          "name": "stderr",
          "text": [
            " 64%|██████▍   | 6441/10000 [03:13<01:46, 33.41it/s]"
          ]
        },
        {
          "output_type": "stream",
          "name": "stdout",
          "text": [
            "4 ('Motorcycles are on the circular display in a motorcycle shop.',)\n"
          ]
        },
        {
          "output_type": "stream",
          "name": "stderr",
          "text": [
            " 65%|██████▍   | 6453/10000 [03:13<01:48, 32.68it/s]"
          ]
        },
        {
          "output_type": "stream",
          "name": "stdout",
          "text": [
            "1 ('The person is taking a picture of himself in the bathroom mirror.',)\n",
            "9 ('A harbor filled with lots of small boats.',)\n",
            "4 ('A street scene with focus on two bikes ans a small motorcycle.',)\n"
          ]
        },
        {
          "output_type": "stream",
          "name": "stderr",
          "text": [
            " 65%|██████▍   | 6465/10000 [03:14<01:48, 32.51it/s]"
          ]
        },
        {
          "output_type": "stream",
          "name": "stdout",
          "text": [
            "18 ('A dog sleeping on a blue blanket next to a news paper.',)\n",
            "19 ('Two horses are walking on the green grass.',)\n"
          ]
        },
        {
          "output_type": "stream",
          "name": "stderr",
          "text": [
            " 65%|██████▍   | 6473/10000 [03:14<01:48, 32.53it/s]"
          ]
        },
        {
          "output_type": "stream",
          "name": "stdout",
          "text": [
            "16 ('A small bird sitting on a branch in a tree covered with a light snow.',)\n",
            "4 ('A motorbike is parked outside the wooden cabin.',)\n"
          ]
        },
        {
          "output_type": "stream",
          "name": "stderr",
          "text": [
            " 65%|██████▍   | 6485/10000 [03:14<01:48, 32.26it/s]"
          ]
        },
        {
          "output_type": "stream",
          "name": "stdout",
          "text": [
            "19 ('A young boy holding up a toy horse near a Christmas Tree.',)\n",
            "5 ('Four planes in the sky in a flying formation.',)\n",
            "4 ('A motorbike rounding a curve in a racetrack.',)\n"
          ]
        },
        {
          "output_type": "stream",
          "name": "stderr",
          "text": [
            " 65%|██████▍   | 6493/10000 [03:15<01:42, 34.14it/s]"
          ]
        },
        {
          "output_type": "stream",
          "name": "stdout",
          "text": [
            "1 ('some snow a person and some train tracks',)\n",
            "5 (\"A silver airplane with it's side cut wide open.\",)\n"
          ]
        },
        {
          "output_type": "stream",
          "name": "stderr",
          "text": [
            " 65%|██████▌   | 6501/10000 [03:15<01:45, 33.19it/s]"
          ]
        },
        {
          "output_type": "stream",
          "name": "stdout",
          "text": [
            "15 ('People at a work bench table with laptops and other electronic equipment.',)\n"
          ]
        },
        {
          "output_type": "stream",
          "name": "stderr",
          "text": [
            "\r 65%|██████▌   | 6505/10000 [03:15<01:50, 31.55it/s]"
          ]
        },
        {
          "output_type": "stream",
          "name": "stdout",
          "text": [
            "7 ('A top view of trains at a train station.',)\n",
            "10 ('A street filled with traffic at night driving under a traffic light.',)\n"
          ]
        },
        {
          "output_type": "stream",
          "name": "stderr",
          "text": [
            " 65%|██████▌   | 6515/10000 [03:15<02:09, 26.90it/s]"
          ]
        },
        {
          "output_type": "stream",
          "name": "stdout",
          "text": [
            "15 ('A man turning a bench into a picnic table.',)\n"
          ]
        },
        {
          "output_type": "stream",
          "name": "stderr",
          "text": [
            " 65%|██████▌   | 6521/10000 [03:16<02:18, 25.04it/s]"
          ]
        },
        {
          "output_type": "stream",
          "name": "stdout",
          "text": [
            "16 ('A very colorful bird trying to eat something.',)\n"
          ]
        },
        {
          "output_type": "stream",
          "name": "stderr",
          "text": [
            " 65%|██████▌   | 6527/10000 [03:16<02:19, 24.87it/s]"
          ]
        },
        {
          "output_type": "stream",
          "name": "stdout",
          "text": [
            "14 ('a parking meter stands in front of a door on a green building with two windows',)\n"
          ]
        },
        {
          "output_type": "stream",
          "name": "stderr",
          "text": [
            " 65%|██████▌   | 6533/10000 [03:16<02:16, 25.32it/s]"
          ]
        },
        {
          "output_type": "stream",
          "name": "stdout",
          "text": [
            "9 ('A couple of boats are docked in the water',)\n"
          ]
        },
        {
          "output_type": "stream",
          "name": "stderr",
          "text": [
            " 65%|██████▌   | 6539/10000 [03:16<02:15, 25.57it/s]"
          ]
        },
        {
          "output_type": "stream",
          "name": "stdout",
          "text": [
            "3 ('Cars and buses at an intersection with a green light.',)\n",
            "3 ('a street that has not many cars on it',)\n",
            "3 ('Zebras crossing a road in front of a waiting car.',)\n"
          ]
        },
        {
          "output_type": "stream",
          "name": "stderr",
          "text": [
            " 65%|██████▌   | 6545/10000 [03:17<02:16, 25.23it/s]"
          ]
        },
        {
          "output_type": "stream",
          "name": "stdout",
          "text": [
            "18 ('A large white dog laying down next to a cat.',)\n"
          ]
        },
        {
          "output_type": "stream",
          "name": "stderr",
          "text": [
            " 66%|██████▌   | 6551/10000 [03:17<02:25, 23.74it/s]"
          ]
        },
        {
          "output_type": "stream",
          "name": "stdout",
          "text": [
            "1 ('A person on a skateboard on a city street.',)\n",
            "2 (\"A statue of a bunny face on a woman's body on a bicycle.\",)\n",
            "17 ('The cat sits behind the laptop and cup on the desk.',)\n"
          ]
        },
        {
          "output_type": "stream",
          "name": "stderr",
          "text": [
            " 66%|██████▌   | 6563/10000 [03:17<02:19, 24.71it/s]"
          ]
        },
        {
          "output_type": "stream",
          "name": "stdout",
          "text": [
            "2 ('A woman with a bike is standing next to a train.',)\n",
            "15 ('two people sitting on a bench and eating',)\n",
            "4 ('A vehicle with a dented hood and a motor bike.',)\n"
          ]
        },
        {
          "output_type": "stream",
          "name": "stderr",
          "text": [
            "\r 66%|██████▌   | 6566/10000 [03:18<02:16, 25.25it/s]"
          ]
        },
        {
          "output_type": "stream",
          "name": "stdout",
          "text": [
            "19 ('A man riding on the back of a brown horse through a lush green field.',)\n",
            "3 ('Two cats sitting on top of the roof of a car.',)\n"
          ]
        },
        {
          "output_type": "stream",
          "name": "stderr",
          "text": [
            " 66%|██████▌   | 6578/10000 [03:18<02:21, 24.23it/s]"
          ]
        },
        {
          "output_type": "stream",
          "name": "stdout",
          "text": [
            "13 ('A four way stop sign under a Sonoma road sign.',)\n",
            "11 ('A red and gray fire hydrant sitting next to green bushes.',)\n",
            "19 ('A person riding a horse on top of a sandy beach next to the ocean.',)\n"
          ]
        },
        {
          "output_type": "stream",
          "name": "stderr",
          "text": [
            " 66%|██████▌   | 6584/10000 [03:18<02:23, 23.80it/s]"
          ]
        },
        {
          "output_type": "stream",
          "name": "stdout",
          "text": [
            "19 ('Horses are walking through water on a beach.',)\n",
            "15 ('A group of three benches sitting on top of a hill.',)\n"
          ]
        },
        {
          "output_type": "stream",
          "name": "stderr",
          "text": [
            " 66%|██████▌   | 6590/10000 [03:19<02:20, 24.19it/s]"
          ]
        },
        {
          "output_type": "stream",
          "name": "stdout",
          "text": [
            "11 ('A yellow fire hydrant sitting on the side of a road',)\n",
            "3 ('The road is empty, expect for a couple of parked cars to the side.',)\n"
          ]
        },
        {
          "output_type": "stream",
          "name": "stderr",
          "text": [
            " 66%|██████▌   | 6596/10000 [03:19<02:18, 24.52it/s]"
          ]
        },
        {
          "output_type": "stream",
          "name": "stdout",
          "text": [
            "3 ('a brown bear leaning against a car door',)\n",
            "16 ('A bird is perched in front of a window with bars on it.',)\n"
          ]
        },
        {
          "output_type": "stream",
          "name": "stderr",
          "text": [
            " 66%|██████▌   | 6605/10000 [03:19<02:26, 23.14it/s]"
          ]
        },
        {
          "output_type": "stream",
          "name": "stdout",
          "text": [
            "1 ('A foot propped up on an elegant table depicts a person enjoying a grand view.',)\n",
            "18 ('A large brown dog standing next to a white wall.',)\n"
          ]
        },
        {
          "output_type": "stream",
          "name": "stderr",
          "text": [
            " 66%|██████▌   | 6611/10000 [03:19<02:24, 23.50it/s]"
          ]
        },
        {
          "output_type": "stream",
          "name": "stdout",
          "text": [
            "4 ('The view from a car window shows a motorcycle parked against a tree.',)\n",
            "11 ('A grey painted fire hydrant on a sidewalk.',)\n",
            "6 "
          ]
        },
        {
          "output_type": "stream",
          "name": "stderr",
          "text": [
            " 66%|██████▌   | 6617/10000 [03:20<02:18, 24.38it/s]"
          ]
        },
        {
          "output_type": "stream",
          "name": "stdout",
          "text": [
            "('A group of drivers standing between two rows of parked double-decker buses.',)\n",
            "1 ('a person near a table with a bunch of bananas',)\n",
            "15 ('A woman sitting on top of a bench under an umbrella.',)\n"
          ]
        },
        {
          "output_type": "stream",
          "name": "stderr",
          "text": [
            " 66%|██████▋   | 6625/10000 [03:20<01:54, 29.56it/s]"
          ]
        },
        {
          "output_type": "stream",
          "name": "stdout",
          "text": [
            "11 ('A bright red fire hydrant sitting inside a semicircular retaining wall.',)\n",
            "17 ('The black cat is sitting in front of a television showing a soccer game.',)\n",
            "9 ('A boat with a flag on the front of it sitting in the water.',)\n",
            "3 ('A well light building with a yellow car parked up front.',)\n"
          ]
        },
        {
          "output_type": "stream",
          "name": "stderr",
          "text": [
            " 66%|██████▋   | 6637/10000 [03:20<01:42, 32.70it/s]"
          ]
        },
        {
          "output_type": "stream",
          "name": "stdout",
          "text": [
            "11 ('A knocked over rusted fire hydrant sitting next to an orange cone.',)\n",
            "8 ('A truck and aircraft next to some building in an airport',)\n",
            "18 ('A picture of a dog that is looking out the window.',)\n",
            "2 ('A man riding a bike in front of a bike shop.',)\n"
          ]
        },
        {
          "output_type": "stream",
          "name": "stderr",
          "text": [
            " 66%|██████▋   | 6645/10000 [03:21<01:40, 33.38it/s]"
          ]
        },
        {
          "output_type": "stream",
          "name": "stdout",
          "text": [
            "2 ('An orange and black bike parked on top  of a cement walkway.',)\n",
            "8 ('a truck driving on a city street',)\n",
            "6 ('Double and single tier buses parked in a parking lot.',)\n"
          ]
        },
        {
          "output_type": "stream",
          "name": "stderr",
          "text": [
            " 67%|██████▋   | 6653/10000 [03:21<01:40, 33.31it/s]"
          ]
        },
        {
          "output_type": "stream",
          "name": "stdout",
          "text": [
            "1 ('A person standing on top of a ski slope wearing skis.',)\n",
            "2 ('a man riding a bike with a dog walking beside him',)\n",
            "18 ('a man riding a bike with a dog walking beside him',)\n",
            "14 ('A car parked in front of a parking meter on a street.',)\n"
          ]
        },
        {
          "output_type": "stream",
          "name": "stderr",
          "text": [
            " 67%|██████▋   | 6661/10000 [03:21<01:38, 34.02it/s]"
          ]
        },
        {
          "output_type": "stream",
          "name": "stdout",
          "text": [
            "15 ('A wooden bench sitting next to a building.',)\n",
            "2 ('A bike carrying books sits parked next to a meter.',)\n",
            "14 ('A bike carrying books sits parked next to a meter.',)\n",
            "19 ('A horse carrying a wagon stop to eat the grass.',)\n"
          ]
        },
        {
          "output_type": "stream",
          "name": "stderr",
          "text": [
            " 67%|██████▋   | 6669/10000 [03:21<01:38, 33.78it/s]"
          ]
        },
        {
          "output_type": "stream",
          "name": "stdout",
          "text": [
            "18 ('An adorable small dog laying on top of a blanket on a bed.',)\n",
            "5 ('A woman watching a remote control airplane in the sky.',)\n",
            "18 ('a man kneeling holding frisbees while a dog stands on his back',)\n"
          ]
        },
        {
          "output_type": "stream",
          "name": "stderr",
          "text": [
            " 67%|██████▋   | 6677/10000 [03:21<01:37, 34.24it/s]"
          ]
        },
        {
          "output_type": "stream",
          "name": "stdout",
          "text": [
            "7 ('A man and woman on a subway train car, both wearing hats.',)\n",
            "1 ('a person standing on a road with many cars',)\n"
          ]
        },
        {
          "output_type": "stream",
          "name": "stderr",
          "text": [
            " 67%|██████▋   | 6685/10000 [03:22<01:36, 34.48it/s]"
          ]
        },
        {
          "output_type": "stream",
          "name": "stdout",
          "text": [
            "3 ('An electric powered cable car sitting at a station.',)\n",
            "8 ('The sofa is strapped on top of the pickup truck.',)\n",
            "18 ('A happy dog running around carrying a frisbee in its mouth.',)\n"
          ]
        },
        {
          "output_type": "stream",
          "name": "stderr",
          "text": [
            " 67%|██████▋   | 6693/10000 [03:22<01:41, 32.72it/s]"
          ]
        },
        {
          "output_type": "stream",
          "name": "stdout",
          "text": [
            "17 ('A black and white cat leaning against a television.',)\n",
            "6 ('Police officers on a road by a yellow bus.',)\n"
          ]
        },
        {
          "output_type": "stream",
          "name": "stderr",
          "text": [
            " 67%|██████▋   | 6701/10000 [03:22<01:46, 31.06it/s]"
          ]
        },
        {
          "output_type": "stream",
          "name": "stdout",
          "text": [
            "3 ('An Indy Racing Car sitting next to a racing motorcycle.',)\n",
            "4 ('An Indy Racing Car sitting next to a racing motorcycle.',)\n"
          ]
        },
        {
          "output_type": "stream",
          "name": "stderr",
          "text": [
            " 67%|██████▋   | 6709/10000 [03:22<01:40, 32.64it/s]"
          ]
        },
        {
          "output_type": "stream",
          "name": "stdout",
          "text": [
            "16 ('A bird with plumage standing in front of a giraffe.',)\n"
          ]
        },
        {
          "output_type": "stream",
          "name": "stderr",
          "text": [
            " 67%|██████▋   | 6717/10000 [03:23<01:42, 32.18it/s]"
          ]
        },
        {
          "output_type": "stream",
          "name": "stdout",
          "text": [
            "11 ('A woman kneels near a fire hydrant while cans of paints sit next to her on a brick walkway.',)\n",
            "15 ('A group of people sitting on top of a metal bench.',)\n",
            "3 ('Cars are driving through the intersection underneath traffic signals.',)\n",
            "2 ('a bicycle is chained to a pier at the beach',)\n"
          ]
        },
        {
          "output_type": "stream",
          "name": "stderr",
          "text": [
            " 67%|██████▋   | 6725/10000 [03:23<01:38, 33.35it/s]"
          ]
        },
        {
          "output_type": "stream",
          "name": "stdout",
          "text": [
            "18 ('A white dog sits in the sand underneath a beach chair.',)\n",
            "4 ('A motorcycle cop sits astride a lime green with blue checks motorcycle.',)\n"
          ]
        },
        {
          "output_type": "stream",
          "name": "stderr",
          "text": [
            " 67%|██████▋   | 6733/10000 [03:23<01:37, 33.56it/s]"
          ]
        },
        {
          "output_type": "stream",
          "name": "stdout",
          "text": [
            "19 ('A couple of people riding on the backs of horses.',)\n",
            "2 ('a man that is riding a bike down a trail',)\n",
            "5 ('A man seems to be messing with his laptop while on the plane.',)\n"
          ]
        },
        {
          "output_type": "stream",
          "name": "stderr",
          "text": [
            " 67%|██████▋   | 6745/10000 [03:24<01:40, 32.32it/s]"
          ]
        },
        {
          "output_type": "stream",
          "name": "stdout",
          "text": [
            "19 ('A group of horses are standing around a fence.',)\n",
            "19 ('A man wearing a jacket while riding a brown horse.',)\n",
            "3 ('A tabby cat sitting in front of a car.',)\n",
            "17 ('A tabby cat sitting in front of a car.',)\n"
          ]
        },
        {
          "output_type": "stream",
          "name": "stderr",
          "text": [
            " 68%|██████▊   | 6753/10000 [03:24<01:38, 33.09it/s]"
          ]
        },
        {
          "output_type": "stream",
          "name": "stdout",
          "text": [
            "18 ('a dog looking at a woman check on a pizza in the oven',)\n"
          ]
        },
        {
          "output_type": "stream",
          "name": "stderr",
          "text": [
            " 68%|██████▊   | 6761/10000 [03:24<01:37, 33.31it/s]"
          ]
        },
        {
          "output_type": "stream",
          "name": "stdout",
          "text": [
            "1 ('A mans urinal with with a person standing you can only see his shoes, with a waste basket in the room.',)\n",
            "9 ('A beach next to the ocean filled with boats.',)\n"
          ]
        },
        {
          "output_type": "stream",
          "name": "stderr",
          "text": [
            " 68%|██████▊   | 6773/10000 [03:24<01:35, 33.66it/s]"
          ]
        },
        {
          "output_type": "stream",
          "name": "stdout",
          "text": [
            "18 ('a dog and a cat laying on a couch near one another',)\n",
            "18 ('a dog stares at a television with a dog on the screen',)\n"
          ]
        },
        {
          "output_type": "stream",
          "name": "stderr",
          "text": [
            " 68%|██████▊   | 6781/10000 [03:25<01:34, 34.14it/s]"
          ]
        },
        {
          "output_type": "stream",
          "name": "stdout",
          "text": [
            "16 ('Two birds perched on a rock overlooking a cliff.',)\n",
            "17 ('A cat ays on the floor in an office.',)\n",
            "9 ('A marina filled with boats that have been tied to the ledge.',)\n",
            "16 ('A horse grazes in a meadow while a bird flies in',)\n",
            "19 ('A horse grazes in a meadow while a bird flies in',)\n"
          ]
        },
        {
          "output_type": "stream",
          "name": "stderr",
          "text": [
            " 68%|██████▊   | 6789/10000 [03:25<01:33, 34.30it/s]"
          ]
        },
        {
          "output_type": "stream",
          "name": "stdout",
          "text": [
            "8 (\"People standing on the corner by the fire truck that's connected to the fire hydrant\",)\n",
            "11 (\"People standing on the corner by the fire truck that's connected to the fire hydrant\",)\n",
            "15 ('Wooden park bench near green space in urban setting.',)\n"
          ]
        },
        {
          "output_type": "stream",
          "name": "stderr",
          "text": [
            " 68%|██████▊   | 6805/10000 [03:25<01:36, 33.26it/s]"
          ]
        },
        {
          "output_type": "stream",
          "name": "stdout",
          "text": [
            "19 ('A man drives people in a horse and carriage.',)\n",
            "7 ('A man looking at an old fashioned steam train.',)\n",
            "18 ('A dog up on its hind legs, catching a ball in its mouth.',)\n",
            "5 ('A set of steps that lead up into a plane.',)\n"
          ]
        },
        {
          "output_type": "stream",
          "name": "stderr",
          "text": [
            " 68%|██████▊   | 6813/10000 [03:26<01:33, 34.00it/s]"
          ]
        },
        {
          "output_type": "stream",
          "name": "stdout",
          "text": [
            "10 ('A traffic light over a city street by a building.',)\n",
            "14 ('The view of a window and a coin meter in front of the window.',)\n",
            "16 ('A bird sits perched on a branch near leaves.',)\n",
            "16 ('a bird flying in the air with many trees in the background',)\n",
            "19 ('Horses in a pasture under a clear blue sky.',)\n"
          ]
        },
        {
          "output_type": "stream",
          "name": "stderr",
          "text": [
            " 68%|██████▊   | 6821/10000 [03:26<01:38, 32.17it/s]"
          ]
        },
        {
          "output_type": "stream",
          "name": "stdout",
          "text": [
            "15 ('A black dog laying in front of the bench cheering a stick.',)\n",
            "18 ('A black dog laying in front of the bench cheering a stick.',)\n",
            "4 ('A painting of a room with a motorcycle covered with a cloth.',)\n",
            "3 ('A blue bus at a brick sidewalk with a red car at the side.',)\n"
          ]
        },
        {
          "output_type": "stream",
          "name": "stderr",
          "text": [
            " 68%|██████▊   | 6833/10000 [03:26<01:34, 33.43it/s]"
          ]
        },
        {
          "output_type": "stream",
          "name": "stdout",
          "text": [
            "6 ('Man wearing a santa hat sitting on a bus.',)\n",
            "1 ('A person is hugging a teddy bear sitting on a chair.',)\n",
            "9 ('A boat is on the harbor of a big city.',)\n",
            "17 (\"Fuzzy cat laying on it's back inside the opened luggage bag\",)\n"
          ]
        },
        {
          "output_type": "stream",
          "name": "stderr",
          "text": [
            "\r 68%|██████▊   | 6837/10000 [03:26<01:37, 32.31it/s]"
          ]
        },
        {
          "output_type": "stream",
          "name": "stdout",
          "text": [
            "18 ('A brown dog with a plastic coffee cup on his head.',)\n",
            "15 ('A couple of young men sitting on a wooden bench.',)\n",
            "11 ('A red, white and green colored fire hydrant.',)\n"
          ]
        },
        {
          "output_type": "stream",
          "name": "stderr",
          "text": [
            " 68%|██████▊   | 6845/10000 [03:27<01:35, 33.02it/s]"
          ]
        },
        {
          "output_type": "stream",
          "name": "stdout",
          "text": [
            "2 ('A beautiful young lady riding a bike across a street.',)\n",
            "3 ('There is a car and bus in the streets of town.',)\n",
            "15 ('A man is sitting on a bench in the park',)\n",
            "17 ('a cat is sitting in the trunk of a car',)\n"
          ]
        },
        {
          "output_type": "stream",
          "name": "stderr",
          "text": [
            " 69%|██████▊   | 6853/10000 [03:27<01:36, 32.60it/s]"
          ]
        },
        {
          "output_type": "stream",
          "name": "stdout",
          "text": [
            "6 ('some people on a bus looking out the window at some giraffes',)\n"
          ]
        },
        {
          "output_type": "stream",
          "name": "stderr",
          "text": [
            " 69%|██████▊   | 6861/10000 [03:27<01:33, 33.46it/s]"
          ]
        },
        {
          "output_type": "stream",
          "name": "stdout",
          "text": [
            "19 ('A big teddy bear sitting on top of a wooden horse.',)\n",
            "1 ('a person is sitting in front of a market',)\n",
            "3 ('The eight lane street is packed with cars in traffic.',)\n",
            "4 ('A man riding a motorcycle while wearing a leather jacket.',)\n"
          ]
        },
        {
          "output_type": "stream",
          "name": "stderr",
          "text": [
            " 69%|██████▊   | 6873/10000 [03:27<01:30, 34.73it/s]"
          ]
        },
        {
          "output_type": "stream",
          "name": "stdout",
          "text": [
            "6 ('An old bus is driving along down a street lined with trees.',)\n",
            "10 ('A traffic light with two street signs hanging off the side of it.',)\n"
          ]
        },
        {
          "output_type": "stream",
          "name": "stderr",
          "text": [
            " 69%|██████▉   | 6885/10000 [03:28<01:31, 34.14it/s]"
          ]
        },
        {
          "output_type": "stream",
          "name": "stdout",
          "text": [
            "9 ('A white boat floats in murky green waters.',)\n",
            "18 ('a women that is walking a dog down the street',)\n",
            "19 ('People are being pulled by horses in a buggy.',)\n"
          ]
        },
        {
          "output_type": "stream",
          "name": "stderr",
          "text": [
            " 69%|██████▉   | 6893/10000 [03:28<01:33, 33.20it/s]"
          ]
        },
        {
          "output_type": "stream",
          "name": "stdout",
          "text": [
            "19 ('A horse grazing in a field with the sun beaming in the background.',)\n"
          ]
        },
        {
          "output_type": "stream",
          "name": "stderr",
          "text": [
            " 69%|██████▉   | 6905/10000 [03:28<01:36, 32.16it/s]"
          ]
        },
        {
          "output_type": "stream",
          "name": "stdout",
          "text": [
            "8 ('a truck in the front of  and two people on a horse',)\n",
            "19 ('a truck in the front of  and two people on a horse',)\n",
            "19 ('A woman walks a horse down a crowded beach.',)\n",
            "1 ('a person on a motorcycle driving through a field of mud.',)\n",
            "4 ('a person on a motorcycle driving through a field of mud.',)\n",
            "17 ('A cat is sleeping at a computer desk on a keyboard.',)\n"
          ]
        },
        {
          "output_type": "stream",
          "name": "stderr",
          "text": [
            " 69%|██████▉   | 6925/10000 [03:29<01:30, 33.90it/s]"
          ]
        },
        {
          "output_type": "stream",
          "name": "stdout",
          "text": [
            "16 ('A small grey and white bird resting in a bush.',)\n",
            "1 ('A person is about to eat a pizza for their lunch outside.',)\n",
            "11 ('A red and white fire hydrant sitting by a body of water.',)\n"
          ]
        },
        {
          "output_type": "stream",
          "name": "stderr",
          "text": [
            "\r 69%|██████▉   | 6929/10000 [03:29<01:31, 33.52it/s]"
          ]
        },
        {
          "output_type": "stream",
          "name": "stdout",
          "text": [
            "19 ('A man riding on  a horse drawn carriage next to a red brick walkway.',)\n",
            "15 ('A park bench sits in the middle of the woods.',)\n",
            "4 ('People in coats and hats in mini motorized train on track outdoors.',)\n",
            "8 ('A truck with words sovereign and recover on its side travels down the road.',)\n"
          ]
        },
        {
          "output_type": "stream",
          "name": "stderr",
          "text": [
            " 69%|██████▉   | 6937/10000 [03:29<01:33, 32.93it/s]"
          ]
        },
        {
          "output_type": "stream",
          "name": "stdout",
          "text": [
            "17 ('A cat leaning on top an electrical box.',)\n",
            "15 ('A man and women sitting beside one another on a bench.',)\n"
          ]
        },
        {
          "output_type": "stream",
          "name": "stderr",
          "text": [
            " 69%|██████▉   | 6945/10000 [03:30<01:29, 33.98it/s]"
          ]
        },
        {
          "output_type": "stream",
          "name": "stdout",
          "text": [
            "19 ('A shot shows a dirt-covered area with riders, and in the immediate foreground, one horse standing with an older rider with a hat and long coat, possibly nudging the horse to get it going.',)\n",
            "8 ('A commuter bus passes a bright blue truck on the side of the road.',)\n"
          ]
        },
        {
          "output_type": "stream",
          "name": "stderr",
          "text": [
            " 70%|██████▉   | 6953/10000 [03:30<01:28, 34.26it/s]"
          ]
        },
        {
          "output_type": "stream",
          "name": "stdout",
          "text": [
            "9 ('A pier with several boats in the water.',)\n",
            "15 ('a bench in a field with a body of water',)\n",
            "16 ('A bird sitting on a limb of a tree.',)\n"
          ]
        },
        {
          "output_type": "stream",
          "name": "stderr",
          "text": [
            " 70%|██████▉   | 6961/10000 [03:30<01:27, 34.58it/s]"
          ]
        },
        {
          "output_type": "stream",
          "name": "stdout",
          "text": [
            "4 ('A motorcycle loaded with luggage is parked on the street.',)\n"
          ]
        },
        {
          "output_type": "stream",
          "name": "stderr",
          "text": [
            " 70%|██████▉   | 6973/10000 [03:30<01:31, 32.97it/s]"
          ]
        },
        {
          "output_type": "stream",
          "name": "stdout",
          "text": [
            "19 ('An old picture has horses, wagons and hay.',)\n",
            "16 ('A group of birds flying over the water looking for food',)\n",
            "3 ('A maroon and yellow engine car is making its way down the track.',)\n"
          ]
        },
        {
          "output_type": "stream",
          "name": "stderr",
          "text": [
            " 70%|██████▉   | 6981/10000 [03:31<01:29, 33.77it/s]"
          ]
        },
        {
          "output_type": "stream",
          "name": "stdout",
          "text": [
            "19 ('A jockey is racing on a horse in the rain.',)\n",
            "16 ('birds standing on the edge of the ledge by the water',)\n"
          ]
        },
        {
          "output_type": "stream",
          "name": "stderr",
          "text": [
            " 70%|██████▉   | 6989/10000 [03:31<01:30, 33.25it/s]"
          ]
        },
        {
          "output_type": "stream",
          "name": "stdout",
          "text": [
            "15 ('A man waiting on a bench with luggage beside him.',)\n",
            "18 ('A person preparing a meal and a dog looks on.',)\n",
            "8 (\"A small brown truck with a camper on it's back.\",)\n",
            "4 ('Several motor scooters parked next to each other, a cow is walking by them.',)\n"
          ]
        },
        {
          "output_type": "stream",
          "name": "stderr",
          "text": [
            " 70%|██████▉   | 6997/10000 [03:31<01:27, 34.35it/s]"
          ]
        },
        {
          "output_type": "stream",
          "name": "stdout",
          "text": [
            "18 ('A young boy holding a hot dog while posing for a picture.',)\n",
            "16 ('A lake filled with white birds looking for fish.',)\n",
            "15 ('A bench sitting at the end of a pier next to a body of water.',)\n"
          ]
        },
        {
          "output_type": "stream",
          "name": "stderr",
          "text": [
            " 70%|███████   | 7013/10000 [03:32<01:25, 34.99it/s]"
          ]
        },
        {
          "output_type": "stream",
          "name": "stdout",
          "text": [
            "13 ('A stop sign on the corner of a street.',)\n",
            "16 ('An orange bird sitting on the water',)\n"
          ]
        },
        {
          "output_type": "stream",
          "name": "stderr",
          "text": [
            "\r 70%|███████   | 7017/10000 [03:32<01:28, 33.68it/s]"
          ]
        },
        {
          "output_type": "stream",
          "name": "stdout",
          "text": [
            "19 ('A horse of some sort eating grass on a field.',)\n"
          ]
        },
        {
          "output_type": "stream",
          "name": "stderr",
          "text": [
            " 70%|███████   | 7025/10000 [03:32<01:35, 31.07it/s]"
          ]
        },
        {
          "output_type": "stream",
          "name": "stdout",
          "text": [
            "11 ('a man with a beard a deer and a pink fire hydrant',)\n",
            "2 ('A group of people on a boat with a bicycle onboard',)\n",
            "9 ('A group of people on a boat with a bicycle onboard',)\n",
            "4 ('a blue Yamaha motorcycle and some water in the background',)\n"
          ]
        },
        {
          "output_type": "stream",
          "name": "stderr",
          "text": [
            " 70%|███████   | 7033/10000 [03:32<01:35, 31.04it/s]"
          ]
        },
        {
          "output_type": "stream",
          "name": "stdout",
          "text": [
            "6 ('A large bus parked under a lot of trees.',)\n"
          ]
        },
        {
          "output_type": "stream",
          "name": "stderr",
          "text": [
            " 70%|███████   | 7045/10000 [03:33<01:33, 31.65it/s]"
          ]
        },
        {
          "output_type": "stream",
          "name": "stdout",
          "text": [
            "9 ('Boats on a river across from an urban metropolis and a mountain range beyond.',)\n",
            "18 ('a dog riding a surf board on a wave',)\n"
          ]
        },
        {
          "output_type": "stream",
          "name": "stderr",
          "text": [
            "\r 70%|███████   | 7049/10000 [03:33<01:32, 31.80it/s]"
          ]
        },
        {
          "output_type": "stream",
          "name": "stdout",
          "text": [
            "9 ('A loading area next to a boat yard with a sign saying 30\" is in front of some building in the evening.\"',)\n"
          ]
        },
        {
          "output_type": "stream",
          "name": "stderr",
          "text": [
            " 71%|███████   | 7065/10000 [03:33<01:27, 33.66it/s]"
          ]
        },
        {
          "output_type": "stream",
          "name": "stdout",
          "text": [
            "8 ('A fleet of yellow trucks are parked on the dirt.',)\n",
            "8 ('Four people sitting on a bed of a truck with a dog.',)\n",
            "18 ('Four people sitting on a bed of a truck with a dog.',)\n"
          ]
        },
        {
          "output_type": "stream",
          "name": "stderr",
          "text": [
            " 71%|███████   | 7073/10000 [03:34<01:27, 33.42it/s]"
          ]
        },
        {
          "output_type": "stream",
          "name": "stdout",
          "text": [
            "19 ('Two men in red coats on horse back with a third man waking behind in the same type of coat.',)\n",
            "2 ('Someone waiting at a yield sign on a bike.',)\n"
          ]
        },
        {
          "output_type": "stream",
          "name": "stderr",
          "text": [
            " 71%|███████   | 7085/10000 [03:34<01:27, 33.48it/s]"
          ]
        },
        {
          "output_type": "stream",
          "name": "stdout",
          "text": [
            "8 ('the truck is very large and has large tires',)\n",
            "18 ('A very cute dog on a leash on the curb.',)\n",
            "7 ('A gray train sits a station on railroad tracks.',)\n"
          ]
        },
        {
          "output_type": "stream",
          "name": "stderr",
          "text": [
            " 71%|███████   | 7093/10000 [03:34<01:38, 29.38it/s]"
          ]
        },
        {
          "output_type": "stream",
          "name": "stdout",
          "text": [
            "14 ('A strange photo of two parking meters on a street',)\n",
            "15 ('A woman sits on a bench under a tree beside a dog.',)\n",
            "18 ('A woman sits on a bench under a tree beside a dog.',)\n"
          ]
        },
        {
          "output_type": "stream",
          "name": "stderr",
          "text": [
            "\r 71%|███████   | 7097/10000 [03:34<01:37, 29.83it/s]"
          ]
        },
        {
          "output_type": "stream",
          "name": "stdout",
          "text": [
            "1 ('A park bench with a transparent image of a person sitting on it.',)\n",
            "15 ('A park bench with a transparent image of a person sitting on it.',)\n"
          ]
        },
        {
          "output_type": "stream",
          "name": "stderr",
          "text": [
            " 71%|███████   | 7105/10000 [03:35<01:35, 30.29it/s]"
          ]
        },
        {
          "output_type": "stream",
          "name": "stdout",
          "text": [
            "1 ('A person laying in bed under a nice soft blanket.',)\n",
            "16 ('a bird flying over a small body of water',)\n",
            "1 ('A person standing across the road near a fence.',)\n"
          ]
        },
        {
          "output_type": "stream",
          "name": "stderr",
          "text": [
            " 71%|███████   | 7117/10000 [03:35<01:27, 32.83it/s]"
          ]
        },
        {
          "output_type": "stream",
          "name": "stdout",
          "text": [
            "2 ('A bike parked in front of a parking lot with a store sign on it.',)\n",
            "8 ('to trailer trucks in front a building with white flags on top of it.',)\n",
            "17 ('A cat sitting inside of an automatic dish washer.',)\n"
          ]
        },
        {
          "output_type": "stream",
          "name": "stderr",
          "text": [
            " 71%|███████▏  | 7129/10000 [03:35<01:25, 33.48it/s]"
          ]
        },
        {
          "output_type": "stream",
          "name": "stdout",
          "text": [
            "17 ('A cat that is in a kitchen sink.',)\n",
            "15 ('A wedding couple is sitting on a green bench by water, kissing.',)\n",
            "15 ('Two muzzled dogs near bench on brick sidewalk.',)\n"
          ]
        },
        {
          "output_type": "stream",
          "name": "stderr",
          "text": [
            " 71%|███████▏  | 7137/10000 [03:36<01:26, 32.96it/s]"
          ]
        },
        {
          "output_type": "stream",
          "name": "stdout",
          "text": [
            "1 ('a person jumping up to hit a tennis ball',)\n"
          ]
        },
        {
          "output_type": "stream",
          "name": "stderr",
          "text": [
            " 71%|███████▏  | 7145/10000 [03:36<01:32, 30.97it/s]"
          ]
        },
        {
          "output_type": "stream",
          "name": "stdout",
          "text": [
            "9 ('some boats parked in a waterway and some people',)\n",
            "13 ('A stop sign that is sitting on top of a pole.',)\n"
          ]
        },
        {
          "output_type": "stream",
          "name": "stderr",
          "text": [
            " 72%|███████▏  | 7153/10000 [03:36<01:27, 32.51it/s]"
          ]
        },
        {
          "output_type": "stream",
          "name": "stdout",
          "text": [
            "8 ('A truck labeled Oversized load\" is carrying equipment on a road.\"',)\n",
            "13 ('A woman and two men stand by a stop sign.',)\n",
            "3 ('An F train subway car standing at a station',)\n"
          ]
        },
        {
          "output_type": "stream",
          "name": "stderr",
          "text": [
            " 72%|███████▏  | 7161/10000 [03:36<01:25, 33.18it/s]"
          ]
        },
        {
          "output_type": "stream",
          "name": "stdout",
          "text": [
            "18 (\"Little white fluffy dog sits on someone's lap with a laptop in the background.\",)\n",
            "17 ('A cat sleeping inside of a cat bed being fed by a person.',)\n",
            "19 ('A woman walking a brown horse down a road near a lush green field.',)\n"
          ]
        },
        {
          "output_type": "stream",
          "name": "stderr",
          "text": [
            " 72%|███████▏  | 7169/10000 [03:36<01:25, 33.14it/s]"
          ]
        },
        {
          "output_type": "stream",
          "name": "stdout",
          "text": [
            "7 ('A subway train painted with an elaborate christmas scene.',)\n",
            "2 ('a man is riding a bike while holding an umbrella',)\n",
            "1 ('A person is sitting at a kitchen table.',)\n"
          ]
        },
        {
          "output_type": "stream",
          "name": "stderr",
          "text": [
            " 72%|███████▏  | 7177/10000 [03:37<01:23, 33.74it/s]"
          ]
        },
        {
          "output_type": "stream",
          "name": "stdout",
          "text": [
            "19 ('A horse grazing in a large field with a building in the background',)\n",
            "18 ('A larger dog and a smaller dog pull at a Frisbee.',)\n",
            "14 ('A parking meter sitting in front of a graffiti covered wall.',)\n"
          ]
        },
        {
          "output_type": "stream",
          "name": "stderr",
          "text": [
            " 72%|███████▏  | 7185/10000 [03:37<01:22, 34.08it/s]"
          ]
        },
        {
          "output_type": "stream",
          "name": "stdout",
          "text": [
            "2 ('A dog rides on the back of a bicycle.',)\n",
            "18 ('A dog rides on the back of a bicycle.',)\n",
            "19 ('A circus rider holding a blanket as her horse kneels on the ground.',)\n",
            "19 ('two policemen on horses riding down a city street',)\n",
            "18 ('A dog is standing on a chair at a computer desk.',)\n"
          ]
        },
        {
          "output_type": "stream",
          "name": "stderr",
          "text": [
            " 72%|███████▏  | 7193/10000 [03:37<01:20, 35.02it/s]"
          ]
        },
        {
          "output_type": "stream",
          "name": "stdout",
          "text": [
            "19 ('A man sitting on a horse in the sun',)\n"
          ]
        },
        {
          "output_type": "stream",
          "name": "stderr",
          "text": [
            " 72%|███████▏  | 7201/10000 [03:37<01:21, 34.35it/s]"
          ]
        },
        {
          "output_type": "stream",
          "name": "stdout",
          "text": [
            "8 ('A little girl is sitting in side of a toy firetruck.',)\n",
            "3 ('Several cars parked in front of a clock tower.',)\n"
          ]
        },
        {
          "output_type": "stream",
          "name": "stderr",
          "text": [
            " 72%|███████▏  | 7209/10000 [03:38<01:23, 33.36it/s]"
          ]
        },
        {
          "output_type": "stream",
          "name": "stdout",
          "text": [
            "13 ('A stop sign that has been modified to read  stop all war\"\"',)\n",
            "3 ('Cars going past an intersection with lights at night.',)\n"
          ]
        },
        {
          "output_type": "stream",
          "name": "stderr",
          "text": [
            " 72%|███████▏  | 7225/10000 [03:38<01:22, 33.52it/s]"
          ]
        },
        {
          "output_type": "stream",
          "name": "stdout",
          "text": [
            "19 ('A man on horse shaped red light above a street',)\n"
          ]
        },
        {
          "output_type": "stream",
          "name": "stderr",
          "text": [
            " 72%|███████▏  | 7241/10000 [03:39<01:19, 34.84it/s]"
          ]
        },
        {
          "output_type": "stream",
          "name": "stdout",
          "text": [
            "1 ('A person doing a trick on their skateboard.',)\n",
            "18 ('A small white dog standing outside of a window.',)\n",
            "19 ('A couple of men riding brown horses while standing on a patch of green grass.',)\n"
          ]
        },
        {
          "output_type": "stream",
          "name": "stderr",
          "text": [
            " 72%|███████▏  | 7249/10000 [03:39<01:21, 33.62it/s]"
          ]
        },
        {
          "output_type": "stream",
          "name": "stdout",
          "text": [
            "2 ('A cluster of bikes parked on the street',)\n",
            "19 ('Black and white photograph of a woman with horse.',)\n",
            "17 ('A black and white cat pawing a computer keyboard.',)\n"
          ]
        },
        {
          "output_type": "stream",
          "name": "stderr",
          "text": [
            " 73%|███████▎  | 7261/10000 [03:39<01:18, 34.76it/s]"
          ]
        },
        {
          "output_type": "stream",
          "name": "stdout",
          "text": [
            "3 ('A black hairy dog sitting inside of a car.',)\n",
            "18 ('A black hairy dog sitting inside of a car.',)\n",
            "13 ('A stop sign in Asian characters with a camera below it.',)\n"
          ]
        },
        {
          "output_type": "stream",
          "name": "stderr",
          "text": [
            " 73%|███████▎  | 7273/10000 [03:40<01:17, 35.37it/s]"
          ]
        },
        {
          "output_type": "stream",
          "name": "stdout",
          "text": [
            "15 ('A wooden bench sitting on bricks in front of fench.',)\n"
          ]
        },
        {
          "output_type": "stream",
          "name": "stderr",
          "text": [
            " 73%|███████▎  | 7281/10000 [03:40<01:17, 34.91it/s]"
          ]
        },
        {
          "output_type": "stream",
          "name": "stdout",
          "text": [
            "7 ('A train in front of a large cruise ship.',)\n",
            "16 ('A person standing on a street with many birds.',)\n"
          ]
        },
        {
          "output_type": "stream",
          "name": "stderr",
          "text": [
            " 73%|███████▎  | 7289/10000 [03:40<01:20, 33.52it/s]"
          ]
        },
        {
          "output_type": "stream",
          "name": "stdout",
          "text": [
            "8 ('Kids waiting to buy ice cream from the ice cream truck.',)\n",
            "15 ('A cat standing on the ground by a bench.',)\n",
            "17 ('A cat standing on the ground by a bench.',)\n",
            "18 ('A large person sitting under a green umbrella holding a small dog.',)\n"
          ]
        },
        {
          "output_type": "stream",
          "name": "stderr",
          "text": [
            " 73%|███████▎  | 7297/10000 [03:40<01:19, 33.88it/s]"
          ]
        },
        {
          "output_type": "stream",
          "name": "stdout",
          "text": [
            "4 ('A couple of men riding on the back of motorcycles.',)\n",
            "4 ('A woman riding on the back of a motorcycle.',)\n",
            "19 ('A green pasture with zebras and horses walking together.',)\n"
          ]
        },
        {
          "output_type": "stream",
          "name": "stderr",
          "text": [
            " 73%|███████▎  | 7305/10000 [03:40<01:19, 34.08it/s]"
          ]
        },
        {
          "output_type": "stream",
          "name": "stdout",
          "text": [
            "9 ('Two boats floating along a lake surrounded by mountains.',)\n",
            "2 ('a man has a refrigerator on his three wheel bicycle',)\n",
            "15 ('Two teddy bears sit on a miniature bench next to a building.',)\n"
          ]
        },
        {
          "output_type": "stream",
          "name": "stderr",
          "text": [
            " 73%|███████▎  | 7313/10000 [03:41<01:22, 32.41it/s]"
          ]
        },
        {
          "output_type": "stream",
          "name": "stdout",
          "text": [
            "1 ('a person with a laptop and cat resting on their lap',)\n",
            "4 ('A man riding on the back of a motorcycle down a street.',)\n",
            "19 ('the child is sitting on a gentle horse posing for photo to be taken',)\n"
          ]
        },
        {
          "output_type": "stream",
          "name": "stderr",
          "text": [
            " 73%|███████▎  | 7325/10000 [03:41<01:19, 33.51it/s]"
          ]
        },
        {
          "output_type": "stream",
          "name": "stdout",
          "text": [
            "18 ('A dog looks up at a man eating food',)\n",
            "3 ('A teddy bear sits behind the front seat of a car.',)\n"
          ]
        },
        {
          "output_type": "stream",
          "name": "stderr",
          "text": [
            " 73%|███████▎  | 7337/10000 [03:41<01:19, 33.54it/s]"
          ]
        },
        {
          "output_type": "stream",
          "name": "stdout",
          "text": [
            "19 ('A man riding a horse drawn buggie through a city street.',)\n"
          ]
        },
        {
          "output_type": "stream",
          "name": "stderr",
          "text": [
            " 74%|███████▎  | 7353/10000 [03:42<01:21, 32.37it/s]"
          ]
        },
        {
          "output_type": "stream",
          "name": "stdout",
          "text": [
            "18 ('A tiny dog watches the world go by from the confines of a handbag.',)\n"
          ]
        },
        {
          "output_type": "stream",
          "name": "stderr",
          "text": [
            " 74%|███████▎  | 7361/10000 [03:42<01:21, 32.36it/s]"
          ]
        },
        {
          "output_type": "stream",
          "name": "stdout",
          "text": [
            "18 ('A man and a dog in the water with a surfboard.',)\n",
            "9 ('a number of people in a small boat',)\n",
            "10 ('A traffic light hanging from a street sign.',)\n",
            "2 ('A group of men that are standing next to dirtbikes.',)\n"
          ]
        },
        {
          "output_type": "stream",
          "name": "stderr",
          "text": [
            " 74%|███████▎  | 7369/10000 [03:42<01:20, 32.82it/s]"
          ]
        },
        {
          "output_type": "stream",
          "name": "stdout",
          "text": [
            "8 ('A large pick up truck in a grass field.',)\n",
            "19 ('A jockey in white and blue uniform on a horse.',)\n",
            "15 ('A young man skateboards while a group of other men sit on a park bench watching',)\n",
            "3 ('A cat laying under the exhaust pipe of a car.',)\n"
          ]
        },
        {
          "output_type": "stream",
          "name": "stderr",
          "text": [
            " 74%|███████▍  | 7377/10000 [03:43<01:23, 31.60it/s]"
          ]
        },
        {
          "output_type": "stream",
          "name": "stdout",
          "text": [
            "16 ('A flock of birds flying over a tree filled forest.',)\n"
          ]
        },
        {
          "output_type": "stream",
          "name": "stderr",
          "text": [
            " 74%|███████▍  | 7385/10000 [03:43<01:20, 32.65it/s]"
          ]
        },
        {
          "output_type": "stream",
          "name": "stdout",
          "text": [
            "19 ('Horse grazing in a field in front of a cascade of mountains.',)\n",
            "19 ('A man walking a horse outside of a rainforest.',)\n"
          ]
        },
        {
          "output_type": "stream",
          "name": "stderr",
          "text": [
            " 74%|███████▍  | 7393/10000 [03:43<01:19, 32.86it/s]"
          ]
        },
        {
          "output_type": "stream",
          "name": "stdout",
          "text": [
            "18 ('A dog with a plaid tie sitting on the floor near a chair.',)\n",
            "3 ('Railway tank cars in rural setting near grain silos on cloudy day.',)\n",
            "2 ('a man is riding on a bicycle outside',)\n",
            "19 ('A horse is eating grass near the water.',)\n"
          ]
        },
        {
          "output_type": "stream",
          "name": "stderr",
          "text": [
            " 74%|███████▍  | 7401/10000 [03:43<01:19, 32.75it/s]"
          ]
        },
        {
          "output_type": "stream",
          "name": "stdout",
          "text": [
            "11 ('Two small children stand near a fire hydrant.',)\n",
            "2 ('Dirt bike racing demands regular maintenance prior to a race.',)\n",
            "11 ('A photo of a silver and yellow fire hydrant.',)\n",
            "2 ('man at campsite with bicycles and picnic table nearby.',)\n"
          ]
        },
        {
          "output_type": "stream",
          "name": "stderr",
          "text": [
            " 74%|███████▍  | 7409/10000 [03:44<01:23, 31.00it/s]"
          ]
        },
        {
          "output_type": "stream",
          "name": "stdout",
          "text": [
            "18 ('A woman with a red polka dotted dress eating a hot dog.',)\n",
            "8 ('An old blue truck is parked near a tree with branches.',)\n",
            "2 ('A man riding a bike with a wagon attached to it.',)\n",
            "16 ('there is a cat that is playing with a bird toy',)\n",
            "17 ('there is a cat that is playing with a bird toy',)\n",
            "11 ('A red fire hydrant with a flat sticking out of it.',)\n"
          ]
        },
        {
          "output_type": "stream",
          "name": "stderr",
          "text": [
            " 74%|███████▍  | 7421/10000 [03:44<01:20, 32.05it/s]"
          ]
        },
        {
          "output_type": "stream",
          "name": "stdout",
          "text": [
            "1 ('a person behind two horses near water',)\n",
            "19 ('a person behind two horses near water',)\n",
            "1 ('A person on a snow board way up in the air.',)\n"
          ]
        },
        {
          "output_type": "stream",
          "name": "stderr",
          "text": [
            " 74%|███████▍  | 7433/10000 [03:44<01:21, 31.64it/s]"
          ]
        },
        {
          "output_type": "stream",
          "name": "stdout",
          "text": [
            "18 ('A lady flying a kite with a black dog nearby.',)\n",
            "15 ('A park bench that is sitting in the dirt.',)\n",
            "19 ('A man and a boy are pulling a horse and cart along a shore.',)\n",
            "15 ('a picnic bench on dirt ground near many tall trees',)\n"
          ]
        },
        {
          "output_type": "stream",
          "name": "stderr",
          "text": [
            " 75%|███████▍  | 7453/10000 [03:45<01:16, 33.17it/s]"
          ]
        },
        {
          "output_type": "stream",
          "name": "stdout",
          "text": [
            "14 ('An electronic parking meter in a city lot at night time',)\n",
            "3 ('A single train engine is traveling down the tracks, while a car is waiting.',)\n",
            "7 ('A single train engine is traveling down the tracks, while a car is waiting.',)\n"
          ]
        },
        {
          "output_type": "stream",
          "name": "stderr",
          "text": [
            " 75%|███████▍  | 7465/10000 [03:45<01:16, 33.25it/s]"
          ]
        },
        {
          "output_type": "stream",
          "name": "stdout",
          "text": [
            "3 ('A car driving down a street in front of buildings.',)\n",
            "15 ('Two benches sitting on a sidewalk next to the ocean.',)\n"
          ]
        },
        {
          "output_type": "stream",
          "name": "stderr",
          "text": [
            " 75%|███████▍  | 7473/10000 [03:46<01:20, 31.44it/s]"
          ]
        },
        {
          "output_type": "stream",
          "name": "stdout",
          "text": [
            "4 ('A man riding a motorcycle down a street next to a restaurant.',)\n",
            "18 ('A dog is sleeping beside a beer bottle.',)\n",
            "5 ('A plane that is on top of the water.',)\n",
            "3 ('the train has lots of cars on top of it',)\n"
          ]
        },
        {
          "output_type": "stream",
          "name": "stderr",
          "text": [
            " 75%|███████▍  | 7481/10000 [03:46<01:18, 32.19it/s]"
          ]
        },
        {
          "output_type": "stream",
          "name": "stdout",
          "text": [
            "4 ('A man in brown sitting on a motorcycle',)\n",
            "18 ('a woman and her dog on the sidewalk in the snow',)\n"
          ]
        },
        {
          "output_type": "stream",
          "name": "stderr",
          "text": [
            " 75%|███████▍  | 7493/10000 [03:46<01:17, 32.49it/s]"
          ]
        },
        {
          "output_type": "stream",
          "name": "stdout",
          "text": [
            "11 ('A green fire hydrant sits on a brick sidewalk with an old red church in the background.',)\n",
            "4 ('A man riding on the back of a motorcycle.',)\n",
            "4 (\"A woman rides on the back of a man's motorcycle.\",)\n",
            "16 ('A brown and white bird on a branch with sky in the background.',)\n"
          ]
        },
        {
          "output_type": "stream",
          "name": "stderr",
          "text": [
            " 75%|███████▌  | 7501/10000 [03:47<01:17, 32.34it/s]"
          ]
        },
        {
          "output_type": "stream",
          "name": "stdout",
          "text": [
            "3 ('A group of buildings in a street area with cars and trees.',)\n",
            "3 ('A window over looking a bunch of parked cars.',)\n"
          ]
        },
        {
          "output_type": "stream",
          "name": "stderr",
          "text": [
            " 75%|███████▌  | 7513/10000 [03:47<01:16, 32.69it/s]"
          ]
        },
        {
          "output_type": "stream",
          "name": "stdout",
          "text": [
            "1 ('a person jumping a skate board in the air',)\n",
            "1 ('A man in a mirror with a pile of personal items piled next to the mirror',)\n",
            "1 ('A dog looking on lying on a persons arm.',)\n",
            "18 ('A dog looking on lying on a persons arm.',)\n"
          ]
        },
        {
          "output_type": "stream",
          "name": "stderr",
          "text": [
            " 75%|███████▌  | 7521/10000 [03:47<01:17, 32.14it/s]"
          ]
        },
        {
          "output_type": "stream",
          "name": "stdout",
          "text": [
            "17 ('A longhaired cat with white paws, sitting on a chair.',)\n",
            "2 ('A woman riding past a group of bikes in the grass.',)\n",
            "18 ('A jockey with his horse and dog standing in a field.',)\n",
            "19 ('A jockey with his horse and dog standing in a field.',)\n"
          ]
        },
        {
          "output_type": "stream",
          "name": "stderr",
          "text": [
            " 75%|███████▌  | 7537/10000 [03:48<01:16, 32.18it/s]"
          ]
        },
        {
          "output_type": "stream",
          "name": "stdout",
          "text": [
            "18 ('A dog is making a crazy face at a cat.',)\n",
            "19 ('A man riding a horse drawn carriage in the sun',)\n",
            "17 ('A cat stares at a television, which is turned on.',)\n"
          ]
        },
        {
          "output_type": "stream",
          "name": "stderr",
          "text": [
            " 75%|███████▌  | 7545/10000 [03:48<01:17, 31.56it/s]"
          ]
        },
        {
          "output_type": "stream",
          "name": "stdout",
          "text": [
            "14 ('A parking meter sitting next to a parked car.',)\n",
            "16 ('Some very pretty birds on the rocks by the water.',)\n"
          ]
        },
        {
          "output_type": "stream",
          "name": "stderr",
          "text": [
            " 76%|███████▌  | 7553/10000 [03:48<01:16, 31.96it/s]"
          ]
        },
        {
          "output_type": "stream",
          "name": "stdout",
          "text": [
            "13 ('A painting of a police officer holding a stop sign.',)\n",
            "15 ('These two dogs sit on a bench together',)\n",
            "9 ('A family sitting around a table on a boat',)\n",
            "19 ('A group of four people riding horses across a dirt field.',)\n"
          ]
        },
        {
          "output_type": "stream",
          "name": "stderr",
          "text": [
            " 76%|███████▌  | 7561/10000 [03:48<01:13, 32.99it/s]"
          ]
        },
        {
          "output_type": "stream",
          "name": "stdout",
          "text": [
            "9 ('The water is very blue for a day of boating and surfboarding.',)\n"
          ]
        },
        {
          "output_type": "stream",
          "name": "stderr",
          "text": [
            " 76%|███████▌  | 7573/10000 [03:49<01:13, 32.92it/s]"
          ]
        },
        {
          "output_type": "stream",
          "name": "stdout",
          "text": [
            "3 ('Some nice cars parked near an auto dealer sign.',)\n",
            "15 ('A couple of women sitting on top of a bench next to a man.',)\n",
            "19 ('a horse is pulling a green and yellow carriage',)\n"
          ]
        },
        {
          "output_type": "stream",
          "name": "stderr",
          "text": [
            "\r 76%|███████▌  | 7577/10000 [03:49<01:16, 31.84it/s]"
          ]
        },
        {
          "output_type": "stream",
          "name": "stdout",
          "text": [
            "2 ('a man on a bike riding besides a bus',)\n",
            "8 ('FRUIT AND VEGETABLE TRUCK DISPLAYING EVERYTHING HE HAS',)\n",
            "18 ('Flock of white sheet being directed by dog and a fenced in area.',)\n",
            "5 ('The wing of an airplane outside of the planes window.',)\n",
            "4 ('People observing a display of a concept motorcycle.',)\n"
          ]
        },
        {
          "output_type": "stream",
          "name": "stderr",
          "text": [
            " 76%|███████▌  | 7589/10000 [03:49<01:13, 33.03it/s]"
          ]
        },
        {
          "output_type": "stream",
          "name": "stdout",
          "text": [
            "2 ('A bike rider is locking his bike to a road sign.',)\n"
          ]
        },
        {
          "output_type": "stream",
          "name": "stderr",
          "text": [
            "\r 76%|███████▌  | 7593/10000 [03:49<01:13, 32.60it/s]"
          ]
        },
        {
          "output_type": "stream",
          "name": "stdout",
          "text": [
            "9 ('Two ships side by side in the very choppy water.',)\n",
            "3 ('This old car cut off a bus as it pulled away from a stop',)\n",
            "6 ('This old car cut off a bus as it pulled away from a stop',)\n"
          ]
        },
        {
          "output_type": "stream",
          "name": "stderr",
          "text": [
            " 76%|███████▌  | 7605/10000 [03:50<01:14, 31.94it/s]"
          ]
        },
        {
          "output_type": "stream",
          "name": "stdout",
          "text": [
            "7 ('A subway train stopped at an elevated station.',)\n",
            "18 (\"A painting of a dog holding a dead duck in it's mouth.\",)\n",
            "6 ('A gray bus driving down a street next to a large white and green bus.',)\n",
            "18 ('A dog laying in the sun by a window',)\n"
          ]
        },
        {
          "output_type": "stream",
          "name": "stderr",
          "text": [
            " 76%|███████▌  | 7613/10000 [03:50<01:14, 31.85it/s]"
          ]
        },
        {
          "output_type": "stream",
          "name": "stdout",
          "text": [
            "13 ('A stop sign hangs near some cars and buildings',)\n",
            "18 ('A man wearing a red and black shirt holding a black dog.',)\n",
            "6 ('A grey bus on street next to a building and bridge.',)\n",
            "11 ('A yellow fire hydrant on the edge of a sidewalk.',)\n",
            "7 ('a train on an elevated train track wit ha tree in the foreground',)\n"
          ]
        },
        {
          "output_type": "stream",
          "name": "stderr",
          "text": [
            " 76%|███████▌  | 7621/10000 [03:50<01:16, 31.27it/s]"
          ]
        },
        {
          "output_type": "stream",
          "name": "stdout",
          "text": [
            "18 (\"A dog with it's face next to the screen of a MacBook computer.\",)\n",
            "8 ('The parking lot for the delivery trucks of the Hostess Bakery.',)\n",
            "17 ('A gray cat laying next to a bag of luggage.',)\n"
          ]
        },
        {
          "output_type": "stream",
          "name": "stderr",
          "text": [
            " 76%|███████▋  | 7633/10000 [03:51<01:15, 31.29it/s]"
          ]
        },
        {
          "output_type": "stream",
          "name": "stdout",
          "text": [
            "8 ('Three men on beach next to green utility truck.',)\n",
            "4 ('A man riding a motorcycle parked next to a gas pump.',)\n"
          ]
        },
        {
          "output_type": "stream",
          "name": "stderr",
          "text": [
            "\r 76%|███████▋  | 7637/10000 [03:51<01:15, 31.17it/s]"
          ]
        },
        {
          "output_type": "stream",
          "name": "stdout",
          "text": [
            "18 ('Small dog sitting in middle of bathroom floor next to tub.',)\n",
            "7 ('A large body of water with a train traveling past it.',)\n"
          ]
        },
        {
          "output_type": "stream",
          "name": "stderr",
          "text": [
            " 76%|███████▋  | 7649/10000 [03:51<01:16, 30.84it/s]"
          ]
        },
        {
          "output_type": "stream",
          "name": "stdout",
          "text": [
            "15 ('A group of seagulls by the water, with one standing on a bench.',)\n",
            "18 ('A man riding a motorcycle with a large dog on back of it.',)\n"
          ]
        },
        {
          "output_type": "stream",
          "name": "stderr",
          "text": [
            " 77%|███████▋  | 7657/10000 [03:52<01:12, 32.34it/s]"
          ]
        },
        {
          "output_type": "stream",
          "name": "stdout",
          "text": [
            "9 ('a boat on a body of water with a sky in the background',)\n",
            "15 ('A little girl sitting on top of a wooden bench.',)\n",
            "7 ('A picture showing a view from a train in the mountains.',)\n"
          ]
        },
        {
          "output_type": "stream",
          "name": "stderr",
          "text": [
            " 77%|███████▋  | 7665/10000 [03:52<01:11, 32.75it/s]"
          ]
        },
        {
          "output_type": "stream",
          "name": "stdout",
          "text": [
            "1 ('A person under a blanket plays with a phone.',)\n",
            "19 ('A brown and white horse is next to a bush.',)\n"
          ]
        },
        {
          "output_type": "stream",
          "name": "stderr",
          "text": [
            " 77%|███████▋  | 7673/10000 [03:52<01:12, 32.20it/s]"
          ]
        },
        {
          "output_type": "stream",
          "name": "stdout",
          "text": [
            "16 ('A brown bear standing in front of a body of water wear a rock and bird sit in the middle.',)\n",
            "15 ('A wooden bench sitting in a field with leaves.',)\n"
          ]
        },
        {
          "output_type": "stream",
          "name": "stderr",
          "text": [
            " 77%|███████▋  | 7681/10000 [03:52<01:10, 32.82it/s]"
          ]
        },
        {
          "output_type": "stream",
          "name": "stdout",
          "text": [
            "3 ('Annoyed cat standing on a car parked on a woodsy road.',)\n",
            "17 ('Annoyed cat standing on a car parked on a woodsy road.',)\n",
            "1 ('Person holding an umbrella crossing a city street in the rain.',)\n",
            "19 ('A horse standing next to a long fence.',)\n"
          ]
        },
        {
          "output_type": "stream",
          "name": "stderr",
          "text": [
            " 77%|███████▋  | 7689/10000 [03:52<01:09, 33.03it/s]"
          ]
        },
        {
          "output_type": "stream",
          "name": "stdout",
          "text": [
            "15 ('A black and white image of two guys sitting on the bench.',)\n"
          ]
        },
        {
          "output_type": "stream",
          "name": "stderr",
          "text": [
            " 77%|███████▋  | 7697/10000 [03:53<01:13, 31.23it/s]"
          ]
        },
        {
          "output_type": "stream",
          "name": "stdout",
          "text": [
            "1 ('A person walking away from the camera in a European city.',)\n"
          ]
        },
        {
          "output_type": "stream",
          "name": "stderr",
          "text": [
            " 77%|███████▋  | 7705/10000 [03:53<01:12, 31.59it/s]"
          ]
        },
        {
          "output_type": "stream",
          "name": "stdout",
          "text": [
            "14 ('A woman standing behind two expired parking meters.',)\n",
            "17 ('A black cat sitting in front of an Apple laptop.',)\n",
            "10 ('A road intersection with several traffic lights near some buildings.',)\n",
            "4 ('a red and black motorcycle parked in front of a house',)\n",
            "1 ('A person riding a wave on top of a boat.',)\n",
            "9 ('A person riding a wave on top of a boat.',)\n",
            "19 ('A couple of horses in a field at a ranch.',)\n"
          ]
        },
        {
          "output_type": "stream",
          "name": "stderr",
          "text": [
            " 77%|███████▋  | 7713/10000 [03:53<01:13, 31.06it/s]"
          ]
        },
        {
          "output_type": "stream",
          "name": "stdout",
          "text": [
            "18 ('A small dog walking down a sidewalk next to a tall building.',)\n",
            "16 ('two birds sitting on a fence with bushes behind them',)\n"
          ]
        },
        {
          "output_type": "stream",
          "name": "stderr",
          "text": [
            "\r 77%|███████▋  | 7717/10000 [03:53<01:16, 29.76it/s]"
          ]
        },
        {
          "output_type": "stream",
          "name": "stdout",
          "text": [
            "11 ('A fire hydrant looks old and rusty on the sidewalk.',)\n",
            "1 ('a person wearing pants and a jacket pulling luggage',)\n",
            "13 ('A bus waits to turn at a stop sign.',)\n",
            "11 ('A yellow and red fire hydrant in front of a black fence.',)\n"
          ]
        },
        {
          "output_type": "stream",
          "name": "stderr",
          "text": [
            " 77%|███████▋  | 7725/10000 [03:54<01:15, 30.13it/s]"
          ]
        },
        {
          "output_type": "stream",
          "name": "stdout",
          "text": [
            "1 ('A person feeding a kitten a bottle of milk.',)\n",
            "3 ('The large parking lot full of cars has a bridge running over it.',)\n"
          ]
        },
        {
          "output_type": "stream",
          "name": "stderr",
          "text": [
            " 77%|███████▋  | 7739/10000 [03:54<01:14, 30.52it/s]"
          ]
        },
        {
          "output_type": "stream",
          "name": "stdout",
          "text": [
            "18 ('A white dog is outdoors playing fetch with a Frisbee.',)\n",
            "15 ('A bench is chained to the building door.',)\n",
            "8 ('A white truck driving down a street next to a building.',)\n"
          ]
        },
        {
          "output_type": "stream",
          "name": "stderr",
          "text": [
            " 78%|███████▊  | 7751/10000 [03:55<01:08, 32.63it/s]"
          ]
        },
        {
          "output_type": "stream",
          "name": "stdout",
          "text": [
            "18 ('Whippet dog in a kitchen looking at an open toolbox.',)\n",
            "17 ('A multi colored cat with a lamb doll on its head',)\n",
            "11 ('A row of silver fire hydrants sitting in front of a store.',)\n",
            "13 ('A stop sign with a street sign mounted on the same pole.',)\n"
          ]
        },
        {
          "output_type": "stream",
          "name": "stderr",
          "text": [
            "\r 78%|███████▊  | 7755/10000 [03:55<01:09, 32.51it/s]"
          ]
        },
        {
          "output_type": "stream",
          "name": "stdout",
          "text": [
            "3 ('a couple of cars that are parked next to each other',)\n",
            "3 ('Two police motorcycles and a car in the background.',)\n",
            "4 ('Two police motorcycles and a car in the background.',)\n",
            "19 ('two horses standing in a field about to touch noses',)\n"
          ]
        },
        {
          "output_type": "stream",
          "name": "stderr",
          "text": [
            " 78%|███████▊  | 7767/10000 [03:55<01:14, 30.17it/s]"
          ]
        },
        {
          "output_type": "stream",
          "name": "stdout",
          "text": [
            "18 ('A horse walking next to a brown dog in a field.',)\n",
            "19 ('A horse walking next to a brown dog in a field.',)\n",
            "13 ('A railway crossing and Stop signs next to the city',)\n"
          ]
        },
        {
          "output_type": "stream",
          "name": "stderr",
          "text": [
            " 78%|███████▊  | 7775/10000 [03:55<01:08, 32.51it/s]"
          ]
        },
        {
          "output_type": "stream",
          "name": "stdout",
          "text": [
            "18 ('A big dog jumping very high in the air to catch something.',)\n"
          ]
        },
        {
          "output_type": "stream",
          "name": "stderr",
          "text": [
            " 78%|███████▊  | 7787/10000 [03:56<01:07, 32.67it/s]"
          ]
        },
        {
          "output_type": "stream",
          "name": "stdout",
          "text": [
            "17 ('Calico cat playing with a toy on the floor.',)\n",
            "9 ('A lot of ships that are on the side of a beach.',)\n",
            "13 ('A red stop sign sitting in the middle of a desert.',)\n"
          ]
        },
        {
          "output_type": "stream",
          "name": "stderr",
          "text": [
            " 78%|███████▊  | 7799/10000 [03:56<01:04, 34.12it/s]"
          ]
        },
        {
          "output_type": "stream",
          "name": "stdout",
          "text": [
            "18 ('Many people are sitting a bus with a dog upfront.',)\n",
            "19 ('A group of people standing near two horses that are attached to a plow on a farm setting.',)\n",
            "2 ('A car parking lot next to a bike parking lot',)\n"
          ]
        },
        {
          "output_type": "stream",
          "name": "stderr",
          "text": [
            "\r 78%|███████▊  | 7803/10000 [03:56<01:09, 31.68it/s]"
          ]
        },
        {
          "output_type": "stream",
          "name": "stdout",
          "text": [
            "18 (\"A large brown dog with a green parrot on its back laying in bed with it's parent.\",)\n",
            "18 ('A boy that is letting a dog like a spatula.',)\n",
            "8 ('Three firefighters on and around a fire truck spraying water.',)\n"
          ]
        },
        {
          "output_type": "stream",
          "name": "stderr",
          "text": [
            " 78%|███████▊  | 7815/10000 [03:56<01:05, 33.44it/s]"
          ]
        },
        {
          "output_type": "stream",
          "name": "stdout",
          "text": [
            "10 ('A tall building with a traffic light in front of it.',)\n"
          ]
        },
        {
          "output_type": "stream",
          "name": "stderr",
          "text": [
            " 78%|███████▊  | 7823/10000 [03:57<01:05, 33.37it/s]"
          ]
        },
        {
          "output_type": "stream",
          "name": "stdout",
          "text": [
            "9 ('A ocean filled with boats floating by a beach.',)\n",
            "15 ('A blue bench in front of yellow flowers in the garden and a pink house.',)\n",
            "14 ('A parking meter sitting next to a purple building.',)\n",
            "9 ('A sandy hill with seagulls, with two men and a boat at the top and blue clear sky.',)\n"
          ]
        },
        {
          "output_type": "stream",
          "name": "stderr",
          "text": [
            " 78%|███████▊  | 7831/10000 [03:57<01:04, 33.87it/s]"
          ]
        },
        {
          "output_type": "stream",
          "name": "stdout",
          "text": [
            "3 ('An orange and white rail car on a street.',)\n",
            "17 ('A cat is curled up on top of the keyboard of a working laptop.',)\n"
          ]
        },
        {
          "output_type": "stream",
          "name": "stderr",
          "text": [
            " 78%|███████▊  | 7839/10000 [03:57<01:05, 32.76it/s]"
          ]
        },
        {
          "output_type": "stream",
          "name": "stdout",
          "text": [
            "17 ('A cat laying on top of a laptop computer next to another cat.',)\n",
            "13 ('A red stop sign sitting on the side of a road.',)\n"
          ]
        },
        {
          "output_type": "stream",
          "name": "stderr",
          "text": [
            " 79%|███████▊  | 7855/10000 [03:58<01:03, 33.57it/s]"
          ]
        },
        {
          "output_type": "stream",
          "name": "stdout",
          "text": [
            "6 ('A large tour bus decorated with Coca-Cola logos.',)\n"
          ]
        },
        {
          "output_type": "stream",
          "name": "stderr",
          "text": [
            "\r 79%|███████▊  | 7859/10000 [03:58<01:04, 33.16it/s]"
          ]
        },
        {
          "output_type": "stream",
          "name": "stdout",
          "text": [
            "8 ('A truck parked on the beach next to the lifeguard station.',)\n",
            "3 ('A yellow engine car is coming down the tracks.',)\n"
          ]
        },
        {
          "output_type": "stream",
          "name": "stderr",
          "text": [
            " 79%|███████▊  | 7867/10000 [03:58<01:06, 32.05it/s]"
          ]
        },
        {
          "output_type": "stream",
          "name": "stdout",
          "text": [
            "8 ('A truck that is driving on the street.',)\n",
            "15 ('A bench sits in a field by the water while it is cloudy.',)\n"
          ]
        },
        {
          "output_type": "stream",
          "name": "stderr",
          "text": [
            " 79%|███████▉  | 7879/10000 [03:58<01:04, 32.84it/s]"
          ]
        },
        {
          "output_type": "stream",
          "name": "stdout",
          "text": [
            "18 ('A horse eats grass in a dry field next to a small dog also smelling or eating the grass.',)\n",
            "19 ('A horse eats grass in a dry field next to a small dog also smelling or eating the grass.',)\n",
            "11 ('A red fire hydrant sitting on top of a stone planter.',)\n"
          ]
        },
        {
          "output_type": "stream",
          "name": "stderr",
          "text": [
            " 79%|███████▉  | 7887/10000 [03:59<01:04, 32.60it/s]"
          ]
        },
        {
          "output_type": "stream",
          "name": "stdout",
          "text": [
            "2 ('A bicycle is parked near some antique luggage at a train station.',)\n",
            "7 ('A bicycle is parked near some antique luggage at a train station.',)\n",
            "17 ('A dollhouse room has a cat in a chair and two brown and white dogs sitting on a rug and a wooden staircase.',)\n"
          ]
        },
        {
          "output_type": "stream",
          "name": "stderr",
          "text": [
            " 79%|███████▉  | 7895/10000 [03:59<01:04, 32.50it/s]"
          ]
        },
        {
          "output_type": "stream",
          "name": "stdout",
          "text": [
            "15 ('A bench sitting on a grass covered park next to a tree.',)\n",
            "19 ('a close up of a horse jockey on a horse',)\n",
            "9 ('a photo of a dock housing a bunch of boats',)\n"
          ]
        },
        {
          "output_type": "stream",
          "name": "stderr",
          "text": [
            " 79%|███████▉  | 7903/10000 [03:59<01:10, 29.72it/s]"
          ]
        },
        {
          "output_type": "stream",
          "name": "stdout",
          "text": [
            "15 ('Two women are sitting on a bench talking',)\n"
          ]
        },
        {
          "output_type": "stream",
          "name": "stderr",
          "text": [
            " 79%|███████▉  | 7911/10000 [03:59<01:05, 31.69it/s]"
          ]
        },
        {
          "output_type": "stream",
          "name": "stdout",
          "text": [
            "4 ('A parked motorcycle siting next to a couple of trees.',)\n",
            "11 ('A red and white fire hydrant sitting next to a sidewalk.',)\n",
            "18 ('Someone dressed warmly holding an umbrella walking a dog in the snow.',)\n"
          ]
        },
        {
          "output_type": "stream",
          "name": "stderr",
          "text": [
            "\r 79%|███████▉  | 7915/10000 [04:00<01:06, 31.49it/s]"
          ]
        },
        {
          "output_type": "stream",
          "name": "stdout",
          "text": [
            "8 ('A black truck is parked in a parking lot.',)\n",
            "1 ('A cat sits behind a person on a green revolving chair.',)\n",
            "4 ('An office on a motor scooter in light traffic',)\n"
          ]
        },
        {
          "output_type": "stream",
          "name": "stderr",
          "text": [
            " 79%|███████▉  | 7923/10000 [04:00<01:05, 31.88it/s]"
          ]
        },
        {
          "output_type": "stream",
          "name": "stdout",
          "text": [
            "2 ('A man on a dirt bike on a dirt track.',)\n",
            "18 ('A man holding a hot dog and a beverage.',)\n",
            "16 ('Two pretty birds are perched on an old log.',)\n"
          ]
        },
        {
          "output_type": "stream",
          "name": "stderr",
          "text": [
            " 79%|███████▉  | 7939/10000 [04:00<01:04, 31.90it/s]"
          ]
        },
        {
          "output_type": "stream",
          "name": "stdout",
          "text": [
            "16 ('A black cat looking out the window at a black bird.',)\n",
            "18 ('this is a dog looking at the camera',)\n"
          ]
        },
        {
          "output_type": "stream",
          "name": "stderr",
          "text": [
            "\r 79%|███████▉  | 7943/10000 [04:00<01:05, 31.48it/s]"
          ]
        },
        {
          "output_type": "stream",
          "name": "stdout",
          "text": [
            "16 ('A black white and red bird perched on a bowl',)\n",
            "18 ('A small dog standing on top of a shoe.',)\n"
          ]
        },
        {
          "output_type": "stream",
          "name": "stderr",
          "text": [
            " 80%|███████▉  | 7955/10000 [04:01<01:04, 31.74it/s]"
          ]
        },
        {
          "output_type": "stream",
          "name": "stdout",
          "text": [
            "2 ('there is a tow truck that has a dirt bike on it',)\n",
            "8 ('there is a tow truck that has a dirt bike on it',)\n",
            "2 ('A school bus parked at the curb near some bikes.',)\n",
            "6 ('A school bus parked at the curb near some bikes.',)\n",
            "18 ('A small white dog standing on steps on the sunny day.',)\n"
          ]
        },
        {
          "output_type": "stream",
          "name": "stderr",
          "text": [
            " 80%|███████▉  | 7963/10000 [04:01<01:03, 32.05it/s]"
          ]
        },
        {
          "output_type": "stream",
          "name": "stdout",
          "text": [
            "1 ('a person in the reflection of a motorcycle mirror',)\n",
            "4 ('a person in the reflection of a motorcycle mirror',)\n",
            "19 ('A chestnut colored horse with a white star on his forehead and a black mane.',)\n"
          ]
        },
        {
          "output_type": "stream",
          "name": "stderr",
          "text": [
            " 80%|███████▉  | 7975/10000 [04:01<01:00, 33.20it/s]"
          ]
        },
        {
          "output_type": "stream",
          "name": "stdout",
          "text": [
            "11 ('A red and blue fire hydrant with a yellow chain.',)\n",
            "3 ('A vintage green compact sports car next to an airplane.',)\n",
            "5 ('A vintage green compact sports car next to an airplane.',)\n",
            "18 ('A man on a surfboard with his dog.',)\n",
            "11 ('The fire hydrant is by the wooden fence and trees.',)\n"
          ]
        },
        {
          "output_type": "stream",
          "name": "stderr",
          "text": [
            " 80%|███████▉  | 7983/10000 [04:02<00:59, 33.63it/s]"
          ]
        },
        {
          "output_type": "stream",
          "name": "stdout",
          "text": [
            "5 ('An airplane flying through the sky above a truck.',)\n",
            "8 ('An airplane flying through the sky above a truck.',)\n",
            "11 ('A couple of people walking down a side walk past a fire hydrant.',)\n"
          ]
        },
        {
          "output_type": "stream",
          "name": "stderr",
          "text": [
            " 80%|███████▉  | 7995/10000 [04:02<00:59, 33.48it/s]"
          ]
        },
        {
          "output_type": "stream",
          "name": "stdout",
          "text": [
            "16 ('A small bird sitting on top of a bunch of sticks.',)\n",
            "2 ('A woman riding a bike next to a stop sign.',)\n",
            "13 ('A woman riding a bike next to a stop sign.',)\n"
          ]
        },
        {
          "output_type": "stream",
          "name": "stderr",
          "text": [
            " 80%|████████  | 8011/10000 [04:03<00:59, 33.56it/s]"
          ]
        },
        {
          "output_type": "stream",
          "name": "stdout",
          "text": [
            "9 ('A man sanding next to a row boat sitting on a lake.',)\n"
          ]
        },
        {
          "output_type": "stream",
          "name": "stderr",
          "text": [
            " 80%|████████  | 8019/10000 [04:03<00:59, 33.19it/s]"
          ]
        },
        {
          "output_type": "stream",
          "name": "stdout",
          "text": [
            "15 ('this is a black and white photo of a barrel and a small bench',)\n",
            "8 ('Several fire trucks are lined up along a road.',)\n",
            "19 ('A man sits on a horse drawn carriage in front of a building with people sitting at tables outside.',)\n"
          ]
        },
        {
          "output_type": "stream",
          "name": "stderr",
          "text": [
            " 80%|████████  | 8027/10000 [04:03<00:58, 33.79it/s]"
          ]
        },
        {
          "output_type": "stream",
          "name": "stdout",
          "text": [
            "3 ('Skateboarder seen at an angle is in between some cars.',)\n"
          ]
        },
        {
          "output_type": "stream",
          "name": "stderr",
          "text": [
            " 80%|████████  | 8035/10000 [04:03<01:00, 32.59it/s]"
          ]
        },
        {
          "output_type": "stream",
          "name": "stdout",
          "text": [
            "7 ('The sun is setting as a train goes over a bridge.',)\n",
            "13 ('A red stop sign next to a busy street next to buildings.',)\n",
            "17 ('The cat is sitting in the bathroom sink.',)\n"
          ]
        },
        {
          "output_type": "stream",
          "name": "stderr",
          "text": [
            " 80%|████████  | 8043/10000 [04:04<00:58, 33.70it/s]"
          ]
        },
        {
          "output_type": "stream",
          "name": "stdout",
          "text": [
            "9 ('A boat filled with a life jacket on top of grass.',)\n"
          ]
        },
        {
          "output_type": "stream",
          "name": "stderr",
          "text": [
            " 81%|████████  | 8059/10000 [04:04<00:59, 32.66it/s]"
          ]
        },
        {
          "output_type": "stream",
          "name": "stdout",
          "text": [
            "18 ('A small pug dog wearing a life vest.',)\n",
            "17 ('A cat peering through the glass of a green door.',)\n"
          ]
        },
        {
          "output_type": "stream",
          "name": "stderr",
          "text": [
            " 81%|████████  | 8067/10000 [04:04<00:58, 32.82it/s]"
          ]
        },
        {
          "output_type": "stream",
          "name": "stdout",
          "text": [
            "6 ('A double decker bus driving under a bridge.',)\n",
            "18 ('A water bowl for a pet that has a dog sitting up with the bowl on his stomach as a holder.',)\n",
            "18 ('A woman standing behind an adorable little dog with die pink ears riding a pink surfboard.',)\n"
          ]
        },
        {
          "output_type": "stream",
          "name": "stderr",
          "text": [
            " 81%|████████  | 8083/10000 [04:05<00:56, 34.09it/s]"
          ]
        },
        {
          "output_type": "stream",
          "name": "stdout",
          "text": [
            "18 ('Man in a blue jacket with a dog on his shoulders.',)\n"
          ]
        },
        {
          "output_type": "stream",
          "name": "stderr",
          "text": [
            " 81%|████████  | 8091/10000 [04:05<00:56, 33.82it/s]"
          ]
        },
        {
          "output_type": "stream",
          "name": "stdout",
          "text": [
            "3 ('A women is sitting on a subway car with a bottle of water and no shoes.',)\n",
            "16 ('A bird with an orange front perched on a tree branch.',)\n"
          ]
        },
        {
          "output_type": "stream",
          "name": "stderr",
          "text": [
            " 81%|████████  | 8099/10000 [04:05<00:56, 33.73it/s]"
          ]
        },
        {
          "output_type": "stream",
          "name": "stdout",
          "text": [
            "3 ('A grey parking meter with a blue car in background.',)\n",
            "14 ('A grey parking meter with a blue car in background.',)\n",
            "2 ('A young woman in a blue dress standing in front of parked bicycles.',)\n",
            "18 ('A dog laying on top of a bed looking out a window.',)\n"
          ]
        },
        {
          "output_type": "stream",
          "name": "stderr",
          "text": [
            " 81%|████████  | 8111/10000 [04:06<00:59, 31.79it/s]"
          ]
        },
        {
          "output_type": "stream",
          "name": "stdout",
          "text": [
            "4 ('A red motorcycle that is parked on the sidewalk.',)\n",
            "18 (\"A dog and it's owner sitting in front of a desk.\",)\n",
            "9 ('Two boats docked on the beach on a cloudy day.',)\n"
          ]
        },
        {
          "output_type": "stream",
          "name": "stderr",
          "text": [
            " 81%|████████  | 8123/10000 [04:06<00:56, 33.32it/s]"
          ]
        },
        {
          "output_type": "stream",
          "name": "stdout",
          "text": [
            "3 ('A car driving down a street with a side view mirror.',)\n",
            "6 ('The blue bus has arrived and parked on the side.',)\n",
            "18 ('a dog walking the beach close to the water',)\n"
          ]
        },
        {
          "output_type": "stream",
          "name": "stderr",
          "text": [
            " 81%|████████▏ | 8139/10000 [04:06<00:55, 33.25it/s]"
          ]
        },
        {
          "output_type": "stream",
          "name": "stdout",
          "text": [
            "1 ('A white car on road passing by person on motorbike.',)\n",
            "4 ('A white car on road passing by person on motorbike.',)\n",
            "17 ('a black cat is hiding in a box with shoes',)\n"
          ]
        },
        {
          "output_type": "stream",
          "name": "stderr",
          "text": [
            " 81%|████████▏ | 8147/10000 [04:07<00:57, 31.99it/s]"
          ]
        },
        {
          "output_type": "stream",
          "name": "stdout",
          "text": [
            "2 ('a bicycle rider and many people walking among tall buildings',)\n"
          ]
        },
        {
          "output_type": "stream",
          "name": "stderr",
          "text": [
            " 82%|████████▏ | 8155/10000 [04:07<00:56, 32.39it/s]"
          ]
        },
        {
          "output_type": "stream",
          "name": "stdout",
          "text": [
            "17 ('The cat is sitting underneath the vehicle outside.',)\n",
            "18 ('Little dog laying on a pillow next to the laptop',)\n"
          ]
        },
        {
          "output_type": "stream",
          "name": "stderr",
          "text": [
            " 82%|████████▏ | 8163/10000 [04:07<00:55, 33.29it/s]"
          ]
        },
        {
          "output_type": "stream",
          "name": "stdout",
          "text": [
            "17 ('A woman sitting down on a porch while holding a black cat.',)\n",
            "1 ('A person that is looking at a fake elephant.',)\n",
            "16 ('this is a bird sitting on a table with food',)\n"
          ]
        },
        {
          "output_type": "stream",
          "name": "stderr",
          "text": [
            " 82%|████████▏ | 8171/10000 [04:07<00:56, 32.37it/s]"
          ]
        },
        {
          "output_type": "stream",
          "name": "stdout",
          "text": [
            "4 ('A red motorcycle parked next to a crowd of people.',)\n",
            "18 ('A large brown dog standing on the side of a small road.',)\n",
            "2 ('a biker sitting on his bike next to two bikes.',)\n"
          ]
        },
        {
          "output_type": "stream",
          "name": "stderr",
          "text": [
            " 82%|████████▏ | 8187/10000 [04:08<00:53, 33.94it/s]"
          ]
        },
        {
          "output_type": "stream",
          "name": "stdout",
          "text": [
            "9 ('A variety of boats parked near a dock by a city.',)\n",
            "15 ('A bird is sitting on top of a bench.',)\n",
            "16 ('A bird is sitting on top of a bench.',)\n"
          ]
        },
        {
          "output_type": "stream",
          "name": "stderr",
          "text": [
            " 82%|████████▏ | 8195/10000 [04:08<00:54, 33.33it/s]"
          ]
        },
        {
          "output_type": "stream",
          "name": "stdout",
          "text": [
            "18 ('a big dog standing and looking at a tv',)\n",
            "19 ('A train car sitting on the side of train tracks next to a hobo and a horse.',)\n"
          ]
        },
        {
          "output_type": "stream",
          "name": "stderr",
          "text": [
            " 82%|████████▏ | 8207/10000 [04:09<00:55, 32.34it/s]"
          ]
        },
        {
          "output_type": "stream",
          "name": "stdout",
          "text": [
            "11 ('Flowers are growing by a fire hydrant.',)\n",
            "11 ('fire hydrant shooting water at a green car',)\n"
          ]
        },
        {
          "output_type": "stream",
          "name": "stderr",
          "text": [
            " 82%|████████▏ | 8219/10000 [04:09<00:53, 33.35it/s]"
          ]
        },
        {
          "output_type": "stream",
          "name": "stdout",
          "text": [
            "8 ('A young dog walks around a truck bed while a man watches, drinking beer.',)\n",
            "18 ('A young dog walks around a truck bed while a man watches, drinking beer.',)\n",
            "8 ('A truck that is in the shape of a boat going down the road.',)\n",
            "9 ('A truck that is in the shape of a boat going down the road.',)\n",
            "13 ('The hand drawn stop sign says, Stop Harper.\"\"',)\n",
            "18 ('A brown dog laying on a red blanket on bed.',)\n"
          ]
        },
        {
          "output_type": "stream",
          "name": "stderr",
          "text": [
            "\r 82%|████████▏ | 8223/10000 [04:09<00:56, 31.26it/s]"
          ]
        },
        {
          "output_type": "stream",
          "name": "stdout",
          "text": [
            "3 ('a red and orange train engine and its brown cars',)\n",
            "19 ('A wild horse grazes at the edge of a forest river',)\n",
            "18 ('Now all these Frisbee throwers need is a dog.',)\n"
          ]
        },
        {
          "output_type": "stream",
          "name": "stderr",
          "text": [
            " 82%|████████▏ | 8231/10000 [04:09<00:55, 31.98it/s]"
          ]
        },
        {
          "output_type": "stream",
          "name": "stdout",
          "text": [
            "5 ('A small airplane next to a building with hanging cards.',)\n",
            "15 ('I SEE TWO WOMEN AND A BABY SITTING ON A BENCH.',)\n"
          ]
        },
        {
          "output_type": "stream",
          "name": "stderr",
          "text": [
            " 82%|████████▏ | 8243/10000 [04:10<00:52, 33.17it/s]"
          ]
        },
        {
          "output_type": "stream",
          "name": "stdout",
          "text": [
            "4 ('Motorcycles parked on a side walk across from a brick building.',)\n",
            "1 ('A person wearing a helmet and riding a motorcycle.',)\n",
            "15 ('A woman, a child and a dog sit on the grass in front of a bench.',)\n",
            "18 ('A woman, a child and a dog sit on the grass in front of a bench.',)\n",
            "3 ('Two trucks and a car on a busy urban street.',)\n",
            "8 ('Two trucks and a car on a busy urban street.',)\n"
          ]
        },
        {
          "output_type": "stream",
          "name": "stderr",
          "text": [
            " 83%|████████▎ | 8255/10000 [04:10<00:52, 33.12it/s]"
          ]
        },
        {
          "output_type": "stream",
          "name": "stdout",
          "text": [
            "16 ('A flock of birds sitting on top of a set of power lines.',)\n",
            "19 ('Jockeys on horses riding along a path through the forest.',)\n",
            "18 ('A small dog runs with a flying disc in his mouth.',)\n",
            "19 ('A brown horse grazing on grass in the middle of a pasture.',)\n",
            "13 ('A little girl holding a stop sign over her head',)\n"
          ]
        },
        {
          "output_type": "stream",
          "name": "stderr",
          "text": [
            " 83%|████████▎ | 8263/10000 [04:10<00:51, 33.64it/s]"
          ]
        },
        {
          "output_type": "stream",
          "name": "stdout",
          "text": [
            "11 ('The car is parked too close to the fire hydrant by the side of the road.',)\n"
          ]
        },
        {
          "output_type": "stream",
          "name": "stderr",
          "text": [
            " 83%|████████▎ | 8271/10000 [04:10<00:52, 33.13it/s]"
          ]
        },
        {
          "output_type": "stream",
          "name": "stdout",
          "text": [
            "10 ('A big collection of traffic lights are on display near a street.',)\n",
            "15 ('A BLACK AND WHITE PICTURE OF A MAN WAITING AT A BENCH',)\n",
            "11 ('Young girl blowing soap bubbles near fire hydrant.',)\n"
          ]
        },
        {
          "output_type": "stream",
          "name": "stderr",
          "text": [
            "\r 83%|████████▎ | 8275/10000 [04:11<00:53, 31.96it/s]"
          ]
        },
        {
          "output_type": "stream",
          "name": "stdout",
          "text": [
            "18 ('A man who is eating a hot dog.',)\n",
            "1 ('a giraffe extending its tongue next to a fence and a person holding food in their hand.',)\n",
            "5 ('A group of people putting a damaged airplane on the back of a truck.',)\n",
            "8 ('A group of people putting a damaged airplane on the back of a truck.',)\n",
            "16 ('A window sill with a red bird on the outside of window.',)\n"
          ]
        },
        {
          "output_type": "stream",
          "name": "stderr",
          "text": [
            " 83%|████████▎ | 8287/10000 [04:11<00:50, 33.63it/s]"
          ]
        },
        {
          "output_type": "stream",
          "name": "stdout",
          "text": [
            "13 ('Two stop signs stand at a pedestrian crossing.',)\n",
            "3 ('A woman walking away from a car holding an umbrella.',)\n"
          ]
        },
        {
          "output_type": "stream",
          "name": "stderr",
          "text": [
            " 83%|████████▎ | 8295/10000 [04:11<00:49, 34.32it/s]"
          ]
        },
        {
          "output_type": "stream",
          "name": "stdout",
          "text": [
            "17 ('A man cuddles a cat in a living room at Christmas time.',)\n",
            "6 ('Women in Muslim garb line up to board a bus.',)\n",
            "18 ('A dog with a hanging leash on the floor.',)\n"
          ]
        },
        {
          "output_type": "stream",
          "name": "stderr",
          "text": [
            " 83%|████████▎ | 8303/10000 [04:11<00:53, 31.78it/s]"
          ]
        },
        {
          "output_type": "stream",
          "name": "stdout",
          "text": [
            "8 ('The garbage truck is in the middle of the intersection.',)\n",
            "8 ('A couple of red trucks traveling down a  tunnel.',)\n",
            "2 ('A woman walking down the street in front of bikes.',)\n",
            "18 ('a black dog wearing a blue bag on each side',)\n"
          ]
        },
        {
          "output_type": "stream",
          "name": "stderr",
          "text": [
            " 83%|████████▎ | 8311/10000 [04:12<00:51, 32.88it/s]"
          ]
        },
        {
          "output_type": "stream",
          "name": "stdout",
          "text": [
            "18 ('there is a small white dog that is laying on a blanket',)\n",
            "17 ('A cat is playing on an outdoor chair in the daytime.',)\n",
            "2 ('this is a man riding a bike at a skate park',)\n"
          ]
        },
        {
          "output_type": "stream",
          "name": "stderr",
          "text": [
            " 83%|████████▎ | 8319/10000 [04:12<00:50, 33.06it/s]"
          ]
        },
        {
          "output_type": "stream",
          "name": "stdout",
          "text": [
            "3 ('A man who is walking towards a car in the snow.',)\n"
          ]
        },
        {
          "output_type": "stream",
          "name": "stderr",
          "text": [
            " 83%|████████▎ | 8331/10000 [04:12<00:50, 33.06it/s]"
          ]
        },
        {
          "output_type": "stream",
          "name": "stdout",
          "text": [
            "3 ('A train dining car has red small booths.',)\n",
            "7 ('A train dining car has red small booths.',)\n",
            "16 ('The handbags are displayed in large metal birdcages.',)\n"
          ]
        },
        {
          "output_type": "stream",
          "name": "stderr",
          "text": [
            " 83%|████████▎ | 8339/10000 [04:13<00:52, 31.85it/s]"
          ]
        },
        {
          "output_type": "stream",
          "name": "stdout",
          "text": [
            "9 ('hundreds of sail boats docked in the water',)\n",
            "16 ('A few birds sitting on a rock next to a lake.',)\n",
            "18 (\"A dog with it's paw on a remote control in a room with a television.\",)\n"
          ]
        },
        {
          "output_type": "stream",
          "name": "stderr",
          "text": [
            " 84%|████████▎ | 8351/10000 [04:13<00:50, 32.86it/s]"
          ]
        },
        {
          "output_type": "stream",
          "name": "stdout",
          "text": [
            "8 ('A large semi truck stopping at a customs border inspection booth.',)\n",
            "17 ('Apples and leaves on the ground with a cat in the background.',)\n",
            "18 ('An adorable dog and cat looking out the front door.',)\n"
          ]
        },
        {
          "output_type": "stream",
          "name": "stderr",
          "text": [
            " 84%|████████▎ | 8359/10000 [04:13<00:50, 32.51it/s]"
          ]
        },
        {
          "output_type": "stream",
          "name": "stdout",
          "text": [
            "19 ('Two horses walking and grazing in a green field.',)\n",
            "16 ('A double decker bus with bird decals is full of people.',)\n",
            "11 ('A red fire hydrant next to the woods.',)\n",
            "5 ('A man looking on as others sit in airplane seats.',)\n"
          ]
        },
        {
          "output_type": "stream",
          "name": "stderr",
          "text": [
            " 84%|████████▎ | 8367/10000 [04:13<00:49, 33.04it/s]"
          ]
        },
        {
          "output_type": "stream",
          "name": "stdout",
          "text": [
            "14 ('A street scene with focus on a parking meter.',)\n",
            "15 ('three older gentleman sit on a bench',)\n"
          ]
        },
        {
          "output_type": "stream",
          "name": "stderr",
          "text": [
            " 84%|████████▍ | 8375/10000 [04:14<00:49, 32.79it/s]"
          ]
        },
        {
          "output_type": "stream",
          "name": "stdout",
          "text": [
            "18 ('A dog digging through a blue bag for food.',)\n",
            "17 ('A cat reaches out while laying in wrinkled white sheets.',)\n"
          ]
        },
        {
          "output_type": "stream",
          "name": "stderr",
          "text": [
            " 84%|████████▍ | 8383/10000 [04:14<00:49, 32.49it/s]"
          ]
        },
        {
          "output_type": "stream",
          "name": "stdout",
          "text": [
            "7 ('A large long train on a steel track.',)\n",
            "6 ('a big bus that is parked in front of a building',)\n"
          ]
        },
        {
          "output_type": "stream",
          "name": "stderr",
          "text": [
            " 84%|████████▍ | 8395/10000 [04:14<00:51, 31.28it/s]"
          ]
        },
        {
          "output_type": "stream",
          "name": "stdout",
          "text": [
            "11 ('A green, yellow, and white fire hydrant on the side of the road.',)\n",
            "19 ('Two people riding their horses through the surf.',)\n"
          ]
        },
        {
          "output_type": "stream",
          "name": "stderr",
          "text": [
            " 84%|████████▍ | 8403/10000 [04:15<00:50, 31.34it/s]"
          ]
        },
        {
          "output_type": "stream",
          "name": "stdout",
          "text": [
            "9 ('A person and a dog on a small boat.',)\n",
            "18 ('A person and a dog on a small boat.',)\n",
            "9 ('A boat sailing in the water past tall buildings.',)\n",
            "18 ('An adorable dog lays behind plastic red chairs in a grass covered park next to a tree.',)\n",
            "16 ('A bird sits on a branch next to some fruit',)\n"
          ]
        },
        {
          "output_type": "stream",
          "name": "stderr",
          "text": [
            " 84%|████████▍ | 8411/10000 [04:15<00:50, 31.73it/s]"
          ]
        },
        {
          "output_type": "stream",
          "name": "stdout",
          "text": [
            "19 ('A man jumps onto the saddle of a moving horse.',)\n"
          ]
        },
        {
          "output_type": "stream",
          "name": "stderr",
          "text": [
            " 84%|████████▍ | 8427/10000 [04:15<00:48, 32.16it/s]"
          ]
        },
        {
          "output_type": "stream",
          "name": "stdout",
          "text": [
            "19 ('Three horses are in a pen and they are blind folded.',)\n",
            "2 ('A sign on a street post with a bicycle inside a circle.',)\n"
          ]
        },
        {
          "output_type": "stream",
          "name": "stderr",
          "text": [
            " 84%|████████▍ | 8435/10000 [04:16<00:51, 30.49it/s]"
          ]
        },
        {
          "output_type": "stream",
          "name": "stdout",
          "text": [
            "19 ('A few horses graze in a field out side',)\n",
            "16 ('Surfers in the waves in the background, and birds in the foreground on the beach.',)\n"
          ]
        },
        {
          "output_type": "stream",
          "name": "stderr",
          "text": [
            " 84%|████████▍ | 8443/10000 [04:16<00:49, 31.50it/s]"
          ]
        },
        {
          "output_type": "stream",
          "name": "stdout",
          "text": [
            "19 ('Three white horses in a lush green pasture.',)\n",
            "17 ('A cat is standing around looking in the living room.',)\n",
            "4 ('A group of people riding on the back of motorcycles.',)\n"
          ]
        },
        {
          "output_type": "stream",
          "name": "stderr",
          "text": [
            " 85%|████████▍ | 8451/10000 [04:16<00:48, 32.12it/s]"
          ]
        },
        {
          "output_type": "stream",
          "name": "stdout",
          "text": [
            "15 ('White park bench sitting in front of trees.',)\n",
            "18 ('A small brown and white bull dog standing over a frisbee in a park.',)\n",
            "8 ('A yellow dump truck parked alongside traffic cones.',)\n"
          ]
        },
        {
          "output_type": "stream",
          "name": "stderr",
          "text": [
            " 85%|████████▍ | 8467/10000 [04:17<00:45, 33.80it/s]"
          ]
        },
        {
          "output_type": "stream",
          "name": "stdout",
          "text": [
            "1 ('A fire hydrant has been painted like a person',)\n",
            "11 ('A fire hydrant has been painted like a person',)\n",
            "3 ('A cat sitting in a car looks to the back',)\n",
            "17 ('A cat sitting in a car looks to the back',)\n"
          ]
        },
        {
          "output_type": "stream",
          "name": "stderr",
          "text": [
            " 85%|████████▍ | 8475/10000 [04:17<00:46, 32.98it/s]"
          ]
        },
        {
          "output_type": "stream",
          "name": "stdout",
          "text": [
            "18 ('A man riding down the water in a canoe with his dog.',)\n",
            "1 ('a person laying on a bed with a good view of the outside',)\n"
          ]
        },
        {
          "output_type": "stream",
          "name": "stderr",
          "text": [
            " 85%|████████▍ | 8483/10000 [04:17<00:46, 32.92it/s]"
          ]
        },
        {
          "output_type": "stream",
          "name": "stdout",
          "text": [
            "19 ('A couple of dark horses walking on a lush green field.',)\n",
            "18 ('there is a sign that points to the dog run',)\n",
            "17 ('a cat sitting next to a bare window with its eyes closed.',)\n"
          ]
        },
        {
          "output_type": "stream",
          "name": "stderr",
          "text": [
            " 85%|████████▍ | 8499/10000 [04:18<00:44, 34.06it/s]"
          ]
        },
        {
          "output_type": "stream",
          "name": "stdout",
          "text": [
            "15 ('a black and white photo of a person sitting on a bench',)\n",
            "10 ('A pair of yellow boots hang from a traffic light above a Subway sandwich shop.',)\n",
            "3 ('A small black cat sitting on the window of a car.',)\n",
            "17 ('A small black cat sitting on the window of a car.',)\n"
          ]
        },
        {
          "output_type": "stream",
          "name": "stderr",
          "text": [
            " 85%|████████▌ | 8511/10000 [04:18<00:47, 31.61it/s]"
          ]
        },
        {
          "output_type": "stream",
          "name": "stdout",
          "text": [
            "2 ('A lady in a large hat riding a bike.',)\n",
            "2 ('A young boy standing next to an older boy near mini bikes.',)\n"
          ]
        },
        {
          "output_type": "stream",
          "name": "stderr",
          "text": [
            " 85%|████████▌ | 8519/10000 [04:18<00:46, 32.00it/s]"
          ]
        },
        {
          "output_type": "stream",
          "name": "stdout",
          "text": [
            "9 ('Several boats docked a t a floating dock at a marina.',)\n",
            "11 ('A green fire hydrant with white accents on a sidewalk.',)\n"
          ]
        },
        {
          "output_type": "stream",
          "name": "stderr",
          "text": [
            " 85%|████████▌ | 8535/10000 [04:19<00:45, 32.27it/s]"
          ]
        },
        {
          "output_type": "stream",
          "name": "stdout",
          "text": [
            "2 ('A bike that is leaning against a pole.',)\n",
            "7 ('A man sitting on a wooden bench near a train.',)\n",
            "15 ('A man sitting on a wooden bench near a train.',)\n"
          ]
        },
        {
          "output_type": "stream",
          "name": "stderr",
          "text": [
            "\r 85%|████████▌ | 8539/10000 [04:19<00:45, 32.17it/s]"
          ]
        },
        {
          "output_type": "stream",
          "name": "stdout",
          "text": [
            "8 ('an old truck in front of a wooden fence',)\n",
            "3 ('A woman stands in front of a moving truck with a car attached to the back for towing.',)\n",
            "8 ('A woman stands in front of a moving truck with a car attached to the back for towing.',)\n",
            "19 ('Two horses wearing coverings run in a dirt pen.',)\n"
          ]
        },
        {
          "output_type": "stream",
          "name": "stderr",
          "text": [
            " 86%|████████▌ | 8551/10000 [04:19<00:43, 33.08it/s]"
          ]
        },
        {
          "output_type": "stream",
          "name": "stdout",
          "text": [
            "4 ('A man riding on the back of a motor cycle.',)\n",
            "18 ('A large brown dog walking through a lush green field.',)\n"
          ]
        },
        {
          "output_type": "stream",
          "name": "stderr",
          "text": [
            " 86%|████████▌ | 8559/10000 [04:19<00:43, 33.17it/s]"
          ]
        },
        {
          "output_type": "stream",
          "name": "stdout",
          "text": [
            "2 ('A large group of people and bike on a road.',)\n",
            "3 ('Classic cars parked side by side on a green grass covered field.',)\n",
            "10 ('Traffic light hanging from the wire is telling traffic not no move',)\n"
          ]
        },
        {
          "output_type": "stream",
          "name": "stderr",
          "text": [
            " 86%|████████▌ | 8571/10000 [04:20<00:43, 32.61it/s]"
          ]
        },
        {
          "output_type": "stream",
          "name": "stdout",
          "text": [
            "3 ('A woman that is sitting down in a car looking in a side view mirror.',)\n",
            "1 ('red and white trains on the tracks, one person standing by',)\n",
            "18 ('a dog with a skate board in a field',)\n"
          ]
        },
        {
          "output_type": "stream",
          "name": "stderr",
          "text": [
            " 86%|████████▌ | 8587/10000 [04:20<00:42, 33.27it/s]"
          ]
        },
        {
          "output_type": "stream",
          "name": "stdout",
          "text": [
            "18 ('A brown and white dog on a skateboard on sidewalk.',)\n",
            "10 ('A traffic light hanging from the side of a pole.',)\n"
          ]
        },
        {
          "output_type": "stream",
          "name": "stderr",
          "text": [
            " 86%|████████▌ | 8595/10000 [04:21<00:42, 32.91it/s]"
          ]
        },
        {
          "output_type": "stream",
          "name": "stdout",
          "text": [
            "18 ('A black and white dog walking across a lush green field.',)\n",
            "16 ('High up on a mountain, a bird perched on a dead branch',)\n",
            "19 ('Brown horses standing in stalls on a farm.',)\n",
            "18 ('A black dog running on a field of snow.',)\n"
          ]
        },
        {
          "output_type": "stream",
          "name": "stderr",
          "text": [
            " 86%|████████▌ | 8603/10000 [04:21<00:43, 32.49it/s]"
          ]
        },
        {
          "output_type": "stream",
          "name": "stdout",
          "text": [
            "2 ('two people jumping dirt bikes near each other',)\n",
            "15 ('A group of people sitting on a bench on top of a pier.',)\n"
          ]
        },
        {
          "output_type": "stream",
          "name": "stderr",
          "text": [
            " 86%|████████▌ | 8611/10000 [04:21<00:42, 32.74it/s]"
          ]
        },
        {
          "output_type": "stream",
          "name": "stdout",
          "text": [
            "11 ('A woman bending over a red fire hydrant.',)\n",
            "9 ('A person traveling on a boat down a river.',)\n",
            "19 ('Two horses graze in a pasture in the setting sun.',)\n",
            "18 ('a wide eyed dog wearing a cap lays on a rug',)\n"
          ]
        },
        {
          "output_type": "stream",
          "name": "stderr",
          "text": [
            " 86%|████████▌ | 8619/10000 [04:21<00:44, 30.88it/s]"
          ]
        },
        {
          "output_type": "stream",
          "name": "stdout",
          "text": [
            "9 ('Several small boats parked along a river deck.',)\n",
            "13 ('A red stop sign sitting on the side of a road.',)\n",
            "13 ('A crushed up red stop sign sitting on the side of a road.',)\n"
          ]
        },
        {
          "output_type": "stream",
          "name": "stderr",
          "text": [
            " 86%|████████▋ | 8631/10000 [04:22<00:41, 33.08it/s]"
          ]
        },
        {
          "output_type": "stream",
          "name": "stdout",
          "text": [
            "10 ('A traffic light sitting in the middle of a dirt road.',)\n",
            "8 ('A large truck driving down an alley way near small building.',)\n",
            "15 ('Three people sit on a park bench surrounded by trees.',)\n"
          ]
        },
        {
          "output_type": "stream",
          "name": "stderr",
          "text": [
            " 86%|████████▋ | 8639/10000 [04:22<00:42, 31.94it/s]"
          ]
        },
        {
          "output_type": "stream",
          "name": "stdout",
          "text": [
            "18 ('A small black dog biting a mans shoes.',)\n",
            "18 ('A very long hot dog covered in ketchup and mustard.',)\n"
          ]
        },
        {
          "output_type": "stream",
          "name": "stderr",
          "text": [
            " 86%|████████▋ | 8647/10000 [04:22<00:44, 30.58it/s]"
          ]
        },
        {
          "output_type": "stream",
          "name": "stdout",
          "text": [
            "15 ('A child sits on the back of a bench.',)\n",
            "3 ('A car and a truck are going through the intersection.',)\n",
            "8 ('A car and a truck are going through the intersection.',)\n",
            "18 ('a dog yawning while laying down on the beach',)\n",
            "18 ('Cross country skier on trail with dog in tow at forested region.',)\n"
          ]
        },
        {
          "output_type": "stream",
          "name": "stderr",
          "text": [
            " 87%|████████▋ | 8659/10000 [04:23<00:40, 32.81it/s]"
          ]
        },
        {
          "output_type": "stream",
          "name": "stdout",
          "text": [
            "15 ('A sign with a dog that is on a bench.',)\n",
            "18 ('A sign with a dog that is on a bench.',)\n",
            "18 ('A person holds a hot dog on a piece of bread.',)\n",
            "3 ('A silver car parked in a shopping center parking lot.',)\n",
            "9 ('A woman sitting on the back of a boat next to a small dog.',)\n",
            "18 ('A woman sitting on the back of a boat next to a small dog.',)\n"
          ]
        },
        {
          "output_type": "stream",
          "name": "stderr",
          "text": [
            " 87%|████████▋ | 8671/10000 [04:23<00:43, 30.35it/s]"
          ]
        },
        {
          "output_type": "stream",
          "name": "stdout",
          "text": [
            "1 ('A PERSON IS SMILING N THE KITCEHN',)\n",
            "17 ('A gray cat sleeping on several pairs if shoes',)\n",
            "18 ('a big brown dog holding onto a frisbee in the snow',)\n"
          ]
        },
        {
          "output_type": "stream",
          "name": "stderr",
          "text": [
            " 87%|████████▋ | 8683/10000 [04:23<00:41, 31.60it/s]"
          ]
        },
        {
          "output_type": "stream",
          "name": "stdout",
          "text": [
            "17 ('A large gray dog sitting on top of a bed next to a cat.',)\n",
            "18 ('A large gray dog sitting on top of a bed next to a cat.',)\n",
            "9 ('A white boat docked to a very large rock.',)\n"
          ]
        },
        {
          "output_type": "stream",
          "name": "stderr",
          "text": [
            " 87%|████████▋ | 8691/10000 [04:24<00:40, 32.18it/s]"
          ]
        },
        {
          "output_type": "stream",
          "name": "stdout",
          "text": [
            "11 ('A blue and red fire hydrant is in the grass.',)\n",
            "2 ('A man with glasses sitting next to a bicycle using his phone.',)\n"
          ]
        },
        {
          "output_type": "stream",
          "name": "stderr",
          "text": [
            " 87%|████████▋ | 8699/10000 [04:24<00:40, 31.88it/s]"
          ]
        },
        {
          "output_type": "stream",
          "name": "stdout",
          "text": [
            "5 ('An airplane sitting next to a white building an oil tanker.',)\n",
            "17 ('A sheep chasing a cat through a flower and grass covered field.',)\n",
            "19 ('A crowd of people and a horse in walking through a street.',)\n",
            "2 ('People riding their bikes down the middle of the road.',)\n"
          ]
        },
        {
          "output_type": "stream",
          "name": "stderr",
          "text": [
            " 87%|████████▋ | 8707/10000 [04:24<00:42, 30.73it/s]"
          ]
        },
        {
          "output_type": "stream",
          "name": "stdout",
          "text": [
            "13 ('there is a stop sign that looks different from other stop signs',)\n",
            "4 ('The bearded face of a motorcycle rider in the side view mirror.',)\n",
            "17 ('A cat sits in a chair in front of a plate.',)\n",
            "3 ('A woman driving in a car holding a banana.',)\n",
            "1 ('A person in riding gear jumps over an obstacle while riding a horse.',)\n",
            "19 ('A person in riding gear jumps over an obstacle while riding a horse.',)\n"
          ]
        },
        {
          "output_type": "stream",
          "name": "stderr",
          "text": [
            " 87%|████████▋ | 8719/10000 [04:24<00:39, 32.78it/s]"
          ]
        },
        {
          "output_type": "stream",
          "name": "stdout",
          "text": [
            "18 ('A man laying in bed next to his dog.',)\n",
            "19 ('A small deer standing next to a small horse.',)\n",
            "15 ('Four women with tennis rackets are sitting on a bench.',)\n",
            "16 ('A bird on a sandy beach eating some meat.',)\n"
          ]
        },
        {
          "output_type": "stream",
          "name": "stderr",
          "text": [
            " 87%|████████▋ | 8727/10000 [04:25<00:37, 33.72it/s]"
          ]
        },
        {
          "output_type": "stream",
          "name": "stdout",
          "text": [
            "17 ('A cat looking worryingly sitting on some books.',)\n",
            "15 ('Two benches sit by the water at sunset.',)\n",
            "3 ('Red light at an intersection with cars at sunset.',)\n"
          ]
        },
        {
          "output_type": "stream",
          "name": "stderr",
          "text": [
            " 87%|████████▋ | 8735/10000 [04:25<00:40, 31.15it/s]"
          ]
        },
        {
          "output_type": "stream",
          "name": "stdout",
          "text": [
            "15 ('Park benches are facing a garden like area.',)\n",
            "18 ('A statue of a dog sitting behind glass.',)\n",
            "11 ('a side walk lined with grass on both side and a fire hydrant',)\n",
            "6 ('A double decker bus driving through the town.',)\n"
          ]
        },
        {
          "output_type": "stream",
          "name": "stderr",
          "text": [
            " 87%|████████▋ | 8747/10000 [04:25<00:37, 33.24it/s]"
          ]
        },
        {
          "output_type": "stream",
          "name": "stdout",
          "text": [
            "18 ('A hand holding up a hot dog in a bun with pickles.',)\n"
          ]
        },
        {
          "output_type": "stream",
          "name": "stderr",
          "text": [
            " 88%|████████▊ | 8755/10000 [04:26<00:38, 32.71it/s]"
          ]
        },
        {
          "output_type": "stream",
          "name": "stdout",
          "text": [
            "1 ('a person next to a bookshelf is using his laptop with a cat resting on him',)\n",
            "17 ('a person next to a bookshelf is using his laptop with a cat resting on him',)\n",
            "2 ('A bicycle that is being slowly covered over by some vines.',)\n",
            "16 ('Bird sitting on a box of notes atop a table of food.',)\n",
            "7 ('A train traveling along a bridge next to tall buildings.',)\n",
            "18 ('A black and white dog playing in the ocean foam.',)\n"
          ]
        },
        {
          "output_type": "stream",
          "name": "stderr",
          "text": [
            " 88%|████████▊ | 8763/10000 [04:26<00:37, 33.26it/s]"
          ]
        },
        {
          "output_type": "stream",
          "name": "stdout",
          "text": [
            "17 ('The cat is intently looking for its owner.',)\n",
            "2 ('Two people riding bicycles in the  city.',)\n",
            "16 ('A small bird walking across a grass covered field.',)\n"
          ]
        },
        {
          "output_type": "stream",
          "name": "stderr",
          "text": [
            " 88%|████████▊ | 8771/10000 [04:26<00:38, 32.28it/s]"
          ]
        },
        {
          "output_type": "stream",
          "name": "stdout",
          "text": [
            "15 ('BIRD SITTING UNDER A PARK BENCH LOOKING FOR SCRAPS OF FOOD',)\n",
            "16 ('BIRD SITTING UNDER A PARK BENCH LOOKING FOR SCRAPS OF FOOD',)\n",
            "13 ('A red stop sign covered in graffiti in front of a building.',)\n"
          ]
        },
        {
          "output_type": "stream",
          "name": "stderr",
          "text": [
            " 88%|████████▊ | 8779/10000 [04:26<00:36, 33.10it/s]"
          ]
        },
        {
          "output_type": "stream",
          "name": "stdout",
          "text": [
            "11 ('A blue and red fire hydrant sitting next to a street.',)\n",
            "6 ('A tall brick building next to a red bus.',)\n",
            "4 ('An old BMW motorcycle is strapped to a trailer.',)\n",
            "4 ('A chrome gas tank and front fender dress up this black motorcycle.',)\n"
          ]
        },
        {
          "output_type": "stream",
          "name": "stderr",
          "text": [
            " 88%|████████▊ | 8787/10000 [04:27<00:37, 32.38it/s]"
          ]
        },
        {
          "output_type": "stream",
          "name": "stdout",
          "text": [
            "8 ('A man with a beer riding on top of all his possessions in the back of a pickup truck',)\n",
            "9 ('an old photo os a small boat near a bigger boat in a large body of water',)\n"
          ]
        },
        {
          "output_type": "stream",
          "name": "stderr",
          "text": [
            " 88%|████████▊ | 8799/10000 [04:27<00:38, 31.53it/s]"
          ]
        },
        {
          "output_type": "stream",
          "name": "stdout",
          "text": [
            "17 ('A cat that is lying down on a couch.',)\n",
            "9 ('Two people sitting on the edge of the water looking out towards the ships.',)\n",
            "8 ('Three similar commercial trucks driving together down a road.',)\n",
            "19 ('A  man standing next to a horse in a corral.',)\n"
          ]
        },
        {
          "output_type": "stream",
          "name": "stderr",
          "text": [
            " 88%|████████▊ | 8807/10000 [04:27<00:36, 32.65it/s]"
          ]
        },
        {
          "output_type": "stream",
          "name": "stdout",
          "text": [
            "1 ('a person holding a luggage bag in front of a bus',)\n",
            "1 ('A person cutting a plant in half with a  knife.',)\n",
            "16 ('A green bird perches on a branch near a building with iron window covers.',)\n",
            "13 ('A graffiti-ed stop sign across the street from a red car',)\n",
            "17 ('A black cat sitting on top of a door with great concern.',)\n"
          ]
        },
        {
          "output_type": "stream",
          "name": "stderr",
          "text": [
            "\r 88%|████████▊ | 8811/10000 [04:27<00:37, 31.76it/s]"
          ]
        },
        {
          "output_type": "stream",
          "name": "stdout",
          "text": [
            "18 ('A dog looking through the glass of a window.',)\n",
            "8 ('A red and white truck parked in a parking space.',)\n",
            "13 ('A red stop sign underneath a green street sign next to a bush.',)\n",
            "1 ('A person walking down a lonely city street under high rise buiildings.',)\n"
          ]
        },
        {
          "output_type": "stream",
          "name": "stderr",
          "text": [
            " 88%|████████▊ | 8819/10000 [04:28<00:36, 32.50it/s]"
          ]
        },
        {
          "output_type": "stream",
          "name": "stdout",
          "text": [
            "13 ('A strange looking cloud formation just beyond the stop sign.',)\n",
            "14 ('A little girl feeding money into a parking meter.',)\n",
            "1 ('A person walking a dog on a leash down a street.',)\n",
            "18 ('A person walking a dog on a leash down a street.',)\n",
            "16 ('A hummingbird hovers near a bird feeder.',)\n"
          ]
        },
        {
          "output_type": "stream",
          "name": "stderr",
          "text": [
            " 88%|████████▊ | 8827/10000 [04:28<00:37, 31.60it/s]"
          ]
        },
        {
          "output_type": "stream",
          "name": "stdout",
          "text": [
            "16 ('A black and white bird flying next to a table umbrella.',)\n",
            "9 ('A dock filled with many boats in the setting sun.',)\n",
            "4 ('A woman driving a Indian classic motorcycle.',)\n"
          ]
        },
        {
          "output_type": "stream",
          "name": "stderr",
          "text": [
            " 88%|████████▊ | 8835/10000 [04:28<00:38, 30.20it/s]"
          ]
        },
        {
          "output_type": "stream",
          "name": "stdout",
          "text": [
            "8 ('A beautiful woman sitting on the back of a moving truck while clutching her dog.',)\n",
            "18 ('A beautiful woman sitting on the back of a moving truck while clutching her dog.',)\n",
            "17 ('this is an image of a cat on a tv',)\n",
            "16 ('A cat sitting on top of a window sill next to a bird.',)\n",
            "3 ('An large train pulling many cars of green containers.',)\n",
            "8 ('Two large yellow dump trucks driving down a dirt hill.',)\n"
          ]
        },
        {
          "output_type": "stream",
          "name": "stderr",
          "text": [
            " 88%|████████▊ | 8847/10000 [04:28<00:39, 28.97it/s]"
          ]
        },
        {
          "output_type": "stream",
          "name": "stdout",
          "text": [
            "16 ('Two very big birds fighting in a grassy field.',)\n",
            "9 ('A black dog sitting on top of a boat.',)\n",
            "18 ('A black dog sitting on top of a boat.',)\n"
          ]
        },
        {
          "output_type": "stream",
          "name": "stderr",
          "text": [
            " 89%|████████▊ | 8854/10000 [04:29<00:38, 30.13it/s]"
          ]
        },
        {
          "output_type": "stream",
          "name": "stdout",
          "text": [
            "13 ('A neighborhood stop sign with a protest sticker on it.',)\n",
            "8 ('Busy street intersection with cars, trucks and traffic lights.',)\n",
            "10 ('Busy street intersection with cars, trucks and traffic lights.',)\n"
          ]
        },
        {
          "output_type": "stream",
          "name": "stderr",
          "text": [
            "\r 89%|████████▊ | 8858/10000 [04:29<00:38, 29.97it/s]"
          ]
        },
        {
          "output_type": "stream",
          "name": "stdout",
          "text": [
            "19 ('A man stands on the back of a horse near a wooden fence.',)\n"
          ]
        },
        {
          "output_type": "stream",
          "name": "stderr",
          "text": [
            " 89%|████████▊ | 8874/10000 [04:29<00:36, 30.80it/s]"
          ]
        },
        {
          "output_type": "stream",
          "name": "stdout",
          "text": [
            "18 ('A black dog carrying a frisbee in its mouth',)\n",
            "17 ('A parked moped with a cat sitting on the moped seat',)\n"
          ]
        },
        {
          "output_type": "stream",
          "name": "stderr",
          "text": [
            " 89%|████████▉ | 8882/10000 [04:30<00:35, 31.77it/s]"
          ]
        },
        {
          "output_type": "stream",
          "name": "stdout",
          "text": [
            "10 ('A traffic light sitting next to a tall building.',)\n",
            "9 ('A group of three boats floating along  a river near a shore',)\n",
            "15 ('A man shears a sheep in a shed as another man works at a bench.',)\n"
          ]
        },
        {
          "output_type": "stream",
          "name": "stderr",
          "text": [
            " 89%|████████▉ | 8902/10000 [04:30<00:33, 33.26it/s]"
          ]
        },
        {
          "output_type": "stream",
          "name": "stdout",
          "text": [
            "3 ('A dog sitting in the drivers seat of a car.',)\n",
            "18 ('A dog sitting in the drivers seat of a car.',)\n",
            "6 ('A antique doubledecker bus and a man standing outside of it.',)\n"
          ]
        },
        {
          "output_type": "stream",
          "name": "stderr",
          "text": [
            " 89%|████████▉ | 8910/10000 [04:30<00:33, 32.33it/s]"
          ]
        },
        {
          "output_type": "stream",
          "name": "stdout",
          "text": [
            "18 ('A small dog in a little rolling back pack',)\n"
          ]
        },
        {
          "output_type": "stream",
          "name": "stderr",
          "text": [
            "\r 89%|████████▉ | 8914/10000 [04:31<00:34, 31.91it/s]"
          ]
        },
        {
          "output_type": "stream",
          "name": "stdout",
          "text": [
            "2 ('a man is delivering some food on his bicycle and a blue car',)\n",
            "16 ('A bird perched on a glass of water in front of a computer',)\n"
          ]
        },
        {
          "output_type": "stream",
          "name": "stderr",
          "text": [
            " 89%|████████▉ | 8926/10000 [04:31<00:33, 31.81it/s]"
          ]
        },
        {
          "output_type": "stream",
          "name": "stdout",
          "text": [
            "9 ('A couple of boats floating along a river.',)\n"
          ]
        },
        {
          "output_type": "stream",
          "name": "stderr",
          "text": [
            " 89%|████████▉ | 8934/10000 [04:31<00:33, 31.47it/s]"
          ]
        },
        {
          "output_type": "stream",
          "name": "stdout",
          "text": [
            "4 ('Some motorcycles are seen near a telegraph pole.',)\n"
          ]
        },
        {
          "output_type": "stream",
          "name": "stderr",
          "text": [
            " 89%|████████▉ | 8942/10000 [04:31<00:32, 32.55it/s]"
          ]
        },
        {
          "output_type": "stream",
          "name": "stdout",
          "text": [
            "4 ('A man standing next to a parked motorcycle.',)\n",
            "18 ('A person on a longboard with a dog on a road.',)\n",
            "15 ('a couple of women sitting on a bench',)\n",
            "11 ('A fire hydrant sitting on a sidewalk near mail boxes.',)\n"
          ]
        },
        {
          "output_type": "stream",
          "name": "stderr",
          "text": [
            " 90%|████████▉ | 8954/10000 [04:32<00:31, 32.70it/s]"
          ]
        },
        {
          "output_type": "stream",
          "name": "stdout",
          "text": [
            "8 ('A young girl siting in the back of a red truck.',)\n",
            "2 ('Spectators watching people participate in a nude bike ride.',)\n",
            "2 ('A group of hipsters riding animal bikes across a parking lot.',)\n",
            "15 ('Two elderly women sitting on a green bench together at a park.',)\n"
          ]
        },
        {
          "output_type": "stream",
          "name": "stderr",
          "text": [
            " 90%|████████▉ | 8962/10000 [04:32<00:32, 31.49it/s]"
          ]
        },
        {
          "output_type": "stream",
          "name": "stdout",
          "text": [
            "18 ('a black dog standing on top of a rug.',)\n",
            "10 ('A traffic light hanging over a city street.',)\n",
            "17 ('a close up ofa cat laying on an open bag of luggage',)\n",
            "16 ('A bird perched on a wooden table on a patio.',)\n",
            "1 ('a close up of a person sitting on a couch with a banana',)\n"
          ]
        },
        {
          "output_type": "stream",
          "name": "stderr",
          "text": [
            "\r 90%|████████▉ | 8966/10000 [04:32<00:32, 31.97it/s]"
          ]
        },
        {
          "output_type": "stream",
          "name": "stdout",
          "text": [
            "2 ('A man riding a bike down a roadway, pulling a little cart.',)\n",
            "7 ('A black and white  photo of a railroad train',)\n",
            "8 ('A white and red firetruck is parked in a parking lot.',)\n"
          ]
        },
        {
          "output_type": "stream",
          "name": "stderr",
          "text": [
            " 90%|████████▉ | 8974/10000 [04:32<00:31, 32.06it/s]"
          ]
        },
        {
          "output_type": "stream",
          "name": "stdout",
          "text": [
            "19 ('Several horses are huddled closely in front of a mountain range.',)\n",
            "15 ('a bunch of flowers next to a park bench',)\n",
            "1 (\"A person in an airplane that's sitting on a tarmac.\",)\n",
            "1 ('A person on a snowboard is standing on the snow covered ground.',)\n",
            "16 ('a bird flying in the air near a body of water',)\n"
          ]
        },
        {
          "output_type": "stream",
          "name": "stderr",
          "text": [
            " 90%|████████▉ | 8986/10000 [04:33<00:31, 32.60it/s]"
          ]
        },
        {
          "output_type": "stream",
          "name": "stdout",
          "text": [
            "17 ('a cat sitting on a laptop keyboard',)\n",
            "19 ('A group of men riding horses in front of a two story building.',)\n",
            "1 ('A stylish person stands in front of a parking meter.',)\n",
            "14 ('A stylish person stands in front of a parking meter.',)\n"
          ]
        },
        {
          "output_type": "stream",
          "name": "stderr",
          "text": [
            " 90%|████████▉ | 8994/10000 [04:33<00:33, 30.37it/s]"
          ]
        },
        {
          "output_type": "stream",
          "name": "stdout",
          "text": [
            "18 (\"A dog holding a frisbee in it's mouth while in a grass and dirt field.\",)\n",
            "9 ('A man sitting on top of a wooden bench near parked boats.',)\n",
            "15 ('A man sitting on top of a wooden bench near parked boats.',)\n",
            "6 ('A group of transit buses crossing a street.',)\n",
            "16 ('A puddle of water filled with little birds.',)\n"
          ]
        },
        {
          "output_type": "stream",
          "name": "stderr",
          "text": [
            " 90%|█████████ | 9006/10000 [04:33<00:30, 32.51it/s]"
          ]
        },
        {
          "output_type": "stream",
          "name": "stdout",
          "text": [
            "9 ('A boat floating next to a harbor under a foggy sky.',)\n",
            "19 ('A woman standing next to a brown horse.',)\n",
            "16 ('A blue and gray bird perched on top of a wooden post.',)\n",
            "16 ('A bird standing on a rock in the sea.',)\n"
          ]
        },
        {
          "output_type": "stream",
          "name": "stderr",
          "text": [
            " 90%|█████████ | 9014/10000 [04:34<00:29, 32.99it/s]"
          ]
        },
        {
          "output_type": "stream",
          "name": "stdout",
          "text": [
            "16 ('A shore is littered with a few birds as the ocean sits in the distance.',)\n",
            "15 ('A man and woman seated on a bench with a dog on the pavement',)\n",
            "18 ('A man and woman seated on a bench with a dog on the pavement',)\n"
          ]
        },
        {
          "output_type": "stream",
          "name": "stderr",
          "text": [
            " 90%|█████████ | 9026/10000 [04:34<00:29, 32.58it/s]"
          ]
        },
        {
          "output_type": "stream",
          "name": "stdout",
          "text": [
            "8 ('A line of people going up to a food truck.',)\n",
            "10 ('a street sign next to a traffic light with a sky background',)\n"
          ]
        },
        {
          "output_type": "stream",
          "name": "stderr",
          "text": [
            " 90%|█████████ | 9038/10000 [04:34<00:28, 33.47it/s]"
          ]
        },
        {
          "output_type": "stream",
          "name": "stdout",
          "text": [
            "1 ('A person  bending over putting their hand into a sink.',)\n",
            "3 ('A couple of cars are on a very slushy road.',)\n"
          ]
        },
        {
          "output_type": "stream",
          "name": "stderr",
          "text": [
            " 90%|█████████ | 9050/10000 [04:35<00:28, 33.28it/s]"
          ]
        },
        {
          "output_type": "stream",
          "name": "stdout",
          "text": [
            "15 ('A man with a large dog sitting on a park bench.',)\n",
            "18 ('A man with a large dog sitting on a park bench.',)\n",
            "18 ('A cat asleep on a couch next to a dog under a cover.',)\n"
          ]
        },
        {
          "output_type": "stream",
          "name": "stderr",
          "text": [
            " 91%|█████████ | 9058/10000 [04:35<00:28, 32.85it/s]"
          ]
        },
        {
          "output_type": "stream",
          "name": "stdout",
          "text": [
            "15 ('A man sitting on a red bench next to luggage.',)\n",
            "9 ('a person riding a surf board behind a boat',)\n",
            "19 ('a herd of horses running toward a crowd of people',)\n"
          ]
        },
        {
          "output_type": "stream",
          "name": "stderr",
          "text": [
            " 91%|█████████ | 9066/10000 [04:35<00:28, 32.89it/s]"
          ]
        },
        {
          "output_type": "stream",
          "name": "stdout",
          "text": [
            "4 ('A busy city street has pedestrians and motor traffic.',)\n",
            "8 ('A large truck driving down a busy street filled with traffic.',)\n",
            "18 ('A boy getting ready to throw a frisbee into the water with a dog ready to retrieve it',)\n"
          ]
        },
        {
          "output_type": "stream",
          "name": "stderr",
          "text": [
            " 91%|█████████ | 9074/10000 [04:36<00:28, 32.71it/s]"
          ]
        },
        {
          "output_type": "stream",
          "name": "stdout",
          "text": [
            "14 ('A parking meter next to a sidewalk in a parking lot.',)\n",
            "4 ('an orange and black motorcycle parked in a field',)\n",
            "13 ('All you can see in the image is a stop sign and tree.',)\n"
          ]
        },
        {
          "output_type": "stream",
          "name": "stderr",
          "text": [
            " 91%|█████████ | 9082/10000 [04:36<00:28, 32.15it/s]"
          ]
        },
        {
          "output_type": "stream",
          "name": "stdout",
          "text": [
            "17 ('A cat that is resting its head on a shoe.',)\n",
            "2 ('A brown dog in a room with a bicycle and glass doors.',)\n",
            "18 ('A brown dog in a room with a bicycle and glass doors.',)\n",
            "15 ('Two small teddy bears sitting on a  bench',)\n"
          ]
        },
        {
          "output_type": "stream",
          "name": "stderr",
          "text": [
            " 91%|█████████ | 9094/10000 [04:36<00:28, 31.77it/s]"
          ]
        },
        {
          "output_type": "stream",
          "name": "stdout",
          "text": [
            "17 ('a cat sitting on a hand bag on a wooden table',)\n",
            "17 ('Curious cat in a home hallway with a background of packed belongings.',)\n",
            "10 ('A traffic light and sign outside of a skyscraper.',)\n"
          ]
        },
        {
          "output_type": "stream",
          "name": "stderr",
          "text": [
            " 91%|█████████ | 9106/10000 [04:37<00:26, 33.51it/s]"
          ]
        },
        {
          "output_type": "stream",
          "name": "stdout",
          "text": [
            "19 ('A horse sticking its head out of a vehicle.',)\n",
            "1 ('A person and a cow on a field.',)\n"
          ]
        },
        {
          "output_type": "stream",
          "name": "stderr",
          "text": [
            " 91%|█████████ | 9118/10000 [04:37<00:25, 34.02it/s]"
          ]
        },
        {
          "output_type": "stream",
          "name": "stdout",
          "text": [
            "4 ('Motorcycle police are on large bikes in a crowd of people.',)\n",
            "13 ('A man hanging sideways from a stop sign.',)\n",
            "1 ('A person holding their hand up to a horse.',)\n",
            "19 ('A person holding their hand up to a horse.',)\n",
            "18 ('A black and white dog walking down a  sidewalk.',)\n"
          ]
        },
        {
          "output_type": "stream",
          "name": "stderr",
          "text": [
            " 91%|█████████▏| 9126/10000 [04:37<00:26, 32.95it/s]"
          ]
        },
        {
          "output_type": "stream",
          "name": "stdout",
          "text": [
            "1 ('The person is texting while they are waiting for their train to arrifve.',)\n"
          ]
        },
        {
          "output_type": "stream",
          "name": "stderr",
          "text": [
            " 91%|█████████▏| 9134/10000 [04:37<00:26, 33.26it/s]"
          ]
        },
        {
          "output_type": "stream",
          "name": "stdout",
          "text": [
            "2 ('Man with umbrella walking a bicycle on a side street.',)\n",
            "13 ('A stop sign is standing next to a tree covered in snow.',)\n",
            "18 ('A woman laying in bed with a large gray dog.',)\n",
            "15 ('Two people sitting on a bench near a tree and water.',)\n"
          ]
        },
        {
          "output_type": "stream",
          "name": "stderr",
          "text": [
            " 91%|█████████▏| 9146/10000 [04:38<00:25, 32.93it/s]"
          ]
        },
        {
          "output_type": "stream",
          "name": "stdout",
          "text": [
            "13 ('A red stop sign sitting next to a wooden electrical pole.',)\n",
            "18 ('a brown and white dog lying on sand and some trees',)\n",
            "4 ('two motorcycles with sidecars driving down the road',)\n",
            "3 ('a red car being transported on top of a boat',)\n",
            "9 ('a red car being transported on top of a boat',)\n"
          ]
        },
        {
          "output_type": "stream",
          "name": "stderr",
          "text": [
            " 92%|█████████▏| 9154/10000 [04:38<00:27, 31.22it/s]"
          ]
        },
        {
          "output_type": "stream",
          "name": "stdout",
          "text": [
            "18 ('A picture of a dog holding a frisbee in the mouth.',)\n"
          ]
        },
        {
          "output_type": "stream",
          "name": "stderr",
          "text": [
            " 92%|█████████▏| 9162/10000 [04:38<00:26, 31.04it/s]"
          ]
        },
        {
          "output_type": "stream",
          "name": "stdout",
          "text": [
            "17 ('A fluffy cat laying on a red leather chair with an ottoman.',)\n",
            "7 (\"A red train's smoke is bellowing from it's engine.\",)\n"
          ]
        },
        {
          "output_type": "stream",
          "name": "stderr",
          "text": [
            " 92%|█████████▏| 9174/10000 [04:39<00:25, 32.56it/s]"
          ]
        },
        {
          "output_type": "stream",
          "name": "stdout",
          "text": [
            "4 ('A man riding a motorcycle parked on a dirty road in front of a stone wall.',)\n",
            "5 ('A sky view of a jumbo jet plane flying into the clouds.',)\n",
            "4 ('A red motorcycle parked in front of a red car.',)\n",
            "4 ('A motorcycle parked in front of two garage doors.',)\n"
          ]
        },
        {
          "output_type": "stream",
          "name": "stderr",
          "text": [
            " 92%|█████████▏| 9186/10000 [04:39<00:24, 33.51it/s]"
          ]
        },
        {
          "output_type": "stream",
          "name": "stdout",
          "text": [
            "9 ('A small red boat floating on a body of water.',)\n"
          ]
        },
        {
          "output_type": "stream",
          "name": "stderr",
          "text": [
            " 92%|█████████▏| 9194/10000 [04:39<00:24, 32.43it/s]"
          ]
        },
        {
          "output_type": "stream",
          "name": "stdout",
          "text": [
            "15 ('A bench sitting on a hill by some laundry on a clothes line.',)\n",
            "6 ('A black bus on street with flags and buildings in background.',)\n",
            "1 ('A person that is eating some food in her mouth.',)\n",
            "19 ('A man riding on the back of a horse next to two elephants.',)\n"
          ]
        },
        {
          "output_type": "stream",
          "name": "stderr",
          "text": [
            " 92%|█████████▏| 9206/10000 [04:40<00:25, 31.08it/s]"
          ]
        },
        {
          "output_type": "stream",
          "name": "stdout",
          "text": [
            "1 ('A person on a motorcycle racing on a road.with one wheel slightly in the air',)\n",
            "4 ('A person on a motorcycle racing on a road.with one wheel slightly in the air',)\n"
          ]
        },
        {
          "output_type": "stream",
          "name": "stderr",
          "text": [
            " 92%|█████████▏| 9218/10000 [04:40<00:23, 32.84it/s]"
          ]
        },
        {
          "output_type": "stream",
          "name": "stdout",
          "text": [
            "7 ('A boy looks up at a train cake on a counter.',)\n",
            "18 ('A dog and stuffed teddy bear in a pen',)\n"
          ]
        },
        {
          "output_type": "stream",
          "name": "stderr",
          "text": [
            " 92%|█████████▏| 9226/10000 [04:40<00:24, 31.75it/s]"
          ]
        },
        {
          "output_type": "stream",
          "name": "stdout",
          "text": [
            "6 ('a large public transit bus on a city street',)\n",
            "19 ('Two horses are sticking their heads over the fence',)\n",
            "8 ('Grey truck and blue truck on show room floor.',)\n",
            "19 ('Group of many brown horses eating at a trough.',)\n",
            "2 ('a small group of people sitting on dirt bikes that are on a mud track',)\n"
          ]
        },
        {
          "output_type": "stream",
          "name": "stderr",
          "text": [
            " 92%|█████████▏| 9234/10000 [04:41<00:25, 29.55it/s]"
          ]
        },
        {
          "output_type": "stream",
          "name": "stdout",
          "text": [
            "13 ('A man holding a round stop sign up to the camera.',)\n",
            "18 ('A german shepard dog wearing a bandana catching a frisbee.',)\n",
            "17 ('A cat laying on top of a laptop computer.',)\n"
          ]
        },
        {
          "output_type": "stream",
          "name": "stderr",
          "text": [
            " 92%|█████████▏| 9246/10000 [04:41<00:23, 31.58it/s]"
          ]
        },
        {
          "output_type": "stream",
          "name": "stdout",
          "text": [
            "13 ('A red stop sign sitting on the side of a road.',)\n"
          ]
        },
        {
          "output_type": "stream",
          "name": "stderr",
          "text": [
            " 93%|█████████▎| 9254/10000 [04:41<00:23, 31.68it/s]"
          ]
        },
        {
          "output_type": "stream",
          "name": "stdout",
          "text": [
            "6 ('a black and white photo of public transit buses',)\n",
            "19 ('A man sitting on top of a brown horse with a  little girl.',)\n"
          ]
        },
        {
          "output_type": "stream",
          "name": "stderr",
          "text": [
            " 93%|█████████▎| 9266/10000 [04:42<00:23, 31.72it/s]"
          ]
        },
        {
          "output_type": "stream",
          "name": "stdout",
          "text": [
            "6 ('A double decker bus driving down a street.',)\n",
            "15 ('A pug dog looking at the camera while on a bench',)\n",
            "18 ('A pug dog looking at the camera while on a bench',)\n",
            "19 ('A tour group rides horseback along the beach.',)\n"
          ]
        },
        {
          "output_type": "stream",
          "name": "stderr",
          "text": [
            " 93%|█████████▎| 9274/10000 [04:42<00:22, 31.86it/s]"
          ]
        },
        {
          "output_type": "stream",
          "name": "stdout",
          "text": [
            "6 ('A side mirror of a bus on a street.',)\n",
            "18 ('A man and a woman with their dog floating on a float in the swimming pool.',)\n",
            "9 ('A large white boat floating along a river.',)\n"
          ]
        },
        {
          "output_type": "stream",
          "name": "stderr",
          "text": [
            " 93%|█████████▎| 9298/10000 [04:43<00:21, 32.10it/s]"
          ]
        },
        {
          "output_type": "stream",
          "name": "stdout",
          "text": [
            "1 ('A person riding on the back of a brown horse.',)\n",
            "19 ('A person riding on the back of a brown horse.',)\n",
            "8 ('The truck is parked on the side of a snowy mountain.',)\n"
          ]
        },
        {
          "output_type": "stream",
          "name": "stderr",
          "text": [
            " 93%|█████████▎| 9310/10000 [04:43<00:20, 33.50it/s]"
          ]
        },
        {
          "output_type": "stream",
          "name": "stdout",
          "text": [
            "15 ('A man skiing on snow capped mountain and a bench nearby',)\n"
          ]
        },
        {
          "output_type": "stream",
          "name": "stderr",
          "text": [
            " 93%|█████████▎| 9322/10000 [04:43<00:20, 33.31it/s]"
          ]
        },
        {
          "output_type": "stream",
          "name": "stdout",
          "text": [
            "19 ('Adults and children riding horses at a parade.',)\n",
            "15 ('a green painted bench with a book on it',)\n",
            "19 ('A woman is leading the horse as a man steadies the plow.',)\n",
            "8 (\"some parked ATV's sit in the back of a white truck\",)\n",
            "4 ('A red motorcycle parked on the side of a road surrounded by trees.',)\n"
          ]
        },
        {
          "output_type": "stream",
          "name": "stderr",
          "text": [
            " 93%|█████████▎| 9330/10000 [04:44<00:21, 30.96it/s]"
          ]
        },
        {
          "output_type": "stream",
          "name": "stdout",
          "text": [
            "19 ('A woman standing next to a man on a horse.',)\n",
            "8 ('A group of people unloading a white truck.',)\n",
            "19 ('Several horses along the bank of the body of water.',)\n"
          ]
        },
        {
          "output_type": "stream",
          "name": "stderr",
          "text": [
            " 93%|█████████▎| 9346/10000 [04:44<00:19, 33.16it/s]"
          ]
        },
        {
          "output_type": "stream",
          "name": "stdout",
          "text": [
            "8 ('A man riding a motorcycle next to a gray truck.',)\n",
            "7 ('A photo of a subway with people and a train.',)\n"
          ]
        },
        {
          "output_type": "stream",
          "name": "stderr",
          "text": [
            " 94%|█████████▎| 9354/10000 [04:44<00:20, 31.39it/s]"
          ]
        },
        {
          "output_type": "stream",
          "name": "stdout",
          "text": [
            "11 ('a fire hydrant on a city street with a sky background',)\n",
            "4 ('A man riding a motorcycle down a beach next to water.',)\n",
            "10 ('A traffic light sitting on the side of a road.',)\n"
          ]
        },
        {
          "output_type": "stream",
          "name": "stderr",
          "text": [
            " 94%|█████████▎| 9362/10000 [04:45<00:20, 31.00it/s]"
          ]
        },
        {
          "output_type": "stream",
          "name": "stdout",
          "text": [
            "9 ('A boat is along the waters edge by a bridge.',)\n",
            "19 ('Three brown horses walking next to each other.',)\n",
            "8 ('A blue truck parked in front of a home under construction.',)\n",
            "5 ('Several airplanes and other vehicles in an airplane parking lot.',)\n"
          ]
        },
        {
          "output_type": "stream",
          "name": "stderr",
          "text": [
            " 94%|█████████▎| 9374/10000 [04:45<00:20, 31.13it/s]"
          ]
        },
        {
          "output_type": "stream",
          "name": "stdout",
          "text": [
            "18 ('Cows stand inside a fence looking at a dog on the other side.',)\n",
            "19 ('Horses graze in a field near a mountain.',)\n"
          ]
        },
        {
          "output_type": "stream",
          "name": "stderr",
          "text": [
            " 94%|█████████▍| 9382/10000 [04:45<00:19, 31.24it/s]"
          ]
        },
        {
          "output_type": "stream",
          "name": "stdout",
          "text": [
            "6 ('black of white photo of a bus with doors.',)\n",
            "9 ('Horses walking across a wave covered beach next to people in boats.',)\n",
            "19 ('Horses walking across a wave covered beach next to people in boats.',)\n",
            "3 ('A dog sticking its head out of the car window and viewed from the side mirror.',)\n",
            "18 ('A dog sticking its head out of the car window and viewed from the side mirror.',)\n"
          ]
        },
        {
          "output_type": "stream",
          "name": "stderr",
          "text": [
            " 94%|█████████▍| 9390/10000 [04:45<00:19, 30.84it/s]"
          ]
        },
        {
          "output_type": "stream",
          "name": "stdout",
          "text": [
            "2 ('A red bicycle has flowers in its basket',)\n",
            "19 ('A man is holding on to a giant red chair that has a horse statue on it.',)\n",
            "4 ('A man and a woman sit on top of a motorcycle.',)\n",
            "3 ('A small brown dog standing next to a red smart car.',)\n",
            "18 ('A small brown dog standing next to a red smart car.',)\n"
          ]
        },
        {
          "output_type": "stream",
          "name": "stderr",
          "text": [
            " 94%|█████████▍| 9406/10000 [04:46<00:18, 31.58it/s]"
          ]
        },
        {
          "output_type": "stream",
          "name": "stdout",
          "text": [
            "2 ('Many bikes are parked along a bike rack on a sidewalk.',)\n",
            "18 ('A woman that is laying on a couch with a dog.',)\n",
            "3 ('Parking meter on city street with car in parking space.',)\n",
            "14 ('Parking meter on city street with car in parking space.',)\n"
          ]
        },
        {
          "output_type": "stream",
          "name": "stderr",
          "text": [
            " 94%|█████████▍| 9414/10000 [04:46<00:18, 31.99it/s]"
          ]
        },
        {
          "output_type": "stream",
          "name": "stdout",
          "text": [
            "18 ('A dog eating food from a bowl on the floor.',)\n",
            "1 ('A person is standing on a bridge holding an umbrella.',)\n",
            "15 ('A brown teddy bear sitting on top of a wooden bench.',)\n"
          ]
        },
        {
          "output_type": "stream",
          "name": "stderr",
          "text": [
            " 94%|█████████▍| 9422/10000 [04:46<00:17, 32.38it/s]"
          ]
        },
        {
          "output_type": "stream",
          "name": "stdout",
          "text": [
            "3 ('A black and white penguin sitting on top of a toy car.',)\n"
          ]
        },
        {
          "output_type": "stream",
          "name": "stderr",
          "text": [
            " 94%|█████████▍| 9430/10000 [04:47<00:17, 32.75it/s]"
          ]
        },
        {
          "output_type": "stream",
          "name": "stdout",
          "text": [
            "16 ('A few birds perched up in a tree next to fruit.',)\n",
            "1 ('a person kneeling down working on a motorcycle',)\n",
            "4 ('a person kneeling down working on a motorcycle',)\n",
            "1 ('A table topped with three laptop computers and a persons  hands.',)\n"
          ]
        },
        {
          "output_type": "stream",
          "name": "stderr",
          "text": [
            "\r 94%|█████████▍| 9434/10000 [04:47<00:17, 31.60it/s]"
          ]
        },
        {
          "output_type": "stream",
          "name": "stdout",
          "text": [
            "13 ('A single high-stop sneaker sits beside a graffiti-adorned stop sign in a deserted town.',)\n",
            "4 ('A man standing next to a cow and a row of parked motorcycles.',)\n"
          ]
        },
        {
          "output_type": "stream",
          "name": "stderr",
          "text": [
            " 94%|█████████▍| 9442/10000 [04:47<00:18, 29.86it/s]"
          ]
        },
        {
          "output_type": "stream",
          "name": "stdout",
          "text": [
            "15 ('A young woman is sitting on a wooden bench.',)\n",
            "19 ('A very large crowd of people with a person in a horse mask.',)\n",
            "7 ('A train traveling over a bridge over a lake.',)\n"
          ]
        },
        {
          "output_type": "stream",
          "name": "stderr",
          "text": [
            " 94%|█████████▍| 9450/10000 [04:47<00:17, 31.34it/s]"
          ]
        },
        {
          "output_type": "stream",
          "name": "stdout",
          "text": [
            "2 ('A bunch of bikes are sitting in their spots.',)\n",
            "15 ('a large aircraft flying in the air above some benches in a field',)\n"
          ]
        },
        {
          "output_type": "stream",
          "name": "stderr",
          "text": [
            " 95%|█████████▍| 9458/10000 [04:48<00:17, 31.00it/s]"
          ]
        },
        {
          "output_type": "stream",
          "name": "stdout",
          "text": [
            "2 ('Woman riding a bicycle down an empty street.',)\n",
            "8 ('The large royal blue truck rides down the road.',)\n"
          ]
        },
        {
          "output_type": "stream",
          "name": "stderr",
          "text": [
            "\r 95%|█████████▍| 9462/10000 [04:48<00:17, 30.83it/s]"
          ]
        },
        {
          "output_type": "stream",
          "name": "stdout",
          "text": [
            "1 ('A person on a beach chair by a straw umbrella.',)\n"
          ]
        },
        {
          "output_type": "stream",
          "name": "stderr",
          "text": [
            " 95%|█████████▍| 9477/10000 [04:48<00:16, 31.30it/s]"
          ]
        },
        {
          "output_type": "stream",
          "name": "stdout",
          "text": [
            "17 ('a girl is holding a cat and talking on a cellphone',)\n",
            "19 ('A man riding a horse jumping over an obstacle.',)\n",
            "19 ('A man on a horse racing another man on a horse.',)\n"
          ]
        },
        {
          "output_type": "stream",
          "name": "stderr",
          "text": [
            " 95%|█████████▍| 9485/10000 [04:49<00:16, 31.30it/s]"
          ]
        },
        {
          "output_type": "stream",
          "name": "stdout",
          "text": [
            "15 ('A wooden park bench sitting on top of a park.',)\n",
            "9 ('Two boats floating in the ocean one has a crane on top of it.',)\n"
          ]
        },
        {
          "output_type": "stream",
          "name": "stderr",
          "text": [
            " 95%|█████████▍| 9493/10000 [04:49<00:15, 32.16it/s]"
          ]
        },
        {
          "output_type": "stream",
          "name": "stdout",
          "text": [
            "18 ('A white dog laying in a dog bed.',)\n",
            "9 ('Four boats grounded because of low tide.',)\n",
            "18 ('A secluded horse standing on a beach near a dog.',)\n",
            "19 ('A secluded horse standing on a beach near a dog.',)\n"
          ]
        },
        {
          "output_type": "stream",
          "name": "stderr",
          "text": [
            "\r 95%|█████████▍| 9497/10000 [04:49<00:16, 31.11it/s]"
          ]
        },
        {
          "output_type": "stream",
          "name": "stdout",
          "text": [
            "2 (\"A man riding a bicycle down a road with lots of palm trees on it's sides.\",)\n",
            "17 ('A black cat laying on a purple chair while holding a teddy bear.',)\n"
          ]
        },
        {
          "output_type": "stream",
          "name": "stderr",
          "text": [
            " 95%|█████████▌| 9509/10000 [04:49<00:15, 32.29it/s]"
          ]
        },
        {
          "output_type": "stream",
          "name": "stdout",
          "text": [
            "18 ('someone holding a half eaten hot dog that has mustard and ketchup',)\n",
            "18 ('A dog jumping in the air for a frisbee.',)\n"
          ]
        },
        {
          "output_type": "stream",
          "name": "stderr",
          "text": [
            " 95%|█████████▌| 9517/10000 [04:50<00:14, 32.56it/s]"
          ]
        },
        {
          "output_type": "stream",
          "name": "stdout",
          "text": [
            "15 ('Two girls with texting with phones on a bench',)\n"
          ]
        },
        {
          "output_type": "stream",
          "name": "stderr",
          "text": [
            " 95%|█████████▌| 9525/10000 [04:50<00:15, 30.84it/s]"
          ]
        },
        {
          "output_type": "stream",
          "name": "stdout",
          "text": [
            "17 ('A dog looking at a cat through a glass window.',)\n",
            "18 ('A dog looking at a cat through a glass window.',)\n",
            "2 ('A man walking a bicycle carrying propane tanks.',)\n",
            "2 ('A large yellow double decker bus driving past a guy riding a bicycle.',)\n",
            "6 ('A large yellow double decker bus driving past a guy riding a bicycle.',)\n",
            "18 ('A gas tank with a dog face painted on the end',)\n"
          ]
        },
        {
          "output_type": "stream",
          "name": "stderr",
          "text": [
            " 95%|█████████▌| 9533/10000 [04:50<00:14, 32.05it/s]"
          ]
        },
        {
          "output_type": "stream",
          "name": "stdout",
          "text": [
            "10 ('Several people walking in the now towards traffic lights.',)\n",
            "19 ('A woman raising her hand standing next to a boy and a horse.',)\n"
          ]
        },
        {
          "output_type": "stream",
          "name": "stderr",
          "text": [
            " 95%|█████████▌| 9541/10000 [04:50<00:14, 32.04it/s]"
          ]
        },
        {
          "output_type": "stream",
          "name": "stdout",
          "text": [
            "17 ('a cat paw sticking out from underneath a black plastic bag next to a pair of blue handled scissors.',)\n"
          ]
        },
        {
          "output_type": "stream",
          "name": "stderr",
          "text": [
            " 95%|█████████▌| 9549/10000 [04:51<00:13, 32.59it/s]"
          ]
        },
        {
          "output_type": "stream",
          "name": "stdout",
          "text": [
            "7 ('A long train made out of cake and candy parts',)\n",
            "13 ('A stop sign that is on the corner of a road.',)\n",
            "4 ('a man aims a camera in a motor cycle mirror',)\n"
          ]
        },
        {
          "output_type": "stream",
          "name": "stderr",
          "text": [
            " 96%|█████████▌| 9557/10000 [04:51<00:14, 30.84it/s]"
          ]
        },
        {
          "output_type": "stream",
          "name": "stdout",
          "text": [
            "3 ('A traffic light sitting in the middle of a road filled with cars and people.',)\n",
            "10 ('A traffic light sitting in the middle of a road filled with cars and people.',)\n",
            "13 ('A stop sign is in front of a building with yellow lighting.',)\n"
          ]
        },
        {
          "output_type": "stream",
          "name": "stderr",
          "text": [
            " 96%|█████████▌| 9565/10000 [04:51<00:13, 32.29it/s]"
          ]
        },
        {
          "output_type": "stream",
          "name": "stdout",
          "text": [
            "18 ('A dog laying down on a chair covered with a blanket.',)\n",
            "2 ('a man in a black shirt is riding a silver bicycle',)\n",
            "6 ('A female pedestrian stands in the center of a crosswalk as a double-decker bus quickly approaches.',)\n",
            "18 ('The dog lies on the bed next to a book.',)\n"
          ]
        },
        {
          "output_type": "stream",
          "name": "stderr",
          "text": [
            " 96%|█████████▌| 9573/10000 [04:51<00:13, 31.98it/s]"
          ]
        },
        {
          "output_type": "stream",
          "name": "stdout",
          "text": [
            "16 ('Zebras, Wildebeasts, and birds gathered around in shade spots under trees',)\n",
            "17 ('This is an image of a cat on a chair.',)\n",
            "4 ('A large group of people on some motor bikes.',)\n"
          ]
        },
        {
          "output_type": "stream",
          "name": "stderr",
          "text": [
            " 96%|█████████▌| 9585/10000 [04:52<00:13, 30.97it/s]"
          ]
        },
        {
          "output_type": "stream",
          "name": "stdout",
          "text": [
            "17 ('A cat is hiding under a blanket and peering out.',)\n",
            "18 ('A black dog laying on top of a bed holding a white teddy bear.',)\n"
          ]
        },
        {
          "output_type": "stream",
          "name": "stderr",
          "text": [
            " 96%|█████████▌| 9593/10000 [04:52<00:13, 30.67it/s]"
          ]
        },
        {
          "output_type": "stream",
          "name": "stdout",
          "text": [
            "1 ('a close up of a persons hand and a cat paw',)\n",
            "17 ('a close up of a persons hand and a cat paw',)\n",
            "2 ('A car with a bike tied to the back of it.',)\n"
          ]
        },
        {
          "output_type": "stream",
          "name": "stderr",
          "text": [
            " 96%|█████████▌| 9609/10000 [04:52<00:11, 32.86it/s]"
          ]
        },
        {
          "output_type": "stream",
          "name": "stdout",
          "text": [
            "16 ('a giraffe stands as a bird rests on its neck',)\n",
            "16 ('A close up of a nest in a tree with baby birds.',)\n",
            "15 ('In a sequence of 9 photos, a skateboarder jumps a park bench.',)\n",
            "2 ('A Father and child riding their bikes together.',)\n"
          ]
        },
        {
          "output_type": "stream",
          "name": "stderr",
          "text": [
            " 96%|█████████▌| 9621/10000 [04:53<00:11, 33.38it/s]"
          ]
        },
        {
          "output_type": "stream",
          "name": "stdout",
          "text": [
            "4 ('A motorboat is out on an enormous blue lake with beach houses, palm trees and a light house at the shore.',)\n",
            "9 ('A motorboat is out on an enormous blue lake with beach houses, palm trees and a light house at the shore.',)\n",
            "4 ('Many motor bikes parked outside a business with houses in the background.',)\n",
            "8 ('A fire truck that is sitting next to a building.',)\n"
          ]
        },
        {
          "output_type": "stream",
          "name": "stderr",
          "text": [
            " 96%|█████████▋| 9629/10000 [04:53<00:11, 33.35it/s]"
          ]
        },
        {
          "output_type": "stream",
          "name": "stdout",
          "text": [
            "15 ('A calico cat sitting underneath a metal bench,',)\n"
          ]
        },
        {
          "output_type": "stream",
          "name": "stderr",
          "text": [
            " 96%|█████████▋| 9641/10000 [04:53<00:10, 32.86it/s]"
          ]
        },
        {
          "output_type": "stream",
          "name": "stdout",
          "text": [
            "11 ('a red  fire hydrant partially covered by the snow',)\n",
            "19 ('A group of horses standing on top of a lush green hillside.',)\n",
            "15 ('Two men are sleeping on a bench in a garden.',)\n"
          ]
        },
        {
          "output_type": "stream",
          "name": "stderr",
          "text": [
            " 97%|█████████▋| 9653/10000 [04:54<00:11, 31.04it/s]"
          ]
        },
        {
          "output_type": "stream",
          "name": "stdout",
          "text": [
            "8 ('A food truck carrying specialty foods for restaurants is parked alongside the street of a residential neighborhood.',)\n",
            "4 ('A cop riding on the back of a motorcycle driving down a street.',)\n",
            "2 ('man wearing a red hat riding a motorized bicycle',)\n",
            "4 ('man wearing a red hat riding a motorized bicycle',)\n",
            "6 ('A public bus driving down a snowy city street.',)\n",
            "8 ('A garbage truck is emptying a plastic garbage can.',)\n"
          ]
        },
        {
          "output_type": "stream",
          "name": "stderr",
          "text": [
            " 97%|█████████▋| 9661/10000 [04:54<00:10, 31.79it/s]"
          ]
        },
        {
          "output_type": "stream",
          "name": "stdout",
          "text": [
            "8 ('a close up of a garbage truck on a city street',)\n",
            "19 ('A horse jumps an obstacle in a competition',)\n",
            "3 ('A man standing next to a parking lot filled with cars.',)\n"
          ]
        },
        {
          "output_type": "stream",
          "name": "stderr",
          "text": [
            " 97%|█████████▋| 9669/10000 [04:54<00:10, 30.20it/s]"
          ]
        },
        {
          "output_type": "stream",
          "name": "stdout",
          "text": [
            "1 ('a dog and a small sheep with a person holding the dog',)\n",
            "18 ('a dog and a small sheep with a person holding the dog',)\n"
          ]
        },
        {
          "output_type": "stream",
          "name": "stderr",
          "text": [
            "\r 97%|█████████▋| 9673/10000 [04:55<00:10, 30.42it/s]"
          ]
        },
        {
          "output_type": "stream",
          "name": "stdout",
          "text": [
            "9 ('A green long boat with a brand of beer painted.',)\n",
            "9 ('Three boat sitting at a wooden dock on top of a lake.',)\n"
          ]
        },
        {
          "output_type": "stream",
          "name": "stderr",
          "text": [
            "\r 97%|█████████▋| 9677/10000 [04:55<00:10, 30.37it/s]"
          ]
        },
        {
          "output_type": "stream",
          "name": "stdout",
          "text": [
            "7 ('A train traveling down tracks near a crossing guard.',)\n",
            "17 ('a cat sits in a bath tub next to a toilet',)\n",
            "11 ('Officials watch as water spews from a fire hydrant.',)\n"
          ]
        },
        {
          "output_type": "stream",
          "name": "stderr",
          "text": [
            " 97%|█████████▋| 9692/10000 [04:56<00:16, 18.49it/s]"
          ]
        },
        {
          "output_type": "stream",
          "name": "stdout",
          "text": [
            "3 ('The car has dinosaur stickers on it for decoration.',)\n",
            "18 ('A dog sits on a couch with pillows.',)\n"
          ]
        },
        {
          "output_type": "stream",
          "name": "stderr",
          "text": [
            " 97%|█████████▋| 9696/10000 [04:56<00:20, 15.18it/s]"
          ]
        },
        {
          "output_type": "stream",
          "name": "stdout",
          "text": [
            "18 ('a black and white dog standing in front of a glass window',)\n"
          ]
        },
        {
          "output_type": "stream",
          "name": "stderr",
          "text": [
            " 97%|█████████▋| 9708/10000 [04:56<00:12, 23.58it/s]"
          ]
        },
        {
          "output_type": "stream",
          "name": "stdout",
          "text": [
            "18 ('A man eating a hot dog on a bun.',)\n",
            "17 ('A grey and black cat on wooden floor next to bottles of beer.',)\n",
            "6 ('A long  train or bus with cloth seats',)\n"
          ]
        },
        {
          "output_type": "stream",
          "name": "stderr",
          "text": [
            " 97%|█████████▋| 9718/10000 [04:57<00:10, 27.77it/s]"
          ]
        },
        {
          "output_type": "stream",
          "name": "stdout",
          "text": [
            "5 ('An airplane hooked up to the umbilical walkway at an airport.',)\n",
            "17 ('A packed suitcase sitting in the floor with a cat in it.',)\n",
            "16 ('an image of a man walking on the beach with is bird',)\n",
            "19 ('a rider atop a horse as it gallops in an enclosure',)\n"
          ]
        },
        {
          "output_type": "stream",
          "name": "stderr",
          "text": [
            " 97%|█████████▋| 9729/10000 [04:57<00:08, 31.47it/s]"
          ]
        },
        {
          "output_type": "stream",
          "name": "stdout",
          "text": [
            "8 ('A man takes a picture alongside his tow truck.',)\n",
            "18 ('a dog walking on a wooden floor with a ball in its mouth',)\n"
          ]
        },
        {
          "output_type": "stream",
          "name": "stderr",
          "text": [
            " 97%|█████████▋| 9737/10000 [04:57<00:08, 32.71it/s]"
          ]
        },
        {
          "output_type": "stream",
          "name": "stdout",
          "text": [
            "8 ('A display with a bed red trucks parked on top of a white round surface.',)\n",
            "6 ('A bus driving by a white truck on street.',)\n",
            "8 ('A bus driving by a white truck on street.',)\n"
          ]
        },
        {
          "output_type": "stream",
          "name": "stderr",
          "text": [
            " 97%|█████████▋| 9745/10000 [04:58<00:07, 32.08it/s]"
          ]
        },
        {
          "output_type": "stream",
          "name": "stdout",
          "text": [
            "11 ('A green fire hydrant surrounded by a pile of dirt.',)\n",
            "18 ('A dog standing above a bowl with a toy ball inside.',)\n"
          ]
        },
        {
          "output_type": "stream",
          "name": "stderr",
          "text": [
            " 98%|█████████▊| 9753/10000 [04:58<00:07, 31.08it/s]"
          ]
        },
        {
          "output_type": "stream",
          "name": "stdout",
          "text": [
            "15 ('Two birds sitting on a park bench in a grassy field.',)\n",
            "16 ('Two birds sitting on a park bench in a grassy field.',)\n",
            "1 ('A person looking down on some items on the ground.',)\n"
          ]
        },
        {
          "output_type": "stream",
          "name": "stderr",
          "text": [
            "\r 98%|█████████▊| 9757/10000 [04:58<00:07, 30.55it/s]"
          ]
        },
        {
          "output_type": "stream",
          "name": "stdout",
          "text": [
            "18 ('A white dog in grassy field with red frisbee.',)\n",
            "9 ('a boat is in the middle of a large river',)\n"
          ]
        },
        {
          "output_type": "stream",
          "name": "stderr",
          "text": [
            " 98%|█████████▊| 9769/10000 [04:58<00:07, 31.92it/s]"
          ]
        },
        {
          "output_type": "stream",
          "name": "stdout",
          "text": [
            "15 ('A couple cuddles on a bench a distance from a tree.',)\n",
            "1 ('A person using a public pay phone standing next to a yellow container.',)\n",
            "18 ('A man eats a hot dog on the outside.',)\n"
          ]
        },
        {
          "output_type": "stream",
          "name": "stderr",
          "text": [
            " 98%|█████████▊| 9781/10000 [04:59<00:06, 32.30it/s]"
          ]
        },
        {
          "output_type": "stream",
          "name": "stdout",
          "text": [
            "9 ('Two small boats moored near a stone jetty.',)\n",
            "13 ('A stop sign is outdoors at night beside a street lamp.',)\n",
            "19 ('A brown horse walking across a lush green field.',)\n"
          ]
        },
        {
          "output_type": "stream",
          "name": "stderr",
          "text": [
            " 98%|█████████▊| 9789/10000 [04:59<00:06, 31.78it/s]"
          ]
        },
        {
          "output_type": "stream",
          "name": "stdout",
          "text": [
            "8 ('a big truck drives down a city street',)\n",
            "13 ('A stop sign that is on the side of a road.',)\n"
          ]
        },
        {
          "output_type": "stream",
          "name": "stderr",
          "text": [
            " 98%|█████████▊| 9797/10000 [04:59<00:06, 31.93it/s]"
          ]
        },
        {
          "output_type": "stream",
          "name": "stdout",
          "text": [
            "1 ('A person in red shirts riding a bike that is pulling a cart for someone to ride in.',)\n",
            "2 ('A person in red shirts riding a bike that is pulling a cart for someone to ride in.',)\n",
            "16 ('A bird eats from a cereal bowl at the table.',)\n",
            "9 ('A cow walking on the beach in front of boats parked in the sand.',)\n"
          ]
        },
        {
          "output_type": "stream",
          "name": "stderr",
          "text": [
            " 98%|█████████▊| 9805/10000 [04:59<00:06, 32.35it/s]"
          ]
        },
        {
          "output_type": "stream",
          "name": "stdout",
          "text": [
            "10 ('A traffic light sitting on the side of a road.',)\n"
          ]
        },
        {
          "output_type": "stream",
          "name": "stderr",
          "text": [
            " 98%|█████████▊| 9813/10000 [05:00<00:05, 32.12it/s]"
          ]
        },
        {
          "output_type": "stream",
          "name": "stdout",
          "text": [
            "17 ('TWO CAT ARE LYING NEXT TO EACH OTHER',)\n",
            "19 ('a girl riding a horse holding her hat',)\n",
            "1 ('a person painting  a picture of a building in front of them on the street corner in front of a street sign.',)\n"
          ]
        },
        {
          "output_type": "stream",
          "name": "stderr",
          "text": [
            " 98%|█████████▊| 9825/10000 [05:00<00:05, 32.51it/s]"
          ]
        },
        {
          "output_type": "stream",
          "name": "stdout",
          "text": [
            "19 ('A brown horse walking across a field while pulling a cart.',)\n",
            "1 ('A train cake with each train car colored and labeled with a different persons name.',)\n",
            "7 ('A train cake with each train car colored and labeled with a different persons name.',)\n",
            "8 ('A blue and white truck sitting on top of lush green grass.',)\n"
          ]
        },
        {
          "output_type": "stream",
          "name": "stderr",
          "text": [
            " 98%|█████████▊| 9833/10000 [05:00<00:05, 32.10it/s]"
          ]
        },
        {
          "output_type": "stream",
          "name": "stdout",
          "text": [
            "4 ('A motorcycle on top of a flatbed trailer.',)\n",
            "16 ('A dog with a bird and a large cow on a street.',)\n",
            "18 ('A dog with a bird and a large cow on a street.',)\n",
            "6 ('People are riding on a bus with plants.',)\n",
            "9 ('A boat floating on a body of water near shore.',)\n"
          ]
        },
        {
          "output_type": "stream",
          "name": "stderr",
          "text": [
            " 98%|█████████▊| 9845/10000 [05:01<00:04, 32.37it/s]"
          ]
        },
        {
          "output_type": "stream",
          "name": "stdout",
          "text": [
            "8 ('A red truck with the door ajar on the street.',)\n"
          ]
        },
        {
          "output_type": "stream",
          "name": "stderr",
          "text": [
            " 99%|█████████▊| 9857/10000 [05:01<00:04, 32.30it/s]"
          ]
        },
        {
          "output_type": "stream",
          "name": "stdout",
          "text": [
            "10 ('A traffic light on a pole under a traffic sign.',)\n"
          ]
        },
        {
          "output_type": "stream",
          "name": "stderr",
          "text": [
            " 99%|█████████▊| 9865/10000 [05:01<00:04, 31.39it/s]"
          ]
        },
        {
          "output_type": "stream",
          "name": "stdout",
          "text": [
            "17 ('A tall man standing next to a cat at the entrance to a building.',)\n",
            "17 ('A cat sitting in a red chair next to a wooden floor.',)\n",
            "10 ('Close up of red traffic light revealing street sign.',)\n"
          ]
        },
        {
          "output_type": "stream",
          "name": "stderr",
          "text": [
            " 99%|█████████▉| 9877/10000 [05:02<00:03, 32.63it/s]"
          ]
        },
        {
          "output_type": "stream",
          "name": "stdout",
          "text": [
            "17 ('A cat sleeps inside a grey sweater on a couch.',)\n",
            "19 ('A barn with coals outside the stalls with a couple of horses.',)\n",
            "5 ('An airplane is flying in the clear blue sky.',)\n",
            "3 ('A man sits in a car while using a notebook computer.',)\n",
            "18 ('A dog sleeping on a rug next to a stuffed animal.',)\n"
          ]
        },
        {
          "output_type": "stream",
          "name": "stderr",
          "text": [
            " 99%|█████████▉| 9897/10000 [05:02<00:03, 33.61it/s]"
          ]
        },
        {
          "output_type": "stream",
          "name": "stdout",
          "text": [
            "9 ('A man in blue shirt and orange vest next to a white boat.',)\n",
            "8 ('A big truck painted with American flag colors',)\n"
          ]
        },
        {
          "output_type": "stream",
          "name": "stderr",
          "text": [
            " 99%|█████████▉| 9913/10000 [05:03<00:02, 34.12it/s]"
          ]
        },
        {
          "output_type": "stream",
          "name": "stdout",
          "text": [
            "3 ('Only compact cars can park near this train',)\n",
            "10 ('A couple of traffic lights hanging over a street.',)\n",
            "13 ('a stop sign that has a sign on top of it',)\n",
            "16 ('The zebra has three birds sitting on its neck.',)\n"
          ]
        },
        {
          "output_type": "stream",
          "name": "stderr",
          "text": [
            " 99%|█████████▉| 9921/10000 [05:03<00:02, 32.32it/s]"
          ]
        },
        {
          "output_type": "stream",
          "name": "stdout",
          "text": [
            "19 (\"An old picture of a horse that's tied to a light post.\",)\n",
            "19 ('Two brown horses grazing on green grass next to a hill.',)\n",
            "17 ('A cat sits on a chair while licking herself.',)\n"
          ]
        },
        {
          "output_type": "stream",
          "name": "stderr",
          "text": [
            " 99%|█████████▉| 9929/10000 [05:03<00:02, 32.55it/s]"
          ]
        },
        {
          "output_type": "stream",
          "name": "stdout",
          "text": [
            "9 ('Two small children are on the boat with bananas.',)\n",
            "15 ('A group of wooden benches sitting in the woods.',)\n"
          ]
        },
        {
          "output_type": "stream",
          "name": "stderr",
          "text": [
            " 99%|█████████▉| 9949/10000 [05:04<00:01, 33.52it/s]"
          ]
        },
        {
          "output_type": "stream",
          "name": "stdout",
          "text": [
            "11 ('A fire hydrant leaking water with a sticker on it stating That Shits Fresh\"\"',)\n",
            "18 ('Man wearing baseball cap walking dog near grate.',)\n",
            "1 ('A crowd with police standing around persons on motorcycle carrying backpacks.',)\n",
            "10 ('A traffic light with a sticker fashioned to be a marijuana leaf.',)\n",
            "4 ('A view of the back of a motorcycle along with its license plate',)\n"
          ]
        },
        {
          "output_type": "stream",
          "name": "stderr",
          "text": [
            "100%|█████████▉| 9957/10000 [05:04<00:01, 32.55it/s]"
          ]
        },
        {
          "output_type": "stream",
          "name": "stdout",
          "text": [
            "11 ('A young boy swinging a bat over a red and white fire hydrant.',)\n",
            "19 ('A woman smiling with her arm around a brown horse.',)\n"
          ]
        },
        {
          "output_type": "stream",
          "name": "stderr",
          "text": [
            "\r100%|█████████▉| 9961/10000 [05:04<00:01, 31.34it/s]"
          ]
        },
        {
          "output_type": "stream",
          "name": "stdout",
          "text": [
            "8 ('A man sleeps inside a parked truck on the road',)\n",
            "4 ('A man parks his motor cycle on a village street.',)\n",
            "15 ('People are walking along a sidewalk and a man is lying on a bench.',)\n",
            "17 ('A cat is sitting on the somewhat high chair.',)\n"
          ]
        },
        {
          "output_type": "stream",
          "name": "stderr",
          "text": [
            "100%|█████████▉| 9969/10000 [05:05<00:00, 32.22it/s]"
          ]
        },
        {
          "output_type": "stream",
          "name": "stdout",
          "text": [
            "7 (\"A park's play area designed to look like a train\",)\n"
          ]
        },
        {
          "output_type": "stream",
          "name": "stderr",
          "text": [
            "100%|█████████▉| 9977/10000 [05:05<00:00, 31.62it/s]"
          ]
        },
        {
          "output_type": "stream",
          "name": "stdout",
          "text": [
            "3 ('A set of motorcycles sitting on a roadside near a small car.',)\n",
            "4 ('A set of motorcycles sitting on a roadside near a small car.',)\n",
            "8 ('Two food trucks are occupying spots near a sidewalk',)\n"
          ]
        },
        {
          "output_type": "stream",
          "name": "stderr",
          "text": [
            "100%|█████████▉| 9989/10000 [05:05<00:00, 30.73it/s]"
          ]
        },
        {
          "output_type": "stream",
          "name": "stdout",
          "text": [
            "15 ('two men sitting on a bench wearing hats and suits',)\n",
            "18 ('A small dog is carrying a teddy bear in its mouth',)\n",
            "1 ('A truck sitting in front of a person standing on a  loading platform.',)\n",
            "8 ('A truck sitting in front of a person standing on a  loading platform.',)\n"
          ]
        },
        {
          "output_type": "stream",
          "name": "stderr",
          "text": [
            "100%|█████████▉| 9997/10000 [05:05<00:00, 31.20it/s]"
          ]
        },
        {
          "output_type": "stream",
          "name": "stdout",
          "text": [
            "2 ('A man skateboards down the street while a woman bikes.',)\n"
          ]
        },
        {
          "output_type": "stream",
          "name": "stderr",
          "text": [
            "\r100%|██████████| 10000/10000 [05:06<00:00, 32.67it/s]\n"
          ]
        },
        {
          "output_type": "stream",
          "name": "stdout",
          "text": [
            "        ImageID                                            Caption  0  1  2  \\\n",
            "0     30000.jpg  A little girl waring a krispy kreme hat holdin...  0  0  0   \n",
            "1     30001.jpg  A beautiful young woman holding an orange fris...  0  0  0   \n",
            "2     30002.jpg  A group of people sitting on couch next to a c...  0  0  0   \n",
            "3     30003.jpg         A person on a snowboard rides on the hill.  0  0  0   \n",
            "4     30004.jpg  A man riding a skateboard with a helmet on in ...  0  0  0   \n",
            "...         ...                                                ... .. .. ..   \n",
            "9995  39995.jpg  A group of men riding surfboards riding a mass...  0  0  0   \n",
            "9996  39996.jpg  A motorcycle parked next to a car in a parking...  0  0  0   \n",
            "9997  39997.jpg            a little boy that is playing with a wii  0  0  0   \n",
            "9998  39998.jpg  group of kids play Frisbee golf in the middle ...  0  0  0   \n",
            "9999  39999.jpg   A man in a gray jacket standing next to a woman.  0  0  0   \n",
            "\n",
            "      3  4  5  6  7  ...  11  12  13  14  15  16  17  18  19  Labels  \n",
            "0     0  0  0  0  0  ...   0   0   0   0   0   0   0   0   0          \n",
            "1     0  0  0  0  0  ...   0   0   0   0   0   0   0   0   0       1  \n",
            "2     0  0  0  0  0  ...   0   0   0   0   0   0   0   0   0          \n",
            "3     0  0  0  0  0  ...   0   0   0   0   0   0   0   0   0       1  \n",
            "4     0  0  0  0  0  ...   0   0   0   0   0   0   0   0   0       1  \n",
            "...  .. .. .. .. ..  ...  ..  ..  ..  ..  ..  ..  ..  ..  ..     ...  \n",
            "9995  0  0  0  0  0  ...   0   0   0   0   0   0   0   0   0       1  \n",
            "9996  0  0  0  0  0  ...   0   0   0   0   0   0   0   0   0     3 4  \n",
            "9997  0  0  0  0  0  ...   0   0   0   0   0   0   0   0   0       1  \n",
            "9998  0  0  0  0  0  ...   0   0   0   0   0   0   0   0   0          \n",
            "9999  0  0  0  0  0  ...   0   0   0   0   0   0   0   0   0       1  \n",
            "\n",
            "[10000 rows x 23 columns]\n"
          ]
        }
      ],
      "source": [
        "testset_loader = ImageDataloader(data_root_dir,test_set,1)\n",
        "test_dataloader = testset_loader.make_loader(1,1)\n",
        "test_label_list=[]\n",
        "res = test_set\n",
        "for images, labels,caption in tqdm(test_dataloader):\n",
        "    torch.set_grad_enabled(False)\n",
        "    images = images.to(device)\n",
        "    outputs = model(images)\n",
        "    outputs = outputs.cpu().numpy()\n",
        "    outputs = (outputs>0.5)\n",
        "    data = \"\"\n",
        "    for i in range(len(outputs[0])):\n",
        "        if outputs[0][i]:\n",
        "            if data==\"\":\n",
        "                data += str(i)\n",
        "            else:\n",
        "                data+= \" \"\n",
        "                data+=str(i)\n",
        "        else:\n",
        "            if key_word[int(i)] in caption[0].lower():\n",
        "                print(i,caption)\n",
        "                if data==\"\":\n",
        "                    data += str(i)\n",
        "                else:\n",
        "                    data+= \" \"\n",
        "                    data+=str(i)\n",
        "            else:\n",
        "                if i==3:\n",
        "                    if ('cars' in caption[0].lower()) and ('train car' not in caption[0].lower()):\n",
        "                        print(i,caption)\n",
        "                        if data==\"\":\n",
        "                            data += str(i)\n",
        "                        else:\n",
        "                            data+= \" \"\n",
        "                            data+=str(i)\n",
        "                    elif (' car ' in caption[0].lower()) and ('train car' not in caption[0].lower()):\n",
        "                        print(i,caption)\n",
        "                        if data==\"\":\n",
        "                            data += str(i)\n",
        "                        else:\n",
        "                            data+= \" \"\n",
        "                            data+=str(i)\n",
        "                    elif (' car.' in caption[0].lower()) and ('train car' not in caption[0].lower()):\n",
        "                        print(i,caption)\n",
        "                        if data==\"\":\n",
        "                            data += str(i)\n",
        "                        else:\n",
        "                            data+= \" \"\n",
        "                            data+=str(i)\n",
        "                if i==2:\n",
        "                    if ('bike' in caption[0].lower()) and ('motor' not in caption[0].lower()):\n",
        "                        print(i,caption)\n",
        "                        if data==\"\":\n",
        "                            data += str(i)\n",
        "                        else:\n",
        "                            data+= \" \"\n",
        "                            data+=str(i)\n",
        "                if i==17:\n",
        "                    if (' cat.' in caption[0].lower()):\n",
        "                        print(i,caption)\n",
        "                        if data==\"\":\n",
        "                            data += str(i)\n",
        "                        else:\n",
        "                            data+= \" \"\n",
        "                            data+=str(i)\n",
        "                if i==18:\n",
        "                    if (' dog.' in caption[0].lower()):\n",
        "                        print(i,caption)\n",
        "                        if data==\"\":\n",
        "                            data += str(i)\n",
        "                        else:\n",
        "                            data+= \" \"\n",
        "                            data+=str(i)\n",
        "                if i==5:\n",
        "                    if ('aircraft' in caption[0].lower()):\n",
        "                        print(i,caption)\n",
        "                        if data==\"\":\n",
        "                            data += str(i)\n",
        "                        else:\n",
        "                            data+= \" \"\n",
        "                            data+=str(i)\n",
        "                if i==9:\n",
        "                    if ('ships' in caption[0].lower()):\n",
        "                        print(i,caption)\n",
        "                        if data==\"\":\n",
        "                            data += str(i)\n",
        "                        else:\n",
        "                            data+= \" \"\n",
        "                            data+=str(i)\n",
        "                if i==6:\n",
        "                    if (' bus ' in caption[0].lower()) and ('bus stop' not in caption[0].lower()):\n",
        "                        print(i,caption)\n",
        "                        if data==\"\":\n",
        "                            data += str(i)\n",
        "                        else:\n",
        "                            data+= \" \"\n",
        "                            data+=str(i)\n",
        "                    elif (' bus.' in caption[0].lower()) and ('bus stop' not in caption[0].lower()):\n",
        "                        print(i,caption)\n",
        "                        if data==\"\":\n",
        "                            data += str(i)\n",
        "                        else:\n",
        "                            data+= \" \"\n",
        "                            data+=str(i)\n",
        "    test_label_list.append(data)\n",
        "res['Labels'] = test_label_list\n",
        "res.to_csv(\"res.csv\",index=False)\n",
        "print(res)"
      ]
    }
  ],
  "metadata": {
    "kernelspec": {
      "display_name": "Python 3",
      "language": "python",
      "name": "python3"
    },
    "language_info": {
      "codemirror_mode": {
        "name": "ipython",
        "version": 3
      },
      "file_extension": ".py",
      "mimetype": "text/x-python",
      "name": "python",
      "nbconvert_exporter": "python",
      "pygments_lexer": "ipython3",
      "version": "3.7.3"
    },
    "colab": {
      "name": "class_9.ipynb",
      "provenance": [],
      "collapsed_sections": []
    },
    "accelerator": "GPU",
    "gpuClass": "standard"
  },
  "nbformat": 4,
  "nbformat_minor": 0
}